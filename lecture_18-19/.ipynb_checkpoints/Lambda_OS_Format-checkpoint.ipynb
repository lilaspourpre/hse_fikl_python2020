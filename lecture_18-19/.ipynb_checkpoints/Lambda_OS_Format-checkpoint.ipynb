{
 "cells": [
  {
   "cell_type": "markdown",
   "metadata": {},
   "source": [
    "# Midterm-2"
   ]
  },
  {
   "cell_type": "markdown",
   "metadata": {},
   "source": [
    "## Задача №1.\n",
    "\n",
    "Мы будем работать с датасетом, который содержит много научных статей про коронавирус. \n",
    "В этом задании вы будете работать с одной из статей этого датасета. Статья хранится в формате `json` [здесь](https://gist.githubusercontent.com/Pandaklez/d97cf9e08faca17cff87aabf064b82eb/raw/f1d293fbcec0497c7e90d2bdbfeb860c6296de8c/article1.json).\n",
    "\n",
    "Посморите, как устроен этот словарь, например, по ключу `body_text` лежит текст как список из абзацев текста, а по ключу `metadata` можно найти всю информацию по авторам по ключу `authors`, тоже как список, и заголовок статьи по ключу `title`.\n",
    "\n",
    "Вам нужно сделать следующее:\n",
    "\n",
    "1. Сложить все кусочки\\абзацы текста в одну строку. (Этот текст понадобится в следующей задаче)\n",
    "2. Каждый абзац текста из body_text относится к какой-то из section. Посчитайте, сколько абзацев в каждой из section, сортируйте словарь по убыванию количества абзацев и напечатайте название `section` с самым большим количеством абзацев.\n",
    "3. Собрать фамилии last всех авторов статьи и напечатать их по алфавиту вместе с именами first (точнее с первой буквой имени). Например:\n",
    "```\n",
    "G Allodi\n",
    "M Borgarelli\n",
    "A Corsini\n",
    "```"
   ]
  },
  {
   "cell_type": "code",
   "execution_count": 52,
   "metadata": {},
   "outputs": [],
   "source": [
    "import json\n",
    "from collections import Counter"
   ]
  },
  {
   "cell_type": "code",
   "execution_count": 53,
   "metadata": {},
   "outputs": [],
   "source": [
    "with open(\"../article1.json\", 'r', encoding=\"utf-8\") as f:\n",
    "    data = json.load(f)"
   ]
  },
  {
   "cell_type": "markdown",
   "metadata": {},
   "source": [
    "**1 и 2.**"
   ]
  },
  {
   "cell_type": "code",
   "execution_count": 54,
   "metadata": {},
   "outputs": [],
   "source": [
    "text = \"\"\n",
    "sections = []\n",
    "\n",
    "for i in data['body_text']:\n",
    "    text += i['text']+\"\\n\"\n",
    "    sections.append(i['section'])"
   ]
  },
  {
   "cell_type": "code",
   "execution_count": 61,
   "metadata": {},
   "outputs": [
    {
     "name": "stdout",
     "output_type": "stream",
     "text": [
      "Disclosures\n"
     ]
    }
   ],
   "source": [
    "print(Counter(sections).most_common(1)[0][0])"
   ]
  },
  {
   "cell_type": "code",
   "execution_count": 96,
   "metadata": {},
   "outputs": [],
   "source": [
    "sections = {}\n",
    "for i in data['body_text']:\n",
    "    if i['section'] not in sections:\n",
    "        sections[i['section']] = 1\n",
    "    else:\n",
    "        sections[i['section']] += 1"
   ]
  },
  {
   "cell_type": "code",
   "execution_count": 111,
   "metadata": {},
   "outputs": [
    {
     "name": "stdout",
     "output_type": "stream",
     "text": [
      "Disclosures 279\n",
      "ESVONC-P-3 13\n",
      " 12\n",
      "ESVNU-P-15 10\n",
      "ESVNU-P-14 9\n",
      "ESVNU-O-3 8\n",
      "ESVCN-O-1 8\n",
      "ESVC-O-13 8\n",
      "University of Pretoria, Pretoria, South Africa 7\n",
      "SCH-P-1 7\n",
      "ISCAID-P-12 7\n",
      "ESVONC-O-10 7\n",
      "ESVNU-P-4 7\n",
      "ESVIM-P-23 7\n",
      "ESVE-O-4 7\n",
      "ESVC-P-23 7\n",
      "P.A. Graham University of Nottingham, Sutton Bonington, United Kingdom 6\n",
      "ISCAID-P-6 6\n",
      "ISCAID-P-3 6\n",
      "ISCAID-O-3 6\n",
      "Genetic relatedness was assessed by rep-PCR (for Enterobacteriaceae) 6\n",
      "ESVONC-P-6 6\n",
      "ESVNU-P-3 6\n",
      "ESVIM-P-19 6\n",
      "ESVE-O-7 6\n",
      "ESVE-O-3 6\n",
      "ESVC-P-4 6\n",
      "ESVC-P-25 6\n",
      "ESVC-O-8 6\n",
      "ESVC-O-14 6\n",
      "ESCG-P-9 6\n",
      "ESCG-P-2 6\n",
      "A significant decrease in time domain parameters was shown in Group 6\n",
      "Medical records of dogs with CD presented at the Internal Medicine 5\n",
      "ESVNU-P-13 5\n",
      "ESVNU-O-7 5\n",
      "ESVNU-O-6 5\n",
      "ESVNU-O-1 5\n",
      "ESVIM-O-8 5\n",
      "ESVIM-O-11 5\n",
      "ESVE-P-11 5\n",
      "ESVC-P-7 5\n",
      "ESVC-P-16 5\n",
      "ESCG-P-18 5\n",
      "ISCAID-P-9 4\n",
      "ISCAID-P-2 4\n",
      "ISCAID-O-1 4\n",
      "ESVONC-O-11 4\n",
      "ESVNU-O-8 4\n",
      "ESVNU-O-5 4\n",
      "ESVNU-O-2 4\n",
      "ESVIM-P-8 4\n",
      "ESVIM-P-2 4\n",
      "ESVIM-O-7 4\n",
      "ESVE-P-4 4\n",
      "ESVE-P-12 4\n",
      "ESVE-P-1 4\n",
      "ESVE-O-12 4\n",
      "ESVC-P-6 4\n",
      "ESVC-P-22 4\n",
      "ESVC-P-20 4\n",
      "ESVC-P-2 4\n",
      "ESVC-O-6 4\n",
      "ESVC-O-18 4\n",
      "ESVC-O-12 4\n",
      "ESCG-P-14 4\n",
      "ESCG-P-13 4\n",
      "ISCAID-P-8 3\n",
      "ISCAID-O-8 3\n",
      "ESVONC-O-7 3\n",
      "ESVNU-O-4 3\n",
      "ESVIM-P-15 3\n",
      "ESVIM-P-12 3\n",
      "ESVIM-P-10 3\n",
      "ESVIM-O-9 3\n",
      "ESVE-P-7 3\n",
      "ESVE-P-10 3\n",
      "ESVE-O-13 3\n",
      "ESVE-O-1 3\n",
      "ESVCN-P-1 Studies on estimation of ideal body weight by morphometry in dogs 3\n",
      "ESVC-P-19 3\n",
      "ESVC-P-13 3\n",
      "ESVC-O-9 3\n",
      "ESVC-O-7 3\n",
      "ESVC-O-16 3\n",
      "ESVC-O-10 3\n",
      "Association between CIRCI, hypotension and mortality were evaluated with 3\n",
      "Seven dogs (3 healthy and 4 dogs with pulmonary hypertension) were 2\n",
      "Ingrid van Hoek and Jeremy Laxalde are employees of Royal 2\n",
      "ISCAID-P-4 2\n",
      "ISCAID-O-12 2\n",
      "ISCAID-O- 2\n",
      "ESVONC-O-3 2\n",
      "ESVONC-O-12 2\n",
      "ESVNU-P-12 2\n",
      "ESVNU-P-11 2\n",
      "ESVNU-O-9 2\n",
      "ESVIM-P-7 2\n",
      "ESVIM-P-6 2\n",
      "ESVIM-P-5 2\n",
      "ESVIM-P-20 2\n",
      "ESVIM-P-16 2\n",
      "ESVIM-P-14 2\n",
      "ESVIM-P-11 2\n",
      "ESVE-P-5 2\n",
      "ESVC-P-18 2\n",
      "ESVC-P-10 2\n",
      "ESVC-O-19 2\n",
      "ESCG-P-15 2\n",
      "CD21+ B cells, Treg cells by immune-fluorescence and flow cytometry 2\n",
      "This study suggests that dogs with pancreatitis have a different metabolism of Vitamin A and E compared to dogs with other diseases 1\n",
      "SCH-O-3 1\n",
      "M.Faucher: Webconference for Boehringer Ingelheim A.Combes: 1\n",
      "Incorporation of LPs in arrhythmia interpretation may aid mechanistic 1\n",
      "ISCAID-O-11 1\n",
      "ISCAID-O-10 1\n",
      "Funding for this study was provided by the ACVIM Resident Research 1\n",
      "ESVNU-P-9 1\n",
      "ESVNU-P-6 1\n",
      "ESVIM-P-18 1\n",
      "ESVIM-O-6 1\n",
      "ESVE-P-6 1\n",
      "ESVC-P-21 1\n",
      "ESVC-P-15 1\n",
      "ESVC-P-1 1\n",
      "ESVC-O-5 1\n",
      "ESVC-O-4 1\n",
      "ESVC-O-21 1\n",
      "ESVC-O-20 1\n",
      "ESVC-O-2 1\n",
      "ESVC-O-11 1\n",
      "ESCG-P-3 1\n",
      "ESCG-P-12 1\n",
      "ESCG-P-11 1\n",
      "ESCG-P-10 1\n"
     ]
    }
   ],
   "source": [
    "ABC = {}\n",
    "for i in data['body_text']:\n",
    "    if i['section'] in ABC:\n",
    "        ABC[i['section']] += 1\n",
    "    else:\n",
    "        ABC[i['section']] = 1\n",
    "\n",
    "for k, v in sorted(ABC.items(), key=lambda x: (x[1], x[0]), reverse=True):\n",
    "    print(k, v)"
   ]
  },
  {
   "cell_type": "code",
   "execution_count": 97,
   "metadata": {},
   "outputs": [
    {
     "data": {
      "text/plain": [
       "{'': 12,\n",
       " 'Disclosures': 279,\n",
       " 'ESVC-O-2': 1,\n",
       " 'ESVC-O-4': 1,\n",
       " 'ESVC-O-5': 1,\n",
       " 'ESVC-O-6': 4,\n",
       " 'ESVC-O-7': 3,\n",
       " 'ESVC-O-8': 6,\n",
       " 'ESVC-O-9': 3,\n",
       " 'ESVC-O-10': 3,\n",
       " 'Ingrid van Hoek and Jeremy Laxalde are employees of Royal': 2,\n",
       " 'ESVC-O-11': 1,\n",
       " 'ESVC-O-12': 4,\n",
       " 'ESVC-O-13': 8,\n",
       " 'ESVC-O-14': 6,\n",
       " 'ESVC-O-16': 3,\n",
       " 'ESVC-O-18': 4,\n",
       " 'ESVC-O-19': 2,\n",
       " 'ESVC-O-20': 1,\n",
       " 'ESVC-O-21': 1,\n",
       " 'ESVCN-O-1': 8,\n",
       " 'ESVE-O-1': 3,\n",
       " 'ESVE-O-3': 6,\n",
       " 'ESVE-O-4': 7,\n",
       " 'ESVE-O-7': 6,\n",
       " 'ESVE-O-12': 4,\n",
       " 'ESVE-O-13': 3,\n",
       " 'ESVIM-O-6': 1,\n",
       " 'ESVIM-O-7': 4,\n",
       " 'ESVIM-O-8': 5,\n",
       " 'ESVIM-O-9': 3,\n",
       " 'ESVIM-O-11': 5,\n",
       " 'ESVNU-O-1': 5,\n",
       " 'ESVNU-O-2': 4,\n",
       " 'M.Faucher: Webconference for Boehringer Ingelheim A.Combes:': 1,\n",
       " 'ESVNU-O-3': 8,\n",
       " 'ESVNU-O-4': 3,\n",
       " 'ESVNU-O-5': 4,\n",
       " 'ESVNU-O-6': 5,\n",
       " 'Funding for this study was provided by the ACVIM Resident Research': 1,\n",
       " 'ESVNU-O-7': 5,\n",
       " 'ESVNU-O-8': 4,\n",
       " 'ESVNU-O-9': 2,\n",
       " 'ISCAID-O-1': 4,\n",
       " 'ISCAID-O-3': 6,\n",
       " 'ISCAID-O-': 2,\n",
       " 'ISCAID-O-8': 3,\n",
       " 'ISCAID-O-10': 1,\n",
       " 'ISCAID-O-11': 1,\n",
       " 'Genetic relatedness was assessed by rep-PCR (for Enterobacteriaceae)': 6,\n",
       " 'ISCAID-O-12': 2,\n",
       " 'University of Pretoria, Pretoria, South Africa': 7,\n",
       " 'SCH-O-3': 1,\n",
       " 'ESVONC-O-3': 2,\n",
       " 'ESVONC-O-7': 3,\n",
       " 'ESVONC-O-10': 7,\n",
       " 'ESVONC-O-11': 4,\n",
       " 'ESVONC-O-12': 2,\n",
       " 'ESCG-P-2': 6,\n",
       " 'ESCG-P-3': 1,\n",
       " 'ESCG-P-9': 6,\n",
       " 'ESCG-P-10': 1,\n",
       " 'ESCG-P-11': 1,\n",
       " 'ESCG-P-12': 1,\n",
       " 'ESCG-P-13': 4,\n",
       " 'ESCG-P-14': 4,\n",
       " 'ESCG-P-15': 2,\n",
       " 'This study suggests that dogs with pancreatitis have a different metabolism of Vitamin A and E compared to dogs with other diseases': 1,\n",
       " 'ESCG-P-18': 5,\n",
       " 'ESVC-P-1': 1,\n",
       " 'A significant decrease in time domain parameters was shown in Group': 6,\n",
       " 'ESVC-P-2': 4,\n",
       " 'Seven dogs (3 healthy and 4 dogs with pulmonary hypertension) were': 2,\n",
       " 'ESVC-P-4': 6,\n",
       " 'ESVC-P-6': 4,\n",
       " 'ESVC-P-7': 5,\n",
       " 'ESVC-P-10': 2,\n",
       " 'ESVC-P-13': 3,\n",
       " 'ESVC-P-15': 1,\n",
       " 'ESVC-P-16': 5,\n",
       " 'Incorporation of LPs in arrhythmia interpretation may aid mechanistic': 1,\n",
       " 'ESVC-P-18': 2,\n",
       " 'ESVC-P-19': 3,\n",
       " 'ESVC-P-20': 4,\n",
       " 'ESVC-P-21': 1,\n",
       " 'ESVC-P-22': 4,\n",
       " 'ESVC-P-23': 7,\n",
       " 'ESVC-P-25': 6,\n",
       " 'ESVCN-P-1 Studies on estimation of ideal body weight by morphometry in dogs': 3,\n",
       " 'ESVE-P-1': 4,\n",
       " 'ESVE-P-4': 4,\n",
       " 'ESVE-P-5': 2,\n",
       " 'ESVE-P-6': 1,\n",
       " 'P.A. Graham University of Nottingham, Sutton Bonington, United Kingdom': 6,\n",
       " 'ESVE-P-7': 3,\n",
       " 'Medical records of dogs with CD presented at the Internal Medicine': 5,\n",
       " 'ESVE-P-10': 3,\n",
       " 'Association between CIRCI, hypotension and mortality were evaluated with': 3,\n",
       " 'ESVE-P-11': 5,\n",
       " 'ESVE-P-12': 4,\n",
       " 'ESVIM-P-2': 4,\n",
       " 'ESVIM-P-5': 2,\n",
       " 'ESVIM-P-6': 2,\n",
       " 'ESVIM-P-7': 2,\n",
       " 'ESVIM-P-8': 4,\n",
       " 'ESVIM-P-10': 3,\n",
       " 'ESVIM-P-11': 2,\n",
       " 'ESVIM-P-12': 3,\n",
       " 'ESVIM-P-14': 2,\n",
       " 'CD21+ B cells, Treg cells by immune-fluorescence and flow cytometry': 2,\n",
       " 'ESVIM-P-15': 3,\n",
       " 'ESVIM-P-16': 2,\n",
       " 'ESVIM-P-18': 1,\n",
       " 'ESVIM-P-19': 6,\n",
       " 'ESVIM-P-20': 2,\n",
       " 'ESVIM-P-23': 7,\n",
       " 'ESVNU-P-3': 6,\n",
       " 'ESVNU-P-4': 7,\n",
       " 'ESVNU-P-6': 1,\n",
       " 'ESVNU-P-9': 1,\n",
       " 'ESVNU-P-11': 2,\n",
       " 'ESVNU-P-12': 2,\n",
       " 'ESVNU-P-13': 5,\n",
       " 'ESVNU-P-14': 9,\n",
       " 'ESVNU-P-15': 10,\n",
       " 'ESVONC-P-3': 13,\n",
       " 'ESVONC-P-6': 6,\n",
       " 'ISCAID-P-2': 4,\n",
       " 'ISCAID-P-3': 6,\n",
       " 'ISCAID-P-4': 2,\n",
       " 'ISCAID-P-6': 6,\n",
       " 'ISCAID-P-8': 3,\n",
       " 'ISCAID-P-9': 4,\n",
       " 'ISCAID-P-12': 7,\n",
       " 'SCH-P-1': 7}"
      ]
     },
     "execution_count": 97,
     "metadata": {},
     "output_type": "execute_result"
    }
   ],
   "source": [
    "sections"
   ]
  },
  {
   "cell_type": "markdown",
   "metadata": {},
   "source": [
    "**3.**"
   ]
  },
  {
   "cell_type": "code",
   "execution_count": 66,
   "metadata": {},
   "outputs": [
    {
     "name": "stdout",
     "output_type": "stream",
     "text": [
      "G Allodi\n",
      "A Anderson\n",
      "B Ballhausen\n",
      "D Batchelor\n",
      "O Belachsen\n",
      "S Bermudez Sanchez\n",
      "C Bjørnvad\n",
      "M Borgarelli\n",
      "K Busch\n",
      "S Campbell\n",
      "A Corsini\n",
      "S Crosara\n",
      "T Defrancesco\n",
      "F Del Baldo\n",
      "N Dupont\n",
      "F Fracassi\n",
      "A German\n",
      "A Gramenzi\n",
      "B Guard\n",
      "S Guazzetti\n",
      "K Hartmann\n",
      "L Jessen\n",
      "E Kaufmann\n",
      "B Keene\n",
      "M Kuijlaars\n",
      "E Kussin\n",
      "A Lidbury\n",
      "J Lidbury\n",
      "C Lorentzen\n",
      "A Manchester\n",
      "F Marsilio\n",
      "R Mellanby\n",
      "F Moberg\n",
      "F Neuerer\n",
      "P Noble\n",
      "S Palantzi\n",
      "R Pilla\n",
      "Zola Predosa\n",
      "F Procoli\n",
      "C Quintavalla\n",
      "Portoni Rossi\n",
      "B Ruggerone\n",
      "J Sargent\n",
      "P Silvestrini\n",
      "N Sindern\n",
      "J Stallwood\n",
      "E Stavroulaki\n",
      "J Steiner\n",
      "M Steiner\n",
      "J Suchodolski\n",
      "S Suchodolski\n",
      "H Swales\n",
      "S Tou\n",
      "M Tropf\n",
      "S Unterer\n",
      "Ospedale Veterinario\n",
      "T Wagner\n",
      "J Ward\n",
      "P Xenoulis\n",
      "A Ziese\n",
      "N Zyskind\n"
     ]
    }
   ],
   "source": [
    "from collections import defaultdict\n",
    "authors = defaultdict(list)\n",
    "\n",
    "for author in data['metadata']['authors']:\n",
    "    authors[author['last']].append(author['first'])\n",
    "\n",
    "for i in sorted(authors):\n",
    "    for j in sorted(authors[i]):\n",
    "        print(j, i)"
   ]
  },
  {
   "cell_type": "code",
   "execution_count": 33,
   "metadata": {},
   "outputs": [],
   "source": [
    "# Как поменять код, чтобы учесть однофамильцев?"
   ]
  },
  {
   "cell_type": "code",
   "execution_count": 34,
   "metadata": {},
   "outputs": [],
   "source": [
    "# your code here"
   ]
  },
  {
   "cell_type": "markdown",
   "metadata": {},
   "source": [
    "### lambda-функции"
   ]
  },
  {
   "cell_type": "code",
   "execution_count": 71,
   "metadata": {},
   "outputs": [],
   "source": [
    "def add_two(x):\n",
    "    return x+2"
   ]
  },
  {
   "cell_type": "code",
   "execution_count": 72,
   "metadata": {},
   "outputs": [
    {
     "data": {
      "text/plain": [
       "4"
      ]
     },
     "execution_count": 72,
     "metadata": {},
     "output_type": "execute_result"
    }
   ],
   "source": [
    "add_two(2)"
   ]
  },
  {
   "cell_type": "code",
   "execution_count": 75,
   "metadata": {},
   "outputs": [],
   "source": [
    "add_one = lambda y: y + 1"
   ]
  },
  {
   "cell_type": "code",
   "execution_count": 76,
   "metadata": {},
   "outputs": [
    {
     "name": "stdout",
     "output_type": "stream",
     "text": [
      "3\n",
      "5\n"
     ]
    }
   ],
   "source": [
    "print(add_one(2))\n",
    "print(add_one(4))"
   ]
  },
  {
   "cell_type": "code",
   "execution_count": 80,
   "metadata": {},
   "outputs": [
    {
     "data": {
      "text/plain": [
       "['мама', 'мыла', 'раму', 'мыла', 'окно', 'тоже', 'мыла', 'мама']"
      ]
     },
     "execution_count": 80,
     "metadata": {},
     "output_type": "execute_result"
    }
   ],
   "source": [
    "from string import punctuation\n",
    "\n",
    "t = \"Мама мыла раму мыла, окно тоже мыла мама.\"\n",
    "words = [i.strip(punctuation).lower() for i in t.split()]\n",
    "words"
   ]
  },
  {
   "cell_type": "code",
   "execution_count": 81,
   "metadata": {},
   "outputs": [
    {
     "data": {
      "text/plain": [
       "defaultdict(int, {'мама': 2, 'мыла': 3, 'раму': 1, 'окно': 1, 'тоже': 1})"
      ]
     },
     "execution_count": 81,
     "metadata": {},
     "output_type": "execute_result"
    }
   ],
   "source": [
    "d = defaultdict(int)\n",
    "for word in words:\n",
    "    d[word] += 1\n",
    "\n",
    "d"
   ]
  },
  {
   "cell_type": "code",
   "execution_count": 82,
   "metadata": {},
   "outputs": [
    {
     "name": "stdout",
     "output_type": "stream",
     "text": [
      "мама 2\n",
      "мыла 3\n",
      "окно 1\n",
      "раму 1\n",
      "тоже 1\n"
     ]
    }
   ],
   "source": [
    "for i in sorted(d):\n",
    "    print(i, d[i])"
   ]
  },
  {
   "cell_type": "code",
   "execution_count": 85,
   "metadata": {},
   "outputs": [
    {
     "name": "stdout",
     "output_type": "stream",
     "text": [
      "раму 1\n",
      "окно 1\n",
      "тоже 1\n",
      "мама 2\n",
      "мыла 3\n"
     ]
    }
   ],
   "source": [
    "for i in sorted(d, key=lambda x: d[x]):\n",
    "    print(i, d[i])"
   ]
  },
  {
   "cell_type": "code",
   "execution_count": 90,
   "metadata": {},
   "outputs": [
    {
     "name": "stdout",
     "output_type": "stream",
     "text": [
      "тоже 1\n",
      "раму 1\n",
      "окно 1\n",
      "мыла 3\n",
      "мама 2\n"
     ]
    }
   ],
   "source": [
    "for k, v in sorted(d.items(), key=lambda x: x[0], reverse=True):\n",
    "    print(k, v)"
   ]
  },
  {
   "cell_type": "markdown",
   "metadata": {},
   "source": [
    "**3.**"
   ]
  },
  {
   "cell_type": "code",
   "execution_count": 95,
   "metadata": {},
   "outputs": [
    {
     "name": "stdout",
     "output_type": "stream",
     "text": [
      "A Anderson\n",
      "G Gallodi\n",
      "B Gallodi\n"
     ]
    }
   ],
   "source": [
    "authors = [(\"G\", \"Gallodi\"), (\"A\", \"Anderson\"), (\"B\", \"Gallodi\")]\n",
    "\n",
    "# for author in data['metadata']['authors']:\n",
    "#     authors.append((author['first'], author['last']))\n",
    "\n",
    "for i in sorted(authors, key=lambda x: x[1]):\n",
    "    print(\" \".join(i))"
   ]
  },
  {
   "cell_type": "code",
   "execution_count": 24,
   "metadata": {},
   "outputs": [],
   "source": [
    "# Решите 2 задачу используя lambda"
   ]
  },
  {
   "cell_type": "code",
   "execution_count": null,
   "metadata": {},
   "outputs": [],
   "source": []
  },
  {
   "cell_type": "code",
   "execution_count": 5,
   "metadata": {},
   "outputs": [
    {
     "name": "stdout",
     "output_type": "stream",
     "text": [
      "x = 1\n"
     ]
    }
   ],
   "source": [
    "print(\"x = \", x, )"
   ]
  },
  {
   "cell_type": "markdown",
   "metadata": {},
   "source": [
    "# Форматированный вывод"
   ]
  },
  {
   "cell_type": "markdown",
   "metadata": {},
   "source": [
    "Форматирование строк — это способ презентации данных в виде строковой переменной. На настоящий момент в Питоне существует целых три синтаксиса для форматирования: синтаксис с использованием метода строк `.format()`, «старый» синтаксис с оператором `%` и самый новый с использованием «f-строк».\n",
    "\n",
    "### Базовый пример\n",
    "\n",
    "Метод строк `.format()` заменяет фигурные скобки в строке, к которой применён, на строковое представление своих аргументов:"
   ]
  },
  {
   "cell_type": "code",
   "execution_count": 7,
   "metadata": {},
   "outputs": [
    {
     "name": "stdout",
     "output_type": "stream",
     "text": [
      "x = 3\n"
     ]
    }
   ],
   "source": [
    "x = 3\n",
    "print('x = {}'.format(x))"
   ]
  },
  {
   "cell_type": "markdown",
   "metadata": {},
   "source": [
    "Если фигурных скобок несколько, то у метода .format() должно быть соответствующее число аргументов:"
   ]
  },
  {
   "cell_type": "code",
   "execution_count": 10,
   "metadata": {},
   "outputs": [
    {
     "name": "stdout",
     "output_type": "stream",
     "text": [
      "27 // 2 = 13\n"
     ]
    }
   ],
   "source": [
    "x = 27\n",
    "y = 2\n",
    "\n",
    "print('{} // {} = {}'.format(x, y, x // y))"
   ]
  },
  {
   "cell_type": "markdown",
   "metadata": {},
   "source": [
    "В фигурных скобках можно указать номер аргумента, начинаю с нуля:"
   ]
  },
  {
   "cell_type": "code",
   "execution_count": 13,
   "metadata": {},
   "outputs": [
    {
     "name": "stdout",
     "output_type": "stream",
     "text": [
      "Здраствуйте, Алиса.\n",
      "Только по промокоду \"Алиса22\" 22 апреля 2019 года \n",
      "вы сможете приобрести гантели в количестве 22 шт.\n",
      "по цене одной!\n"
     ]
    }
   ],
   "source": [
    "name = 'Алиса'\n",
    "day = 22\n",
    "\n",
    "s = '''Здраствуйте, {0}.\n",
    "Только по промокоду \"{0}{1}\" {1} апреля 2019 года \n",
    "вы сможете приобрести гантели в количестве {1} шт.\n",
    "по цене одной!'''.format(name, day)\n",
    "\n",
    "print(s)"
   ]
  },
  {
   "cell_type": "markdown",
   "metadata": {},
   "source": [
    "Для удобства, вместо номеров можно использовать имена аргументов (они не обязаны совпадать с именами переменных, но часто это удобно):"
   ]
  },
  {
   "cell_type": "code",
   "execution_count": 14,
   "metadata": {},
   "outputs": [
    {
     "name": "stdout",
     "output_type": "stream",
     "text": [
      "Из пункта А в пункт Б выехал велосипедист со скоростью 22 км/ч. За 10.52 км до пункта Б велосипедист встретил свою бабушку. Сколько пирожков съел велосипедист перед тем как продолжить свой путь к Б?\n"
     ]
    }
   ],
   "source": [
    "city1 = 'А'\n",
    "city2 = 'Б'\n",
    "driver = 'велосипедист'\n",
    "velocity = 22\n",
    "x = 10.52\n",
    "s = '''Из пункта {departure} в пункт {destination} выехал {driver} со скоростью {v} км/ч. За {x} км до пункта {destination} {driver} встретил свою бабушку. Сколько пирожков съел {driver} перед тем как продолжить свой путь к {destination}?'''.format(\n",
    "    departure=city1,destination=city2,driver=driver,x=x,v=velocity)\n",
    "print(s)"
   ]
  },
  {
   "cell_type": "markdown",
   "metadata": {},
   "source": [
    "### \"Современный\" способ:"
   ]
  },
  {
   "cell_type": "code",
   "execution_count": 20,
   "metadata": {},
   "outputs": [
    {
     "name": "stdout",
     "output_type": "stream",
     "text": [
      "x = 1\n",
      "1\t22222\n",
      "\n",
      "333\t55\n",
      "\n"
     ]
    }
   ],
   "source": [
    "x = 1\n",
    "print(f'x = {x}')\n",
    "#print(\"x = {}\".format(x))\n",
    "z = [(1, 22222), (333, 55)]\n",
    "for x, y in z:\n",
    "    print(str(x) + \"\\t\" + str(y) + \"\\n\")"
   ]
  },
  {
   "cell_type": "code",
   "execution_count": 21,
   "metadata": {},
   "outputs": [
    {
     "name": "stdout",
     "output_type": "stream",
     "text": [
      "Здраствуйте, Алиса.\n",
      "Только по промокоду \"Алиса22\" 22 апреля 2019 года \n",
      "вы сможете приобрести гантели в количестве 22 шт.\n",
      "по цене одной!\n"
     ]
    }
   ],
   "source": [
    "name = 'Алиса'\n",
    "day = 22\n",
    "s = f'''Здраствуйте, {name}.\n",
    "Только по промокоду \"{name}{day}\" {day} апреля 2019 года \n",
    "вы сможете приобрести гантели в количестве {day} шт.\n",
    "по цене одной!'''\n",
    "print(s)"
   ]
  },
  {
   "cell_type": "markdown",
   "metadata": {},
   "source": [
    "Наверное, то, что супер полезно:"
   ]
  },
  {
   "cell_type": "code",
   "execution_count": 26,
   "metadata": {},
   "outputs": [
    {
     "name": "stdout",
     "output_type": "stream",
     "text": [
      "F-score: 0.7071067811865476\n",
      "F-score: 0.71\n"
     ]
    }
   ],
   "source": [
    "import math\n",
    "\n",
    "x = math.sqrt(0.5)\n",
    "print(f\"F-score: {x}\")\n",
    "print(f\"F-score: {x:.2f}\")"
   ]
  },
  {
   "cell_type": "code",
   "execution_count": 31,
   "metadata": {},
   "outputs": [
    {
     "data": {
      "text/plain": [
       "'xxxxx 5 xxxx'"
      ]
     },
     "execution_count": 31,
     "metadata": {},
     "output_type": "execute_result"
    }
   ],
   "source": [
    "a = \"hi\"\n",
    "b = \"world\"\n",
    "\n",
    "f\"xxxxx {' '.join([a, b])} xxxx\""
   ]
  },
  {
   "cell_type": "markdown",
   "metadata": {},
   "source": [
    "### \"Старое\" форматирование\n",
    "\n",
    "https://docs.python.org/3/library/stdtypes.html#old-string-formatting"
   ]
  },
  {
   "cell_type": "code",
   "execution_count": 51,
   "metadata": {},
   "outputs": [
    {
     "name": "stdout",
     "output_type": "stream",
     "text": [
      "Здраствуйте, Алиса.\n",
      "Только по промокоду \"Алиса22\" 22 апреля 2019 года \n",
      "вы сможете приобрести гантели в количестве 22 шт.\n",
      "по цене одной!\n"
     ]
    }
   ],
   "source": [
    "name = 'Алиса'\n",
    "day = 22\n",
    "s = '''Здраствуйте, %s.\n",
    "Только по промокоду \"%s%d\" %d апреля 2019 года \n",
    "вы сможете приобрести гантели в количестве %d шт.\n",
    "по цене одной!''' % (name, name, day, day, day)\n",
    "print(s)"
   ]
  },
  {
   "cell_type": "code",
   "execution_count": 32,
   "metadata": {},
   "outputs": [
    {
     "name": "stdout",
     "output_type": "stream",
     "text": [
      "Здраствуйте, Алиса.\n",
      "Только по промокоду \"Алиса22\" 22 апреля 2019 года \n",
      "вы сможете приобрести гантели в количестве 22 шт.\n",
      "по цене одной!\n"
     ]
    }
   ],
   "source": [
    "print('''Здраствуйте, %(name)s.\n",
    "Только по промокоду \"%(name)s%(day)d\" %(day)d апреля 2019 года \n",
    "вы сможете приобрести гантели в количестве %(day)d шт.\n",
    "по цене одной!''' % {'name': \"Алиса\", \"day\": 22})"
   ]
  },
  {
   "cell_type": "markdown",
   "metadata": {},
   "source": [
    "# OS"
   ]
  },
  {
   "cell_type": "code",
   "execution_count": 34,
   "metadata": {},
   "outputs": [],
   "source": [
    "import os"
   ]
  },
  {
   "cell_type": "markdown",
   "metadata": {},
   "source": [
    "Функция `walk` модуля `os` позволяет обходить все папки, начиная с заданной, и получать на каждой итерации списки всех файлов и папок на этом уровне. См. документацию: `os.walk`"
   ]
  },
  {
   "cell_type": "code",
   "execution_count": 37,
   "metadata": {},
   "outputs": [],
   "source": [
    "start_path = \"./speech\""
   ]
  },
  {
   "cell_type": "code",
   "execution_count": 38,
   "metadata": {},
   "outputs": [
    {
     "name": "stdout",
     "output_type": "stream",
     "text": [
      "Где мы сейчас: ./speech\n",
      "Папки на этом уровне: ['19_century_russian_prose', '20_век_отДани(lib.ru)']\n",
      "Файлы на этом уровне: []\n",
      "Где мы сейчас: ./speech\\19_century_russian_prose\n",
      "Папки на этом уровне: ['lemm', 'source']\n",
      "Файлы на этом уровне: []\n",
      "Где мы сейчас: ./speech\\19_century_russian_prose\\lemm\n",
      "Папки на этом уровне: ['all']\n",
      "Файлы на этом уровне: []\n",
      "Где мы сейчас: ./speech\\19_century_russian_prose\\lemm\\all\n",
      "Папки на этом уровне: []\n",
      "Файлы на этом уровне: ['Ahsharumov_1872.txt', 'Aksakov_1856.txt', 'Aksakov_1858.txt', 'Annenskaya_1872.txt', 'Annenskaya_1880.txt', 'Annenskaya_1881.txt', 'Apuhtin_1895a.txt', 'Apuhtin_1895b.txt', 'Apuhtin_1896.txt', 'Avdeev_1849.txt', 'Avdeev_1850.txt', 'Avdeev_1951.txt', 'Avenarius_1865.txt', 'Avenarius_1867.txt', 'Bestuzhev-Marlinskiy_1830a.txt', 'Bestuzhev-Marlinskiy_1830b.txt', 'Bestuzhev-Marlinskiy_1831.txt', 'Bestuzhev-Marlinskiy_1832.txt', 'Bestuzhev-Marlinskiy_1833.txt', 'Bestuzhev-Marlinskiy_1836.txt', 'Bestuzhev_1860.txt', 'Boborykin_1868.txt', 'Boborykin_1875.txt', 'Boborykin_1882.txt', 'Boborykin_1890.txt', 'Boborykin_1892.txt', 'Bulgarin_1830.txt', 'Bulgarin_1833-1834.txt', 'Butkov_1848.txt', 'Chekhov_1888.txt', 'Chekhov_1891.txt', 'Chekhov_1892.txt', 'Chekhov_1893.txt', 'Chekhov_1895.txt', 'Chekhov_1896.txt', 'Chekhov_1900.txt', 'Chernyshevskiy_1863.txt', 'Dal_1839.txt', 'Dal_1843.txt', 'Dal_1844.txt', 'Dal_1847.txt', 'Danilevsky_1862.txt', 'Danilevsky_1863.txt', 'Danilevsky_1875.txt', 'Danilevsky_1878.txt', 'Danilevsky_1883.txt', 'Danilevsky_1886.txt', 'Dmitriev_1896.txt', 'Dostoevsky_1845.txt', 'Dostoevsky_1846.txt', 'Dostoevsky_1847.txt', 'Dostoevsky_1848.txt', 'Dostoevsky_1849.txt', 'Dostoevsky_1859a.txt', 'Dostoevsky_1859b.txt', 'Dostoevsky_1861.txt', 'Dostoevsky_1866a.txt', 'Dostoevsky_1866b.txt', 'Dostoevsky_1868.txt', 'Dostoevsky_1871-1872.txt', 'Dostoevsky_1875.txt', 'Dostoevsky_1879-1880.txt', 'Driyanskiy_1851-1859.txt', 'Druzhynin_1847.txt', 'Druzhynin_1848.txt', 'Durova_1839a.txt', 'Durova_1839b.txt', 'Durova_1839c.txt', 'Durova_1840.txt', 'Ertel_1883.txt', 'Ertel_1887.txt', 'Ertel_1889.txt', 'Ertel_1895.txt', 'Filippov_1889.txt', 'Furman_1847.txt', 'Gan_1837.txt', 'Gan_1840.txt', 'Garin-Mikhailovskiy_1892.txt', 'Garin-Mikhailovskiy_1893.txt', 'Garin-Mikhailovskiy_1895.txt', 'Garin-Mikhailovskiy_1900.txt', 'Garshin_1885.txt', 'Geintse_1885-1886.txt', 'Geintse_1893.txt', 'Geintse_1894.txt', 'Geintse_1895a.txt', 'Geintse_1895b.txt', 'Geintse_1895c.txt', 'Geintse_1895d.txt', 'Geintse_1897a.txt', 'Geintse_1897b.txt', 'Geintse_1898.txt', 'Gertsen_1847.txt', 'Gogol_1834.txt', 'Gogol_1835.txt', 'Gogol_1842a.txt', 'Gogol_1842b.txt', 'Goncharov_1848.txt', 'Goncharov_1859.txt', 'Goncharov_1869.txt', 'Gorky_1897.txt', 'Gorky_1899.txt', 'Grebenka_1843.txt', 'Grech_1834.txt', 'Grigorovich_1846.txt', 'Grigorovich_1847.txt', 'Grigorovich_1850.txt', 'Grigorovich_1853.txt', 'Grigorovich_1855-1856.txt', 'Grigorovich_1855.txt', 'Grigorovich_1857.txt', 'Grigorovich_1860.txt', 'Karnovich_1879a.txt', 'Karnovich_1879b.txt', 'Karnovich_1883.txt', 'Khvoshchinskaya_1858.txt', 'Khvoshchinskaya_1861.txt', 'Khvoshchinskaya_1869.txt', 'Kohanovskaya_1859.txt', 'Kokorev_1847.txt', 'Kokorev_1852.txt', 'Konshin_1834.txt', 'Kornilovich_1832.txt', 'Korolenko_1885.txt', 'Korolenko_1886.txt', 'Korolenko_1891.txt', 'Korolenko_1895.txt', 'Korolenko_1899.txt', 'Krasnitskiy_1898.txt', 'Krestovskaya_1886.txt', 'Krestovskaya_1900.txt', 'Kriukov_1898.txt', 'Kryzhanovskaya_1894a.txt', 'Kryzhanovskaya_1894b.txt', 'Kugushev_1856.txt', 'Kulchitskiy_1845.txt', 'Kuprin_1893.txt', 'Kuprin_1896.txt', 'Kuprin_1898.txt', 'Kuprin_1900.txt', 'Kushchevskiy_1871.txt', 'Lazhechnikov_1831-1833.txt', 'Lazhechnikov_1835.txt', 'Lazhechnikov_1838.txt', 'Lazhechnikov_1856.txt', 'Lazhechnikov_1868.txt', 'Leontyev_1855.txt', 'Leontyev_1864.txt', 'Leontyev_1867.txt', 'Leontyev_1868.txt', 'Leontyev_1869.txt', 'Leontyev_1871.txt', 'Leontyev_1876.txt', 'Leontyev_1877.txt', 'Leontyev_1881.txt', 'Lermontov_1836.txt', 'Lermontov_1840.txt', 'Leskov_1863.txt', 'Leskov_1864.txt', 'Leskov_1865a.txt', 'Leskov_1865b.txt', 'Leskov_1866a.txt', 'Leskov_1866b.txt', 'Leskov_1869.txt', 'Leskov_1870-1871.txt', 'Leskov_1870.txt', 'Leskov_1871.txt', 'Leskov_1872.txt', 'Leskov_1873a.txt', 'Leskov_1873b.txt', 'Leskov_1874a.txt', 'Leskov_1874b.txt', 'Leskov_1875-1876.txt', 'Leskov_1876.txt', 'Leskov_1883.txt', 'Leskov_1890.txt', 'Leskov_1891.txt', 'Leskov_1894.txt', 'Levitov_1861.txt', 'Lukhmanova_1896.txt', 'Machtet_1891.txt', 'Maklakova_1875.txt', 'Maksimov_1871.txt', 'Mamin-Sibiriak_1876.txt', 'Mamin-Sibiriak_1882.txt', 'Mamin-Sibiriak_1883a.txt', 'Mamin-Sibiriak_1883b.txt', 'Mamin-Sibiriak_1883c.txt', 'Mamin-Sibiriak_1884.txt', 'Mamin-Sibiriak_1888.txt', 'Mamin-Sibiriak_1890.txt', 'Mamin-Sibiriak_1891a.txt', 'Mamin-Sibiriak_1891b.txt', 'Mamin-Sibiriak_1892a.txt', 'Mamin-Sibiriak_1892b.txt', 'Mamin-Sibiriak_1893.txt', 'Mamin-Sibiriak_1894.txt', 'Mamin-Sibiriak_1895.txt', 'Masalskiy_1832.txt', 'Masalskiy_1833.txt', 'Masalskiy_1834.txt', 'Masalskiy_1841.txt', 'Melnikov_1857.txt', 'Melnikov_1871-1875.txt', 'Melnikov_1875-1881.txt', 'Merder_1891.txt', 'Merder_1896.txt', 'Mikhailov_1851.txt', 'Mordovtsev_1878a.txt', 'Mordovtsev_1878b.txt', 'Mordovtsev_1879a.txt', 'Mordovtsev_1879b.txt', 'Mordovtsev_1880.txt', 'Mordovtsev_1881.txt', 'Mordovtsev_1882.txt', 'Mordovtsev_1884.txt', 'Mordovtsev_1891a.txt', 'Mordovtsev_1891b.txt', 'Mordovtsev_1891c.txt', 'Mordovtsev_1897.txt', 'Mordovtsev_1899.txt', 'Narezhnyi_1824a.txt', 'Narezhnyi_1824b.txt', 'Narezhnyi_1825.txt', 'Naumov_1872.txt', 'Naumov_1881.txt', 'Nekrasov_et_al_1848-1849.txt', 'Nekrasov_et_al_1851.txt', 'Nemirovich-Danchenko_1892.txt', 'Odoevskyi_1841.txt', 'Omulevskyi_1870.txt', 'Omulevskyi_1873.txt', 'Panaeva_1848.txt', 'Panaeva_1855.txt', 'Panaev_1839.txt', 'Panaev_1840a.txt', 'Panaev_1840b.txt', 'Panaev_1841.txt', 'Panaev_1842.txt', 'Panaev_1847.txt', 'Pavlov_1835.txt', 'Pavlov_1839.txt', 'Pisemskiy_1850.txt', 'Pisemskiy_1851a.txt', 'Pisemskiy_1851b.txt', 'Pisemskiy_1854.txt', 'Pisemskiy_1855.txt', 'Pisemskiy_1858a.txt', 'Pisemskiy_1858b.txt', 'Pisemskiy_1861.txt', 'Pisemskiy_1863.txt', 'Pisemskiy_1869.txt', 'Pisemskiy_1871.txt', 'Pisemskiy_1877.txt', 'Pisemskiy_1880.txt', 'Pleshcheev_1849.txt', 'Pleshcheev_1857.txt', 'Pleshcheev_1859.txt', 'Pogodin_1827-1828.txt', 'Pogorelskiy_1828.txt', 'Pogorelskiy_1833.txt', 'PolevoyPN_1899.txt', 'Polevoy_1828.txt', 'Polevoy_1832.txt', 'Polevoy_1833a.txt', 'Polevoy_1833b.txt', 'Polevoy_1834a.txt', 'Polevoy_1834b.txt', 'Polevoy_1838-1839.txt', 'Pomialovskiy_1861a.txt', 'Pomialovskiy_1861b.txt', 'Pomialovskiy_1865.txt', 'Potapenko_1890.txt', 'Potapenko_1891.txt', 'Potapenko_1896.txt', 'Pozniakov_1892.txt', 'Pushkin_1832-1833.txt', 'Pushkin_1836.txt', 'Reshetnikov_1864a.txt', 'Reshetnikov_1864b.txt', 'Reshetnikov_1865.txt', 'Reshetnikov_1866.txt', 'Reshetnikov_1868.txt', 'romany_lemm.Rproj', 'Rostopchina_1838.txt', 'Rostopchina_1851-1852.txt', 'Rostopchina_1854.txt', 'Salias_1885a.txt', 'Salias_1885b.txt', 'Salias_1886.txt', 'Salias_1888.txt', 'Salias_1889.txt', 'Salias_1893.txt', 'Salov_1879_ST.txt', 'Salov_1881.txt', 'Saltykov-Shchedrin_1863.txt', 'Saltykov-Shchedrin_1869-1870.txt', 'Saltykov-Shchedrin_1872-1876.txt', 'Saltykov-Shchedrin_1872.txt', 'Saltykov-Shchedrin_1877-1883.txt', 'Saltykov-Shchedrin_1878-1879.txt', 'Saltykov-Shchedrin_1880.txt', 'Saltykov-Shchedrin_1887-1889.txt', 'Senkovskiy_1833.txt', 'Senkovskiy_1834.txt', 'Shalikova_1856.txt', 'Shapir_1898.txt', 'Sheller-Mikhailov_1868.txt', 'Sheller-Mikhailov_1871.txt', 'Sheller-Mikhailov_1883.txt', 'Shkliarevskiy_1872.txt', 'Shkliarevskiy_1873.txt', 'Shkliarevskiy_1874.txt', 'Slavutinskiy_1858.txt', 'Slavutinskiy_1859a.txt', 'Slavutinskiy_1859b.txt', 'Sleptsov_1865.txt', 'Sokolovskiy_1834.txt', 'Sollogub_1840.txt', 'Sollogub_1845.txt', 'Sollogub_1850.txt', 'SolovjovVs_1876.txt', 'SolovjovVs_1877.txt', 'SolovjovVs_1878a.txt', 'SolovjovVs_1878b.txt', 'SolovjovVs_1881.txt', 'SolovjovVs_1882.txt', 'SolovjovVs_1883.txt', 'SolovjovVs_1884.txt', 'SolovjovVs_1886.txt', 'SolovjovVs_1888.txt', 'SolovjovVs_1889.txt', 'SolovjovVs_1890.txt', 'Somov_1825.txt', 'Staniukovich_1879a.txt', 'Staniukovich_1879b.txt', 'Staniukovich_1880.txt', 'Staniukovich_1886.txt', 'Staniukovich_1889.txt', 'Staniukovich_1891.txt', 'Staniukovich_1892.txt', 'Staniukovich_1893.txt', 'Staniukovich_1895a.txt', 'Staniukovich_1895b.txt', 'Staniukovich_1895c.txt', 'Staniukovich_1897.txt', 'Staniukovich_1899a.txt', 'Staniukovich_1899b.txt', 'Sukhonin_1886.txt', 'Terpigorev_1888.txt', 'Timofeev_1834.txt', 'TolstoyA_1841.txt', 'TolstoyA_1863.txt', 'Tolstoy_1852.txt', 'Tolstoy_1854.txt', 'Tolstoy_1855.txt', 'Tolstoy_1856.txt', 'Tolstoy_1857.txt', 'Tolstoy_1859.txt', 'Tolstoy_1863a.txt', 'Tolstoy_1863b.txt', 'Tolstoy_1868-1869.txt', 'Tolstoy_1877.txt', 'Tolstoy_1886.txt', 'Tolstoy_1891.txt', 'Tolstoy_1899.txt', 'Turgenev_1854a.txt', 'Turgenev_1854b.txt', 'Turgenev_1855.txt', 'Turgenev_1856.txt', 'Turgenev_1859.txt', 'Turgenev_1860.txt', 'Turgenev_1862.txt', 'Turgenev_1867.txt', 'Turgenev_1869.txt', 'Turgenev_1870.txt', 'Turgenev_1872.txt', 'Turgenev_1877.txt', 'Tur_1856.txt', 'UspenskiyG_1866.txt', 'Veltman_1831-1832.txt', 'Veltman_1833.txt', 'Veltman_1835.txt', 'Veltman_1843.txt', 'Veltman_1846-1847.txt', 'Veresaev_1895.txt', 'Veresaev_1898.txt', 'Vereshchagin_1894.txt', 'Volkonskiy_1895.txt', 'Volkonskiy_1896.txt', 'Vonlyarovskiy_1852a.txt', 'Vonlyarovskiy_1852b.txt', 'wordlist.txt', 'Yakubovich_1895-1898.txt', 'Yasinskiy_1882.txt', 'Yasinskiy_1885.txt', 'Yasinskiy_1886.txt', 'Yermolova_1856.txt', 'Zagoskin_1829.txt', 'Zagoskin_1831.txt', 'Zagoskin_1833.txt', 'Zagoskin_1838.txt', 'Zagoskin_1842-1850.txt', 'Zagoskin_1846.txt', 'Zagoskin_1848.txt', 'Zasodimskiy_1870.txt', 'Zhadovskaya_1857.txt', 'Zhadovskaya_1861.txt', 'Zhukova_1845.txt', 'Zlatovratskiy_1877.txt', 'Zotov_1834.txt', 'Zotov_1850.txt']\n",
      "Где мы сейчас: ./speech\\19_century_russian_prose\\source\n",
      "Папки на этом уровне: ['all']\n",
      "Файлы на этом уровне: []\n"
     ]
    },
    {
     "name": "stdout",
     "output_type": "stream",
     "text": [
      "Где мы сейчас: ./speech\\19_century_russian_prose\\source\\all\n",
      "Папки на этом уровне: []\n",
      "Файлы на этом уровне: ['Ahsharumov_1872.txt', 'Aksakov_1856.txt', 'Aksakov_1858.txt', 'Alekseev_1899.txt', 'Annenskaya_1872.txt', 'Annenskaya_1880.txt', 'Annenskaya_1881.txt', 'Apuhtin_1895a.txt', 'Apuhtin_1895b.txt', 'Apuhtin_1896.txt', 'Avdeev_1849.txt', 'Avdeev_1850.txt', 'Avdeev_1951.txt', 'Avenarius_1865.txt', 'Avenarius_1867.txt', 'Bestuzhev-Marlinskiy_1830a.txt', 'Bestuzhev-Marlinskiy_1830b.txt', 'Bestuzhev-Marlinskiy_1831.txt', 'Bestuzhev-Marlinskiy_1832.txt', 'Bestuzhev-Marlinskiy_1833.txt', 'Bestuzhev-Marlinskiy_1836.txt', 'Bestuzhev_1860.txt', 'Boborykin_1868.txt', 'Boborykin_1875.txt', 'Boborykin_1882.txt', 'Boborykin_1890.txt', 'Boborykin_1892.txt', 'Bulgarin_1830.txt', 'Bulgarin_1833-1834.txt', 'Butkov_1848.txt', 'Chekhov_1888.txt', 'Chekhov_1891.txt', 'Chekhov_1892.txt', 'Chekhov_1893.txt', 'Chekhov_1895.txt', 'Chekhov_1896.txt', 'Chekhov_1900.txt', 'Chernyshevskiy_1863.txt', 'Dal_1839.txt', 'Dal_1843.txt', 'Dal_1844.txt', 'Dal_1847.txt', 'Danilevsky_1862.txt', 'Danilevsky_1863.txt', 'Danilevsky_1875.txt', 'Danilevsky_1878.txt', 'Danilevsky_1883.txt', 'Danilevsky_1886.txt', 'Dmitriev_1896.txt', 'Dostoevsky_1845.txt', 'Dostoevsky_1846.txt', 'Dostoevsky_1847.txt', 'Dostoevsky_1848.txt', 'Dostoevsky_1849.txt', 'Dostoevsky_1859a.txt', 'Dostoevsky_1859b.txt', 'Dostoevsky_1861.txt', 'Dostoevsky_1864.txt', 'Dostoevsky_1866a.txt', 'Dostoevsky_1866b.txt', 'Dostoevsky_1868.txt', 'Dostoevsky_1870.txt', 'Dostoevsky_1871-1872.txt', 'Dostoevsky_1875.txt', 'Dostoevsky_1879-1880.txt', 'Driyanskiy_1851-1859.txt', 'Druzhynin_1847.txt', 'Druzhynin_1848.txt', 'Durova_1839a.txt', 'Durova_1839b.txt', 'Durova_1839c.txt', 'Durova_1840.txt', 'Ertel_1883.txt', 'Ertel_1887.txt', 'Ertel_1889.txt', 'Ertel_1895.txt', 'Filippov_1889.txt', 'Furman_1847.txt', 'Gan_1837.txt', 'Gan_1840.txt', 'Garin-Mikhailovskiy_1892.txt', 'Garin-Mikhailovskiy_1893.txt', 'Garin-Mikhailovskiy_1895.txt', 'Garin-Mikhailovskiy_1900.txt', 'Garshin_1885.txt', 'Geintse_1885-1886.txt', 'Geintse_1893.txt', 'Geintse_1894.txt', 'Geintse_1895a.txt', 'Geintse_1895b.txt', 'Geintse_1895c.txt', 'Geintse_1895d.txt', 'Geintse_1897a.txt', 'Geintse_1897b.txt', 'Geintse_1898.txt', 'Gertsen_1847.txt', 'Gogol_1834.txt', 'Gogol_1835.txt', 'Gogol_1842a.txt', 'Gogol_1842b.txt', 'Goncharov_1848.txt', 'Goncharov_1859.txt', 'Goncharov_1869.txt', 'Gorky_1897.txt', 'Gorky_1899.txt', 'Grebenka_1843.txt', 'Grech_1834.txt', 'Grigorovich_1846.txt', 'Grigorovich_1847.txt', 'Grigorovich_1850.txt', 'Grigorovich_1853.txt', 'Grigorovich_1855-1856.txt', 'Grigorovich_1855.txt', 'Grigorovich_1857.txt', 'Grigorovich_1860.txt', 'Karnovich_1879a.txt', 'Karnovich_1879b.txt', 'Karnovich_1883.txt', 'Khvoshchinskaya_1858.txt', 'Khvoshchinskaya_1861.txt', 'Khvoshchinskaya_1869.txt', 'Kohanovskaya_1859.txt', 'Kokorev_1847.txt', 'Kokorev_1852.txt', 'Konshin_1834.txt', 'Kornilovich_1832.txt', 'Korolenko_1885.txt', 'Korolenko_1886.txt', 'Korolenko_1891.txt', 'Korolenko_1895.txt', 'Korolenko_1899.txt', 'Krasnitskiy_1898.txt', 'Krestovskaya_1886.txt', 'Krestovskaya_1900.txt', 'Kriukov_1898.txt', 'Kryzhanovskaya_1894a.txt', 'Kryzhanovskaya_1894b.txt', 'Kugushev_1856.txt', 'Kulchitskiy_1845.txt', 'Kuprin_1893.txt', 'Kuprin_1896.txt', 'Kuprin_1898.txt', 'Kuprin_1900.txt', 'Kushchevskiy_1871.txt', 'Lazhechnikov_1831-1833.txt', 'Lazhechnikov_1835.txt', 'Lazhechnikov_1838.txt', 'Lazhechnikov_1856.txt', 'Lazhechnikov_1868.txt', 'Leontyev_1855.txt', 'Leontyev_1864.txt', 'Leontyev_1867.txt', 'Leontyev_1868.txt', 'Leontyev_1869.txt', 'Leontyev_1871.txt', 'Leontyev_1876.txt', 'Leontyev_1877.txt', 'Leontyev_1881.txt', 'Lermontov_1836.txt', 'Lermontov_1840.txt', 'Leskov_1863.txt', 'Leskov_1864.txt', 'Leskov_1865a.txt', 'Leskov_1865b.txt', 'Leskov_1866a.txt', 'Leskov_1866b.txt', 'Leskov_1869.txt', 'Leskov_1870-1871.txt', 'Leskov_1870.txt', 'Leskov_1871.txt', 'Leskov_1872.txt', 'Leskov_1873a.txt', 'Leskov_1873b.txt', 'Leskov_1874a.txt', 'Leskov_1874b.txt', 'Leskov_1875-1876.txt', 'Leskov_1876.txt', 'Leskov_1883.txt', 'Leskov_1890.txt', 'Leskov_1891.txt', 'Leskov_1894.txt', 'Levitov_1861.txt', 'Lukhmanova_1896.txt', 'Machtet_1891.txt', 'Maklakova_1875.txt', 'Maksimov_1871.txt', 'Mamin-Sibiriak_1876.txt', 'Mamin-Sibiriak_1882.txt', 'Mamin-Sibiriak_1883a.txt', 'Mamin-Sibiriak_1883b.txt', 'Mamin-Sibiriak_1883c.txt', 'Mamin-Sibiriak_1884.txt', 'Mamin-Sibiriak_1888.txt', 'Mamin-Sibiriak_1890.txt', 'Mamin-Sibiriak_1891a.txt', 'Mamin-Sibiriak_1891b.txt', 'Mamin-Sibiriak_1892a.txt', 'Mamin-Sibiriak_1892b.txt', 'Mamin-Sibiriak_1893.txt', 'Mamin-Sibiriak_1894.txt', 'Mamin-Sibiriak_1895.txt', 'Masalskiy_1832.txt', 'Masalskiy_1833.txt', 'Masalskiy_1834.txt', 'Masalskiy_1841.txt', 'Melnikov_1857.txt', 'Melnikov_1871-1875.txt', 'Melnikov_1875-1881.txt', 'Merder_1891.txt', 'Merder_1896.txt', 'Mikhailov_1851.txt', 'Mordovtsev_1878a.txt', 'Mordovtsev_1878b.txt', 'Mordovtsev_1879a.txt', 'Mordovtsev_1879b.txt', 'Mordovtsev_1880.txt', 'Mordovtsev_1881.txt', 'Mordovtsev_1882.txt', 'Mordovtsev_1884.txt', 'Mordovtsev_1891a.txt', 'Mordovtsev_1891b.txt', 'Mordovtsev_1891c.txt', 'Mordovtsev_1897.txt', 'Mordovtsev_1899.txt', 'Narezhnyi_1824a.txt', 'Narezhnyi_1824b.txt', 'Narezhnyi_1825.txt', 'Naumov_1872.txt', 'Naumov_1881.txt', 'Nekrasov_et_al_1848-1849.txt', 'Nekrasov_et_al_1851.txt', 'Nemirovich-Danchenko_1892.txt', 'Odoevskyi_1841.txt', 'Omulevskyi_1870.txt', 'Omulevskyi_1873.txt', 'Panaeva_1848.txt', 'Panaeva_1855.txt', 'Panaev_1839.txt', 'Panaev_1840a.txt', 'Panaev_1840b.txt', 'Panaev_1841.txt', 'Panaev_1842.txt', 'Panaev_1847.txt', 'Pavlov_1835.txt', 'Pavlov_1839.txt', 'Pisemskiy_1850.txt', 'Pisemskiy_1851a.txt', 'Pisemskiy_1851b.txt', 'Pisemskiy_1854.txt', 'Pisemskiy_1855.txt', 'Pisemskiy_1858a.txt', 'Pisemskiy_1858b.txt', 'Pisemskiy_1861.txt', 'Pisemskiy_1863.txt', 'Pisemskiy_1869.txt', 'Pisemskiy_1871.txt', 'Pisemskiy_1877.txt', 'Pisemskiy_1880.txt', 'Pleshcheev_1849.txt', 'Pleshcheev_1857.txt', 'Pleshcheev_1859.txt', 'Pogodin_1827-1828.txt', 'Pogorelskiy_1828.txt', 'Pogorelskiy_1833.txt', 'PolevoyPN_1899.txt', 'Polevoy_1828.txt', 'Polevoy_1832.txt', 'Polevoy_1833a.txt', 'Polevoy_1833b.txt', 'Polevoy_1834a.txt', 'Polevoy_1834b.txt', 'Polevoy_1838-1839.txt', 'Pomialovskiy_1861a.txt', 'Pomialovskiy_1861b.txt', 'Pomialovskiy_1865.txt', 'Potapenko_1890.txt', 'Potapenko_1891.txt', 'Potapenko_1896.txt', 'Pozniakov_1892.txt', 'Pushkin_1832-1833.txt', 'Pushkin_1836.txt', 'Reshetnikov_1864a.txt', 'Reshetnikov_1864b.txt', 'Reshetnikov_1865.txt', 'Reshetnikov_1866.txt', 'Reshetnikov_1868.txt', 'Rostopchina_1838.txt', 'Rostopchina_1851-1852.txt', 'Rostopchina_1854.txt', 'Salias_1885a.txt', 'Salias_1885b.txt', 'Salias_1886.txt', 'Salias_1888.txt', 'Salias_1889.txt', 'Salias_1893.txt', 'Salov_1881.txt', 'Saltykov-Shchedrin_1863.txt', 'Saltykov-Shchedrin_1869-1870.txt', 'Saltykov-Shchedrin_1872-1876.txt', 'Saltykov-Shchedrin_1872.txt', 'Saltykov-Shchedrin_1877-1883.txt', 'Saltykov-Shchedrin_1878-1879.txt', 'Saltykov-Shchedrin_1880.txt', 'Saltykov-Shchedrin_1887-1889.txt', 'Senkovskiy_1833.txt', 'Senkovskiy_1834.txt', 'Shalikova_1856.txt', 'Shapir_1898.txt', 'Sheller-Mikhailov_1868.txt', 'Sheller-Mikhailov_1871.txt', 'Sheller-Mikhailov_1883.txt', 'Shkliarevskiy_1872.txt', 'Shkliarevskiy_1873.txt', 'Shkliarevskiy_1874.txt', 'Slavutinskiy_1858.txt', 'Slavutinskiy_1859a.txt', 'Slavutinskiy_1859b.txt', 'Sleptsov_1865.txt', 'Sokolovskiy_1834.txt', 'Sollogub_1840.txt', 'Sollogub_1845.txt', 'Sollogub_1850.txt', 'SolovjovVs_1876.txt', 'SolovjovVs_1877.txt', 'SolovjovVs_1878a.txt', 'SolovjovVs_1878b.txt', 'SolovjovVs_1881.txt', 'SolovjovVs_1882.txt', 'SolovjovVs_1883.txt', 'SolovjovVs_1884.txt', 'SolovjovVs_1886.txt', 'SolovjovVs_1888.txt', 'SolovjovVs_1889.txt', 'SolovjovVs_1890.txt', 'Somov_1825.txt', 'Staniukovich_1879a.txt', 'Staniukovich_1879b.txt', 'Staniukovich_1880.txt', 'Staniukovich_1886.txt', 'Staniukovich_1889.txt', 'Staniukovich_1891.txt', 'Staniukovich_1892.txt', 'Staniukovich_1893.txt', 'Staniukovich_1895a.txt', 'Staniukovich_1895b.txt', 'Staniukovich_1895c.txt', 'Staniukovich_1897.txt', 'Staniukovich_1899a.txt', 'Staniukovich_1899b.txt', 'Sukhonin_1886.txt', 'Terpigorev_1888.txt', 'Timofeev_1834.txt', 'TolstoyA_1841.txt', 'TolstoyA_1863.txt', 'Tolstoy_1852.txt', 'Tolstoy_1854.txt', 'Tolstoy_1855.txt', 'Tolstoy_1856.txt', 'Tolstoy_1857.txt', 'Tolstoy_1859.txt', 'Tolstoy_1863a.txt', 'Tolstoy_1863b.txt', 'Tolstoy_1868-1869.txt', 'Tolstoy_1877.txt', 'Tolstoy_1886.txt', 'Tolstoy_1891.txt', 'Tolstoy_1899.txt', 'Turgenev_1854a.txt', 'Turgenev_1854b.txt', 'Turgenev_1855.txt', 'Turgenev_1856.txt', 'Turgenev_1859.txt', 'Turgenev_1860.txt', 'Turgenev_1862.txt', 'Turgenev_1867.txt', 'Turgenev_1869.txt', 'Turgenev_1870.txt', 'Turgenev_1872.txt', 'Turgenev_1877.txt', 'Tur_1856.txt', 'UspenskiyG_1866.txt', 'Veltman_1831-1832.txt', 'Veltman_1833.txt', 'Veltman_1835.txt', 'Veltman_1843.txt', 'Veltman_1846-1847.txt', 'Veresaev_1895.txt', 'Veresaev_1898.txt', 'Vereshchagin_1894.txt', 'Volkonskiy_1895.txt', 'Volkonskiy_1896.txt', 'Vonlyarovskiy_1852a.txt', 'Vonlyarovskiy_1852b.txt', 'Yakubovich_1895-1898.txt', 'Yasinskiy_1882.txt', 'Yasinskiy_1885.txt', 'Yasinskiy_1886.txt', 'Yermolova_1856.txt', 'Zagoskin_1829.txt', 'Zagoskin_1831.txt', 'Zagoskin_1833.txt', 'Zagoskin_1838.txt', 'Zagoskin_1842-1850.txt', 'Zagoskin_1846.txt', 'Zagoskin_1848.txt', 'Zasodimskiy_1870.txt', 'Zhadovskaya_1857.txt', 'Zhadovskaya_1861.txt', 'Zhukova_1845.txt', 'Zlatovratskiy_1877.txt', 'Zotov_1834.txt', 'Zotov_1850.txt']\n",
      "Где мы сейчас: ./speech\\20_век_отДани(lib.ru)\n",
      "Папки на этом уровне: []\n",
      "Файлы на этом уровне: ['Адамов_ИзгнаниеВладыки.txt', 'Адамов_ТайнаДвухОкеанов.txt', 'Айтматов_ИДольшеВекаДлитсяДень.txt', 'Айтматов_Плаха.txt', 'Акунин_АлмазнаяКолесница.txt', 'Акунин_СтатскийСоветник.txt', 'Акунин_ТурецкийГамбит.txt', 'АНТолстой_Аэлита.txt', 'АНТолстой_ГиперболоидИнженераГарина.txt', 'АНТолстой_ПётрПервый.txt', 'Астафьев_ВеселыйСолдат.txt', 'Астафьев_Затеси.txt', 'Астафьев_ЦарьРыба.txt', 'Бабель_Конармия.txt', 'Бабель_ОдесскиеРассказы.txt', 'Беляев_Ариэль.txt', 'Беляев_ГоловаПрофессораДоуэля.txt', 'Беляев_ПродавецВоздуха.txt', 'Беляев_Человек-амфибия.txt', 'Бондарев_БатальоныПросятОгня.txt', 'БратьяВайнеры_ЭраМилосердия.txt', 'БратьяВайнеры_ЯСледователь.txt', 'Булгаков_БелаяГвардия.txt', 'Булгаков_МастерИМаргарита.txt', 'Булгаков_РоковыеЯйца.txt', 'Булычев_ГайДо.txt', 'Булычев_ПутешествиеАлисы_1992.txt', 'Булычев_РжавыйФельдмаршал_1991.txt', 'Быков_ЗнакБеды.txt', 'Быков_Обелиск.txt', 'Быков_Сотников.txt', 'БылинаНародная_Алеша Попович.txt', 'БылинаНародная_Бой Добрыни с Дунаем.txt', 'БылинаНародная_Бой Ильи Муромца с сыном.txt', 'Визбор_Альтернатива.txt', 'Визбор_Завтрак.txt', 'ВикторНекрасов_В окопах Сталинграда.txt', 'Владимов_Большая руда_1984.txt', 'Владимов_Верный Руслан_1975.txt', 'Владимов_Генерал и его армия_1996.txt', 'ГеоргийВайнер_Бес в ребро.txt', 'Горький_ЖизньКлимаСамгина.txt', 'Горький_Мать.txt', 'Гранин_Зубр.txt', 'Гроссман_ЖизньИСудьба.txt', 'Гуляковский_АтлантыДержатНебо.txt', 'Гуляковский_ДолгийВосходНаЭнне.txt', 'Гуляковский_Чужие пространства.txt', 'Дивов_ДругиеДействия.txt', 'Довлатов_Заповедник.txt', 'Довлатов_Компромисс.txt', 'Довлатов_СолоНаУндервуде.txt', 'Закруткин_МатерьЧеловеческая_1969.txt', 'ИльфПетров_Двенадцать стульев_1928.txt', 'ИльфПетров_Золотой теленок_.txt', 'ИльфПетров_Одноэтажная Америка_1937.txt', 'Искандер_СандроИзЧегема.txt', 'Казакевич_Звезда.txt', 'Катаев_АлмазныйМойВенец.txt', 'Катаев_БелеетПарусОдинокий.txt', 'Катаев_СынПолка.txt', 'Лагин_АтавияПроксима.txt', 'Лагин_МайорВеллЭндъю.txt', 'Лагин_СтарикХоттабыч.txt', 'Лимонов_ЭтоЯЭдичка.txt', 'Лукьяненко_НовыйДозор.txt', 'Лукьяненко_ЦарьЦаревичКорольКоролевич.txt', 'Лукьяненко_ШестойДозор.txt', 'Набоков_Дар.txt', 'Набоков_ЗащитаЛужина.txt', 'Набоков_ПриглашениеНаКазнь.txt', 'Распутин_ДеньгиДляМарии.txt', 'Распутин_ПрощаниеСМатерой.txt', 'Рубина_Высокая вода венецианцев.txt', 'Рубина_Любка.txt', 'Рубина_ЭтотЧуднойАлтухов.txt', 'Серафимович_ЖелезныйПоток.txt', 'Солженицын_Гулаг1_2.txt', 'Солженицын_Гулаг34.txt', 'Солженицын_Гулаг57.txt', 'Солженицын_РаковыйКорпус.txt', 'Чарская_ЗапискиИнститутки.txt', 'Чарская_Приютки.txt', 'Шмелев_ЛетоГосподне.txt', 'Шмелев_СолнцеМертвых.txt', 'Шолохов_ПоднятаяЦелина.txt', 'Шолохов_СудьбаЧеловека.txt', 'Шолохов_ТихийДон.txt', 'Шукшин_КалинаКрасная.txt', 'Шукшин_ОхотаЖить.txt', 'Шукшин_ПечкиЛавочки.txt', 'Эренбург_Необычайные похождения Хулио Хуренито.txt', 'Эренбург_Оттепель.txt']\n"
     ]
    }
   ],
   "source": [
    "for root, dirs, files in os.walk(start_path):\n",
    "    print('Где мы сейчас:', root)\n",
    "    print('Папки на этом уровне:', dirs)\n",
    "    print('Файлы на этом уровне:', files)"
   ]
  },
  {
   "cell_type": "markdown",
   "metadata": {},
   "source": [
    "Задание: вы хотите поочередно открыть все файлы в этой папке, какую команду вы будете использовать?"
   ]
  },
  {
   "cell_type": "code",
   "execution_count": 44,
   "metadata": {},
   "outputs": [
    {
     "name": "stdout",
     "output_type": "stream",
     "text": [
      "./speech\\19_century_russian_prose\\lemm\\all\\Ahsharumov_1872.txt\n",
      "./speech\\19_century_russian_prose\\lemm\\all\\Aksakov_1856.txt\n",
      "./speech\\19_century_russian_prose\\lemm\\all\\Aksakov_1858.txt\n",
      "./speech\\19_century_russian_prose\\lemm\\all\\Annenskaya_1872.txt\n",
      "./speech\\19_century_russian_prose\\lemm\\all\\Annenskaya_1880.txt\n",
      "./speech\\19_century_russian_prose\\lemm\\all\\Annenskaya_1881.txt\n",
      "./speech\\19_century_russian_prose\\lemm\\all\\Apuhtin_1895a.txt\n",
      "./speech\\19_century_russian_prose\\lemm\\all\\Apuhtin_1895b.txt\n",
      "./speech\\19_century_russian_prose\\lemm\\all\\Apuhtin_1896.txt\n",
      "./speech\\19_century_russian_prose\\lemm\\all\\Avdeev_1849.txt\n",
      "./speech\\19_century_russian_prose\\lemm\\all\\Avdeev_1850.txt\n",
      "./speech\\19_century_russian_prose\\lemm\\all\\Avdeev_1951.txt\n",
      "./speech\\19_century_russian_prose\\lemm\\all\\Avenarius_1865.txt\n",
      "./speech\\19_century_russian_prose\\lemm\\all\\Avenarius_1867.txt\n",
      "./speech\\19_century_russian_prose\\lemm\\all\\Bestuzhev-Marlinskiy_1830a.txt\n",
      "./speech\\19_century_russian_prose\\lemm\\all\\Bestuzhev-Marlinskiy_1830b.txt\n",
      "./speech\\19_century_russian_prose\\lemm\\all\\Bestuzhev-Marlinskiy_1831.txt\n",
      "./speech\\19_century_russian_prose\\lemm\\all\\Bestuzhev-Marlinskiy_1832.txt\n",
      "./speech\\19_century_russian_prose\\lemm\\all\\Bestuzhev-Marlinskiy_1833.txt\n",
      "./speech\\19_century_russian_prose\\lemm\\all\\Bestuzhev-Marlinskiy_1836.txt\n",
      "./speech\\19_century_russian_prose\\lemm\\all\\Bestuzhev_1860.txt\n",
      "./speech\\19_century_russian_prose\\lemm\\all\\Boborykin_1868.txt\n",
      "./speech\\19_century_russian_prose\\lemm\\all\\Boborykin_1875.txt\n",
      "./speech\\19_century_russian_prose\\lemm\\all\\Boborykin_1882.txt\n",
      "./speech\\19_century_russian_prose\\lemm\\all\\Boborykin_1890.txt\n",
      "./speech\\19_century_russian_prose\\lemm\\all\\Boborykin_1892.txt\n",
      "./speech\\19_century_russian_prose\\lemm\\all\\Bulgarin_1830.txt\n",
      "./speech\\19_century_russian_prose\\lemm\\all\\Bulgarin_1833-1834.txt\n",
      "./speech\\19_century_russian_prose\\lemm\\all\\Butkov_1848.txt\n",
      "./speech\\19_century_russian_prose\\lemm\\all\\Chekhov_1888.txt\n",
      "./speech\\19_century_russian_prose\\lemm\\all\\Chekhov_1891.txt\n",
      "./speech\\19_century_russian_prose\\lemm\\all\\Chekhov_1892.txt\n",
      "./speech\\19_century_russian_prose\\lemm\\all\\Chekhov_1893.txt\n",
      "./speech\\19_century_russian_prose\\lemm\\all\\Chekhov_1895.txt\n",
      "./speech\\19_century_russian_prose\\lemm\\all\\Chekhov_1896.txt\n",
      "./speech\\19_century_russian_prose\\lemm\\all\\Chekhov_1900.txt\n",
      "./speech\\19_century_russian_prose\\lemm\\all\\Chernyshevskiy_1863.txt\n",
      "./speech\\19_century_russian_prose\\lemm\\all\\Dal_1839.txt\n",
      "./speech\\19_century_russian_prose\\lemm\\all\\Dal_1843.txt\n",
      "./speech\\19_century_russian_prose\\lemm\\all\\Dal_1844.txt\n",
      "./speech\\19_century_russian_prose\\lemm\\all\\Dal_1847.txt\n",
      "./speech\\19_century_russian_prose\\lemm\\all\\Danilevsky_1862.txt\n",
      "./speech\\19_century_russian_prose\\lemm\\all\\Danilevsky_1863.txt\n",
      "./speech\\19_century_russian_prose\\lemm\\all\\Danilevsky_1875.txt\n",
      "./speech\\19_century_russian_prose\\lemm\\all\\Danilevsky_1878.txt\n",
      "./speech\\19_century_russian_prose\\lemm\\all\\Danilevsky_1883.txt\n",
      "./speech\\19_century_russian_prose\\lemm\\all\\Danilevsky_1886.txt\n",
      "./speech\\19_century_russian_prose\\lemm\\all\\Dmitriev_1896.txt\n",
      "./speech\\19_century_russian_prose\\lemm\\all\\Dostoevsky_1845.txt\n",
      "./speech\\19_century_russian_prose\\lemm\\all\\Dostoevsky_1846.txt\n",
      "./speech\\19_century_russian_prose\\lemm\\all\\Dostoevsky_1847.txt\n",
      "./speech\\19_century_russian_prose\\lemm\\all\\Dostoevsky_1848.txt\n",
      "./speech\\19_century_russian_prose\\lemm\\all\\Dostoevsky_1849.txt\n",
      "./speech\\19_century_russian_prose\\lemm\\all\\Dostoevsky_1859a.txt\n",
      "./speech\\19_century_russian_prose\\lemm\\all\\Dostoevsky_1859b.txt\n",
      "./speech\\19_century_russian_prose\\lemm\\all\\Dostoevsky_1861.txt\n",
      "./speech\\19_century_russian_prose\\lemm\\all\\Dostoevsky_1866a.txt\n",
      "./speech\\19_century_russian_prose\\lemm\\all\\Dostoevsky_1866b.txt\n",
      "./speech\\19_century_russian_prose\\lemm\\all\\Dostoevsky_1868.txt\n",
      "./speech\\19_century_russian_prose\\lemm\\all\\Dostoevsky_1871-1872.txt\n",
      "./speech\\19_century_russian_prose\\lemm\\all\\Dostoevsky_1875.txt\n",
      "./speech\\19_century_russian_prose\\lemm\\all\\Dostoevsky_1879-1880.txt\n",
      "./speech\\19_century_russian_prose\\lemm\\all\\Driyanskiy_1851-1859.txt\n",
      "./speech\\19_century_russian_prose\\lemm\\all\\Druzhynin_1847.txt\n",
      "./speech\\19_century_russian_prose\\lemm\\all\\Druzhynin_1848.txt\n",
      "./speech\\19_century_russian_prose\\lemm\\all\\Durova_1839a.txt\n",
      "./speech\\19_century_russian_prose\\lemm\\all\\Durova_1839b.txt\n",
      "./speech\\19_century_russian_prose\\lemm\\all\\Durova_1839c.txt\n",
      "./speech\\19_century_russian_prose\\lemm\\all\\Durova_1840.txt\n",
      "./speech\\19_century_russian_prose\\lemm\\all\\Ertel_1883.txt\n",
      "./speech\\19_century_russian_prose\\lemm\\all\\Ertel_1887.txt\n",
      "./speech\\19_century_russian_prose\\lemm\\all\\Ertel_1889.txt\n",
      "./speech\\19_century_russian_prose\\lemm\\all\\Ertel_1895.txt\n",
      "./speech\\19_century_russian_prose\\lemm\\all\\Filippov_1889.txt\n",
      "./speech\\19_century_russian_prose\\lemm\\all\\Furman_1847.txt\n",
      "./speech\\19_century_russian_prose\\lemm\\all\\Gan_1837.txt\n",
      "./speech\\19_century_russian_prose\\lemm\\all\\Gan_1840.txt\n",
      "./speech\\19_century_russian_prose\\lemm\\all\\Garin-Mikhailovskiy_1892.txt\n",
      "./speech\\19_century_russian_prose\\lemm\\all\\Garin-Mikhailovskiy_1893.txt\n",
      "./speech\\19_century_russian_prose\\lemm\\all\\Garin-Mikhailovskiy_1895.txt\n",
      "./speech\\19_century_russian_prose\\lemm\\all\\Garin-Mikhailovskiy_1900.txt\n",
      "./speech\\19_century_russian_prose\\lemm\\all\\Garshin_1885.txt\n",
      "./speech\\19_century_russian_prose\\lemm\\all\\Geintse_1885-1886.txt\n",
      "./speech\\19_century_russian_prose\\lemm\\all\\Geintse_1893.txt\n",
      "./speech\\19_century_russian_prose\\lemm\\all\\Geintse_1894.txt\n",
      "./speech\\19_century_russian_prose\\lemm\\all\\Geintse_1895a.txt\n",
      "./speech\\19_century_russian_prose\\lemm\\all\\Geintse_1895b.txt\n",
      "./speech\\19_century_russian_prose\\lemm\\all\\Geintse_1895c.txt\n",
      "./speech\\19_century_russian_prose\\lemm\\all\\Geintse_1895d.txt\n",
      "./speech\\19_century_russian_prose\\lemm\\all\\Geintse_1897a.txt\n",
      "./speech\\19_century_russian_prose\\lemm\\all\\Geintse_1897b.txt\n",
      "./speech\\19_century_russian_prose\\lemm\\all\\Geintse_1898.txt\n",
      "./speech\\19_century_russian_prose\\lemm\\all\\Gertsen_1847.txt\n",
      "./speech\\19_century_russian_prose\\lemm\\all\\Gogol_1834.txt\n",
      "./speech\\19_century_russian_prose\\lemm\\all\\Gogol_1835.txt\n",
      "./speech\\19_century_russian_prose\\lemm\\all\\Gogol_1842a.txt\n",
      "./speech\\19_century_russian_prose\\lemm\\all\\Gogol_1842b.txt\n",
      "./speech\\19_century_russian_prose\\lemm\\all\\Goncharov_1848.txt\n",
      "./speech\\19_century_russian_prose\\lemm\\all\\Goncharov_1859.txt\n",
      "./speech\\19_century_russian_prose\\lemm\\all\\Goncharov_1869.txt\n",
      "./speech\\19_century_russian_prose\\lemm\\all\\Gorky_1897.txt\n",
      "./speech\\19_century_russian_prose\\lemm\\all\\Gorky_1899.txt\n",
      "./speech\\19_century_russian_prose\\lemm\\all\\Grebenka_1843.txt\n",
      "./speech\\19_century_russian_prose\\lemm\\all\\Grech_1834.txt\n",
      "./speech\\19_century_russian_prose\\lemm\\all\\Grigorovich_1846.txt\n",
      "./speech\\19_century_russian_prose\\lemm\\all\\Grigorovich_1847.txt\n",
      "./speech\\19_century_russian_prose\\lemm\\all\\Grigorovich_1850.txt\n",
      "./speech\\19_century_russian_prose\\lemm\\all\\Grigorovich_1853.txt\n",
      "./speech\\19_century_russian_prose\\lemm\\all\\Grigorovich_1855-1856.txt\n",
      "./speech\\19_century_russian_prose\\lemm\\all\\Grigorovich_1855.txt\n",
      "./speech\\19_century_russian_prose\\lemm\\all\\Grigorovich_1857.txt\n",
      "./speech\\19_century_russian_prose\\lemm\\all\\Grigorovich_1860.txt\n",
      "./speech\\19_century_russian_prose\\lemm\\all\\Karnovich_1879a.txt\n",
      "./speech\\19_century_russian_prose\\lemm\\all\\Karnovich_1879b.txt\n",
      "./speech\\19_century_russian_prose\\lemm\\all\\Karnovich_1883.txt\n",
      "./speech\\19_century_russian_prose\\lemm\\all\\Khvoshchinskaya_1858.txt\n",
      "./speech\\19_century_russian_prose\\lemm\\all\\Khvoshchinskaya_1861.txt\n",
      "./speech\\19_century_russian_prose\\lemm\\all\\Khvoshchinskaya_1869.txt\n",
      "./speech\\19_century_russian_prose\\lemm\\all\\Kohanovskaya_1859.txt\n",
      "./speech\\19_century_russian_prose\\lemm\\all\\Kokorev_1847.txt\n",
      "./speech\\19_century_russian_prose\\lemm\\all\\Kokorev_1852.txt\n",
      "./speech\\19_century_russian_prose\\lemm\\all\\Konshin_1834.txt\n",
      "./speech\\19_century_russian_prose\\lemm\\all\\Kornilovich_1832.txt\n",
      "./speech\\19_century_russian_prose\\lemm\\all\\Korolenko_1885.txt\n",
      "./speech\\19_century_russian_prose\\lemm\\all\\Korolenko_1886.txt\n",
      "./speech\\19_century_russian_prose\\lemm\\all\\Korolenko_1891.txt\n",
      "./speech\\19_century_russian_prose\\lemm\\all\\Korolenko_1895.txt\n",
      "./speech\\19_century_russian_prose\\lemm\\all\\Korolenko_1899.txt\n",
      "./speech\\19_century_russian_prose\\lemm\\all\\Krasnitskiy_1898.txt\n",
      "./speech\\19_century_russian_prose\\lemm\\all\\Krestovskaya_1886.txt\n",
      "./speech\\19_century_russian_prose\\lemm\\all\\Krestovskaya_1900.txt\n",
      "./speech\\19_century_russian_prose\\lemm\\all\\Kriukov_1898.txt\n",
      "./speech\\19_century_russian_prose\\lemm\\all\\Kryzhanovskaya_1894a.txt\n",
      "./speech\\19_century_russian_prose\\lemm\\all\\Kryzhanovskaya_1894b.txt\n",
      "./speech\\19_century_russian_prose\\lemm\\all\\Kugushev_1856.txt\n",
      "./speech\\19_century_russian_prose\\lemm\\all\\Kulchitskiy_1845.txt\n",
      "./speech\\19_century_russian_prose\\lemm\\all\\Kuprin_1893.txt\n",
      "./speech\\19_century_russian_prose\\lemm\\all\\Kuprin_1896.txt\n",
      "./speech\\19_century_russian_prose\\lemm\\all\\Kuprin_1898.txt\n",
      "./speech\\19_century_russian_prose\\lemm\\all\\Kuprin_1900.txt\n",
      "./speech\\19_century_russian_prose\\lemm\\all\\Kushchevskiy_1871.txt\n",
      "./speech\\19_century_russian_prose\\lemm\\all\\Lazhechnikov_1831-1833.txt\n",
      "./speech\\19_century_russian_prose\\lemm\\all\\Lazhechnikov_1835.txt\n",
      "./speech\\19_century_russian_prose\\lemm\\all\\Lazhechnikov_1838.txt\n",
      "./speech\\19_century_russian_prose\\lemm\\all\\Lazhechnikov_1856.txt\n",
      "./speech\\19_century_russian_prose\\lemm\\all\\Lazhechnikov_1868.txt\n",
      "./speech\\19_century_russian_prose\\lemm\\all\\Leontyev_1855.txt\n",
      "./speech\\19_century_russian_prose\\lemm\\all\\Leontyev_1864.txt\n",
      "./speech\\19_century_russian_prose\\lemm\\all\\Leontyev_1867.txt\n",
      "./speech\\19_century_russian_prose\\lemm\\all\\Leontyev_1868.txt\n",
      "./speech\\19_century_russian_prose\\lemm\\all\\Leontyev_1869.txt\n",
      "./speech\\19_century_russian_prose\\lemm\\all\\Leontyev_1871.txt\n",
      "./speech\\19_century_russian_prose\\lemm\\all\\Leontyev_1876.txt\n",
      "./speech\\19_century_russian_prose\\lemm\\all\\Leontyev_1877.txt\n",
      "./speech\\19_century_russian_prose\\lemm\\all\\Leontyev_1881.txt\n",
      "./speech\\19_century_russian_prose\\lemm\\all\\Lermontov_1836.txt\n",
      "./speech\\19_century_russian_prose\\lemm\\all\\Lermontov_1840.txt\n",
      "./speech\\19_century_russian_prose\\lemm\\all\\Leskov_1863.txt\n",
      "./speech\\19_century_russian_prose\\lemm\\all\\Leskov_1864.txt\n",
      "./speech\\19_century_russian_prose\\lemm\\all\\Leskov_1865a.txt\n",
      "./speech\\19_century_russian_prose\\lemm\\all\\Leskov_1865b.txt\n",
      "./speech\\19_century_russian_prose\\lemm\\all\\Leskov_1866a.txt\n",
      "./speech\\19_century_russian_prose\\lemm\\all\\Leskov_1866b.txt\n",
      "./speech\\19_century_russian_prose\\lemm\\all\\Leskov_1869.txt\n",
      "./speech\\19_century_russian_prose\\lemm\\all\\Leskov_1870-1871.txt\n",
      "./speech\\19_century_russian_prose\\lemm\\all\\Leskov_1870.txt\n",
      "./speech\\19_century_russian_prose\\lemm\\all\\Leskov_1871.txt\n",
      "./speech\\19_century_russian_prose\\lemm\\all\\Leskov_1872.txt\n",
      "./speech\\19_century_russian_prose\\lemm\\all\\Leskov_1873a.txt\n",
      "./speech\\19_century_russian_prose\\lemm\\all\\Leskov_1873b.txt\n",
      "./speech\\19_century_russian_prose\\lemm\\all\\Leskov_1874a.txt\n",
      "./speech\\19_century_russian_prose\\lemm\\all\\Leskov_1874b.txt\n",
      "./speech\\19_century_russian_prose\\lemm\\all\\Leskov_1875-1876.txt\n",
      "./speech\\19_century_russian_prose\\lemm\\all\\Leskov_1876.txt\n",
      "./speech\\19_century_russian_prose\\lemm\\all\\Leskov_1883.txt\n",
      "./speech\\19_century_russian_prose\\lemm\\all\\Leskov_1890.txt\n",
      "./speech\\19_century_russian_prose\\lemm\\all\\Leskov_1891.txt\n",
      "./speech\\19_century_russian_prose\\lemm\\all\\Leskov_1894.txt\n",
      "./speech\\19_century_russian_prose\\lemm\\all\\Levitov_1861.txt\n",
      "./speech\\19_century_russian_prose\\lemm\\all\\Lukhmanova_1896.txt\n",
      "./speech\\19_century_russian_prose\\lemm\\all\\Machtet_1891.txt\n",
      "./speech\\19_century_russian_prose\\lemm\\all\\Maklakova_1875.txt\n",
      "./speech\\19_century_russian_prose\\lemm\\all\\Maksimov_1871.txt\n",
      "./speech\\19_century_russian_prose\\lemm\\all\\Mamin-Sibiriak_1876.txt\n",
      "./speech\\19_century_russian_prose\\lemm\\all\\Mamin-Sibiriak_1882.txt\n",
      "./speech\\19_century_russian_prose\\lemm\\all\\Mamin-Sibiriak_1883a.txt\n",
      "./speech\\19_century_russian_prose\\lemm\\all\\Mamin-Sibiriak_1883b.txt\n",
      "./speech\\19_century_russian_prose\\lemm\\all\\Mamin-Sibiriak_1883c.txt\n",
      "./speech\\19_century_russian_prose\\lemm\\all\\Mamin-Sibiriak_1884.txt\n",
      "./speech\\19_century_russian_prose\\lemm\\all\\Mamin-Sibiriak_1888.txt\n",
      "./speech\\19_century_russian_prose\\lemm\\all\\Mamin-Sibiriak_1890.txt\n",
      "./speech\\19_century_russian_prose\\lemm\\all\\Mamin-Sibiriak_1891a.txt\n",
      "./speech\\19_century_russian_prose\\lemm\\all\\Mamin-Sibiriak_1891b.txt\n",
      "./speech\\19_century_russian_prose\\lemm\\all\\Mamin-Sibiriak_1892a.txt\n",
      "./speech\\19_century_russian_prose\\lemm\\all\\Mamin-Sibiriak_1892b.txt\n",
      "./speech\\19_century_russian_prose\\lemm\\all\\Mamin-Sibiriak_1893.txt\n",
      "./speech\\19_century_russian_prose\\lemm\\all\\Mamin-Sibiriak_1894.txt\n",
      "./speech\\19_century_russian_prose\\lemm\\all\\Mamin-Sibiriak_1895.txt\n",
      "./speech\\19_century_russian_prose\\lemm\\all\\Masalskiy_1832.txt\n",
      "./speech\\19_century_russian_prose\\lemm\\all\\Masalskiy_1833.txt\n",
      "./speech\\19_century_russian_prose\\lemm\\all\\Masalskiy_1834.txt\n",
      "./speech\\19_century_russian_prose\\lemm\\all\\Masalskiy_1841.txt\n",
      "./speech\\19_century_russian_prose\\lemm\\all\\Melnikov_1857.txt\n",
      "./speech\\19_century_russian_prose\\lemm\\all\\Melnikov_1871-1875.txt\n",
      "./speech\\19_century_russian_prose\\lemm\\all\\Melnikov_1875-1881.txt\n",
      "./speech\\19_century_russian_prose\\lemm\\all\\Merder_1891.txt\n",
      "./speech\\19_century_russian_prose\\lemm\\all\\Merder_1896.txt\n",
      "./speech\\19_century_russian_prose\\lemm\\all\\Mikhailov_1851.txt\n",
      "./speech\\19_century_russian_prose\\lemm\\all\\Mordovtsev_1878a.txt\n",
      "./speech\\19_century_russian_prose\\lemm\\all\\Mordovtsev_1878b.txt\n",
      "./speech\\19_century_russian_prose\\lemm\\all\\Mordovtsev_1879a.txt\n",
      "./speech\\19_century_russian_prose\\lemm\\all\\Mordovtsev_1879b.txt\n",
      "./speech\\19_century_russian_prose\\lemm\\all\\Mordovtsev_1880.txt\n",
      "./speech\\19_century_russian_prose\\lemm\\all\\Mordovtsev_1881.txt\n",
      "./speech\\19_century_russian_prose\\lemm\\all\\Mordovtsev_1882.txt\n",
      "./speech\\19_century_russian_prose\\lemm\\all\\Mordovtsev_1884.txt\n",
      "./speech\\19_century_russian_prose\\lemm\\all\\Mordovtsev_1891a.txt\n",
      "./speech\\19_century_russian_prose\\lemm\\all\\Mordovtsev_1891b.txt\n",
      "./speech\\19_century_russian_prose\\lemm\\all\\Mordovtsev_1891c.txt\n",
      "./speech\\19_century_russian_prose\\lemm\\all\\Mordovtsev_1897.txt\n",
      "./speech\\19_century_russian_prose\\lemm\\all\\Mordovtsev_1899.txt\n",
      "./speech\\19_century_russian_prose\\lemm\\all\\Narezhnyi_1824a.txt\n",
      "./speech\\19_century_russian_prose\\lemm\\all\\Narezhnyi_1824b.txt\n",
      "./speech\\19_century_russian_prose\\lemm\\all\\Narezhnyi_1825.txt\n",
      "./speech\\19_century_russian_prose\\lemm\\all\\Naumov_1872.txt\n",
      "./speech\\19_century_russian_prose\\lemm\\all\\Naumov_1881.txt\n",
      "./speech\\19_century_russian_prose\\lemm\\all\\Nekrasov_et_al_1848-1849.txt\n",
      "./speech\\19_century_russian_prose\\lemm\\all\\Nekrasov_et_al_1851.txt\n",
      "./speech\\19_century_russian_prose\\lemm\\all\\Nemirovich-Danchenko_1892.txt\n",
      "./speech\\19_century_russian_prose\\lemm\\all\\Odoevskyi_1841.txt\n",
      "./speech\\19_century_russian_prose\\lemm\\all\\Omulevskyi_1870.txt\n",
      "./speech\\19_century_russian_prose\\lemm\\all\\Omulevskyi_1873.txt\n",
      "./speech\\19_century_russian_prose\\lemm\\all\\Panaeva_1848.txt\n",
      "./speech\\19_century_russian_prose\\lemm\\all\\Panaeva_1855.txt\n",
      "./speech\\19_century_russian_prose\\lemm\\all\\Panaev_1839.txt\n",
      "./speech\\19_century_russian_prose\\lemm\\all\\Panaev_1840a.txt\n",
      "./speech\\19_century_russian_prose\\lemm\\all\\Panaev_1840b.txt\n",
      "./speech\\19_century_russian_prose\\lemm\\all\\Panaev_1841.txt\n",
      "./speech\\19_century_russian_prose\\lemm\\all\\Panaev_1842.txt\n",
      "./speech\\19_century_russian_prose\\lemm\\all\\Panaev_1847.txt\n",
      "./speech\\19_century_russian_prose\\lemm\\all\\Pavlov_1835.txt\n",
      "./speech\\19_century_russian_prose\\lemm\\all\\Pavlov_1839.txt\n",
      "./speech\\19_century_russian_prose\\lemm\\all\\Pisemskiy_1850.txt\n",
      "./speech\\19_century_russian_prose\\lemm\\all\\Pisemskiy_1851a.txt\n",
      "./speech\\19_century_russian_prose\\lemm\\all\\Pisemskiy_1851b.txt\n",
      "./speech\\19_century_russian_prose\\lemm\\all\\Pisemskiy_1854.txt\n",
      "./speech\\19_century_russian_prose\\lemm\\all\\Pisemskiy_1855.txt\n",
      "./speech\\19_century_russian_prose\\lemm\\all\\Pisemskiy_1858a.txt\n",
      "./speech\\19_century_russian_prose\\lemm\\all\\Pisemskiy_1858b.txt\n",
      "./speech\\19_century_russian_prose\\lemm\\all\\Pisemskiy_1861.txt\n",
      "./speech\\19_century_russian_prose\\lemm\\all\\Pisemskiy_1863.txt\n",
      "./speech\\19_century_russian_prose\\lemm\\all\\Pisemskiy_1869.txt\n",
      "./speech\\19_century_russian_prose\\lemm\\all\\Pisemskiy_1871.txt\n",
      "./speech\\19_century_russian_prose\\lemm\\all\\Pisemskiy_1877.txt\n",
      "./speech\\19_century_russian_prose\\lemm\\all\\Pisemskiy_1880.txt\n",
      "./speech\\19_century_russian_prose\\lemm\\all\\Pleshcheev_1849.txt\n",
      "./speech\\19_century_russian_prose\\lemm\\all\\Pleshcheev_1857.txt\n",
      "./speech\\19_century_russian_prose\\lemm\\all\\Pleshcheev_1859.txt\n",
      "./speech\\19_century_russian_prose\\lemm\\all\\Pogodin_1827-1828.txt\n",
      "./speech\\19_century_russian_prose\\lemm\\all\\Pogorelskiy_1828.txt\n",
      "./speech\\19_century_russian_prose\\lemm\\all\\Pogorelskiy_1833.txt\n",
      "./speech\\19_century_russian_prose\\lemm\\all\\PolevoyPN_1899.txt\n",
      "./speech\\19_century_russian_prose\\lemm\\all\\Polevoy_1828.txt\n",
      "./speech\\19_century_russian_prose\\lemm\\all\\Polevoy_1832.txt\n",
      "./speech\\19_century_russian_prose\\lemm\\all\\Polevoy_1833a.txt\n",
      "./speech\\19_century_russian_prose\\lemm\\all\\Polevoy_1833b.txt\n",
      "./speech\\19_century_russian_prose\\lemm\\all\\Polevoy_1834a.txt\n",
      "./speech\\19_century_russian_prose\\lemm\\all\\Polevoy_1834b.txt\n",
      "./speech\\19_century_russian_prose\\lemm\\all\\Polevoy_1838-1839.txt\n",
      "./speech\\19_century_russian_prose\\lemm\\all\\Pomialovskiy_1861a.txt\n",
      "./speech\\19_century_russian_prose\\lemm\\all\\Pomialovskiy_1861b.txt\n",
      "./speech\\19_century_russian_prose\\lemm\\all\\Pomialovskiy_1865.txt\n",
      "./speech\\19_century_russian_prose\\lemm\\all\\Potapenko_1890.txt\n",
      "./speech\\19_century_russian_prose\\lemm\\all\\Potapenko_1891.txt\n",
      "./speech\\19_century_russian_prose\\lemm\\all\\Potapenko_1896.txt\n",
      "./speech\\19_century_russian_prose\\lemm\\all\\Pozniakov_1892.txt\n",
      "./speech\\19_century_russian_prose\\lemm\\all\\Pushkin_1832-1833.txt\n",
      "./speech\\19_century_russian_prose\\lemm\\all\\Pushkin_1836.txt\n",
      "./speech\\19_century_russian_prose\\lemm\\all\\Reshetnikov_1864a.txt\n",
      "./speech\\19_century_russian_prose\\lemm\\all\\Reshetnikov_1864b.txt\n",
      "./speech\\19_century_russian_prose\\lemm\\all\\Reshetnikov_1865.txt\n",
      "./speech\\19_century_russian_prose\\lemm\\all\\Reshetnikov_1866.txt\n",
      "./speech\\19_century_russian_prose\\lemm\\all\\Reshetnikov_1868.txt\n",
      "./speech\\19_century_russian_prose\\lemm\\all\\romany_lemm.Rproj\n",
      "./speech\\19_century_russian_prose\\lemm\\all\\Rostopchina_1838.txt\n",
      "./speech\\19_century_russian_prose\\lemm\\all\\Rostopchina_1851-1852.txt\n",
      "./speech\\19_century_russian_prose\\lemm\\all\\Rostopchina_1854.txt\n",
      "./speech\\19_century_russian_prose\\lemm\\all\\Salias_1885a.txt\n",
      "./speech\\19_century_russian_prose\\lemm\\all\\Salias_1885b.txt\n",
      "./speech\\19_century_russian_prose\\lemm\\all\\Salias_1886.txt\n",
      "./speech\\19_century_russian_prose\\lemm\\all\\Salias_1888.txt\n",
      "./speech\\19_century_russian_prose\\lemm\\all\\Salias_1889.txt\n",
      "./speech\\19_century_russian_prose\\lemm\\all\\Salias_1893.txt\n",
      "./speech\\19_century_russian_prose\\lemm\\all\\Salov_1879_ST.txt\n",
      "./speech\\19_century_russian_prose\\lemm\\all\\Salov_1881.txt\n",
      "./speech\\19_century_russian_prose\\lemm\\all\\Saltykov-Shchedrin_1863.txt\n",
      "./speech\\19_century_russian_prose\\lemm\\all\\Saltykov-Shchedrin_1869-1870.txt\n",
      "./speech\\19_century_russian_prose\\lemm\\all\\Saltykov-Shchedrin_1872-1876.txt\n",
      "./speech\\19_century_russian_prose\\lemm\\all\\Saltykov-Shchedrin_1872.txt\n",
      "./speech\\19_century_russian_prose\\lemm\\all\\Saltykov-Shchedrin_1877-1883.txt\n",
      "./speech\\19_century_russian_prose\\lemm\\all\\Saltykov-Shchedrin_1878-1879.txt\n",
      "./speech\\19_century_russian_prose\\lemm\\all\\Saltykov-Shchedrin_1880.txt\n",
      "./speech\\19_century_russian_prose\\lemm\\all\\Saltykov-Shchedrin_1887-1889.txt\n",
      "./speech\\19_century_russian_prose\\lemm\\all\\Senkovskiy_1833.txt\n",
      "./speech\\19_century_russian_prose\\lemm\\all\\Senkovskiy_1834.txt\n",
      "./speech\\19_century_russian_prose\\lemm\\all\\Shalikova_1856.txt\n",
      "./speech\\19_century_russian_prose\\lemm\\all\\Shapir_1898.txt\n",
      "./speech\\19_century_russian_prose\\lemm\\all\\Sheller-Mikhailov_1868.txt\n",
      "./speech\\19_century_russian_prose\\lemm\\all\\Sheller-Mikhailov_1871.txt\n",
      "./speech\\19_century_russian_prose\\lemm\\all\\Sheller-Mikhailov_1883.txt\n",
      "./speech\\19_century_russian_prose\\lemm\\all\\Shkliarevskiy_1872.txt\n",
      "./speech\\19_century_russian_prose\\lemm\\all\\Shkliarevskiy_1873.txt\n",
      "./speech\\19_century_russian_prose\\lemm\\all\\Shkliarevskiy_1874.txt\n",
      "./speech\\19_century_russian_prose\\lemm\\all\\Slavutinskiy_1858.txt\n",
      "./speech\\19_century_russian_prose\\lemm\\all\\Slavutinskiy_1859a.txt\n",
      "./speech\\19_century_russian_prose\\lemm\\all\\Slavutinskiy_1859b.txt\n",
      "./speech\\19_century_russian_prose\\lemm\\all\\Sleptsov_1865.txt\n",
      "./speech\\19_century_russian_prose\\lemm\\all\\Sokolovskiy_1834.txt\n",
      "./speech\\19_century_russian_prose\\lemm\\all\\Sollogub_1840.txt\n",
      "./speech\\19_century_russian_prose\\lemm\\all\\Sollogub_1845.txt\n",
      "./speech\\19_century_russian_prose\\lemm\\all\\Sollogub_1850.txt\n",
      "./speech\\19_century_russian_prose\\lemm\\all\\SolovjovVs_1876.txt\n",
      "./speech\\19_century_russian_prose\\lemm\\all\\SolovjovVs_1877.txt\n",
      "./speech\\19_century_russian_prose\\lemm\\all\\SolovjovVs_1878a.txt\n",
      "./speech\\19_century_russian_prose\\lemm\\all\\SolovjovVs_1878b.txt\n",
      "./speech\\19_century_russian_prose\\lemm\\all\\SolovjovVs_1881.txt\n",
      "./speech\\19_century_russian_prose\\lemm\\all\\SolovjovVs_1882.txt\n",
      "./speech\\19_century_russian_prose\\lemm\\all\\SolovjovVs_1883.txt\n",
      "./speech\\19_century_russian_prose\\lemm\\all\\SolovjovVs_1884.txt\n",
      "./speech\\19_century_russian_prose\\lemm\\all\\SolovjovVs_1886.txt\n",
      "./speech\\19_century_russian_prose\\lemm\\all\\SolovjovVs_1888.txt\n",
      "./speech\\19_century_russian_prose\\lemm\\all\\SolovjovVs_1889.txt\n",
      "./speech\\19_century_russian_prose\\lemm\\all\\SolovjovVs_1890.txt\n",
      "./speech\\19_century_russian_prose\\lemm\\all\\Somov_1825.txt\n",
      "./speech\\19_century_russian_prose\\lemm\\all\\Staniukovich_1879a.txt\n",
      "./speech\\19_century_russian_prose\\lemm\\all\\Staniukovich_1879b.txt\n",
      "./speech\\19_century_russian_prose\\lemm\\all\\Staniukovich_1880.txt\n",
      "./speech\\19_century_russian_prose\\lemm\\all\\Staniukovich_1886.txt\n",
      "./speech\\19_century_russian_prose\\lemm\\all\\Staniukovich_1889.txt\n",
      "./speech\\19_century_russian_prose\\lemm\\all\\Staniukovich_1891.txt\n",
      "./speech\\19_century_russian_prose\\lemm\\all\\Staniukovich_1892.txt\n",
      "./speech\\19_century_russian_prose\\lemm\\all\\Staniukovich_1893.txt\n",
      "./speech\\19_century_russian_prose\\lemm\\all\\Staniukovich_1895a.txt\n",
      "./speech\\19_century_russian_prose\\lemm\\all\\Staniukovich_1895b.txt\n",
      "./speech\\19_century_russian_prose\\lemm\\all\\Staniukovich_1895c.txt\n",
      "./speech\\19_century_russian_prose\\lemm\\all\\Staniukovich_1897.txt\n",
      "./speech\\19_century_russian_prose\\lemm\\all\\Staniukovich_1899a.txt\n",
      "./speech\\19_century_russian_prose\\lemm\\all\\Staniukovich_1899b.txt\n",
      "./speech\\19_century_russian_prose\\lemm\\all\\Sukhonin_1886.txt\n",
      "./speech\\19_century_russian_prose\\lemm\\all\\Terpigorev_1888.txt\n",
      "./speech\\19_century_russian_prose\\lemm\\all\\Timofeev_1834.txt\n",
      "./speech\\19_century_russian_prose\\lemm\\all\\TolstoyA_1841.txt\n",
      "./speech\\19_century_russian_prose\\lemm\\all\\TolstoyA_1863.txt\n",
      "./speech\\19_century_russian_prose\\lemm\\all\\Tolstoy_1852.txt\n",
      "./speech\\19_century_russian_prose\\lemm\\all\\Tolstoy_1854.txt\n",
      "./speech\\19_century_russian_prose\\lemm\\all\\Tolstoy_1855.txt\n",
      "./speech\\19_century_russian_prose\\lemm\\all\\Tolstoy_1856.txt\n",
      "./speech\\19_century_russian_prose\\lemm\\all\\Tolstoy_1857.txt\n",
      "./speech\\19_century_russian_prose\\lemm\\all\\Tolstoy_1859.txt\n",
      "./speech\\19_century_russian_prose\\lemm\\all\\Tolstoy_1863a.txt\n",
      "./speech\\19_century_russian_prose\\lemm\\all\\Tolstoy_1863b.txt\n",
      "./speech\\19_century_russian_prose\\lemm\\all\\Tolstoy_1868-1869.txt\n",
      "./speech\\19_century_russian_prose\\lemm\\all\\Tolstoy_1877.txt\n",
      "./speech\\19_century_russian_prose\\lemm\\all\\Tolstoy_1886.txt\n",
      "./speech\\19_century_russian_prose\\lemm\\all\\Tolstoy_1891.txt\n",
      "./speech\\19_century_russian_prose\\lemm\\all\\Tolstoy_1899.txt\n",
      "./speech\\19_century_russian_prose\\lemm\\all\\Turgenev_1854a.txt\n",
      "./speech\\19_century_russian_prose\\lemm\\all\\Turgenev_1854b.txt\n",
      "./speech\\19_century_russian_prose\\lemm\\all\\Turgenev_1855.txt\n",
      "./speech\\19_century_russian_prose\\lemm\\all\\Turgenev_1856.txt\n",
      "./speech\\19_century_russian_prose\\lemm\\all\\Turgenev_1859.txt\n",
      "./speech\\19_century_russian_prose\\lemm\\all\\Turgenev_1860.txt\n",
      "./speech\\19_century_russian_prose\\lemm\\all\\Turgenev_1862.txt\n",
      "./speech\\19_century_russian_prose\\lemm\\all\\Turgenev_1867.txt\n",
      "./speech\\19_century_russian_prose\\lemm\\all\\Turgenev_1869.txt\n",
      "./speech\\19_century_russian_prose\\lemm\\all\\Turgenev_1870.txt\n",
      "./speech\\19_century_russian_prose\\lemm\\all\\Turgenev_1872.txt\n",
      "./speech\\19_century_russian_prose\\lemm\\all\\Turgenev_1877.txt\n",
      "./speech\\19_century_russian_prose\\lemm\\all\\Tur_1856.txt\n",
      "./speech\\19_century_russian_prose\\lemm\\all\\UspenskiyG_1866.txt\n",
      "./speech\\19_century_russian_prose\\lemm\\all\\Veltman_1831-1832.txt\n",
      "./speech\\19_century_russian_prose\\lemm\\all\\Veltman_1833.txt\n",
      "./speech\\19_century_russian_prose\\lemm\\all\\Veltman_1835.txt\n",
      "./speech\\19_century_russian_prose\\lemm\\all\\Veltman_1843.txt\n",
      "./speech\\19_century_russian_prose\\lemm\\all\\Veltman_1846-1847.txt\n",
      "./speech\\19_century_russian_prose\\lemm\\all\\Veresaev_1895.txt\n",
      "./speech\\19_century_russian_prose\\lemm\\all\\Veresaev_1898.txt\n",
      "./speech\\19_century_russian_prose\\lemm\\all\\Vereshchagin_1894.txt\n",
      "./speech\\19_century_russian_prose\\lemm\\all\\Volkonskiy_1895.txt\n",
      "./speech\\19_century_russian_prose\\lemm\\all\\Volkonskiy_1896.txt\n",
      "./speech\\19_century_russian_prose\\lemm\\all\\Vonlyarovskiy_1852a.txt\n",
      "./speech\\19_century_russian_prose\\lemm\\all\\Vonlyarovskiy_1852b.txt\n",
      "./speech\\19_century_russian_prose\\lemm\\all\\wordlist.txt\n",
      "./speech\\19_century_russian_prose\\lemm\\all\\Yakubovich_1895-1898.txt\n",
      "./speech\\19_century_russian_prose\\lemm\\all\\Yasinskiy_1882.txt\n",
      "./speech\\19_century_russian_prose\\lemm\\all\\Yasinskiy_1885.txt\n",
      "./speech\\19_century_russian_prose\\lemm\\all\\Yasinskiy_1886.txt\n",
      "./speech\\19_century_russian_prose\\lemm\\all\\Yermolova_1856.txt\n",
      "./speech\\19_century_russian_prose\\lemm\\all\\Zagoskin_1829.txt\n",
      "./speech\\19_century_russian_prose\\lemm\\all\\Zagoskin_1831.txt\n",
      "./speech\\19_century_russian_prose\\lemm\\all\\Zagoskin_1833.txt\n",
      "./speech\\19_century_russian_prose\\lemm\\all\\Zagoskin_1838.txt\n",
      "./speech\\19_century_russian_prose\\lemm\\all\\Zagoskin_1842-1850.txt\n",
      "./speech\\19_century_russian_prose\\lemm\\all\\Zagoskin_1846.txt\n",
      "./speech\\19_century_russian_prose\\lemm\\all\\Zagoskin_1848.txt\n",
      "./speech\\19_century_russian_prose\\lemm\\all\\Zasodimskiy_1870.txt\n",
      "./speech\\19_century_russian_prose\\lemm\\all\\Zhadovskaya_1857.txt\n",
      "./speech\\19_century_russian_prose\\lemm\\all\\Zhadovskaya_1861.txt\n",
      "./speech\\19_century_russian_prose\\lemm\\all\\Zhukova_1845.txt\n",
      "./speech\\19_century_russian_prose\\lemm\\all\\Zlatovratskiy_1877.txt\n",
      "./speech\\19_century_russian_prose\\lemm\\all\\Zotov_1834.txt\n",
      "./speech\\19_century_russian_prose\\lemm\\all\\Zotov_1850.txt\n",
      "./speech\\19_century_russian_prose\\source\\all\\Ahsharumov_1872.txt\n",
      "./speech\\19_century_russian_prose\\source\\all\\Aksakov_1856.txt\n",
      "./speech\\19_century_russian_prose\\source\\all\\Aksakov_1858.txt\n",
      "./speech\\19_century_russian_prose\\source\\all\\Alekseev_1899.txt\n",
      "./speech\\19_century_russian_prose\\source\\all\\Annenskaya_1872.txt\n",
      "./speech\\19_century_russian_prose\\source\\all\\Annenskaya_1880.txt\n",
      "./speech\\19_century_russian_prose\\source\\all\\Annenskaya_1881.txt\n",
      "./speech\\19_century_russian_prose\\source\\all\\Apuhtin_1895a.txt\n",
      "./speech\\19_century_russian_prose\\source\\all\\Apuhtin_1895b.txt\n",
      "./speech\\19_century_russian_prose\\source\\all\\Apuhtin_1896.txt\n",
      "./speech\\19_century_russian_prose\\source\\all\\Avdeev_1849.txt\n",
      "./speech\\19_century_russian_prose\\source\\all\\Avdeev_1850.txt\n",
      "./speech\\19_century_russian_prose\\source\\all\\Avdeev_1951.txt\n",
      "./speech\\19_century_russian_prose\\source\\all\\Avenarius_1865.txt\n",
      "./speech\\19_century_russian_prose\\source\\all\\Avenarius_1867.txt\n",
      "./speech\\19_century_russian_prose\\source\\all\\Bestuzhev-Marlinskiy_1830a.txt\n",
      "./speech\\19_century_russian_prose\\source\\all\\Bestuzhev-Marlinskiy_1830b.txt\n",
      "./speech\\19_century_russian_prose\\source\\all\\Bestuzhev-Marlinskiy_1831.txt\n",
      "./speech\\19_century_russian_prose\\source\\all\\Bestuzhev-Marlinskiy_1832.txt\n",
      "./speech\\19_century_russian_prose\\source\\all\\Bestuzhev-Marlinskiy_1833.txt\n",
      "./speech\\19_century_russian_prose\\source\\all\\Bestuzhev-Marlinskiy_1836.txt\n",
      "./speech\\19_century_russian_prose\\source\\all\\Bestuzhev_1860.txt\n",
      "./speech\\19_century_russian_prose\\source\\all\\Boborykin_1868.txt\n",
      "./speech\\19_century_russian_prose\\source\\all\\Boborykin_1875.txt\n",
      "./speech\\19_century_russian_prose\\source\\all\\Boborykin_1882.txt\n",
      "./speech\\19_century_russian_prose\\source\\all\\Boborykin_1890.txt\n",
      "./speech\\19_century_russian_prose\\source\\all\\Boborykin_1892.txt\n",
      "./speech\\19_century_russian_prose\\source\\all\\Bulgarin_1830.txt\n",
      "./speech\\19_century_russian_prose\\source\\all\\Bulgarin_1833-1834.txt\n",
      "./speech\\19_century_russian_prose\\source\\all\\Butkov_1848.txt\n",
      "./speech\\19_century_russian_prose\\source\\all\\Chekhov_1888.txt\n",
      "./speech\\19_century_russian_prose\\source\\all\\Chekhov_1891.txt\n",
      "./speech\\19_century_russian_prose\\source\\all\\Chekhov_1892.txt\n",
      "./speech\\19_century_russian_prose\\source\\all\\Chekhov_1893.txt\n",
      "./speech\\19_century_russian_prose\\source\\all\\Chekhov_1895.txt\n",
      "./speech\\19_century_russian_prose\\source\\all\\Chekhov_1896.txt\n",
      "./speech\\19_century_russian_prose\\source\\all\\Chekhov_1900.txt\n",
      "./speech\\19_century_russian_prose\\source\\all\\Chernyshevskiy_1863.txt\n",
      "./speech\\19_century_russian_prose\\source\\all\\Dal_1839.txt\n",
      "./speech\\19_century_russian_prose\\source\\all\\Dal_1843.txt\n",
      "./speech\\19_century_russian_prose\\source\\all\\Dal_1844.txt\n",
      "./speech\\19_century_russian_prose\\source\\all\\Dal_1847.txt\n",
      "./speech\\19_century_russian_prose\\source\\all\\Danilevsky_1862.txt\n",
      "./speech\\19_century_russian_prose\\source\\all\\Danilevsky_1863.txt\n",
      "./speech\\19_century_russian_prose\\source\\all\\Danilevsky_1875.txt\n",
      "./speech\\19_century_russian_prose\\source\\all\\Danilevsky_1878.txt\n",
      "./speech\\19_century_russian_prose\\source\\all\\Danilevsky_1883.txt\n",
      "./speech\\19_century_russian_prose\\source\\all\\Danilevsky_1886.txt\n",
      "./speech\\19_century_russian_prose\\source\\all\\Dmitriev_1896.txt\n",
      "./speech\\19_century_russian_prose\\source\\all\\Dostoevsky_1845.txt\n",
      "./speech\\19_century_russian_prose\\source\\all\\Dostoevsky_1846.txt\n",
      "./speech\\19_century_russian_prose\\source\\all\\Dostoevsky_1847.txt\n",
      "./speech\\19_century_russian_prose\\source\\all\\Dostoevsky_1848.txt\n",
      "./speech\\19_century_russian_prose\\source\\all\\Dostoevsky_1849.txt\n",
      "./speech\\19_century_russian_prose\\source\\all\\Dostoevsky_1859a.txt\n",
      "./speech\\19_century_russian_prose\\source\\all\\Dostoevsky_1859b.txt\n",
      "./speech\\19_century_russian_prose\\source\\all\\Dostoevsky_1861.txt\n",
      "./speech\\19_century_russian_prose\\source\\all\\Dostoevsky_1864.txt\n",
      "./speech\\19_century_russian_prose\\source\\all\\Dostoevsky_1866a.txt\n",
      "./speech\\19_century_russian_prose\\source\\all\\Dostoevsky_1866b.txt\n",
      "./speech\\19_century_russian_prose\\source\\all\\Dostoevsky_1868.txt\n",
      "./speech\\19_century_russian_prose\\source\\all\\Dostoevsky_1870.txt\n",
      "./speech\\19_century_russian_prose\\source\\all\\Dostoevsky_1871-1872.txt\n",
      "./speech\\19_century_russian_prose\\source\\all\\Dostoevsky_1875.txt\n",
      "./speech\\19_century_russian_prose\\source\\all\\Dostoevsky_1879-1880.txt\n",
      "./speech\\19_century_russian_prose\\source\\all\\Driyanskiy_1851-1859.txt\n",
      "./speech\\19_century_russian_prose\\source\\all\\Druzhynin_1847.txt\n",
      "./speech\\19_century_russian_prose\\source\\all\\Druzhynin_1848.txt\n",
      "./speech\\19_century_russian_prose\\source\\all\\Durova_1839a.txt\n",
      "./speech\\19_century_russian_prose\\source\\all\\Durova_1839b.txt\n",
      "./speech\\19_century_russian_prose\\source\\all\\Durova_1839c.txt\n",
      "./speech\\19_century_russian_prose\\source\\all\\Durova_1840.txt\n",
      "./speech\\19_century_russian_prose\\source\\all\\Ertel_1883.txt\n",
      "./speech\\19_century_russian_prose\\source\\all\\Ertel_1887.txt\n",
      "./speech\\19_century_russian_prose\\source\\all\\Ertel_1889.txt\n",
      "./speech\\19_century_russian_prose\\source\\all\\Ertel_1895.txt\n",
      "./speech\\19_century_russian_prose\\source\\all\\Filippov_1889.txt\n",
      "./speech\\19_century_russian_prose\\source\\all\\Furman_1847.txt\n",
      "./speech\\19_century_russian_prose\\source\\all\\Gan_1837.txt\n",
      "./speech\\19_century_russian_prose\\source\\all\\Gan_1840.txt\n",
      "./speech\\19_century_russian_prose\\source\\all\\Garin-Mikhailovskiy_1892.txt\n",
      "./speech\\19_century_russian_prose\\source\\all\\Garin-Mikhailovskiy_1893.txt\n",
      "./speech\\19_century_russian_prose\\source\\all\\Garin-Mikhailovskiy_1895.txt\n",
      "./speech\\19_century_russian_prose\\source\\all\\Garin-Mikhailovskiy_1900.txt\n",
      "./speech\\19_century_russian_prose\\source\\all\\Garshin_1885.txt\n",
      "./speech\\19_century_russian_prose\\source\\all\\Geintse_1885-1886.txt\n",
      "./speech\\19_century_russian_prose\\source\\all\\Geintse_1893.txt\n",
      "./speech\\19_century_russian_prose\\source\\all\\Geintse_1894.txt\n",
      "./speech\\19_century_russian_prose\\source\\all\\Geintse_1895a.txt\n",
      "./speech\\19_century_russian_prose\\source\\all\\Geintse_1895b.txt\n",
      "./speech\\19_century_russian_prose\\source\\all\\Geintse_1895c.txt\n",
      "./speech\\19_century_russian_prose\\source\\all\\Geintse_1895d.txt\n",
      "./speech\\19_century_russian_prose\\source\\all\\Geintse_1897a.txt\n",
      "./speech\\19_century_russian_prose\\source\\all\\Geintse_1897b.txt\n",
      "./speech\\19_century_russian_prose\\source\\all\\Geintse_1898.txt\n",
      "./speech\\19_century_russian_prose\\source\\all\\Gertsen_1847.txt\n",
      "./speech\\19_century_russian_prose\\source\\all\\Gogol_1834.txt\n",
      "./speech\\19_century_russian_prose\\source\\all\\Gogol_1835.txt\n",
      "./speech\\19_century_russian_prose\\source\\all\\Gogol_1842a.txt\n",
      "./speech\\19_century_russian_prose\\source\\all\\Gogol_1842b.txt\n",
      "./speech\\19_century_russian_prose\\source\\all\\Goncharov_1848.txt\n",
      "./speech\\19_century_russian_prose\\source\\all\\Goncharov_1859.txt\n",
      "./speech\\19_century_russian_prose\\source\\all\\Goncharov_1869.txt\n",
      "./speech\\19_century_russian_prose\\source\\all\\Gorky_1897.txt\n",
      "./speech\\19_century_russian_prose\\source\\all\\Gorky_1899.txt\n",
      "./speech\\19_century_russian_prose\\source\\all\\Grebenka_1843.txt\n",
      "./speech\\19_century_russian_prose\\source\\all\\Grech_1834.txt\n",
      "./speech\\19_century_russian_prose\\source\\all\\Grigorovich_1846.txt\n",
      "./speech\\19_century_russian_prose\\source\\all\\Grigorovich_1847.txt\n",
      "./speech\\19_century_russian_prose\\source\\all\\Grigorovich_1850.txt\n",
      "./speech\\19_century_russian_prose\\source\\all\\Grigorovich_1853.txt\n",
      "./speech\\19_century_russian_prose\\source\\all\\Grigorovich_1855-1856.txt\n",
      "./speech\\19_century_russian_prose\\source\\all\\Grigorovich_1855.txt\n",
      "./speech\\19_century_russian_prose\\source\\all\\Grigorovich_1857.txt\n",
      "./speech\\19_century_russian_prose\\source\\all\\Grigorovich_1860.txt\n",
      "./speech\\19_century_russian_prose\\source\\all\\Karnovich_1879a.txt\n",
      "./speech\\19_century_russian_prose\\source\\all\\Karnovich_1879b.txt\n",
      "./speech\\19_century_russian_prose\\source\\all\\Karnovich_1883.txt\n",
      "./speech\\19_century_russian_prose\\source\\all\\Khvoshchinskaya_1858.txt\n",
      "./speech\\19_century_russian_prose\\source\\all\\Khvoshchinskaya_1861.txt\n",
      "./speech\\19_century_russian_prose\\source\\all\\Khvoshchinskaya_1869.txt\n",
      "./speech\\19_century_russian_prose\\source\\all\\Kohanovskaya_1859.txt\n",
      "./speech\\19_century_russian_prose\\source\\all\\Kokorev_1847.txt\n",
      "./speech\\19_century_russian_prose\\source\\all\\Kokorev_1852.txt\n",
      "./speech\\19_century_russian_prose\\source\\all\\Konshin_1834.txt\n",
      "./speech\\19_century_russian_prose\\source\\all\\Kornilovich_1832.txt\n",
      "./speech\\19_century_russian_prose\\source\\all\\Korolenko_1885.txt\n",
      "./speech\\19_century_russian_prose\\source\\all\\Korolenko_1886.txt\n",
      "./speech\\19_century_russian_prose\\source\\all\\Korolenko_1891.txt\n",
      "./speech\\19_century_russian_prose\\source\\all\\Korolenko_1895.txt\n",
      "./speech\\19_century_russian_prose\\source\\all\\Korolenko_1899.txt\n",
      "./speech\\19_century_russian_prose\\source\\all\\Krasnitskiy_1898.txt\n",
      "./speech\\19_century_russian_prose\\source\\all\\Krestovskaya_1886.txt\n",
      "./speech\\19_century_russian_prose\\source\\all\\Krestovskaya_1900.txt\n",
      "./speech\\19_century_russian_prose\\source\\all\\Kriukov_1898.txt\n",
      "./speech\\19_century_russian_prose\\source\\all\\Kryzhanovskaya_1894a.txt\n",
      "./speech\\19_century_russian_prose\\source\\all\\Kryzhanovskaya_1894b.txt\n",
      "./speech\\19_century_russian_prose\\source\\all\\Kugushev_1856.txt\n",
      "./speech\\19_century_russian_prose\\source\\all\\Kulchitskiy_1845.txt\n",
      "./speech\\19_century_russian_prose\\source\\all\\Kuprin_1893.txt\n",
      "./speech\\19_century_russian_prose\\source\\all\\Kuprin_1896.txt\n",
      "./speech\\19_century_russian_prose\\source\\all\\Kuprin_1898.txt\n",
      "./speech\\19_century_russian_prose\\source\\all\\Kuprin_1900.txt\n",
      "./speech\\19_century_russian_prose\\source\\all\\Kushchevskiy_1871.txt\n",
      "./speech\\19_century_russian_prose\\source\\all\\Lazhechnikov_1831-1833.txt\n",
      "./speech\\19_century_russian_prose\\source\\all\\Lazhechnikov_1835.txt\n",
      "./speech\\19_century_russian_prose\\source\\all\\Lazhechnikov_1838.txt\n",
      "./speech\\19_century_russian_prose\\source\\all\\Lazhechnikov_1856.txt\n",
      "./speech\\19_century_russian_prose\\source\\all\\Lazhechnikov_1868.txt\n",
      "./speech\\19_century_russian_prose\\source\\all\\Leontyev_1855.txt\n",
      "./speech\\19_century_russian_prose\\source\\all\\Leontyev_1864.txt\n",
      "./speech\\19_century_russian_prose\\source\\all\\Leontyev_1867.txt\n",
      "./speech\\19_century_russian_prose\\source\\all\\Leontyev_1868.txt\n",
      "./speech\\19_century_russian_prose\\source\\all\\Leontyev_1869.txt\n",
      "./speech\\19_century_russian_prose\\source\\all\\Leontyev_1871.txt\n",
      "./speech\\19_century_russian_prose\\source\\all\\Leontyev_1876.txt\n",
      "./speech\\19_century_russian_prose\\source\\all\\Leontyev_1877.txt\n",
      "./speech\\19_century_russian_prose\\source\\all\\Leontyev_1881.txt\n",
      "./speech\\19_century_russian_prose\\source\\all\\Lermontov_1836.txt\n",
      "./speech\\19_century_russian_prose\\source\\all\\Lermontov_1840.txt\n",
      "./speech\\19_century_russian_prose\\source\\all\\Leskov_1863.txt\n",
      "./speech\\19_century_russian_prose\\source\\all\\Leskov_1864.txt\n",
      "./speech\\19_century_russian_prose\\source\\all\\Leskov_1865a.txt\n",
      "./speech\\19_century_russian_prose\\source\\all\\Leskov_1865b.txt\n",
      "./speech\\19_century_russian_prose\\source\\all\\Leskov_1866a.txt\n",
      "./speech\\19_century_russian_prose\\source\\all\\Leskov_1866b.txt\n",
      "./speech\\19_century_russian_prose\\source\\all\\Leskov_1869.txt\n",
      "./speech\\19_century_russian_prose\\source\\all\\Leskov_1870-1871.txt\n",
      "./speech\\19_century_russian_prose\\source\\all\\Leskov_1870.txt\n",
      "./speech\\19_century_russian_prose\\source\\all\\Leskov_1871.txt\n",
      "./speech\\19_century_russian_prose\\source\\all\\Leskov_1872.txt\n",
      "./speech\\19_century_russian_prose\\source\\all\\Leskov_1873a.txt\n",
      "./speech\\19_century_russian_prose\\source\\all\\Leskov_1873b.txt\n",
      "./speech\\19_century_russian_prose\\source\\all\\Leskov_1874a.txt\n",
      "./speech\\19_century_russian_prose\\source\\all\\Leskov_1874b.txt\n",
      "./speech\\19_century_russian_prose\\source\\all\\Leskov_1875-1876.txt\n",
      "./speech\\19_century_russian_prose\\source\\all\\Leskov_1876.txt\n",
      "./speech\\19_century_russian_prose\\source\\all\\Leskov_1883.txt\n",
      "./speech\\19_century_russian_prose\\source\\all\\Leskov_1890.txt\n",
      "./speech\\19_century_russian_prose\\source\\all\\Leskov_1891.txt\n",
      "./speech\\19_century_russian_prose\\source\\all\\Leskov_1894.txt\n",
      "./speech\\19_century_russian_prose\\source\\all\\Levitov_1861.txt\n",
      "./speech\\19_century_russian_prose\\source\\all\\Lukhmanova_1896.txt\n",
      "./speech\\19_century_russian_prose\\source\\all\\Machtet_1891.txt\n",
      "./speech\\19_century_russian_prose\\source\\all\\Maklakova_1875.txt\n",
      "./speech\\19_century_russian_prose\\source\\all\\Maksimov_1871.txt\n",
      "./speech\\19_century_russian_prose\\source\\all\\Mamin-Sibiriak_1876.txt\n",
      "./speech\\19_century_russian_prose\\source\\all\\Mamin-Sibiriak_1882.txt\n",
      "./speech\\19_century_russian_prose\\source\\all\\Mamin-Sibiriak_1883a.txt\n",
      "./speech\\19_century_russian_prose\\source\\all\\Mamin-Sibiriak_1883b.txt\n",
      "./speech\\19_century_russian_prose\\source\\all\\Mamin-Sibiriak_1883c.txt\n",
      "./speech\\19_century_russian_prose\\source\\all\\Mamin-Sibiriak_1884.txt\n",
      "./speech\\19_century_russian_prose\\source\\all\\Mamin-Sibiriak_1888.txt\n",
      "./speech\\19_century_russian_prose\\source\\all\\Mamin-Sibiriak_1890.txt\n",
      "./speech\\19_century_russian_prose\\source\\all\\Mamin-Sibiriak_1891a.txt\n",
      "./speech\\19_century_russian_prose\\source\\all\\Mamin-Sibiriak_1891b.txt\n",
      "./speech\\19_century_russian_prose\\source\\all\\Mamin-Sibiriak_1892a.txt\n",
      "./speech\\19_century_russian_prose\\source\\all\\Mamin-Sibiriak_1892b.txt\n",
      "./speech\\19_century_russian_prose\\source\\all\\Mamin-Sibiriak_1893.txt\n",
      "./speech\\19_century_russian_prose\\source\\all\\Mamin-Sibiriak_1894.txt\n",
      "./speech\\19_century_russian_prose\\source\\all\\Mamin-Sibiriak_1895.txt\n",
      "./speech\\19_century_russian_prose\\source\\all\\Masalskiy_1832.txt\n",
      "./speech\\19_century_russian_prose\\source\\all\\Masalskiy_1833.txt\n",
      "./speech\\19_century_russian_prose\\source\\all\\Masalskiy_1834.txt\n",
      "./speech\\19_century_russian_prose\\source\\all\\Masalskiy_1841.txt\n",
      "./speech\\19_century_russian_prose\\source\\all\\Melnikov_1857.txt\n",
      "./speech\\19_century_russian_prose\\source\\all\\Melnikov_1871-1875.txt\n",
      "./speech\\19_century_russian_prose\\source\\all\\Melnikov_1875-1881.txt\n",
      "./speech\\19_century_russian_prose\\source\\all\\Merder_1891.txt\n",
      "./speech\\19_century_russian_prose\\source\\all\\Merder_1896.txt\n",
      "./speech\\19_century_russian_prose\\source\\all\\Mikhailov_1851.txt\n",
      "./speech\\19_century_russian_prose\\source\\all\\Mordovtsev_1878a.txt\n",
      "./speech\\19_century_russian_prose\\source\\all\\Mordovtsev_1878b.txt\n",
      "./speech\\19_century_russian_prose\\source\\all\\Mordovtsev_1879a.txt\n",
      "./speech\\19_century_russian_prose\\source\\all\\Mordovtsev_1879b.txt\n",
      "./speech\\19_century_russian_prose\\source\\all\\Mordovtsev_1880.txt\n",
      "./speech\\19_century_russian_prose\\source\\all\\Mordovtsev_1881.txt\n",
      "./speech\\19_century_russian_prose\\source\\all\\Mordovtsev_1882.txt\n",
      "./speech\\19_century_russian_prose\\source\\all\\Mordovtsev_1884.txt\n",
      "./speech\\19_century_russian_prose\\source\\all\\Mordovtsev_1891a.txt\n",
      "./speech\\19_century_russian_prose\\source\\all\\Mordovtsev_1891b.txt\n",
      "./speech\\19_century_russian_prose\\source\\all\\Mordovtsev_1891c.txt\n",
      "./speech\\19_century_russian_prose\\source\\all\\Mordovtsev_1897.txt\n",
      "./speech\\19_century_russian_prose\\source\\all\\Mordovtsev_1899.txt\n",
      "./speech\\19_century_russian_prose\\source\\all\\Narezhnyi_1824a.txt\n",
      "./speech\\19_century_russian_prose\\source\\all\\Narezhnyi_1824b.txt\n",
      "./speech\\19_century_russian_prose\\source\\all\\Narezhnyi_1825.txt\n",
      "./speech\\19_century_russian_prose\\source\\all\\Naumov_1872.txt\n",
      "./speech\\19_century_russian_prose\\source\\all\\Naumov_1881.txt\n",
      "./speech\\19_century_russian_prose\\source\\all\\Nekrasov_et_al_1848-1849.txt\n",
      "./speech\\19_century_russian_prose\\source\\all\\Nekrasov_et_al_1851.txt\n",
      "./speech\\19_century_russian_prose\\source\\all\\Nemirovich-Danchenko_1892.txt\n",
      "./speech\\19_century_russian_prose\\source\\all\\Odoevskyi_1841.txt\n",
      "./speech\\19_century_russian_prose\\source\\all\\Omulevskyi_1870.txt\n",
      "./speech\\19_century_russian_prose\\source\\all\\Omulevskyi_1873.txt\n",
      "./speech\\19_century_russian_prose\\source\\all\\Panaeva_1848.txt\n",
      "./speech\\19_century_russian_prose\\source\\all\\Panaeva_1855.txt\n",
      "./speech\\19_century_russian_prose\\source\\all\\Panaev_1839.txt\n",
      "./speech\\19_century_russian_prose\\source\\all\\Panaev_1840a.txt\n",
      "./speech\\19_century_russian_prose\\source\\all\\Panaev_1840b.txt\n",
      "./speech\\19_century_russian_prose\\source\\all\\Panaev_1841.txt\n",
      "./speech\\19_century_russian_prose\\source\\all\\Panaev_1842.txt\n",
      "./speech\\19_century_russian_prose\\source\\all\\Panaev_1847.txt\n",
      "./speech\\19_century_russian_prose\\source\\all\\Pavlov_1835.txt\n",
      "./speech\\19_century_russian_prose\\source\\all\\Pavlov_1839.txt\n",
      "./speech\\19_century_russian_prose\\source\\all\\Pisemskiy_1850.txt\n",
      "./speech\\19_century_russian_prose\\source\\all\\Pisemskiy_1851a.txt\n",
      "./speech\\19_century_russian_prose\\source\\all\\Pisemskiy_1851b.txt\n",
      "./speech\\19_century_russian_prose\\source\\all\\Pisemskiy_1854.txt\n",
      "./speech\\19_century_russian_prose\\source\\all\\Pisemskiy_1855.txt\n",
      "./speech\\19_century_russian_prose\\source\\all\\Pisemskiy_1858a.txt\n",
      "./speech\\19_century_russian_prose\\source\\all\\Pisemskiy_1858b.txt\n",
      "./speech\\19_century_russian_prose\\source\\all\\Pisemskiy_1861.txt\n",
      "./speech\\19_century_russian_prose\\source\\all\\Pisemskiy_1863.txt\n",
      "./speech\\19_century_russian_prose\\source\\all\\Pisemskiy_1869.txt\n",
      "./speech\\19_century_russian_prose\\source\\all\\Pisemskiy_1871.txt\n",
      "./speech\\19_century_russian_prose\\source\\all\\Pisemskiy_1877.txt\n",
      "./speech\\19_century_russian_prose\\source\\all\\Pisemskiy_1880.txt\n",
      "./speech\\19_century_russian_prose\\source\\all\\Pleshcheev_1849.txt\n",
      "./speech\\19_century_russian_prose\\source\\all\\Pleshcheev_1857.txt\n",
      "./speech\\19_century_russian_prose\\source\\all\\Pleshcheev_1859.txt\n",
      "./speech\\19_century_russian_prose\\source\\all\\Pogodin_1827-1828.txt\n",
      "./speech\\19_century_russian_prose\\source\\all\\Pogorelskiy_1828.txt\n",
      "./speech\\19_century_russian_prose\\source\\all\\Pogorelskiy_1833.txt\n",
      "./speech\\19_century_russian_prose\\source\\all\\PolevoyPN_1899.txt\n",
      "./speech\\19_century_russian_prose\\source\\all\\Polevoy_1828.txt\n",
      "./speech\\19_century_russian_prose\\source\\all\\Polevoy_1832.txt\n",
      "./speech\\19_century_russian_prose\\source\\all\\Polevoy_1833a.txt\n",
      "./speech\\19_century_russian_prose\\source\\all\\Polevoy_1833b.txt\n",
      "./speech\\19_century_russian_prose\\source\\all\\Polevoy_1834a.txt\n",
      "./speech\\19_century_russian_prose\\source\\all\\Polevoy_1834b.txt\n",
      "./speech\\19_century_russian_prose\\source\\all\\Polevoy_1838-1839.txt\n",
      "./speech\\19_century_russian_prose\\source\\all\\Pomialovskiy_1861a.txt\n",
      "./speech\\19_century_russian_prose\\source\\all\\Pomialovskiy_1861b.txt\n",
      "./speech\\19_century_russian_prose\\source\\all\\Pomialovskiy_1865.txt\n",
      "./speech\\19_century_russian_prose\\source\\all\\Potapenko_1890.txt\n",
      "./speech\\19_century_russian_prose\\source\\all\\Potapenko_1891.txt\n",
      "./speech\\19_century_russian_prose\\source\\all\\Potapenko_1896.txt\n",
      "./speech\\19_century_russian_prose\\source\\all\\Pozniakov_1892.txt\n",
      "./speech\\19_century_russian_prose\\source\\all\\Pushkin_1832-1833.txt\n",
      "./speech\\19_century_russian_prose\\source\\all\\Pushkin_1836.txt\n",
      "./speech\\19_century_russian_prose\\source\\all\\Reshetnikov_1864a.txt\n",
      "./speech\\19_century_russian_prose\\source\\all\\Reshetnikov_1864b.txt\n",
      "./speech\\19_century_russian_prose\\source\\all\\Reshetnikov_1865.txt\n",
      "./speech\\19_century_russian_prose\\source\\all\\Reshetnikov_1866.txt\n",
      "./speech\\19_century_russian_prose\\source\\all\\Reshetnikov_1868.txt\n",
      "./speech\\19_century_russian_prose\\source\\all\\Rostopchina_1838.txt\n",
      "./speech\\19_century_russian_prose\\source\\all\\Rostopchina_1851-1852.txt\n",
      "./speech\\19_century_russian_prose\\source\\all\\Rostopchina_1854.txt\n",
      "./speech\\19_century_russian_prose\\source\\all\\Salias_1885a.txt\n",
      "./speech\\19_century_russian_prose\\source\\all\\Salias_1885b.txt\n",
      "./speech\\19_century_russian_prose\\source\\all\\Salias_1886.txt\n",
      "./speech\\19_century_russian_prose\\source\\all\\Salias_1888.txt\n",
      "./speech\\19_century_russian_prose\\source\\all\\Salias_1889.txt\n",
      "./speech\\19_century_russian_prose\\source\\all\\Salias_1893.txt\n",
      "./speech\\19_century_russian_prose\\source\\all\\Salov_1881.txt\n",
      "./speech\\19_century_russian_prose\\source\\all\\Saltykov-Shchedrin_1863.txt\n",
      "./speech\\19_century_russian_prose\\source\\all\\Saltykov-Shchedrin_1869-1870.txt\n",
      "./speech\\19_century_russian_prose\\source\\all\\Saltykov-Shchedrin_1872-1876.txt\n",
      "./speech\\19_century_russian_prose\\source\\all\\Saltykov-Shchedrin_1872.txt\n",
      "./speech\\19_century_russian_prose\\source\\all\\Saltykov-Shchedrin_1877-1883.txt\n",
      "./speech\\19_century_russian_prose\\source\\all\\Saltykov-Shchedrin_1878-1879.txt\n",
      "./speech\\19_century_russian_prose\\source\\all\\Saltykov-Shchedrin_1880.txt\n",
      "./speech\\19_century_russian_prose\\source\\all\\Saltykov-Shchedrin_1887-1889.txt\n",
      "./speech\\19_century_russian_prose\\source\\all\\Senkovskiy_1833.txt\n",
      "./speech\\19_century_russian_prose\\source\\all\\Senkovskiy_1834.txt\n",
      "./speech\\19_century_russian_prose\\source\\all\\Shalikova_1856.txt\n",
      "./speech\\19_century_russian_prose\\source\\all\\Shapir_1898.txt\n",
      "./speech\\19_century_russian_prose\\source\\all\\Sheller-Mikhailov_1868.txt\n",
      "./speech\\19_century_russian_prose\\source\\all\\Sheller-Mikhailov_1871.txt\n",
      "./speech\\19_century_russian_prose\\source\\all\\Sheller-Mikhailov_1883.txt\n",
      "./speech\\19_century_russian_prose\\source\\all\\Shkliarevskiy_1872.txt\n",
      "./speech\\19_century_russian_prose\\source\\all\\Shkliarevskiy_1873.txt\n",
      "./speech\\19_century_russian_prose\\source\\all\\Shkliarevskiy_1874.txt\n",
      "./speech\\19_century_russian_prose\\source\\all\\Slavutinskiy_1858.txt\n",
      "./speech\\19_century_russian_prose\\source\\all\\Slavutinskiy_1859a.txt\n",
      "./speech\\19_century_russian_prose\\source\\all\\Slavutinskiy_1859b.txt\n",
      "./speech\\19_century_russian_prose\\source\\all\\Sleptsov_1865.txt\n",
      "./speech\\19_century_russian_prose\\source\\all\\Sokolovskiy_1834.txt\n",
      "./speech\\19_century_russian_prose\\source\\all\\Sollogub_1840.txt\n",
      "./speech\\19_century_russian_prose\\source\\all\\Sollogub_1845.txt\n",
      "./speech\\19_century_russian_prose\\source\\all\\Sollogub_1850.txt\n",
      "./speech\\19_century_russian_prose\\source\\all\\SolovjovVs_1876.txt\n",
      "./speech\\19_century_russian_prose\\source\\all\\SolovjovVs_1877.txt\n",
      "./speech\\19_century_russian_prose\\source\\all\\SolovjovVs_1878a.txt\n",
      "./speech\\19_century_russian_prose\\source\\all\\SolovjovVs_1878b.txt\n",
      "./speech\\19_century_russian_prose\\source\\all\\SolovjovVs_1881.txt\n",
      "./speech\\19_century_russian_prose\\source\\all\\SolovjovVs_1882.txt\n",
      "./speech\\19_century_russian_prose\\source\\all\\SolovjovVs_1883.txt\n",
      "./speech\\19_century_russian_prose\\source\\all\\SolovjovVs_1884.txt\n",
      "./speech\\19_century_russian_prose\\source\\all\\SolovjovVs_1886.txt\n",
      "./speech\\19_century_russian_prose\\source\\all\\SolovjovVs_1888.txt\n",
      "./speech\\19_century_russian_prose\\source\\all\\SolovjovVs_1889.txt\n",
      "./speech\\19_century_russian_prose\\source\\all\\SolovjovVs_1890.txt\n",
      "./speech\\19_century_russian_prose\\source\\all\\Somov_1825.txt\n",
      "./speech\\19_century_russian_prose\\source\\all\\Staniukovich_1879a.txt\n",
      "./speech\\19_century_russian_prose\\source\\all\\Staniukovich_1879b.txt\n",
      "./speech\\19_century_russian_prose\\source\\all\\Staniukovich_1880.txt\n",
      "./speech\\19_century_russian_prose\\source\\all\\Staniukovich_1886.txt\n",
      "./speech\\19_century_russian_prose\\source\\all\\Staniukovich_1889.txt\n",
      "./speech\\19_century_russian_prose\\source\\all\\Staniukovich_1891.txt\n",
      "./speech\\19_century_russian_prose\\source\\all\\Staniukovich_1892.txt\n",
      "./speech\\19_century_russian_prose\\source\\all\\Staniukovich_1893.txt\n",
      "./speech\\19_century_russian_prose\\source\\all\\Staniukovich_1895a.txt\n",
      "./speech\\19_century_russian_prose\\source\\all\\Staniukovich_1895b.txt\n",
      "./speech\\19_century_russian_prose\\source\\all\\Staniukovich_1895c.txt\n",
      "./speech\\19_century_russian_prose\\source\\all\\Staniukovich_1897.txt\n",
      "./speech\\19_century_russian_prose\\source\\all\\Staniukovich_1899a.txt\n",
      "./speech\\19_century_russian_prose\\source\\all\\Staniukovich_1899b.txt\n",
      "./speech\\19_century_russian_prose\\source\\all\\Sukhonin_1886.txt\n",
      "./speech\\19_century_russian_prose\\source\\all\\Terpigorev_1888.txt\n",
      "./speech\\19_century_russian_prose\\source\\all\\Timofeev_1834.txt\n",
      "./speech\\19_century_russian_prose\\source\\all\\TolstoyA_1841.txt\n",
      "./speech\\19_century_russian_prose\\source\\all\\TolstoyA_1863.txt\n",
      "./speech\\19_century_russian_prose\\source\\all\\Tolstoy_1852.txt\n",
      "./speech\\19_century_russian_prose\\source\\all\\Tolstoy_1854.txt\n",
      "./speech\\19_century_russian_prose\\source\\all\\Tolstoy_1855.txt\n",
      "./speech\\19_century_russian_prose\\source\\all\\Tolstoy_1856.txt\n",
      "./speech\\19_century_russian_prose\\source\\all\\Tolstoy_1857.txt\n",
      "./speech\\19_century_russian_prose\\source\\all\\Tolstoy_1859.txt\n",
      "./speech\\19_century_russian_prose\\source\\all\\Tolstoy_1863a.txt\n",
      "./speech\\19_century_russian_prose\\source\\all\\Tolstoy_1863b.txt\n",
      "./speech\\19_century_russian_prose\\source\\all\\Tolstoy_1868-1869.txt\n",
      "./speech\\19_century_russian_prose\\source\\all\\Tolstoy_1877.txt\n",
      "./speech\\19_century_russian_prose\\source\\all\\Tolstoy_1886.txt\n",
      "./speech\\19_century_russian_prose\\source\\all\\Tolstoy_1891.txt\n",
      "./speech\\19_century_russian_prose\\source\\all\\Tolstoy_1899.txt\n",
      "./speech\\19_century_russian_prose\\source\\all\\Turgenev_1854a.txt\n",
      "./speech\\19_century_russian_prose\\source\\all\\Turgenev_1854b.txt\n",
      "./speech\\19_century_russian_prose\\source\\all\\Turgenev_1855.txt\n",
      "./speech\\19_century_russian_prose\\source\\all\\Turgenev_1856.txt\n",
      "./speech\\19_century_russian_prose\\source\\all\\Turgenev_1859.txt\n",
      "./speech\\19_century_russian_prose\\source\\all\\Turgenev_1860.txt\n",
      "./speech\\19_century_russian_prose\\source\\all\\Turgenev_1862.txt\n",
      "./speech\\19_century_russian_prose\\source\\all\\Turgenev_1867.txt\n",
      "./speech\\19_century_russian_prose\\source\\all\\Turgenev_1869.txt\n",
      "./speech\\19_century_russian_prose\\source\\all\\Turgenev_1870.txt\n",
      "./speech\\19_century_russian_prose\\source\\all\\Turgenev_1872.txt\n",
      "./speech\\19_century_russian_prose\\source\\all\\Turgenev_1877.txt\n",
      "./speech\\19_century_russian_prose\\source\\all\\Tur_1856.txt\n",
      "./speech\\19_century_russian_prose\\source\\all\\UspenskiyG_1866.txt\n",
      "./speech\\19_century_russian_prose\\source\\all\\Veltman_1831-1832.txt\n",
      "./speech\\19_century_russian_prose\\source\\all\\Veltman_1833.txt\n",
      "./speech\\19_century_russian_prose\\source\\all\\Veltman_1835.txt\n",
      "./speech\\19_century_russian_prose\\source\\all\\Veltman_1843.txt\n",
      "./speech\\19_century_russian_prose\\source\\all\\Veltman_1846-1847.txt\n",
      "./speech\\19_century_russian_prose\\source\\all\\Veresaev_1895.txt\n",
      "./speech\\19_century_russian_prose\\source\\all\\Veresaev_1898.txt\n",
      "./speech\\19_century_russian_prose\\source\\all\\Vereshchagin_1894.txt\n",
      "./speech\\19_century_russian_prose\\source\\all\\Volkonskiy_1895.txt\n",
      "./speech\\19_century_russian_prose\\source\\all\\Volkonskiy_1896.txt\n",
      "./speech\\19_century_russian_prose\\source\\all\\Vonlyarovskiy_1852a.txt\n",
      "./speech\\19_century_russian_prose\\source\\all\\Vonlyarovskiy_1852b.txt\n",
      "./speech\\19_century_russian_prose\\source\\all\\Yakubovich_1895-1898.txt\n",
      "./speech\\19_century_russian_prose\\source\\all\\Yasinskiy_1882.txt\n",
      "./speech\\19_century_russian_prose\\source\\all\\Yasinskiy_1885.txt\n",
      "./speech\\19_century_russian_prose\\source\\all\\Yasinskiy_1886.txt\n",
      "./speech\\19_century_russian_prose\\source\\all\\Yermolova_1856.txt\n",
      "./speech\\19_century_russian_prose\\source\\all\\Zagoskin_1829.txt\n",
      "./speech\\19_century_russian_prose\\source\\all\\Zagoskin_1831.txt\n",
      "./speech\\19_century_russian_prose\\source\\all\\Zagoskin_1833.txt\n",
      "./speech\\19_century_russian_prose\\source\\all\\Zagoskin_1838.txt\n",
      "./speech\\19_century_russian_prose\\source\\all\\Zagoskin_1842-1850.txt\n",
      "./speech\\19_century_russian_prose\\source\\all\\Zagoskin_1846.txt\n",
      "./speech\\19_century_russian_prose\\source\\all\\Zagoskin_1848.txt\n",
      "./speech\\19_century_russian_prose\\source\\all\\Zasodimskiy_1870.txt\n",
      "./speech\\19_century_russian_prose\\source\\all\\Zhadovskaya_1857.txt\n",
      "./speech\\19_century_russian_prose\\source\\all\\Zhadovskaya_1861.txt\n",
      "./speech\\19_century_russian_prose\\source\\all\\Zhukova_1845.txt\n",
      "./speech\\19_century_russian_prose\\source\\all\\Zlatovratskiy_1877.txt\n",
      "./speech\\19_century_russian_prose\\source\\all\\Zotov_1834.txt\n",
      "./speech\\19_century_russian_prose\\source\\all\\Zotov_1850.txt\n",
      "./speech\\20_век_отДани(lib.ru)\\Адамов_ИзгнаниеВладыки.txt\n",
      "./speech\\20_век_отДани(lib.ru)\\Адамов_ТайнаДвухОкеанов.txt\n",
      "./speech\\20_век_отДани(lib.ru)\\Айтматов_ИДольшеВекаДлитсяДень.txt\n",
      "./speech\\20_век_отДани(lib.ru)\\Айтматов_Плаха.txt\n",
      "./speech\\20_век_отДани(lib.ru)\\Акунин_АлмазнаяКолесница.txt\n",
      "./speech\\20_век_отДани(lib.ru)\\Акунин_СтатскийСоветник.txt\n",
      "./speech\\20_век_отДани(lib.ru)\\Акунин_ТурецкийГамбит.txt\n",
      "./speech\\20_век_отДани(lib.ru)\\АНТолстой_Аэлита.txt\n",
      "./speech\\20_век_отДани(lib.ru)\\АНТолстой_ГиперболоидИнженераГарина.txt\n",
      "./speech\\20_век_отДани(lib.ru)\\АНТолстой_ПётрПервый.txt\n",
      "./speech\\20_век_отДани(lib.ru)\\Астафьев_ВеселыйСолдат.txt\n",
      "./speech\\20_век_отДани(lib.ru)\\Астафьев_Затеси.txt\n",
      "./speech\\20_век_отДани(lib.ru)\\Астафьев_ЦарьРыба.txt\n",
      "./speech\\20_век_отДани(lib.ru)\\Бабель_Конармия.txt\n",
      "./speech\\20_век_отДани(lib.ru)\\Бабель_ОдесскиеРассказы.txt\n",
      "./speech\\20_век_отДани(lib.ru)\\Беляев_Ариэль.txt\n",
      "./speech\\20_век_отДани(lib.ru)\\Беляев_ГоловаПрофессораДоуэля.txt\n",
      "./speech\\20_век_отДани(lib.ru)\\Беляев_ПродавецВоздуха.txt\n",
      "./speech\\20_век_отДани(lib.ru)\\Беляев_Человек-амфибия.txt\n",
      "./speech\\20_век_отДани(lib.ru)\\Бондарев_БатальоныПросятОгня.txt\n",
      "./speech\\20_век_отДани(lib.ru)\\БратьяВайнеры_ЭраМилосердия.txt\n",
      "./speech\\20_век_отДани(lib.ru)\\БратьяВайнеры_ЯСледователь.txt\n",
      "./speech\\20_век_отДани(lib.ru)\\Булгаков_БелаяГвардия.txt\n",
      "./speech\\20_век_отДани(lib.ru)\\Булгаков_МастерИМаргарита.txt\n",
      "./speech\\20_век_отДани(lib.ru)\\Булгаков_РоковыеЯйца.txt\n",
      "./speech\\20_век_отДани(lib.ru)\\Булычев_ГайДо.txt\n",
      "./speech\\20_век_отДани(lib.ru)\\Булычев_ПутешествиеАлисы_1992.txt\n",
      "./speech\\20_век_отДани(lib.ru)\\Булычев_РжавыйФельдмаршал_1991.txt\n",
      "./speech\\20_век_отДани(lib.ru)\\Быков_ЗнакБеды.txt\n",
      "./speech\\20_век_отДани(lib.ru)\\Быков_Обелиск.txt\n",
      "./speech\\20_век_отДани(lib.ru)\\Быков_Сотников.txt\n",
      "./speech\\20_век_отДани(lib.ru)\\БылинаНародная_Алеша Попович.txt\n",
      "./speech\\20_век_отДани(lib.ru)\\БылинаНародная_Бой Добрыни с Дунаем.txt\n",
      "./speech\\20_век_отДани(lib.ru)\\БылинаНародная_Бой Ильи Муромца с сыном.txt\n",
      "./speech\\20_век_отДани(lib.ru)\\Визбор_Альтернатива.txt\n",
      "./speech\\20_век_отДани(lib.ru)\\Визбор_Завтрак.txt\n",
      "./speech\\20_век_отДани(lib.ru)\\ВикторНекрасов_В окопах Сталинграда.txt\n",
      "./speech\\20_век_отДани(lib.ru)\\Владимов_Большая руда_1984.txt\n",
      "./speech\\20_век_отДани(lib.ru)\\Владимов_Верный Руслан_1975.txt\n",
      "./speech\\20_век_отДани(lib.ru)\\Владимов_Генерал и его армия_1996.txt\n",
      "./speech\\20_век_отДани(lib.ru)\\ГеоргийВайнер_Бес в ребро.txt\n",
      "./speech\\20_век_отДани(lib.ru)\\Горький_ЖизньКлимаСамгина.txt\n",
      "./speech\\20_век_отДани(lib.ru)\\Горький_Мать.txt\n",
      "./speech\\20_век_отДани(lib.ru)\\Гранин_Зубр.txt\n",
      "./speech\\20_век_отДани(lib.ru)\\Гроссман_ЖизньИСудьба.txt\n",
      "./speech\\20_век_отДани(lib.ru)\\Гуляковский_АтлантыДержатНебо.txt\n",
      "./speech\\20_век_отДани(lib.ru)\\Гуляковский_ДолгийВосходНаЭнне.txt\n",
      "./speech\\20_век_отДани(lib.ru)\\Гуляковский_Чужие пространства.txt\n",
      "./speech\\20_век_отДани(lib.ru)\\Дивов_ДругиеДействия.txt\n",
      "./speech\\20_век_отДани(lib.ru)\\Довлатов_Заповедник.txt\n",
      "./speech\\20_век_отДани(lib.ru)\\Довлатов_Компромисс.txt\n",
      "./speech\\20_век_отДани(lib.ru)\\Довлатов_СолоНаУндервуде.txt\n",
      "./speech\\20_век_отДани(lib.ru)\\Закруткин_МатерьЧеловеческая_1969.txt\n",
      "./speech\\20_век_отДани(lib.ru)\\ИльфПетров_Двенадцать стульев_1928.txt\n",
      "./speech\\20_век_отДани(lib.ru)\\ИльфПетров_Золотой теленок_.txt\n",
      "./speech\\20_век_отДани(lib.ru)\\ИльфПетров_Одноэтажная Америка_1937.txt\n",
      "./speech\\20_век_отДани(lib.ru)\\Искандер_СандроИзЧегема.txt\n",
      "./speech\\20_век_отДани(lib.ru)\\Казакевич_Звезда.txt\n",
      "./speech\\20_век_отДани(lib.ru)\\Катаев_АлмазныйМойВенец.txt\n",
      "./speech\\20_век_отДани(lib.ru)\\Катаев_БелеетПарусОдинокий.txt\n",
      "./speech\\20_век_отДани(lib.ru)\\Катаев_СынПолка.txt\n",
      "./speech\\20_век_отДани(lib.ru)\\Лагин_АтавияПроксима.txt\n",
      "./speech\\20_век_отДани(lib.ru)\\Лагин_МайорВеллЭндъю.txt\n",
      "./speech\\20_век_отДани(lib.ru)\\Лагин_СтарикХоттабыч.txt\n",
      "./speech\\20_век_отДани(lib.ru)\\Лимонов_ЭтоЯЭдичка.txt\n",
      "./speech\\20_век_отДани(lib.ru)\\Лукьяненко_НовыйДозор.txt\n",
      "./speech\\20_век_отДани(lib.ru)\\Лукьяненко_ЦарьЦаревичКорольКоролевич.txt\n",
      "./speech\\20_век_отДани(lib.ru)\\Лукьяненко_ШестойДозор.txt\n",
      "./speech\\20_век_отДани(lib.ru)\\Набоков_Дар.txt\n",
      "./speech\\20_век_отДани(lib.ru)\\Набоков_ЗащитаЛужина.txt\n",
      "./speech\\20_век_отДани(lib.ru)\\Набоков_ПриглашениеНаКазнь.txt\n",
      "./speech\\20_век_отДани(lib.ru)\\Распутин_ДеньгиДляМарии.txt\n",
      "./speech\\20_век_отДани(lib.ru)\\Распутин_ПрощаниеСМатерой.txt\n",
      "./speech\\20_век_отДани(lib.ru)\\Рубина_Высокая вода венецианцев.txt\n",
      "./speech\\20_век_отДани(lib.ru)\\Рубина_Любка.txt\n",
      "./speech\\20_век_отДани(lib.ru)\\Рубина_ЭтотЧуднойАлтухов.txt\n",
      "./speech\\20_век_отДани(lib.ru)\\Серафимович_ЖелезныйПоток.txt\n",
      "./speech\\20_век_отДани(lib.ru)\\Солженицын_Гулаг1_2.txt\n",
      "./speech\\20_век_отДани(lib.ru)\\Солженицын_Гулаг34.txt\n",
      "./speech\\20_век_отДани(lib.ru)\\Солженицын_Гулаг57.txt\n",
      "./speech\\20_век_отДани(lib.ru)\\Солженицын_РаковыйКорпус.txt\n",
      "./speech\\20_век_отДани(lib.ru)\\Чарская_ЗапискиИнститутки.txt\n",
      "./speech\\20_век_отДани(lib.ru)\\Чарская_Приютки.txt\n",
      "./speech\\20_век_отДани(lib.ru)\\Шмелев_ЛетоГосподне.txt\n",
      "./speech\\20_век_отДани(lib.ru)\\Шмелев_СолнцеМертвых.txt\n",
      "./speech\\20_век_отДани(lib.ru)\\Шолохов_ПоднятаяЦелина.txt\n",
      "./speech\\20_век_отДани(lib.ru)\\Шолохов_СудьбаЧеловека.txt\n",
      "./speech\\20_век_отДани(lib.ru)\\Шолохов_ТихийДон.txt\n",
      "./speech\\20_век_отДани(lib.ru)\\Шукшин_КалинаКрасная.txt\n",
      "./speech\\20_век_отДани(lib.ru)\\Шукшин_ОхотаЖить.txt\n",
      "./speech\\20_век_отДани(lib.ru)\\Шукшин_ПечкиЛавочки.txt\n",
      "./speech\\20_век_отДани(lib.ru)\\Эренбург_Необычайные похождения Хулио Хуренито.txt\n",
      "./speech\\20_век_отДани(lib.ru)\\Эренбург_Оттепель.txt\n"
     ]
    }
   ],
   "source": [
    "texts = []\n",
    "for root, dirs, files in os.walk(start_path):\n",
    "    for every_file in files:\n",
    "        print(os.path.join(root, every_file))\n",
    "           "
   ]
  },
  {
   "cell_type": "markdown",
   "metadata": {},
   "source": [
    "Обратите внимание, что одна точка обозначает текущую директорию:"
   ]
  },
  {
   "cell_type": "code",
   "execution_count": 45,
   "metadata": {},
   "outputs": [
    {
     "name": "stdout",
     "output_type": "stream",
     "text": [
      "Что здесь есть: ['.ipynb_checkpoints', 'Lambda_OS_Format.ipynb', 'speech']\n"
     ]
    }
   ],
   "source": [
    "start_path = \".\"\n",
    "print(\"Что здесь есть:\", os.listdir(start_path))"
   ]
  },
  {
   "cell_type": "markdown",
   "metadata": {},
   "source": [
    "Две точки обозначают родительский каталог:"
   ]
  },
  {
   "cell_type": "code",
   "execution_count": 47,
   "metadata": {},
   "outputs": [
    {
     "name": "stdout",
     "output_type": "stream",
     "text": [
      "На уровень выше: ['.git', '.ipynb_checkpoints', 'article1.json', 'HW_6.ipynb', 'lecture_01', 'lecture_02', 'lecture_03', 'lecture_04', 'lecture_05', 'lecture_06', 'lecture_07-09', 'lecture_10', 'lecture_11-13', 'lecture_14-16', 'lecture_17', 'lecture_18', 'Mid-term 2.ipynb', 'projects', 'sem1.ipynb']\n",
      "А в подпапке lecture_17 ['.ipynb_checkpoints', 'lakski-dict.txt', 'Midterm-2.ipynb', 'nabokov.txt', 'twitter.json']\n"
     ]
    }
   ],
   "source": [
    "print(\"На уровень выше:\", os.listdir(\"..\"))\n",
    "print(\"А в подпапке lecture_17\", os.listdir(\"../lecture_17/\"))"
   ]
  },
  {
   "cell_type": "code",
   "execution_count": 49,
   "metadata": {},
   "outputs": [
    {
     "data": {
      "text/plain": [
       "'asa\\\\afrge\\\\sdsd'"
      ]
     },
     "execution_count": 49,
     "metadata": {},
     "output_type": "execute_result"
    }
   ],
   "source": [
    "os.path.join(\"asa\", \"afrge\", \"sdsd\")"
   ]
  },
  {
   "cell_type": "code",
   "execution_count": 50,
   "metadata": {},
   "outputs": [
    {
     "data": {
      "text/plain": [
       "['.ipynb_checkpoints', 'Lambda_OS_Format.ipynb', 'speech']"
      ]
     },
     "execution_count": 50,
     "metadata": {},
     "output_type": "execute_result"
    }
   ],
   "source": [
    "os.listdir(\".\")"
   ]
  },
  {
   "cell_type": "code",
   "execution_count": 51,
   "metadata": {},
   "outputs": [
    {
     "data": {
      "text/plain": [
       "<generator object walk at 0x000001AB48BE8E08>"
      ]
     },
     "execution_count": 51,
     "metadata": {},
     "output_type": "execute_result"
    }
   ],
   "source": [
    "for root, dirs, files in os.walk(\".\"):\n",
    "    print()"
   ]
  },
  {
   "cell_type": "markdown",
   "metadata": {},
   "source": [
    "Функция `os.path.split` совершает обратное действие — отрезает имя файла или ниже лежащей папки от пути:"
   ]
  },
  {
   "cell_type": "code",
   "execution_count": 1,
   "metadata": {},
   "outputs": [],
   "source": [
    "import os\n",
    "\n",
    "path = './work/project/version8/final.txt'\n",
    "dirpath, filename = os.path.split(path)"
   ]
  },
  {
   "cell_type": "code",
   "execution_count": null,
   "metadata": {},
   "outputs": [],
   "source": []
  }
 ],
 "metadata": {
  "kernelspec": {
   "display_name": "Python 3",
   "language": "python",
   "name": "python3"
  },
  "language_info": {
   "codemirror_mode": {
    "name": "ipython",
    "version": 3
   },
   "file_extension": ".py",
   "mimetype": "text/x-python",
   "name": "python",
   "nbconvert_exporter": "python",
   "pygments_lexer": "ipython3",
   "version": "3.6.6"
  }
 },
 "nbformat": 4,
 "nbformat_minor": 2
}
