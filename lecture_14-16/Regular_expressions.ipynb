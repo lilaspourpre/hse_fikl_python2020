{
 "cells": [
  {
   "cell_type": "markdown",
   "metadata": {},
   "source": [
    "# Регулярные выражения"
   ]
  },
  {
   "cell_type": "markdown",
   "metadata": {},
   "source": [
    "Одной из основных областей, в которых применяются скриптовые языки, является разбор текстовых данных. Современные математические изыскания в области формальных языков и грамматик позволили создать единый механизм разбора текста, называемый **регулярными выражениями**. \n",
    "\n",
    "Шпаргалка: https://www.exlab.net/files/tools/sheets/regexp/regexp.pdf\n",
    "\n",
    "Особым любителям регулярок [сюда](https://alf.nu/RegexGolf).\n",
    "\n",
    "Обязательно к прочтению дома:\n",
    "\n",
    "* [Регулярные выражения, пособие для новичков. Часть 1](https://habr.com/ru/post/115825/)\n",
    "\n",
    "* [Регулярные выражения, пособие для новичков. Часть 2](https://habr.com/ru/post/115436/)\n",
    "\n",
    "* https://ru.wikipedia.org/wiki/Регулярные_выражения"
   ]
  },
  {
   "cell_type": "code",
   "execution_count": 53,
   "metadata": {},
   "outputs": [],
   "source": [
    "import re"
   ]
  },
  {
   "cell_type": "markdown",
   "metadata": {},
   "source": [
    "Как мы и говорили, любая строка уже и так является регулярным выражением:"
   ]
  },
  {
   "cell_type": "code",
   "execution_count": 118,
   "metadata": {},
   "outputs": [],
   "source": [
    "text = \"I have a cat and a dog. How many dogs do you have?\\\\\""
   ]
  },
  {
   "cell_type": "code",
   "execution_count": 110,
   "metadata": {},
   "outputs": [
    {
     "data": {
      "text/plain": [
       "['dog', 'dogs']"
      ]
     },
     "execution_count": 110,
     "metadata": {},
     "output_type": "execute_result"
    }
   ],
   "source": [
    "re.findall(r\"dogs?\", text)"
   ]
  },
  {
   "cell_type": "markdown",
   "metadata": {},
   "source": [
    "Не забывайте писать `r` перед строкой с регулярным выражением! Если перед открывающей кавычкой стоит символ  `r` (в любом регистре), то механизм экранирования отключается."
   ]
  },
  {
   "cell_type": "code",
   "execution_count": 119,
   "metadata": {},
   "outputs": [
    {
     "name": "stdout",
     "output_type": "stream",
     "text": [
      "I have a cat and a dog. How many dogs do you have?\\\n"
     ]
    }
   ],
   "source": [
    "print(text)"
   ]
  },
  {
   "cell_type": "code",
   "execution_count": 75,
   "metadata": {},
   "outputs": [],
   "source": [
    "text += \"\\\\\""
   ]
  },
  {
   "cell_type": "code",
   "execution_count": 127,
   "metadata": {},
   "outputs": [
    {
     "name": "stdout",
     "output_type": "stream",
     "text": [
      "I have a cat and a dog. How many dogs do you have?\\\n"
     ]
    }
   ],
   "source": [
    "print(text)"
   ]
  },
  {
   "cell_type": "code",
   "execution_count": 125,
   "metadata": {},
   "outputs": [
    {
     "name": "stdout",
     "output_type": "stream",
     "text": [
      "['\\\\']\n"
     ]
    }
   ],
   "source": [
    "print(re.findall(r\"\\\\\", text))"
   ]
  },
  {
   "cell_type": "code",
   "execution_count": 102,
   "metadata": {},
   "outputs": [
    {
     "data": {
      "text/plain": [
       "['github.com/lilaspourpre']"
      ]
     },
     "execution_count": 102,
     "metadata": {},
     "output_type": "execute_result"
    }
   ],
   "source": [
    "re.findall(r\"github\\.com/[A-z-0-9]+\", \"https://github.com/lilaspourpre\")"
   ]
  },
  {
   "cell_type": "code",
   "execution_count": 134,
   "metadata": {},
   "outputs": [
    {
     "data": {
      "text/plain": [
       "['8(927)-127-65-3']"
      ]
     },
     "execution_count": 134,
     "metadata": {},
     "output_type": "execute_result"
    }
   ],
   "source": [
    "re.findall(r\"[()\\d -]{11,15}\", \"8(927)-127-65-34\")"
   ]
  },
  {
   "cell_type": "code",
   "execution_count": 141,
   "metadata": {},
   "outputs": [
    {
     "data": {
      "text/plain": [
       "['лиса', 'анна']"
      ]
     },
     "execution_count": 141,
     "metadata": {},
     "output_type": "execute_result"
    }
   ],
   "source": [
    "re.findall(r\"\\w+а\\b\", \"лиса анна\")"
   ]
  },
  {
   "cell_type": "code",
   "execution_count": 142,
   "metadata": {},
   "outputs": [
    {
     "data": {
      "text/plain": [
       "['л_иса', 'анна']"
      ]
     },
     "execution_count": 142,
     "metadata": {},
     "output_type": "execute_result"
    }
   ],
   "source": [
    "re.findall(r\"\\w+\", \"л_иса анна\")"
   ]
  },
  {
   "cell_type": "markdown",
   "metadata": {},
   "source": [
    "## `.findall()`\n",
    "\n",
    "что возвращает этот метод?"
   ]
  },
  {
   "cell_type": "markdown",
   "metadata": {},
   "source": [
    "Давайте попробуем вспомнить из игры регулярку, выделяющую даты..."
   ]
  },
  {
   "cell_type": "code",
   "execution_count": 144,
   "metadata": {},
   "outputs": [],
   "source": [
    "clubhouse = \"\"\"\n",
    "Александрова Олеся Сергеевна\n",
    "18.06.1999\n",
    "\n",
    "Васильев Александр Вячеславович\n",
    "24.06.1999\n",
    "\n",
    "Ганке Дарья Александровна\n",
    "25.06.1999\n",
    "\n",
    "Жердев Сергей Витальевич\n",
    "1.06.1999\n",
    "\n",
    "\n",
    "Иванова Ольга Сергеевна\n",
    "29.10.1999\n",
    "\n",
    "\n",
    "Картенева Анастасия Викторовна\n",
    "23.03.1998\n",
    "\"\"\""
   ]
  },
  {
   "cell_type": "code",
   "execution_count": 146,
   "metadata": {},
   "outputs": [
    {
     "data": {
      "text/plain": [
       "['18.06.1999',\n",
       " '24.06.1999',\n",
       " '25.06.1999',\n",
       " '1.06.1999',\n",
       " '29.10.1999',\n",
       " '23.03.1998']"
      ]
     },
     "execution_count": 146,
     "metadata": {},
     "output_type": "execute_result"
    }
   ],
   "source": [
    "re.findall(r\"\\d{1,2}\\.\\d{2}\\.\\d{4}\", clubhouse)"
   ]
  },
  {
   "cell_type": "markdown",
   "metadata": {},
   "source": [
    "Класс? Но есть одно но... Появился новый текст и снова надо подавать на вход регуляркку... и так каждый раз... Какое решение может быть?"
   ]
  },
  {
   "cell_type": "markdown",
   "metadata": {},
   "source": [
    "**Правильный подход к вычислению регулярных выражений длинный и поэтапный:**\n",
    "\n",
    "1) **\"Компиляция\"** регулярного выражения. На этом этапе \"шаблон\" преобразуется в сложный объект языка, содержащий в себе механизмы эффективного поиска ДАННОГО шаблона.\n",
    "\n",
    "2) **\"Применение\"** регулярного выражения к тексту. На этом этапе происходит обработка текста в объекте, созданном в пункте 1. \n",
    "\n",
    "3) **\"Разбор результата\"**. Как правило, результат, получившийся в результате поиска, сам содержит много избыточной информации. Наша задача вычленить ровно то, что нам нужно. "
   ]
  },
  {
   "cell_type": "markdown",
   "metadata": {},
   "source": [
    "Давайте пока разберемся с первыми двумя пунктами на примере `.findall()`"
   ]
  },
  {
   "cell_type": "markdown",
   "metadata": {},
   "source": [
    "1. Компиляция RE:\n",
    "\n",
    "ничего удивительного, команда `re.compile()`, в скобках передаем само регулярное выражение"
   ]
  },
  {
   "cell_type": "code",
   "execution_count": 147,
   "metadata": {},
   "outputs": [],
   "source": [
    "date_pattern = re.compile(r\"\\d{1,2}\\.\\d{2}\\.\\d{4}\")"
   ]
  },
  {
   "cell_type": "markdown",
   "metadata": {},
   "source": [
    "2. Применение регулярного выражения:"
   ]
  },
  {
   "cell_type": "code",
   "execution_count": 148,
   "metadata": {},
   "outputs": [
    {
     "data": {
      "text/plain": [
       "['18.06.1999',\n",
       " '24.06.1999',\n",
       " '25.06.1999',\n",
       " '1.06.1999',\n",
       " '29.10.1999',\n",
       " '23.03.1998']"
      ]
     },
     "execution_count": 148,
     "metadata": {},
     "output_type": "execute_result"
    }
   ],
   "source": [
    "date_pattern.findall(clubhouse)"
   ]
  },
  {
   "cell_type": "code",
   "execution_count": 149,
   "metadata": {},
   "outputs": [
    {
     "data": {
      "text/plain": [
       "[]"
      ]
     },
     "execution_count": 149,
     "metadata": {},
     "output_type": "execute_result"
    }
   ],
   "source": [
    "date_pattern.findall(text)"
   ]
  },
  {
   "cell_type": "markdown",
   "metadata": {},
   "source": [
    "Закрепим на любимом Кьеркегоре:"
   ]
  },
  {
   "cell_type": "code",
   "execution_count": 152,
   "metadata": {},
   "outputs": [],
   "source": [
    "kierkegaard = \"\"\"Киркегор - датский философ, богослов и писатель, один из предшественников экзистенциализма. \n",
    " С. Кьеркегор окончил теологический факультет Копенгагенского университета в 1840 году. \n",
    " Степень магистра получил в 1841 году, защитив диссертацию “О понятии иронии, с постоянным обращением к Сократу”, \n",
    " посвященную концепциям иронии у древнегреческих авторов и романтиков. \n",
    " Работы С. Кьеркегора отличаются исключительной психологической точностью и глубиной. \n",
    " Вклад в развистие философии, сделанный Кьеркегаардом. неоценим. Сёрен Киркегаард: немецкое издание Сёрена Киркегаарда. \n",
    " Спецкурс “С. Керкегор и история христианства в XIX в.” посвящен датскому философу Серену Керкегору.\n",
    " \"\"\""
   ]
  },
  {
   "cell_type": "code",
   "execution_count": 526,
   "metadata": {},
   "outputs": [
    {
     "name": "stdout",
     "output_type": "stream",
     "text": [
      "32\n"
     ]
    }
   ],
   "source": [
    "MY_REGEX = r\"К[иь]?е?ркег[оа]{1,2}рд?[уоа]?м?\"\n",
    "print(len(MY_REGEX))\n",
    "kierk_p = re.compile(MY_REGEX)"
   ]
  },
  {
   "cell_type": "code",
   "execution_count": 527,
   "metadata": {},
   "outputs": [
    {
     "name": "stdout",
     "output_type": "stream",
     "text": [
      "['Киркегор', 'Кьеркегор', 'Кьеркегора', 'Кьеркегаардом', 'Киркегаард', 'Киркегаарда', 'Керкегор', 'Керкегору'] 8\n"
     ]
    }
   ],
   "source": [
    "result = kierk_p.findall(kierkegaard)\n",
    "print(result, len(result))"
   ]
  },
  {
   "cell_type": "markdown",
   "metadata": {},
   "source": [
    "## `.match()` и `.search()`"
   ]
  },
  {
   "cell_type": "code",
   "execution_count": 304,
   "metadata": {},
   "outputs": [],
   "source": [
    "text = \"Кот Василий выпил компот, а Кот Ёван выпил лимонад\""
   ]
  },
  {
   "cell_type": "markdown",
   "metadata": {},
   "source": [
    "**1. Компиляция RE**"
   ]
  },
  {
   "cell_type": "code",
   "execution_count": 303,
   "metadata": {},
   "outputs": [],
   "source": [
    "pattern = re.compile(r\"[А-ЯЁ][а-яё]+\")  # что означает эта регулярка?"
   ]
  },
  {
   "cell_type": "markdown",
   "metadata": {},
   "source": [
    "**2. Применение**"
   ]
  },
  {
   "cell_type": "code",
   "execution_count": 284,
   "metadata": {},
   "outputs": [
    {
     "data": {
      "text/plain": [
       "<_sre.SRE_Match object; span=(0, 3), match='Кот'>"
      ]
     },
     "execution_count": 284,
     "metadata": {},
     "output_type": "execute_result"
    }
   ],
   "source": [
    "pattern.match(text)"
   ]
  },
  {
   "cell_type": "code",
   "execution_count": 285,
   "metadata": {},
   "outputs": [
    {
     "data": {
      "text/plain": [
       "<_sre.SRE_Match object; span=(0, 3), match='Кот'>"
      ]
     },
     "execution_count": 285,
     "metadata": {},
     "output_type": "execute_result"
    }
   ],
   "source": [
    "pattern.search(text)"
   ]
  },
  {
   "cell_type": "markdown",
   "metadata": {},
   "source": [
    "а что если..."
   ]
  },
  {
   "cell_type": "code",
   "execution_count": 305,
   "metadata": {},
   "outputs": [],
   "source": [
    "text = \"кот Василий выпил компот, а Кот Ёван выпил лимонад\""
   ]
  },
  {
   "cell_type": "code",
   "execution_count": 290,
   "metadata": {},
   "outputs": [],
   "source": [
    "pattern.match(text)"
   ]
  },
  {
   "cell_type": "code",
   "execution_count": 291,
   "metadata": {},
   "outputs": [
    {
     "data": {
      "text/plain": [
       "<_sre.SRE_Match object; span=(4, 11), match='Василий'>"
      ]
     },
     "execution_count": 291,
     "metadata": {},
     "output_type": "execute_result"
    }
   ],
   "source": [
    "pattern.search(text)"
   ]
  },
  {
   "cell_type": "markdown",
   "metadata": {},
   "source": [
    "Догадались, что делает `.match()`, а что `.search()`? А так:"
   ]
  },
  {
   "cell_type": "code",
   "execution_count": 302,
   "metadata": {},
   "outputs": [
    {
     "data": {
      "text/plain": [
       "<_sre.SRE_Match object; span=(1, 4), match='кот'>"
      ]
     },
     "execution_count": 302,
     "metadata": {},
     "output_type": "execute_result"
    }
   ],
   "source": [
    "re.search(\"кот\", text)"
   ]
  },
  {
   "cell_type": "code",
   "execution_count": 297,
   "metadata": {},
   "outputs": [
    {
     "data": {
      "text/plain": [
       "<_sre.SRE_Match object; span=(0, 3), match='кот'>"
      ]
     },
     "execution_count": 297,
     "metadata": {},
     "output_type": "execute_result"
    }
   ],
   "source": [
    "re.match(\"кот\", text)"
   ]
  },
  {
   "cell_type": "markdown",
   "metadata": {},
   "source": [
    "**3. Разбор реззультатов:**"
   ]
  },
  {
   "cell_type": "markdown",
   "metadata": {},
   "source": [
    "Но что же нам все-таки возвращается, что это за `_sre.SRE_Match object`?"
   ]
  },
  {
   "cell_type": "code",
   "execution_count": 308,
   "metadata": {},
   "outputs": [],
   "source": [
    "text = \"кот Василий выпил компот, а Кот Ёван выпил лимонад\""
   ]
  },
  {
   "cell_type": "code",
   "execution_count": 309,
   "metadata": {},
   "outputs": [
    {
     "data": {
      "text/plain": [
       "'кот Василий выпил компот, а Кот Ёван выпил лимонад'"
      ]
     },
     "execution_count": 309,
     "metadata": {},
     "output_type": "execute_result"
    }
   ],
   "source": [
    "text"
   ]
  },
  {
   "cell_type": "code",
   "execution_count": 306,
   "metadata": {},
   "outputs": [],
   "source": [
    "result = re.match(\"кот\", text)"
   ]
  },
  {
   "cell_type": "markdown",
   "metadata": {},
   "source": [
    "Что-то, у чего есть начало и конец..."
   ]
  },
  {
   "cell_type": "code",
   "execution_count": 310,
   "metadata": {},
   "outputs": [
    {
     "name": "stdout",
     "output_type": "stream",
     "text": [
      "(0, 3)\n"
     ]
    }
   ],
   "source": [
    "print(result.span())"
   ]
  },
  {
   "cell_type": "code",
   "execution_count": 313,
   "metadata": {},
   "outputs": [
    {
     "name": "stdout",
     "output_type": "stream",
     "text": [
      "0 3\n"
     ]
    }
   ],
   "source": [
    "print(result.start(), result.end())"
   ]
  },
  {
   "cell_type": "code",
   "execution_count": 315,
   "metadata": {},
   "outputs": [
    {
     "data": {
      "text/plain": [
       "0"
      ]
     },
     "execution_count": 315,
     "metadata": {},
     "output_type": "execute_result"
    }
   ],
   "source": [
    "result.pos # позиция, с которой начинается поиск"
   ]
  },
  {
   "cell_type": "markdown",
   "metadata": {},
   "source": [
    "Объект, у которого есть группы:"
   ]
  },
  {
   "cell_type": "code",
   "execution_count": 316,
   "metadata": {},
   "outputs": [
    {
     "data": {
      "text/plain": [
       "'кот'"
      ]
     },
     "execution_count": 316,
     "metadata": {},
     "output_type": "execute_result"
    }
   ],
   "source": [
    "result.group()"
   ]
  },
  {
   "cell_type": "code",
   "execution_count": 317,
   "metadata": {},
   "outputs": [
    {
     "data": {
      "text/plain": [
       "()"
      ]
     },
     "execution_count": 317,
     "metadata": {},
     "output_type": "execute_result"
    }
   ],
   "source": [
    "result.groups()"
   ]
  },
  {
   "cell_type": "markdown",
   "metadata": {},
   "source": [
    "Давайте возьмем более наглядный пример:\n",
    "\n",
    "\n",
    "![](https://i.ibb.co/NtCW3c8/aa.jpg)"
   ]
  },
  {
   "cell_type": "code",
   "execution_count": 318,
   "metadata": {},
   "outputs": [],
   "source": [
    "date1 = \"Jan 1987\"\n",
    "date2 = \"May 1969\"\n",
    "date3 = \"Aug 2011\""
   ]
  },
  {
   "cell_type": "markdown",
   "metadata": {},
   "source": [
    "**1. Компиляция RE**"
   ]
  },
  {
   "cell_type": "code",
   "execution_count": 323,
   "metadata": {},
   "outputs": [],
   "source": [
    "date_p = re.compile(r\"(\\w+) (\\d{4})\")"
   ]
  },
  {
   "cell_type": "markdown",
   "metadata": {},
   "source": [
    "**2. Применение**"
   ]
  },
  {
   "cell_type": "code",
   "execution_count": 324,
   "metadata": {},
   "outputs": [
    {
     "data": {
      "text/plain": [
       "<_sre.SRE_Match object; span=(0, 8), match='Jan 1987'>"
      ]
     },
     "execution_count": 324,
     "metadata": {},
     "output_type": "execute_result"
    }
   ],
   "source": [
    "res = date_p.match(date1)\n",
    "res"
   ]
  },
  {
   "cell_type": "markdown",
   "metadata": {},
   "source": [
    "**3. Разбор реззультатов**"
   ]
  },
  {
   "cell_type": "code",
   "execution_count": 325,
   "metadata": {},
   "outputs": [
    {
     "data": {
      "text/plain": [
       "('Jan', '1987')"
      ]
     },
     "execution_count": 325,
     "metadata": {},
     "output_type": "execute_result"
    }
   ],
   "source": [
    "res.groups()"
   ]
  },
  {
   "cell_type": "code",
   "execution_count": 326,
   "metadata": {},
   "outputs": [
    {
     "data": {
      "text/plain": [
       "'Jan 1987'"
      ]
     },
     "execution_count": 326,
     "metadata": {},
     "output_type": "execute_result"
    }
   ],
   "source": [
    "res.group()"
   ]
  },
  {
   "cell_type": "code",
   "execution_count": 327,
   "metadata": {},
   "outputs": [
    {
     "data": {
      "text/plain": [
       "'Jan'"
      ]
     },
     "execution_count": 327,
     "metadata": {},
     "output_type": "execute_result"
    }
   ],
   "source": [
    "res.group(1)"
   ]
  },
  {
   "cell_type": "code",
   "execution_count": 328,
   "metadata": {},
   "outputs": [
    {
     "data": {
      "text/plain": [
       "'1987'"
      ]
     },
     "execution_count": 328,
     "metadata": {},
     "output_type": "execute_result"
    }
   ],
   "source": [
    "res.group(2)"
   ]
  },
  {
   "cell_type": "code",
   "execution_count": 329,
   "metadata": {},
   "outputs": [
    {
     "data": {
      "text/plain": [
       "'Jan 1987'"
      ]
     },
     "execution_count": 329,
     "metadata": {},
     "output_type": "execute_result"
    }
   ],
   "source": [
    "res.group(0)"
   ]
  },
  {
   "cell_type": "markdown",
   "metadata": {},
   "source": [
    "Группы внутри групп возможны. Все группы упорядочиваются по открывающейся скобке."
   ]
  },
  {
   "cell_type": "code",
   "execution_count": 333,
   "metadata": {},
   "outputs": [
    {
     "name": "stdout",
     "output_type": "stream",
     "text": [
      "aabcc ('abc', 'b', 'c')\n"
     ]
    }
   ],
   "source": [
    "expr = re.compile('a(a(.)c)(c)') \n",
    "res = expr.search('aaabccc')\n",
    "print(res.group(), res.groups())"
   ]
  },
  {
   "cell_type": "markdown",
   "metadata": {},
   "source": [
    "На следующем занятии мы с вами поговорим про:\n",
    "    \n",
    "  1. `.sub()`\n",
    "  2. `.split()`\n",
    "  3. `.finditer()`\n",
    "  4. flags in RE\n",
    "  5. Специальные группы\n",
    "  6. Нумерацию групп"
   ]
  },
  {
   "cell_type": "markdown",
   "metadata": {},
   "source": [
    "## re.sub()\n",
    "\n",
    "Замена подстрок, найденных регуляркой на другую подстроку.\n",
    "\n",
    "Команда: `re.sub(\"что заменяем\", \"на что заменяем\", \"где заменяем\")`\n",
    "\n",
    "Например, мы скачали много постов с ссылками и хотим эти ссылки удалить. А в тексте оставить строку \"[здесь была ссылка]\", чтобы мы всегда могли подсчитать, сколько ссылок было изначально."
   ]
  },
  {
   "cell_type": "code",
   "execution_count": 338,
   "metadata": {},
   "outputs": [
    {
     "name": "stdout",
     "output_type": "stream",
     "text": [
      " 13 сентября будем ходить ходуном. Прямо  48asd7h во дворе Пауэрхауса. Всё, как обычно, только соскучившись. Новые песни, старые песни. Прыжки и кувырки. Радость и смех.\n",
      "13Такое надо в корне пресекать!\n",
      "13Билеты: https://sbp4band.ticketscloud.org \n",
      "\n",
      "Пожалуйста, планируйте приобретение билетов заранее. Высока вероятность, что продажа на входе осуществляться не будет\n"
     ]
    }
   ],
   "source": [
    "text = \"\"\" 13 сентября будем ходить ходуном. Прямо  48asd7h во дворе Пауэрхауса. Всё, как обычно, только соскучившись. Новые песни, старые песни. Прыжки и кувырки. Радость и смех.\n",
    "13Такое надо в корне пресекать!\n",
    "13Билеты: https://sbp4band.ticketscloud.org \n",
    "\n",
    "Пожалуйста, планируйте приобретение билетов заранее. Высока вероятность, что продажа на входе осуществляться не будет\"\"\"\n",
    "\n",
    "print(text)"
   ]
  },
  {
   "cell_type": "code",
   "execution_count": null,
   "metadata": {},
   "outputs": [],
   "source": [
    "html = r\"https://.+\\b\""
   ]
  },
  {
   "cell_type": "markdown",
   "metadata": {},
   "source": [
    "Как бы мы попытались заменить ссылки без `re`:"
   ]
  },
  {
   "cell_type": "code",
   "execution_count": null,
   "metadata": {},
   "outputs": [],
   "source": [
    "text.replace(html, \"<LINK>\")"
   ]
  },
  {
   "cell_type": "markdown",
   "metadata": {},
   "source": [
    "Используйте `re.sub()`:"
   ]
  },
  {
   "cell_type": "code",
   "execution_count": null,
   "metadata": {},
   "outputs": [],
   "source": [
    "text = re.sub(html, \"<LINK>\", text)\n",
    "\n",
    "print(text)"
   ]
  },
  {
   "cell_type": "markdown",
   "metadata": {},
   "source": [
    "Такая запись тоже имеет место быть:"
   ]
  },
  {
   "cell_type": "code",
   "execution_count": null,
   "metadata": {},
   "outputs": [],
   "source": [
    "html_p = re.compile(r\"https://.+\\b\")\n",
    "print(html_p.sub(\"<LINK>\", text))"
   ]
  },
  {
   "cell_type": "code",
   "execution_count": null,
   "metadata": {},
   "outputs": [],
   "source": [
    "text.?????(\"<LINK>\") # cколько ссылок в тексте"
   ]
  },
  {
   "cell_type": "markdown",
   "metadata": {},
   "source": [
    "## re.split()\n",
    "\n",
    "Деление строки на части, разделителем является регулярное выражение\n",
    "\n",
    "Команда: `re.split(\"разделитель\", \"что делим\")`"
   ]
  },
  {
   "cell_type": "code",
   "execution_count": null,
   "metadata": {},
   "outputs": [],
   "source": [
    "p = re.compile(\"a\")"
   ]
  },
  {
   "cell_type": "code",
   "execution_count": null,
   "metadata": {},
   "outputs": [],
   "source": [
    "re.split(p,  \"Abracadabrabr\")"
   ]
  },
  {
   "cell_type": "code",
   "execution_count": null,
   "metadata": {},
   "outputs": [],
   "source": [
    "re.split(\"\\n\\n\", text)"
   ]
  },
  {
   "cell_type": "markdown",
   "metadata": {},
   "source": [
    "А теперь, наконец-таки, мы научимся ПРАВИЛЬНО делить слова на предложения:"
   ]
  },
  {
   "cell_type": "code",
   "execution_count": null,
   "metadata": {},
   "outputs": [],
   "source": [
    "re.split(r\"(.+?[\\.!\\?]{1,})\\s\", text)"
   ]
  },
  {
   "cell_type": "markdown",
   "metadata": {},
   "source": [
    "_Почему у нас пустые строки и как это исправить?_"
   ]
  },
  {
   "cell_type": "code",
   "execution_count": null,
   "metadata": {},
   "outputs": [],
   "source": [
    "#your code here"
   ]
  },
  {
   "cell_type": "markdown",
   "metadata": {},
   "source": [
    "**Задание:** напишите регулярное выражение, разделяющее текст на слова. Для примера возьмите текст про концерт 13 сентября"
   ]
  },
  {
   "cell_type": "code",
   "execution_count": null,
   "metadata": {},
   "outputs": [],
   "source": [
    "# your code here"
   ]
  },
  {
   "cell_type": "markdown",
   "metadata": {},
   "source": [
    "И еще интересный случай:"
   ]
  },
  {
   "cell_type": "code",
   "execution_count": null,
   "metadata": {},
   "outputs": [],
   "source": [
    "[i[0] for i in re.findall(\"(I love (cats|dogs))\", \"I love cats, I love dogs\")]"
   ]
  },
  {
   "cell_type": "code",
   "execution_count": null,
   "metadata": {},
   "outputs": [],
   "source": []
  }
 ],
 "metadata": {
  "kernelspec": {
   "display_name": "Python 3",
   "language": "python",
   "name": "python3"
  },
  "language_info": {
   "codemirror_mode": {
    "name": "ipython",
    "version": 3
   },
   "file_extension": ".py",
   "mimetype": "text/x-python",
   "name": "python",
   "nbconvert_exporter": "python",
   "pygments_lexer": "ipython3",
   "version": "3.6.6"
  }
 },
 "nbformat": 4,
 "nbformat_minor": 2
}
