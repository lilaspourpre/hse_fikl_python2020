{
 "cells": [
  {
   "cell_type": "markdown",
   "metadata": {},
   "source": [
    "# Регулярные выражения"
   ]
  },
  {
   "cell_type": "markdown",
   "metadata": {},
   "source": [
    "Одной из основных областей, в которых применяются скриптовые языки, является разбор текстовых данных. Современные математические изыскания в области формальных языков и грамматик позволили создать единый механизм разбора текста, называемый **регулярными выражениями**. \n",
    "\n",
    "Шпаргалка: https://www.exlab.net/files/tools/sheets/regexp/regexp.pdf\n",
    "\n",
    "Особым любителям регулярок [сюда](https://alf.nu/RegexGolf).\n",
    "\n",
    "Обязательно к прочтению дома:\n",
    "\n",
    "* [Регулярные выражения, пособие для новичков. Часть 1](https://habr.com/ru/post/115825/)\n",
    "\n",
    "* [Регулярные выражения, пособие для новичков. Часть 2](https://habr.com/ru/post/115436/)\n",
    "\n",
    "* https://ru.wikipedia.org/wiki/Регулярные_выражения"
   ]
  },
  {
   "cell_type": "code",
   "execution_count": 53,
   "metadata": {},
   "outputs": [],
   "source": [
    "import re"
   ]
  },
  {
   "cell_type": "markdown",
   "metadata": {},
   "source": [
    "Как мы и говорили, любая строка уже и так является регулярным выражением:"
   ]
  },
  {
   "cell_type": "code",
   "execution_count": 118,
   "metadata": {},
   "outputs": [],
   "source": [
    "text = \"I have a cat and a dog. How many dogs do you have?\\\\\""
   ]
  },
  {
   "cell_type": "code",
   "execution_count": 110,
   "metadata": {},
   "outputs": [
    {
     "data": {
      "text/plain": [
       "['dog', 'dogs']"
      ]
     },
     "execution_count": 110,
     "metadata": {},
     "output_type": "execute_result"
    }
   ],
   "source": [
    "re.findall(r\"dogs?\", text)"
   ]
  },
  {
   "cell_type": "markdown",
   "metadata": {},
   "source": [
    "Не забывайте писать `r` перед строкой с регулярным выражением! Если перед открывающей кавычкой стоит символ  `r` (в любом регистре), то механизм экранирования отключается."
   ]
  },
  {
   "cell_type": "code",
   "execution_count": 119,
   "metadata": {},
   "outputs": [
    {
     "name": "stdout",
     "output_type": "stream",
     "text": [
      "I have a cat and a dog. How many dogs do you have?\\\n"
     ]
    }
   ],
   "source": [
    "print(text)"
   ]
  },
  {
   "cell_type": "code",
   "execution_count": 75,
   "metadata": {},
   "outputs": [],
   "source": [
    "text += \"\\\\\""
   ]
  },
  {
   "cell_type": "code",
   "execution_count": 127,
   "metadata": {},
   "outputs": [
    {
     "name": "stdout",
     "output_type": "stream",
     "text": [
      "I have a cat and a dog. How many dogs do you have?\\\n"
     ]
    }
   ],
   "source": [
    "print(text)"
   ]
  },
  {
   "cell_type": "code",
   "execution_count": 125,
   "metadata": {},
   "outputs": [
    {
     "name": "stdout",
     "output_type": "stream",
     "text": [
      "['\\\\']\n"
     ]
    }
   ],
   "source": [
    "print(re.findall(r\"\\\\\", text))"
   ]
  },
  {
   "cell_type": "code",
   "execution_count": 102,
   "metadata": {},
   "outputs": [
    {
     "data": {
      "text/plain": [
       "['github.com/lilaspourpre']"
      ]
     },
     "execution_count": 102,
     "metadata": {},
     "output_type": "execute_result"
    }
   ],
   "source": [
    "re.findall(r\"github\\.com/[A-z-0-9]+\", \"https://github.com/lilaspourpre\")"
   ]
  },
  {
   "cell_type": "code",
   "execution_count": 134,
   "metadata": {},
   "outputs": [
    {
     "data": {
      "text/plain": [
       "['8(927)-127-65-3']"
      ]
     },
     "execution_count": 134,
     "metadata": {},
     "output_type": "execute_result"
    }
   ],
   "source": [
    "re.findall(r\"[()\\d -]{11,15}\", \"8(927)-127-65-34\")"
   ]
  },
  {
   "cell_type": "code",
   "execution_count": 141,
   "metadata": {},
   "outputs": [
    {
     "data": {
      "text/plain": [
       "['лиса', 'анна']"
      ]
     },
     "execution_count": 141,
     "metadata": {},
     "output_type": "execute_result"
    }
   ],
   "source": [
    "re.findall(r\"\\w+а\\b\", \"лиса анна\")"
   ]
  },
  {
   "cell_type": "code",
   "execution_count": 142,
   "metadata": {},
   "outputs": [
    {
     "data": {
      "text/plain": [
       "['л_иса', 'анна']"
      ]
     },
     "execution_count": 142,
     "metadata": {},
     "output_type": "execute_result"
    }
   ],
   "source": [
    "re.findall(r\"\\w+\", \"л_иса анна\")"
   ]
  },
  {
   "cell_type": "markdown",
   "metadata": {},
   "source": [
    "## `.findall()`\n",
    "\n",
    "что возвращает этот метод?"
   ]
  },
  {
   "cell_type": "markdown",
   "metadata": {},
   "source": [
    "Давайте попробуем вспомнить из игры регулярку, выделяющую даты..."
   ]
  },
  {
   "cell_type": "code",
   "execution_count": 144,
   "metadata": {},
   "outputs": [],
   "source": [
    "clubhouse = \"\"\"\n",
    "Александрова Олеся Сергеевна\n",
    "18.06.1999\n",
    "\n",
    "Васильев Александр Вячеславович\n",
    "24.06.1999\n",
    "\n",
    "Ганке Дарья Александровна\n",
    "25.06.1999\n",
    "\n",
    "Жердев Сергей Витальевич\n",
    "1.06.1999\n",
    "\n",
    "\n",
    "Иванова Ольга Сергеевна\n",
    "29.10.1999\n",
    "\n",
    "\n",
    "Картенева Анастасия Викторовна\n",
    "23.03.1998\n",
    "\"\"\""
   ]
  },
  {
   "cell_type": "code",
   "execution_count": 146,
   "metadata": {},
   "outputs": [
    {
     "data": {
      "text/plain": [
       "['18.06.1999',\n",
       " '24.06.1999',\n",
       " '25.06.1999',\n",
       " '1.06.1999',\n",
       " '29.10.1999',\n",
       " '23.03.1998']"
      ]
     },
     "execution_count": 146,
     "metadata": {},
     "output_type": "execute_result"
    }
   ],
   "source": [
    "re.findall(r\"\\d{1,2}\\.\\d{2}\\.\\d{4}\", clubhouse)"
   ]
  },
  {
   "cell_type": "markdown",
   "metadata": {},
   "source": [
    "Класс? Но есть одно но... Появился новый текст и снова надо подавать на вход регуляркку... и так каждый раз... Какое решение может быть?"
   ]
  },
  {
   "cell_type": "markdown",
   "metadata": {},
   "source": [
    "**Правильный подход к вычислению регулярных выражений длинный и поэтапный:**\n",
    "\n",
    "1) **\"Компиляция\"** регулярного выражения. На этом этапе \"шаблон\" преобразуется в сложный объект языка, содержащий в себе механизмы эффективного поиска ДАННОГО шаблона.\n",
    "\n",
    "2) **\"Применение\"** регулярного выражения к тексту. На этом этапе происходит обработка текста в объекте, созданном в пункте 1. \n",
    "\n",
    "3) **\"Разбор результата\"**. Как правило, результат, получившийся в результате поиска, сам содержит много избыточной информации. Наша задача вычленить ровно то, что нам нужно. "
   ]
  },
  {
   "cell_type": "markdown",
   "metadata": {},
   "source": [
    "Давайте пока разберемся с первыми двумя пунктами на примере `.findall()`"
   ]
  },
  {
   "cell_type": "markdown",
   "metadata": {},
   "source": [
    "1. Компиляция RE:\n",
    "\n",
    "ничего удивительного, команда `re.compile()`, в скобках передаем само регулярное выражение"
   ]
  },
  {
   "cell_type": "code",
   "execution_count": 147,
   "metadata": {},
   "outputs": [],
   "source": [
    "date_pattern = re.compile(r\"\\d{1,2}\\.\\d{2}\\.\\d{4}\")"
   ]
  },
  {
   "cell_type": "markdown",
   "metadata": {},
   "source": [
    "2. Применение регулярного выражения:"
   ]
  },
  {
   "cell_type": "code",
   "execution_count": 148,
   "metadata": {},
   "outputs": [
    {
     "data": {
      "text/plain": [
       "['18.06.1999',\n",
       " '24.06.1999',\n",
       " '25.06.1999',\n",
       " '1.06.1999',\n",
       " '29.10.1999',\n",
       " '23.03.1998']"
      ]
     },
     "execution_count": 148,
     "metadata": {},
     "output_type": "execute_result"
    }
   ],
   "source": [
    "date_pattern.findall(clubhouse)"
   ]
  },
  {
   "cell_type": "code",
   "execution_count": 149,
   "metadata": {},
   "outputs": [
    {
     "data": {
      "text/plain": [
       "[]"
      ]
     },
     "execution_count": 149,
     "metadata": {},
     "output_type": "execute_result"
    }
   ],
   "source": [
    "date_pattern.findall(text)"
   ]
  },
  {
   "cell_type": "markdown",
   "metadata": {},
   "source": [
    "Закрепим на любимом Кьеркегоре:"
   ]
  },
  {
   "cell_type": "code",
   "execution_count": 152,
   "metadata": {},
   "outputs": [],
   "source": [
    "kierkegaard = \"\"\"Киркегор - датский философ, богослов и писатель, один из предшественников экзистенциализма. \n",
    " С. Кьеркегор окончил теологический факультет Копенгагенского университета в 1840 году. \n",
    " Степень магистра получил в 1841 году, защитив диссертацию “О понятии иронии, с постоянным обращением к Сократу”, \n",
    " посвященную концепциям иронии у древнегреческих авторов и романтиков. \n",
    " Работы С. Кьеркегора отличаются исключительной психологической точностью и глубиной. \n",
    " Вклад в развистие философии, сделанный Кьеркегаардом. неоценим. Сёрен Киркегаард: немецкое издание Сёрена Киркегаарда. \n",
    " Спецкурс “С. Керкегор и история христианства в XIX в.” посвящен датскому философу Серену Керкегору.\n",
    " \"\"\""
   ]
  },
  {
   "cell_type": "code",
   "execution_count": 526,
   "metadata": {},
   "outputs": [
    {
     "name": "stdout",
     "output_type": "stream",
     "text": [
      "32\n"
     ]
    }
   ],
   "source": [
    "MY_REGEX = r\"К[иь]?е?ркег[оа]{1,2}рд?[уоа]?м?\"\n",
    "print(len(MY_REGEX))\n",
    "kierk_p = re.compile(MY_REGEX)"
   ]
  },
  {
   "cell_type": "code",
   "execution_count": 527,
   "metadata": {},
   "outputs": [
    {
     "name": "stdout",
     "output_type": "stream",
     "text": [
      "['Киркегор', 'Кьеркегор', 'Кьеркегора', 'Кьеркегаардом', 'Киркегаард', 'Киркегаарда', 'Керкегор', 'Керкегору'] 8\n"
     ]
    }
   ],
   "source": [
    "result = kierk_p.findall(kierkegaard)\n",
    "print(result, len(result))"
   ]
  },
  {
   "cell_type": "markdown",
   "metadata": {},
   "source": [
    "## `.match()` и `.search()`"
   ]
  },
  {
   "cell_type": "code",
   "execution_count": 304,
   "metadata": {},
   "outputs": [],
   "source": [
    "text = \"Кот Василий выпил компот, а Кот Ёван выпил лимонад\""
   ]
  },
  {
   "cell_type": "markdown",
   "metadata": {},
   "source": [
    "**1. Компиляция RE**"
   ]
  },
  {
   "cell_type": "code",
   "execution_count": 303,
   "metadata": {},
   "outputs": [],
   "source": [
    "pattern = re.compile(r\"[А-ЯЁ][а-яё]+\")  # что означает эта регулярка?"
   ]
  },
  {
   "cell_type": "markdown",
   "metadata": {},
   "source": [
    "**2. Применение**"
   ]
  },
  {
   "cell_type": "code",
   "execution_count": 284,
   "metadata": {},
   "outputs": [
    {
     "data": {
      "text/plain": [
       "<_sre.SRE_Match object; span=(0, 3), match='Кот'>"
      ]
     },
     "execution_count": 284,
     "metadata": {},
     "output_type": "execute_result"
    }
   ],
   "source": [
    "pattern.match(text)"
   ]
  },
  {
   "cell_type": "code",
   "execution_count": 285,
   "metadata": {},
   "outputs": [
    {
     "data": {
      "text/plain": [
       "<_sre.SRE_Match object; span=(0, 3), match='Кот'>"
      ]
     },
     "execution_count": 285,
     "metadata": {},
     "output_type": "execute_result"
    }
   ],
   "source": [
    "pattern.search(text)"
   ]
  },
  {
   "cell_type": "markdown",
   "metadata": {},
   "source": [
    "а что если..."
   ]
  },
  {
   "cell_type": "code",
   "execution_count": 305,
   "metadata": {},
   "outputs": [],
   "source": [
    "text = \"кот Василий выпил компот, а Кот Ёван выпил лимонад\""
   ]
  },
  {
   "cell_type": "code",
   "execution_count": 290,
   "metadata": {},
   "outputs": [],
   "source": [
    "pattern.match(text)"
   ]
  },
  {
   "cell_type": "code",
   "execution_count": 291,
   "metadata": {},
   "outputs": [
    {
     "data": {
      "text/plain": [
       "<_sre.SRE_Match object; span=(4, 11), match='Василий'>"
      ]
     },
     "execution_count": 291,
     "metadata": {},
     "output_type": "execute_result"
    }
   ],
   "source": [
    "pattern.search(text)"
   ]
  },
  {
   "cell_type": "markdown",
   "metadata": {},
   "source": [
    "Догадались, что делает `.match()`, а что `.search()`? А так:"
   ]
  },
  {
   "cell_type": "code",
   "execution_count": 302,
   "metadata": {},
   "outputs": [
    {
     "data": {
      "text/plain": [
       "<_sre.SRE_Match object; span=(1, 4), match='кот'>"
      ]
     },
     "execution_count": 302,
     "metadata": {},
     "output_type": "execute_result"
    }
   ],
   "source": [
    "re.search(\"кот\", text)"
   ]
  },
  {
   "cell_type": "code",
   "execution_count": 297,
   "metadata": {},
   "outputs": [
    {
     "data": {
      "text/plain": [
       "<_sre.SRE_Match object; span=(0, 3), match='кот'>"
      ]
     },
     "execution_count": 297,
     "metadata": {},
     "output_type": "execute_result"
    }
   ],
   "source": [
    "re.match(\"кот\", text)"
   ]
  },
  {
   "cell_type": "markdown",
   "metadata": {},
   "source": [
    "**3. Разбор реззультатов:**"
   ]
  },
  {
   "cell_type": "markdown",
   "metadata": {},
   "source": [
    "Но что же нам все-таки возвращается, что это за `_sre.SRE_Match object`?"
   ]
  },
  {
   "cell_type": "code",
   "execution_count": 308,
   "metadata": {},
   "outputs": [],
   "source": [
    "text = \"кот Василий выпил компот, а Кот Ёван выпил лимонад\""
   ]
  },
  {
   "cell_type": "code",
   "execution_count": 309,
   "metadata": {},
   "outputs": [
    {
     "data": {
      "text/plain": [
       "'кот Василий выпил компот, а Кот Ёван выпил лимонад'"
      ]
     },
     "execution_count": 309,
     "metadata": {},
     "output_type": "execute_result"
    }
   ],
   "source": [
    "text"
   ]
  },
  {
   "cell_type": "code",
   "execution_count": 306,
   "metadata": {},
   "outputs": [],
   "source": [
    "result = re.match(\"кот\", text)"
   ]
  },
  {
   "cell_type": "markdown",
   "metadata": {},
   "source": [
    "Что-то, у чего есть начало и конец..."
   ]
  },
  {
   "cell_type": "code",
   "execution_count": 310,
   "metadata": {},
   "outputs": [
    {
     "name": "stdout",
     "output_type": "stream",
     "text": [
      "(0, 3)\n"
     ]
    }
   ],
   "source": [
    "print(result.span())"
   ]
  },
  {
   "cell_type": "code",
   "execution_count": 313,
   "metadata": {},
   "outputs": [
    {
     "name": "stdout",
     "output_type": "stream",
     "text": [
      "0 3\n"
     ]
    }
   ],
   "source": [
    "print(result.start(), result.end())"
   ]
  },
  {
   "cell_type": "code",
   "execution_count": 315,
   "metadata": {},
   "outputs": [
    {
     "data": {
      "text/plain": [
       "0"
      ]
     },
     "execution_count": 315,
     "metadata": {},
     "output_type": "execute_result"
    }
   ],
   "source": [
    "result.pos # позиция, с которой начинается поиск"
   ]
  },
  {
   "cell_type": "markdown",
   "metadata": {},
   "source": [
    "Объект, у которого есть группы:"
   ]
  },
  {
   "cell_type": "code",
   "execution_count": 316,
   "metadata": {},
   "outputs": [
    {
     "data": {
      "text/plain": [
       "'кот'"
      ]
     },
     "execution_count": 316,
     "metadata": {},
     "output_type": "execute_result"
    }
   ],
   "source": [
    "result.group()"
   ]
  },
  {
   "cell_type": "code",
   "execution_count": 317,
   "metadata": {},
   "outputs": [
    {
     "data": {
      "text/plain": [
       "()"
      ]
     },
     "execution_count": 317,
     "metadata": {},
     "output_type": "execute_result"
    }
   ],
   "source": [
    "result.groups()"
   ]
  },
  {
   "cell_type": "markdown",
   "metadata": {},
   "source": [
    "Давайте возьмем более наглядный пример:\n",
    "\n",
    "\n",
    "![](https://i.ibb.co/NtCW3c8/aa.jpg)"
   ]
  },
  {
   "cell_type": "code",
   "execution_count": 91,
   "metadata": {},
   "outputs": [],
   "source": [
    "date1 = \"Jan 1987\"\n",
    "date2 = \"May 1969\"\n",
    "date3 = \"Aug 2011\""
   ]
  },
  {
   "cell_type": "markdown",
   "metadata": {},
   "source": [
    "**1. Компиляция RE**"
   ]
  },
  {
   "cell_type": "code",
   "execution_count": 93,
   "metadata": {},
   "outputs": [],
   "source": [
    "date_p = re.compile(r\"(\\w+) (\\d{4})\")"
   ]
  },
  {
   "cell_type": "markdown",
   "metadata": {},
   "source": [
    "**2. Применение**"
   ]
  },
  {
   "cell_type": "code",
   "execution_count": 94,
   "metadata": {},
   "outputs": [
    {
     "data": {
      "text/plain": [
       "<re.Match object; span=(0, 8), match='Jan 1987'>"
      ]
     },
     "execution_count": 94,
     "metadata": {},
     "output_type": "execute_result"
    }
   ],
   "source": [
    "res = date_p.match(date1)\n",
    "res"
   ]
  },
  {
   "cell_type": "markdown",
   "metadata": {},
   "source": [
    "**3. Разбор реззультатов**"
   ]
  },
  {
   "cell_type": "code",
   "execution_count": 95,
   "metadata": {},
   "outputs": [
    {
     "data": {
      "text/plain": [
       "('Jan', '1987')"
      ]
     },
     "execution_count": 95,
     "metadata": {},
     "output_type": "execute_result"
    }
   ],
   "source": [
    "res.groups()"
   ]
  },
  {
   "cell_type": "code",
   "execution_count": 99,
   "metadata": {},
   "outputs": [
    {
     "data": {
      "text/plain": [
       "'Jan 1987'"
      ]
     },
     "execution_count": 99,
     "metadata": {},
     "output_type": "execute_result"
    }
   ],
   "source": [
    "res.group(0)"
   ]
  },
  {
   "cell_type": "code",
   "execution_count": 100,
   "metadata": {},
   "outputs": [
    {
     "data": {
      "text/plain": [
       "'Jan'"
      ]
     },
     "execution_count": 100,
     "metadata": {},
     "output_type": "execute_result"
    }
   ],
   "source": [
    "res.group(1)"
   ]
  },
  {
   "cell_type": "code",
   "execution_count": 101,
   "metadata": {},
   "outputs": [
    {
     "data": {
      "text/plain": [
       "'1987'"
      ]
     },
     "execution_count": 101,
     "metadata": {},
     "output_type": "execute_result"
    }
   ],
   "source": [
    "res.group(2)"
   ]
  },
  {
   "cell_type": "code",
   "execution_count": 329,
   "metadata": {},
   "outputs": [
    {
     "data": {
      "text/plain": [
       "'Jan 1987'"
      ]
     },
     "execution_count": 329,
     "metadata": {},
     "output_type": "execute_result"
    }
   ],
   "source": [
    "res.group(0)"
   ]
  },
  {
   "cell_type": "markdown",
   "metadata": {},
   "source": [
    "Группы внутри групп возможны. Все группы упорядочиваются по открывающейся скобке."
   ]
  },
  {
   "cell_type": "code",
   "execution_count": 102,
   "metadata": {},
   "outputs": [
    {
     "name": "stdout",
     "output_type": "stream",
     "text": [
      "aabcc ('abc', 'b', 'c')\n"
     ]
    }
   ],
   "source": [
    "expr = re.compile('a(a(.)c)(c)') \n",
    "res = expr.search('aaabccc')\n",
    "print(res.group(), res.groups())"
   ]
  },
  {
   "cell_type": "code",
   "execution_count": 105,
   "metadata": {},
   "outputs": [
    {
     "data": {
      "text/plain": [
       "'abc'"
      ]
     },
     "execution_count": 105,
     "metadata": {},
     "output_type": "execute_result"
    }
   ],
   "source": [
    "res.group(1)"
   ]
  },
  {
   "cell_type": "markdown",
   "metadata": {},
   "source": [
    "# Regular Expressions Part 3"
   ]
  },
  {
   "cell_type": "markdown",
   "metadata": {},
   "source": [
    "  1. `.sub()`\n",
    "  2. `.split()`\n",
    "  3. `.finditer()`\n",
    "  4. flags in RE\n",
    "  5. Специальные группы\n",
    "  6. Нумерацию групп"
   ]
  },
  {
   "cell_type": "code",
   "execution_count": 127,
   "metadata": {},
   "outputs": [],
   "source": [
    "p = re.compile(\"Кот\")\n",
    "\n",
    "m_res = p.match(\"Кот выпил компот. Кот\")\n",
    "s_res = p.search(\"Кот выпил компот. Кот\")\n",
    "f_res = p.findall(\"Кот выпил компот. Кот\")\n",
    "fi_res = p.finditer(\"Кот выпил компот. Кот\")"
   ]
  },
  {
   "cell_type": "code",
   "execution_count": 90,
   "metadata": {},
   "outputs": [
    {
     "data": {
      "text/plain": [
       "['Кот', 'Кот']"
      ]
     },
     "execution_count": 90,
     "metadata": {},
     "output_type": "execute_result"
    }
   ],
   "source": [
    "f_res"
   ]
  },
  {
   "cell_type": "markdown",
   "metadata": {},
   "source": [
    "## re.sub()\n",
    "\n",
    "Замена подстрок, найденных регуляркой на другую подстроку.\n",
    "\n",
    "Команда: `re.sub(\"что заменяем\", \"на что заменяем\", \"где заменяем\")`\n",
    "\n",
    "Например, мы скачали много постов с ссылками и хотим эти ссылки удалить. А в тексте оставить строку \"[здесь была ссылка]\", чтобы мы всегда могли подсчитать, сколько ссылок было изначально."
   ]
  },
  {
   "cell_type": "code",
   "execution_count": 156,
   "metadata": {},
   "outputs": [
    {
     "name": "stdout",
     "output_type": "stream",
     "text": [
      " 13 сентября будем ходить ходуном. Прямо  48asd7h во дворе Пауэрхауса. Всё, как обычно, только соскучившись. Новые песни, старые песни. Прыжки и кувырки. Радость и смех.\n",
      "13Такое надо в корне пресекать!\n",
      "13Билеты: https://sbp4band.ticketscloud.org \n",
      "\n",
      "Пожалуйста, планируйте приобретение билетов заранее. Высока вероятность, что продажа на входе осуществляться не будет\n"
     ]
    }
   ],
   "source": [
    "text = \"\"\" 13 сентября будем ходить ходуном. Прямо  48asd7h во дворе Пауэрхауса. Всё, как обычно, только соскучившись. Новые песни, старые песни. Прыжки и кувырки. Радость и смех.\n",
    "13Такое надо в корне пресекать!\n",
    "13Билеты: https://sbp4band.ticketscloud.org \n",
    "\n",
    "Пожалуйста, планируйте приобретение билетов заранее. Высока вероятность, что продажа на входе осуществляться не будет\"\"\"\n",
    "\n",
    "print(text)"
   ]
  },
  {
   "cell_type": "code",
   "execution_count": 132,
   "metadata": {},
   "outputs": [],
   "source": [
    "html = r\"https://.+\\b\""
   ]
  },
  {
   "cell_type": "markdown",
   "metadata": {},
   "source": [
    "Как бы мы попытались заменить ссылки без `re`:"
   ]
  },
  {
   "cell_type": "code",
   "execution_count": 136,
   "metadata": {},
   "outputs": [
    {
     "data": {
      "text/plain": [
       "' 13 сентября будем ходить ходуном. Прямо  48asd7h во дворе Пауэрхауса. Всё, как обычно, только соскучившись. Новые песни, старые песни. Прыжки и кувырки. Радость и смех.\\n13Такое надо в корне пресекать!\\n13Билеты: https://sbp4band.ticketscloud.org \\n\\nПожалуйста, планируйте приобретение билетов заранее. Высока вероятность, что продажа на входе осуществляться не будет'"
      ]
     },
     "execution_count": 136,
     "metadata": {},
     "output_type": "execute_result"
    }
   ],
   "source": [
    "text.replace(html, \"<LINK>\")"
   ]
  },
  {
   "cell_type": "markdown",
   "metadata": {},
   "source": [
    "Используйте `re.sub()`:"
   ]
  },
  {
   "cell_type": "code",
   "execution_count": 199,
   "metadata": {},
   "outputs": [
    {
     "name": "stdout",
     "output_type": "stream",
     "text": [
      " 13 сентября будем ходить ходуном. Прямо  48asd7h во дворе Пауэрхауса. Всё, как обычно, только соскучившись. Новые песни, старые песни. Прыжки и кувырки. Радость и смех.\n",
      "13Такое надо в корне пресекать!\n",
      "13Билеты: <LINK> \n",
      "\n",
      "Пожалуйста, планируйте приобретение билетов заранее. Высока вероятность, что продажа на входе осуществляться не будет\n"
     ]
    }
   ],
   "source": [
    "text = re.sub(html, \"<LINK>\", text)\n",
    "\n",
    "print(text)"
   ]
  },
  {
   "cell_type": "markdown",
   "metadata": {},
   "source": [
    "Такая запись тоже имеет место быть:"
   ]
  },
  {
   "cell_type": "code",
   "execution_count": 142,
   "metadata": {},
   "outputs": [],
   "source": [
    "html_p = re.compile(r\"https://.+\\b\")\n",
    "text = html_p.sub(\"<LINK>\", text)"
   ]
  },
  {
   "cell_type": "code",
   "execution_count": 143,
   "metadata": {},
   "outputs": [
    {
     "data": {
      "text/plain": [
       "' 13 сентября будем ходить ходуном. Прямо  48asd7h во дворе Пауэрхауса. Всё, как обычно, только соскучившись. Новые песни, старые песни. Прыжки и кувырки. Радость и смех.\\n13Такое надо в корне пресекать!\\n13Билеты: <LINK> \\n\\nПожалуйста, планируйте приобретение билетов заранее. Высока вероятность, что продажа на входе осуществляться не будет'"
      ]
     },
     "execution_count": 143,
     "metadata": {},
     "output_type": "execute_result"
    }
   ],
   "source": [
    "text"
   ]
  },
  {
   "cell_type": "code",
   "execution_count": 144,
   "metadata": {},
   "outputs": [
    {
     "data": {
      "text/plain": [
       "1"
      ]
     },
     "execution_count": 144,
     "metadata": {},
     "output_type": "execute_result"
    }
   ],
   "source": [
    "text.count(\"<LINK>\") # cколько ссылок в тексте"
   ]
  },
  {
   "cell_type": "markdown",
   "metadata": {},
   "source": [
    "## re.split()\n",
    "\n",
    "Деление строки на части, разделителем является регулярное выражение\n",
    "\n",
    "Команда: `re.split(\"разделитель\", \"что делим\")`"
   ]
  },
  {
   "cell_type": "code",
   "execution_count": 149,
   "metadata": {},
   "outputs": [
    {
     "data": {
      "text/plain": [
       "['', 'br', 'c', 'd', 'br', '']"
      ]
     },
     "execution_count": 149,
     "metadata": {},
     "output_type": "execute_result"
    }
   ],
   "source": [
    "\"abracadabra\".split(\"a\")"
   ]
  },
  {
   "cell_type": "code",
   "execution_count": 148,
   "metadata": {},
   "outputs": [
    {
     "data": {
      "text/plain": [
       "['', 'br', 'c', 'd', 'br', '']"
      ]
     },
     "execution_count": 148,
     "metadata": {},
     "output_type": "execute_result"
    }
   ],
   "source": [
    "re.split(\"a\", \"abracadabra\")"
   ]
  },
  {
   "cell_type": "code",
   "execution_count": 150,
   "metadata": {},
   "outputs": [],
   "source": [
    "p = re.compile(\"a\")"
   ]
  },
  {
   "cell_type": "code",
   "execution_count": 151,
   "metadata": {},
   "outputs": [
    {
     "data": {
      "text/plain": [
       "['Abr', 'c', 'd', 'br', 'br']"
      ]
     },
     "execution_count": 151,
     "metadata": {},
     "output_type": "execute_result"
    }
   ],
   "source": [
    "p.split(\"Abracadabrabr\")"
   ]
  },
  {
   "cell_type": "code",
   "execution_count": 157,
   "metadata": {},
   "outputs": [
    {
     "data": {
      "text/plain": [
       "[' 13 сентября будем ходить ходуном. Прямо  48asd7h во дворе Пауэрхауса. Всё, как обычно, только соскучившись. Новые песни, старые песни. Прыжки и кувырки. Радость и смех.\\n13Такое надо в корне пресекать!\\n13Билеты: https://sbp4band.ticketscloud.org ',\n",
       " 'Пожалуйста, планируйте приобретение билетов заранее. Высока вероятность, что продажа на входе осуществляться не будет']"
      ]
     },
     "execution_count": 157,
     "metadata": {},
     "output_type": "execute_result"
    }
   ],
   "source": [
    "re.split(\"\\n\\n\", text)"
   ]
  },
  {
   "cell_type": "code",
   "execution_count": 158,
   "metadata": {},
   "outputs": [
    {
     "data": {
      "text/plain": [
       "[' 13 сентября будем ходить ходуном',\n",
       " ' Прямо  48asd7h во дворе Пауэрхауса',\n",
       " ' Всё, как обычно, только соскучившись',\n",
       " ' Новые песни, старые песни',\n",
       " ' Прыжки и кувырки',\n",
       " ' Радость и смех',\n",
       " '\\n13Такое надо в корне пресекать!\\n13Билеты: https://sbp4band',\n",
       " 'ticketscloud',\n",
       " 'org \\n\\nПожалуйста, планируйте приобретение билетов заранее',\n",
       " ' Высока вероятность, что продажа на входе осуществляться не будет']"
      ]
     },
     "execution_count": 158,
     "metadata": {},
     "output_type": "execute_result"
    }
   ],
   "source": [
    "text.split(\".\")"
   ]
  },
  {
   "cell_type": "markdown",
   "metadata": {},
   "source": [
    "А теперь, наконец-таки, мы научимся ПРАВИЛЬНО делить слова на предложения:"
   ]
  },
  {
   "cell_type": "code",
   "execution_count": 192,
   "metadata": {},
   "outputs": [],
   "source": [
    "sentences = re.split(r\"[\\.!\\?\\n]+\\s\", text)"
   ]
  },
  {
   "cell_type": "markdown",
   "metadata": {},
   "source": [
    "_Почему у нас пустые строки и как это исправить?_"
   ]
  },
  {
   "cell_type": "code",
   "execution_count": 193,
   "metadata": {},
   "outputs": [
    {
     "data": {
      "text/plain": [
       "[' 13 сентября будем ходить ходуном',\n",
       " 'Прямо  48asd7h во дворе Пауэрхауса',\n",
       " 'Всё, как обычно, только соскучившись',\n",
       " 'Новые песни, старые песни',\n",
       " 'Прыжки и кувырки',\n",
       " 'Радость и смех',\n",
       " '13Такое надо в корне пресекать',\n",
       " '13Билеты: https://sbp4band.ticketscloud.org ',\n",
       " 'Пожалуйста, планируйте приобретение билетов заранее',\n",
       " 'Высока вероятность, что продажа на входе осуществляться не будет']"
      ]
     },
     "execution_count": 193,
     "metadata": {},
     "output_type": "execute_result"
    }
   ],
   "source": [
    "sentences"
   ]
  },
  {
   "cell_type": "markdown",
   "metadata": {},
   "source": [
    "**Задание:** напишите регулярное выражение, разделяющее текст на слова. Для примера возьмите текст про концерт 13 сентября"
   ]
  },
  {
   "cell_type": "code",
   "execution_count": 200,
   "metadata": {},
   "outputs": [
    {
     "data": {
      "text/plain": [
       "['13',\n",
       " 'сентября',\n",
       " 'будем',\n",
       " 'ходить',\n",
       " 'ходуном',\n",
       " 'Прямо',\n",
       " '48asd7h',\n",
       " 'во',\n",
       " 'дворе',\n",
       " 'Пауэрхауса',\n",
       " 'Всё',\n",
       " 'как',\n",
       " 'обычно',\n",
       " 'только',\n",
       " 'соскучившись',\n",
       " 'Новые',\n",
       " 'песни',\n",
       " 'старые',\n",
       " 'песни',\n",
       " 'Прыжки',\n",
       " 'и',\n",
       " 'кувырки',\n",
       " 'Радость',\n",
       " 'и',\n",
       " 'смех',\n",
       " '13Такое',\n",
       " 'надо',\n",
       " 'в',\n",
       " 'корне',\n",
       " 'пресекать',\n",
       " '13Билеты',\n",
       " 'LINK',\n",
       " 'Пожалуйста',\n",
       " 'планируйте',\n",
       " 'приобретение',\n",
       " 'билетов',\n",
       " 'заранее',\n",
       " 'Высока',\n",
       " 'вероятность',\n",
       " 'что',\n",
       " 'продажа',\n",
       " 'на',\n",
       " 'входе',\n",
       " 'осуществляться',\n",
       " 'не',\n",
       " 'будет']"
      ]
     },
     "execution_count": 200,
     "metadata": {},
     "output_type": "execute_result"
    }
   ],
   "source": [
    "p = re.compile(r\"\\b[\\w]+\")\n",
    "\n",
    "p.findall(text)"
   ]
  },
  {
   "cell_type": "markdown",
   "metadata": {},
   "source": [
    "И еще интересный случай:"
   ]
  },
  {
   "cell_type": "code",
   "execution_count": 207,
   "metadata": {},
   "outputs": [
    {
     "data": {
      "text/plain": [
       "['I love cats', 'I love dogs']"
      ]
     },
     "execution_count": 207,
     "metadata": {},
     "output_type": "execute_result"
    }
   ],
   "source": [
    "[i[0] for i in re.findall(\"(I love (cats|dogs))\", \"I love cats, I love dogs\")]"
   ]
  },
  {
   "cell_type": "markdown",
   "metadata": {},
   "source": [
    "## .finditer()"
   ]
  },
  {
   "cell_type": "code",
   "execution_count": 125,
   "metadata": {},
   "outputs": [
    {
     "name": "stdout",
     "output_type": "stream",
     "text": [
      "ad\n",
      "\n",
      "sdfcs\n",
      "\n"
     ]
    }
   ],
   "source": [
    "with open(\"untitled.txt\") as f:\n",
    "    print(f.readline())\n",
    "    print(f.readline())"
   ]
  },
  {
   "cell_type": "code",
   "execution_count": 128,
   "metadata": {},
   "outputs": [
    {
     "name": "stdout",
     "output_type": "stream",
     "text": [
      "<callable_iterator object at 0x110fe9ca0>\n",
      "0\n",
      "28\n"
     ]
    }
   ],
   "source": [
    "text = \"Кот Василий выпил компот, а Кот Ёван выпил лимонад\"\n",
    "\n",
    "p = re.compile(r\"Кот\")\n",
    "\n",
    "result = p.finditer(text)\n",
    "print(result)\n",
    "for i in result:\n",
    "    print(i.start())"
   ]
  },
  {
   "cell_type": "code",
   "execution_count": 129,
   "metadata": {},
   "outputs": [
    {
     "data": {
      "text/plain": [
       "str"
      ]
     },
     "execution_count": 129,
     "metadata": {},
     "output_type": "execute_result"
    }
   ],
   "source": [
    "type(\"sdfgvdf\")"
   ]
  },
  {
   "cell_type": "code",
   "execution_count": 111,
   "metadata": {},
   "outputs": [],
   "source": [
    "f = p.finditer(text)"
   ]
  },
  {
   "cell_type": "code",
   "execution_count": 112,
   "metadata": {},
   "outputs": [
    {
     "data": {
      "text/plain": [
       "<re.Match object; span=(0, 3), match='Кот'>"
      ]
     },
     "execution_count": 112,
     "metadata": {},
     "output_type": "execute_result"
    }
   ],
   "source": [
    "next(f)"
   ]
  },
  {
   "cell_type": "code",
   "execution_count": 113,
   "metadata": {},
   "outputs": [
    {
     "data": {
      "text/plain": [
       "<re.Match object; span=(28, 31), match='Кот'>"
      ]
     },
     "execution_count": 113,
     "metadata": {},
     "output_type": "execute_result"
    }
   ],
   "source": [
    "next(f)"
   ]
  },
  {
   "cell_type": "code",
   "execution_count": 115,
   "metadata": {},
   "outputs": [],
   "source": [
    "for i in f:\n",
    "    print(i)"
   ]
  },
  {
   "cell_type": "code",
   "execution_count": 110,
   "metadata": {},
   "outputs": [
    {
     "name": "stdout",
     "output_type": "stream",
     "text": [
      "<re.Match object; span=(0, 3), match='Кот'>\n",
      "<re.Match object; span=(28, 31), match='Кот'>\n"
     ]
    }
   ],
   "source": [
    "for i in p.finditer(text):\n",
    "    print(i)"
   ]
  },
  {
   "cell_type": "markdown",
   "metadata": {},
   "source": [
    "## Нумерация групп"
   ]
  },
  {
   "cell_type": "markdown",
   "metadata": {},
   "source": [
    "Иногда возникает необходимость в обозначении повтора не только конкретного шаблона, а строки, подходящей под этот шаблон. Например, текстовый редактор может считать ошибкой слово, которое повторили два раза подряд через пробел. \n",
    "\n",
    "Для этого используется нумерация групп. Нумерация групп не работает, если строка не объявлена с префиксом r."
   ]
  },
  {
   "cell_type": "code",
   "execution_count": 4,
   "metadata": {},
   "outputs": [
    {
     "name": "stdout",
     "output_type": "stream",
     "text": [
      "*****  correct expression *****\n",
      "first second\n",
      "first first\n",
      "None\n",
      "first first\n",
      "*****  wrong expression *****\n",
      "None\n"
     ]
    }
   ],
   "source": [
    "print(\"*****  correct expression *****\")\n",
    "s_wrong = 'first second'\n",
    "s_correct = 'first first'\n",
    "\n",
    "expr = re.compile(r'.+ .+')\n",
    "print(expr.match(s_wrong).group())\n",
    "print(expr.match(s_correct).group())\n",
    "\n",
    "expr = re.compile(r'(.+) \\1')\n",
    "print(expr.match(s_wrong))\n",
    "print(expr.match(s_correct).group())\n",
    "\n",
    "print(\"*****  wrong expression *****\")\n",
    "expr = re.compile('(.+) \\1')\n",
    "print(expr.match(s_correct))"
   ]
  },
  {
   "cell_type": "code",
   "execution_count": 5,
   "metadata": {},
   "outputs": [
    {
     "name": "stdout",
     "output_type": "stream",
     "text": [
      "Python&Pails\n",
      "python&pails\n",
      "None\n"
     ]
    }
   ],
   "source": [
    "expr = re.compile(r'([Pp])ython&\\1ails')\n",
    "print(expr.match('Python&Pails').group())\n",
    "print(expr.match('python&pails').group())\n",
    "print(expr.match('Python&pails'))"
   ]
  },
  {
   "cell_type": "markdown",
   "metadata": {},
   "source": [
    "Одним из представителей специальных групп является именованная группа. Если кто-то делал (0_0 Не, реально, я уже в это не верю) задания внутри лекций, то он уже знает, сколько групп мижно пронумеровать. Чтобы задать больше групп, или задать группы с понятным названием, используются именованные группы. Общий вид: `(?P<name>)`\n",
    "\n",
    "Общий вид обращения: `(?P=name)`"
   ]
  },
  {
   "cell_type": "code",
   "execution_count": 56,
   "metadata": {},
   "outputs": [
    {
     "name": "stdout",
     "output_type": "stream",
     "text": [
      "None\n",
      "first first\n",
      "first\n"
     ]
    }
   ],
   "source": [
    "s_wrong = 'first second'\n",
    "s_correct = 'first first'\n",
    "\n",
    "expr = re.compile(r'(?P<something>.+) (?P=something)')\n",
    "print(expr.match(s_wrong))\n",
    "print(expr.match(s_correct).group())\n",
    "\n",
    "\n",
    "m = expr.match(s_correct)\n",
    "\n",
    "print(m.group('something'))"
   ]
  },
  {
   "cell_type": "markdown",
   "metadata": {},
   "source": [
    "Комменнтарии. Если не хотите в какой-то момент получить древнеегипетское регулярное выражение, ставьте комментарии даже в регулярных выражениях. Общий вид: `(?#comment)`"
   ]
  },
  {
   "cell_type": "code",
   "execution_count": 58,
   "metadata": {},
   "outputs": [
    {
     "name": "stdout",
     "output_type": "stream",
     "text": [
      "None\n",
      "first first\n"
     ]
    }
   ],
   "source": [
    "s_wrong = 'first second'\n",
    "s_correct = 'first first'\n",
    "\n",
    "expr = re.compile(r\"(?#first string)(?P<something>.+) (?#repeat of first string)(?P=something)(?#it is funny, isn\\'t it?)\")\n",
    "print(expr.match(s_wrong))\n",
    "print(expr.match(s_correct).group())"
   ]
  },
  {
   "cell_type": "markdown",
   "metadata": {},
   "source": [
    "## Специальные группы"
   ]
  },
  {
   "cell_type": "markdown",
   "metadata": {},
   "source": [
    "\"Заглядывания вперед\": строка распознается только если предположение верно, но само предположение в результат не входит. \n",
    "\n",
    "Синтаксис: `(?=assertion)`"
   ]
  },
  {
   "cell_type": "code",
   "execution_count": 67,
   "metadata": {},
   "outputs": [
    {
     "name": "stdout",
     "output_type": "stream",
     "text": [
      "[]\n",
      "['Jonn ']\n"
     ]
    }
   ],
   "source": [
    "s_wrong = 'Jonn Smith'\n",
    "s_correct = 'Jonn Silver'\n",
    "\n",
    "expr = re.compile(r'Jonn (?=Silver)')\n",
    "print(expr.findall(s_wrong))\n",
    "print(expr.findall(s_correct))"
   ]
  },
  {
   "cell_type": "markdown",
   "metadata": {},
   "source": [
    "Соответственно отрицание предположения - принимается что угодно, что не следует за предположением. `(?!assertion)`"
   ]
  },
  {
   "cell_type": "code",
   "execution_count": 68,
   "metadata": {},
   "outputs": [
    {
     "name": "stdout",
     "output_type": "stream",
     "text": [
      "Jonn \n",
      "None\n"
     ]
    }
   ],
   "source": [
    "expr = re.compile(r'Jonn (?!Silver)')\n",
    "print(expr.match(s_wrong).group())\n",
    "print(expr.match(s_correct))"
   ]
  },
  {
   "cell_type": "markdown",
   "metadata": {},
   "source": [
    "Ну и симметрично к lookahead должно существовать и lookbehind assertion. То же самое, только в начале функции. \n",
    "\n",
    "    (?<=assertion)\n",
    "    (?<!negative assertion)\n",
    "\n",
    "На это предполажение есть ряд ограничений. Самое главное - строка должна быть фиксированной длины. т.е. выражения вроде 'a*' туда ставить нельзя. "
   ]
  },
  {
   "cell_type": "code",
   "execution_count": 70,
   "metadata": {},
   "outputs": [
    {
     "name": "stdout",
     "output_type": "stream",
     "text": [
      "None\n",
      "Varlamov\n",
      "Varlamov\n",
      "None\n"
     ]
    }
   ],
   "source": [
    "s_wrong = 'I.Varlamov'\n",
    "s_correct = 'J.Varlamov'\n",
    "\n",
    "expr = re.compile(r'(?<=J\\.)Varlamov')\n",
    "print(expr.search(s_wrong))\n",
    "print(expr.search(s_correct).group())\n",
    "\n",
    "expr = re.compile(r'(?<!J\\.)Varlamov')\n",
    "print(expr.search(s_wrong).group())\n",
    "print(expr.search(s_correct))"
   ]
  },
  {
   "cell_type": "markdown",
   "metadata": {},
   "source": [
    "## Флаги"
   ]
  },
  {
   "cell_type": "markdown",
   "metadata": {},
   "source": [
    "Тексты, к которым применяются регулярные выражения разнообразны. Чтобы \"кастомизировать\" регулярное выражение под свои нужды, используются флаги компиляции."
   ]
  },
  {
   "cell_type": "markdown",
   "metadata": {},
   "source": [
    "Когда выражение должно игнорировать регистр, добавляется флаг `I (IGNORECASE)`. Результат возвращается в исходном регистре. (Внимание! Не работает на языках отличных от английского!)"
   ]
  },
  {
   "cell_type": "code",
   "execution_count": 74,
   "metadata": {},
   "outputs": [
    {
     "name": "stdout",
     "output_type": "stream",
     "text": [
      "******************************** result is here *********************************\n",
      "This\n",
      "This\n"
     ]
    }
   ],
   "source": [
    "s = \"This is a singleline string.!?\"\n",
    "\n",
    "expr = re.compile(r'this',re.I)\n",
    "res1 = expr.match(s)\n",
    "expr = re.compile(r'this',re.IGNORECASE)\n",
    "res2 = expr.match(s)\n",
    "print(\"******************************** result is here *********************************\")\n",
    "print(res1.group())\n",
    "print(res2.group())"
   ]
  },
  {
   "cell_type": "markdown",
   "metadata": {},
   "source": [
    "Для работы с многострочечными объектами применяется флаг M (MULTILINE). Он также изменяет значение символов ^ и $\n",
    "\n",
    "Флаг S (DOTALL) делает символ '.' обозначением **действительно** всех символов. Включая символ переноса строки. "
   ]
  },
  {
   "cell_type": "code",
   "execution_count": 75,
   "metadata": {},
   "outputs": [
    {
     "name": "stdout",
     "output_type": "stream",
     "text": [
      "******************************** result is here *********************************\n",
      "This is a singleline string\n",
      "This is a \n",
      "multiline string\n"
     ]
    }
   ],
   "source": [
    "sl = \"This is a singleline string.!?\"\n",
    "ml = \"\"\"This is a \n",
    "multiline string. \n",
    "R u ready \n",
    "to parse it?\"\"\"\n",
    "\n",
    "expr = re.compile(r'.*line.+string',re.DOTALL)\n",
    "rsl = expr.match(sl)\n",
    "rml = expr.match(ml)\n",
    "print(\"******************************** result is here *********************************\")\n",
    "print(rsl.group())\n",
    "print(rml.group())"
   ]
  },
  {
   "cell_type": "code",
   "execution_count": 80,
   "metadata": {},
   "outputs": [
    {
     "name": "stdout",
     "output_type": "stream",
     "text": [
      "[]\n"
     ]
    }
   ],
   "source": [
    "ml = \"\"\"This is a \n",
    "multiline string. \n",
    "R u ready \n",
    "to parse it?\"\"\"\n",
    "\n",
    "expr = re.compile(r'^multi')#,re.M)\n",
    "rml = expr.findall(ml)\n",
    "print(rml)"
   ]
  },
  {
   "cell_type": "markdown",
   "metadata": {},
   "source": [
    "# Задача 4."
   ]
  },
  {
   "cell_type": "code",
   "execution_count": 353,
   "metadata": {},
   "outputs": [],
   "source": [
    "def read_readme(text):\n",
    "    jsonlist = []\n",
    "\n",
    "    hashes = [len(i) for i in re.findall(r\"#+\", text)]\n",
    "    if hashes:\n",
    "        min_hash = min(hashes)\n",
    "        p = re.compile(r\"^(#{\"+str(min_hash)+\"} .+)$\", re.M)\n",
    "        levels = [i.strip() for i in p.split(text)][1:]\n",
    "        for i in levels:\n",
    "            if i.startswith(\"#\"*min_hash + \" \"):\n",
    "                jsonlist.append({\"title\": i.split(\"#\")[-1],\n",
    "                      \"text\": None,\n",
    "                      \"children\": []})\n",
    "            else:\n",
    "                index = i.find('#')\n",
    "                if index >= 0:\n",
    "                    jsonlist[-1]['text'] = i[:i.find(\"#\")].strip()\n",
    "                else:\n",
    "                    jsonlist[-1]['text'] = i.strip()\n",
    "                jsonlist[-1]['children'] = read_readme(i[i.find(\"#\"):])\n",
    "    return jsonlist"
   ]
  },
  {
   "cell_type": "code",
   "execution_count": 354,
   "metadata": {},
   "outputs": [
    {
     "data": {
      "text/plain": [
       "[{'title': ' заголовок',\n",
       "  'text': 'text1',\n",
       "  'children': [{'title': ' подзаголовок', 'text': 'text2', 'children': []},\n",
       "   {'title': ' подзаголовок', 'text': 'text3', 'children': []}]},\n",
       " {'title': ' ещё заголовок',\n",
       "  'text': '',\n",
       "  'children': [{'title': ' ещё подзаголовок',\n",
       "    'text': '',\n",
       "    'children': [{'title': ' и ещё', 'text': 'text4', 'children': []}]}]}]"
      ]
     },
     "execution_count": 354,
     "metadata": {},
     "output_type": "execute_result"
    }
   ],
   "source": [
    "import re \n",
    "\n",
    "with open(\"untitled.txt\") as f:\n",
    "    text = f.read()\n",
    "\n",
    "read_readme(text)"
   ]
  },
  {
   "cell_type": "markdown",
   "metadata": {},
   "source": [
    "# Задача 6."
   ]
  },
  {
   "cell_type": "code",
   "execution_count": 357,
   "metadata": {},
   "outputs": [],
   "source": [
    "import json\n",
    "\n",
    "with open(\"dialogues_001.json\") as f:\n",
    "    data = json.load(f)   "
   ]
  },
  {
   "cell_type": "code",
   "execution_count": 366,
   "metadata": {},
   "outputs": [
    {
     "name": "stdout",
     "output_type": "stream",
     "text": [
      "1_00000 Hi, could you get me a restaurant booking on the 8th please? Any preference on the restaurant, location and time?\n",
      "1_00000 Could you get me a reservation at P.f. Chang's in Corte Madera at afternoon 12? Please confirm your reservation at P.f. Chang's in Corte Madera at 12 pm for 2 on March 8th.\n",
      "1_00000 Sure, that is great. Sorry, your reservation could not be made. Could I help you with something else?\n",
      "1_00000 Could you try booking a table at Benissimo instead? Sure, please confirm your reservation at Benissimo Restaurant & Bar in Corte Madera at 12 pm for 2 on March 8th.\n",
      "1_00000 Sure, may I know if they have vegetarian options and how expensive is their food? Your reservation has been made. Unfortunately, they do not serve vegetarian options, although they are moderate priced.\n",
      "1_00000 I see, thanks alot! No worries, could I further assist you?\n",
      "1_00000 No, that is all. Thank you! Have a great day ahead!\n",
      "1_00001 Can you book a table for me at the Ancient Szechuan for the 11th of this month at 11:30 am? In which city are you trying to book the table?\n",
      "1_00001 Can you book a table at the Butterfly restaurant in San Francisco? Please confirm that you need a table for 2 at the Butterfly Restaurant in San Francisco at 11:30 am on March 11th.\n",
      "1_00001 That's perfect. What cuisine do they offer? Your table has been booked successfully and they serve Asian cuisine.\n",
      "1_00001 Can you get me the user rating of the restaurant? Is it expensive? Their prices are moderate and they have a user rating of 4.0.\n",
      "1_00001 Thanks a bunch! Is there anything else I can do for you?\n",
      "1_00001 No. Thank you. That's all I need. Have a great day!\n",
      "1_00002 Can you check restaurants in Pacifica, I'm looking to make a reservation. Is there a particular restaurant you want? What time did you want the reservation?\n",
      "1_00002 See if you can get one at Puerto 27 for 1:15 pm. To verify: You would like a reseravation at Puerto 27 in Pacifica for 1:15 pm on March 1st for 2.\n",
      "1_00002 Yes that's right. Your table is reserved.\n",
      "1_00002 Thanks so much. That's all I need for now. Have a great day.\n",
      "1_00003 I need to book a dinner reservation for a date. Help me reserve a table at a restaurant. What time and location do you have in mind?\n",
      "1_00003 Something around 8 in the night should be fine. Oh, and look in the San Jose area. Do you have a specific restaurant in mind?\n",
      "1_00003 Let's try booking a table at Little Hunan. You wish to reserve a table for 2 at Little Hunan in San Jose on March 1st at 8 pm. Is that correct?\n",
      "1_00003 It sure is. Please make the reservation right away. I was not able to process your reservation. I apologize for any inconvenience.\n",
      "1_00003 Okay. Try booking a table at Little Hunan again but make it at a quarter past 5 in the evening. Booking a table at Little Hunan located in San Jose. The reservation is for 2 people on March 1st at 5:15 pm. Is that right?\n",
      "1_00003 That's correct. Let's hope the reservation goes through this time. I was unable to book your table with those details. If you like, I can make a reservation for you at Little Hunan on March 1st at 5 pm for 2 people.\n",
      "1_00003 Really? That'll work just fine. Please try that. I have made your reservation and successfully reserved your table.\n",
      "1_00003 At last. Thank you so much. Before I let you go, can you tell me the restaurant's user rating? The user rating for Little Hunan is 3.9.\n",
      "1_00003 Are there any vegetarian dishes available at that restaurant? I apologize but they do not have vegetarian dishes.\n",
      "1_00003 That's alright. Thanks for the information. My pleasure. What else do you require?\n",
      "1_00003 Oh nothing. Booking the table was all I needed. Thanks again. Have a wonderful evening.\n",
      "1_00004 Can you book a reservation for a restaurant at this evening 5:30? At which restaurant would you like to make a reservation?\n",
      "1_00004 See if you can get a table at Mi Zacatecas. In which location is Mi Zacatecas?\n",
      "1_00004 It's in American Canyon. Please confirm the following: Book 1 table at Mi Zacatecas Family Restaurant in American Canyon for 2 at 5:30 pm on March 1st.\n",
      "1_00004 Confirm. Can you tell me what type of food they serve there? The reservation has successfully been made. They serve Mexican food.\n",
      "1_00004 Great, that will be all. Enjoy the rest of your day.\n",
      "1_00005 I need to book a table at a restaurant. At which time would you like to reserve it for?\n",
      "1_00005 I want it at 1:15 in the afternoon, please. In which location would you like it? What is the restaurant name?\n",
      "1_00005 I need a table at Saap Ver, in San Francisco. Please confirm the following information: Book a table at Saap Ver, in San Francisco at 1:15 PM on the day of March 1st. This is for a party of 2, correct?\n",
      "1_00005 Yes, that is everything. Address? Sorry, but the reservation could not be placed. Is there anything else to help with?\n",
      "1_00005 No, but thanks. Of course. Have a wonderful day.\n",
      "1_00006 I'm looking to book a table. Can you try Triptych in SF? Of course, what time would you prefer?\n",
      "1_00006 Give me 6:15 in the evening please. Here's what I heard: 2 people for a table at triptych in San Francisco at 6:15 pm on March 1st.\n",
      "1_00006 No, wrong. Give me Friday next week instead. Sure, I have booking table at Triptych on March 8th.\n",
      "1_00006 No, one more time. One person. I have March 8th 1 person.\n",
      "1_00006 Yes, that's a winner thanks. Do they have vegetarian options? Well, good news bad news. First they DO have vegetarian options at Triptych. Bad news, no availability at your preferred time. How about March 8th at 6 pm for 1?\n",
      "1_00006 No, that will not do. Sorry about that, have a good day.\n",
      "1_00007 I would like to make a reservation at a restaurant for half past 1 in the afternoon. In which restaurant would you like a table?\n",
      "1_00007 I would like a table at Left Bank. In which location would you like?\n",
      "1_00007 I would like a restaurant in Larkspur. Booking a table at Left Bank Larkspur Brasserie in Larkspur for 2 people on March 1st at 1:30 pm.\n",
      "1_00007 Yes, that reservation is good. Your reservation was made.\n",
      "1_00007 Thank you for your assistance. Have a good day.\n",
      "1_00008 I need to make a reservation for a restaurant in Oakland. The reservation should be for next Wednesday at 6:45 pm. Which restaurant would you like me to make a reservation for?\n",
      "1_00008 Can you book me a table at Mcdonald's? Please confirm: Reserve 1 table at Mcdonald's in Oakland for 2 people on March 6th at 6:45 pm.\n",
      "1_00008 That is correct. How expensive is the restaurant and does it have outdoor seating? Your reservation has been made. It is a cheap restaurant. It does not have outdoor seating.\n",
      "1_00008 Thank you. Can I assist you with anything else?\n",
      "1_00008 No thanks. Enjoy your day.\n",
      "1_00009 I want to make a restaurant reservation. What's the name of the restaurant and what time would you like the reservation?\n",
      "1_00009 It's name is La Hacienda and I want the reservation for 2 o\"clock in the afternoon. And where is the restaurant located?\n",
      "1_00009 It's in Cloverdale. I'll make a reservation for La Hacienda Mexican Restaurant in Cloverdale for March 1st at 2 pm for 2 people, is that good for you?\n",
      "1_00009 Yeah,that's good. What's the user rating of the restaurant? I'm sorry, but the reservation couldn't be completed. Is there anything else you need?\n",
      "1_00009 No, thanks a lot. You're welcome, have a fine day.\n",
      "1_00010 I am trying to book a dinner reservation in San Fran for one. Can you try booking a table at Lers Ros? What time would you like me to make a reservation for?\n",
      "1_00010 If you could, please make the reservation for 12:15 in the afternoon. Confirm the following about your reservation: I am booking a table for Lers Ros Thai in San Francisco. The reservatin is on March 1st at 12:15 pm for 1 person. Is this acceptable?\n",
      "1_00010 That will work just fine. I was unable to make a reservation with these details. I can book a table at Lers Ros Thai on March 1st at 12 pm for 1 person. Is that okay?\n",
      "1_00010 No that's all the help I needed. Thanks. You are welcome. Have a great rest of your day.\n",
      "1_00011 I want to book a table at a restaurant in Danville please Do you have a particular restaurant in mind?\n",
      "1_00011 Yeah actually, can you try Lotus for me For what time do you want to go?\n",
      "1_00011 Let's do it before lunch at 11:45 Confirming that you want a table for 2 at 11:45 am on March 1st at the Lotus Thai Restaurant in Danville?\n",
      "1_00011 Yes that's all correct Sorry I couldn't book that one, do you want me to try for 12 pm on March 1st instead? Still for 2 at Lotus Thai Restaurant\n",
      "1_00011 Yes please do that That one worked! It's booked!\n",
      "1_00011 Is it cheap over there? Also give me their address It's in the moderate price range, so not so bad. And find them at 115 Hartz Avenue\n",
      "1_00011 OK, thanks that's it for now Enjoy your meal there!\n",
      "1_00012 My boss from headquarters is coming to town and I would like to treat him and his wife to dinner. Can you help me find a restaurant in San Francisco with available seating for four people, next Tuesday? That shouldn't be a problem. Is there a specific time you had in mind?\n",
      "1_00012 Yes, a general dinner time is fine, so let's try to book a table for 6:30 pm. Okay, and what about the venue, Is there a particular restaurant you want me to search for first?\n",
      "1_00012 Yes, I'm told that Aq is very good. Let's try that one first. No problem, before I check into reservations, let me just make sure that the details I have are correct. You would like a table for 4 at Aq, located in San Francisco, on March 5th, at 6:30 pm. Is that right?\n",
      "1_00012 No, I'm sorry, I forgot he is not bring his wife so lets book a table for 3 at Ming's instead. Okay, I've changed those details to a table for 3 at Ming's Diner. Is that correct?\n",
      "1_00012 Perfect, and can you also tell me the the establishment's rating as well? The rating of the restaurant I was able to confirm your reservation for is 4.0.\n",
      "1_00012 Great, I believe that will be all fr now. Thanks! My pleasure, enjoy the rest of your day!\n",
      "1_00013 Help me to find hotel in Petaluma to book a table at evening 7:30. Do you have any particular restaurant to choose?\n",
      "1_00013 yeah, get me at Cattlemens. Then please confirm, you need a table for 2 people in Cattlemens in Petaluma at 7:30 pm on March 1st.\n",
      "1_00013 Good, thats all. It is booked.\n",
      "1_00013 Shall I get veg food there. What is their phone number? No, you won't get veg. Their address is 5012 Petaluma Boulevard North.\n",
      "1_00013 Great service, thank you. Do you need any other help?\n",
      "1_00013 No, thats all. Have a great day.\n",
      "1_00014 Can you help me book a table at Thai Chili on March 11th? Please find restaurants in Santa Clara. What time do you prefer?\n",
      "1_00014 I want 5:45 in the evening. Okay, you want to book a table for 2 people at Thai Chili Cuisine in Santa Clara on March 11th at 5:45 pm. Please confirm.\n",
      "1_00014 Yes, that's good. Sorry, I fail to make a reservation. Thai Chili Cuisine is a good restaurant, do you want me to book a reservation for 2 again on March 11th at 6 pm?\n",
      "1_00014 Yes, that's fine. Your booking is now confirmed!\n",
      "1_00014 Thanks a lot. You are welcome!\n",
      "1_00015 Could you look at restaurants for me to reserve a table? Sure! Where would you like me to search? Is there a particular restaurant?\n",
      "1_00015 How about Chianti Cucina in Novato. Okay, what time would you like to reserve?\n",
      "1_00015 For 4:45 pm please. Okay, please confirm the details: one table in Novato at restaurant Chianti Cucina for 4:45 pm on March 1st. Reservation is for 2.\n",
      "1_00015 Yes, perfect. Book it please. Is there any outdoor seating there? What kinds of foods do they have? They have Italian. Unfortunately, there is no outdoor seating. It looks like I will be unable to make the reservation for that time at Chianti Cucina. How about reserving a table for 2 people on March 1st at 5 pm\n",
      "1_00015 Yes please. Your table has been reserved.\n",
      "1_00015 Thanks so much. That's all. You're welcome, have a wonderful day.\n",
      "1_00016 I want to book a table for 4 people on March 10th in Petaluma. On what restaurant you want to be and at what time?\n",
      "1_00016 Try please at Izakaya Kitaru.At 17:30 will be very good for me. Book a table at Izakaya Kitaru in Petaluma for 4 people at 5:30 pm on March 10th.Is that okay for you?\n",
      "1_00016 Yes is okay.Outdoor seating are available? The reservation was made.Outdoor seating is not available.\n",
      "1_00016 Tell me the phone number and the address. 707-789-9068 is the phone number and the address is 212 Western Avenue.\n",
      "1_00016 Thanks for the help. That's what I wanted for the moment. Have a great day!\n",
      "1_00017 Can you book a table at a restaurant for me? What is the location and time for the booking?\n",
      "1_00017 I am looking for restaurants in Mountain View for the reservation at seven pm. What is the name of your preferred restaurant?\n",
      "1_00017 I would like to go with Sushi 85. Please confirm: You want me to book a table for 2 people at Sushi 85 located Mountain View at 7 pm on March 1st.\n",
      "1_00017 Okay, That sounds great! Find me the address please. I have successfully booked the table and the address is 1350 Grant Road.\n",
      "1_00017 Can you find me their phone number? You can call them on 650-965-8898.\n",
      "1_00017 Okay, Thank you for the help! Is there anything else I can help you with?\n",
      "1_00017 No. That will be all. Thank you! I am glad I could help. Have a nice day!\n",
      "1_00018 I need to reserve a table at a restaurant in SF for 7 pm. What restaurant do you want to reserve a table at?\n",
      "1_00018 Can you reserve a table at Regent? Please confirm: Reserve a table at Regent Thai in San Francisco for 2 people on March 1st at 7 pm.\n",
      "1_00018 That is correct. Your reservation has been confirmed.\n",
      "1_00018 Thanks, that is all. Enjoy your day.\n",
      "1_00019 I'd like to make a reservation at a restaurant. Is there a specific restaurant you'd like to make the reservation for?\n",
      "1_00019 It's a restaurant called Amalfi, please try that. Where is the restaurant located and what time do you want the reservation for?\n",
      "1_00019 I want it for 5:30 in the evening and it should be in Larkspur. I'll make you a reservation at Amalfi in Larkspur for 5:30 pm on March 1st for 2 people. Is that correct?\n",
      "1_00019 Yeah, that sounds awesome. I've booked the reservation.\n",
      "1_00019 Thanks a lot. That's it for now. Have an excellent rest of your day.\n",
      "1_00020 Can you help me to book a table at a restaurant for 2 people at evening 6:30 Is there any choice of restaurant you want to book?\n",
      "1_00020 Would you kindly book the table at Mcdonalds? In which place you want me to search?\n",
      "1_00020 Search restaurants in Morgan Hill and it is for next monday Please give the confirmation details:your table booking at Mcdonalds in the city Morgan Hill on march 4th for 2 people at 6:30 pm.\n",
      "1_00020 Okay..this is cool Your booking is confirmed.\n",
      "1_00020 Is there outdoor seating in that restaurant and can i know the phone number There is no outdoor seating and telephone number is 408-779-8182.\n",
      "1_00020 This is cool..thanks a lot. Have a nice day.\n",
      "1_00021 I would like to reserve a table for 1 at La Briciola tomorrow morning 11. What city should I search?\n",
      "1_00021 Search in SFO, please. You would like to reserve a table for 1 at La Briciola in San Francisco on March 1st at 11 am, is this correct?\n",
      "1_00021 No, please make it a table for 3. Please confirm, you would like the reservation for 3 people in San Francisco.\n",
      "1_00021 Yes, that sounds great. What type of food do they serve? It is an Italian restaurant. Sorry, I was unable to reserve the time you selected. Would you like to reserve a table for 3 at La Briciola on March 1st at 11:30 am?\n",
      "1_00021 That sounds fine. Your reservation is successful.\n",
      "1_00021 Thank you, I'm all set. Have a great day!\n",
      "1_00022 Can you find me a restaurant table for 3 people in Alameda, please? What time would you like a reservation?\n",
      "1_00022 I'd like it for 11:30 in the morning on March 13th. It'll just be one person dining. Do you want a particular restaurant?\n",
      "1_00022 How about Cafe Jolie? Please confirm: reserve a table for Cafe Jolie in Alameda for 11:30 am on March 13th. The reservation will be for 1 person.\n",
      "1_00022 Yes, that's perfect. I've successfully confirmed your reservation.\n",
      "1_00022 Thank you very much! Will that be all?\n",
      "1_00022 Yes, that's everything for today. Have a nice day!\n",
      "1_00023 Looking to book a table at the Academy bar? Which location to look in and at what time?\n",
      "1_00023 Find in San Fran at 19:00 Please confirm: Booking a table for 2 at the Academy Bar and Kitchen in San Francisco at 7 pm on March 1st.\n",
      "1_00023 Yes, thats right it is done\n",
      "1_00023 Any vegetarian options there? yes, there are good options\n",
      "1_00023 thanks a lot any thing else?\n",
      "1_00023 no, thanks again have a great day!\n",
      "1_00024 I need to book a table at a nice restaurant. Sure thing, what are the specifics? Time, place and which restaurant?\n",
      "1_00024 I kinda want to eat at Namu Gaji at one pm, the branch in SFO Just confirming you want me to search for a 1 pm reservation for 2 people on March 1st at the Namu Gaji in San Francisco yes?\n",
      "1_00024 Yup that's right. Can you check how pricey it is and what their user rating is? Sure, they are in the moderate price range and have a 4.3 average user rating, however I was unable to book your table for 2 at Namu Gaji. Do you want me to try for March 1st at 12:30 pm instead?\n",
      "1_00024 No, I'm not available then Can I try something else for you?\n",
      "1_00024 No, not right now, thanks for your assistance My pleasure, let me know if I can do anything else for you\n",
      "1_00025 I want to reserve a restaurant table for 1 at 1 in the afternoon. What restaurant would you like the table at? Where should I look for it?\n",
      "1_00025 I'd like a table at Yin Keng. Look in Windsor. A table for 1 at Yin Keng Restaurant in Windsor at 1 pm on March 1st. Is this correct?\n",
      "1_00025 That's it. Do they have vegetarian meals? Where is the restaurant? Your reservation has been made. They have vegetarian meals. The address is 8840 Lakewood Drive.\n",
      "1_00025 Thanks for your help. Do you need anything else?\n",
      "1_00025 No, that is all. Have a nice day.\n",
      "1_00026 Please book one table at Tandoori Mahal at 12:30 in the afternoon. The date is 13th of this month. What is the location sir?\n",
      "1_00026 I am looking for one in San Francisco. Look through your request. You need a table at Tandoori Mahal Indian Restaurant in San Francisco at 12:30 pm on March 13th. There will be 2 people, right?\n",
      "1_00026 Fine, what about food category. You will get Indian food. Your booking confirmed.\n",
      "1_00026 Get me their phone number. What is their rating? Contact them on 415-951-0505. they have 3.4 rating.\n",
      "1_00026 Good service, thank you. Have a great day.\n",
      "1_00027 I want to have a table booked for me at a restaurant, because I want to have a meal. Can you tell me the restaurant you are interested to have a table booked at?\n",
      "1_00027 Can you check if you can make a booking of a table at Castle Rock? Can you tell me the time that you want to have the table booked for you?\n",
      "1_00027 I prefer to have the booking be made for 12:00. Is there a specific location you are looking for?\n",
      "1_00027 I am interested in restaurants which are located in Livermore. Can you please confirm that you want to book a table for 2 people at Castle Rock Restaurant in Livermore, and that you want the table to be booked for you for 12 pm on March 1st?\n",
      "1_00027 That is not right. Could you please see if you can make a booking at Mcdonald's? Can you please confirm that you want to have a table booked for you on March 1st at Mcdonald's?\n",
      "1_00027 I don't want that either. See if you can find me restaurants in Pittsburg. Can you please confirm that you want to have a table booked for you at 12 pm in the city of Pittsburg?\n",
      "1_00027 Yes that suits me well. Could you inform me about the fact how expensive is the restaurant? Your requested booking has been made, and the restaurant is considered as cheap.\n",
      "1_00027 I appreciate it very much. That would be all. Have a wonderful day.\n",
      "1_00028 I'd like to book a table for 1 this sunday somewhere in half moon bay. Which restaurant? And what time should the booking be for?\n",
      "1_00028 Could you find something at Miramar Beach, quarter past 11 in the morning? Please confirm: You want to book a tale at the Miramar Beach Restaurant in Half MOon bay at 11:15 am on march 3rd for 1.\n",
      "1_00028 Exactly. What is their address, and what's the user rating? Their address is 131 mirada road, and they have a rating of 4.2 Sorry, I couldn't make that reservation at the Miramar Beach restaurant, however, they have an opening for 1 on march 3rd at 11:30 am, would that work?\n",
      "1_00028 Yes. Your reservation was successful.\n",
      "1_00028 Thank you so much. Do you need anything else?\n",
      "1_00028 Nope! Thank you! You're very welcome, have a good day.\n",
      "1_00029 I would like to take this girl I like out for a casual meal on the 3rd of this month, when I get paid so something around eleven am would be perfect. Can you help me locate a restaurant in Palo Alto? Not a problem, is there a specific restaurant you had in mind?\n",
      "1_00029 Yes, I've heard really good things about a restaurant called Lotus. Great, before I get you set up with a reservation can you just confirm that everything I have is correct? I have a table for 2, at Lotus Thai Bistro located in Palo Alto on March 3rd, at 11 am. Does this sound correct?\n",
      "1_00029 Yes everything you have is correct. I'm sorry to inform you that I was not able to make that reservation for you, however, would you like me to try to set a new reservation for 2 at Lotus Thai Bistro on March 3rd for 11:30 am?\n",
      "1_00029 No, that won't work but thank you any way. My pleasure, again I am sorry and have a nice day!\n",
      "1_00030 I want to make a restaurant reservation somewhere please. What is the location you'd like?\n",
      "1_00030 I am in Palo Alto. Is there a restaurant in particular you would like?\n",
      "1_00030 Yes, Anatolian please for 3 people, if you would. A reservation for what time please?\n",
      "1_00030 Would you try for 12:30? Confirming a table for 3 on March 1st at 12:30 pm in Palo Alto at Anatolian Kitchen.\n",
      "1_00030 Oops, please change that to one person. Confirming a 12:30 pm reservation for a party of 1.\n",
      "1_00030 Okay, thanks. I'm wondering if they have vegetarian choices on their menu. Also, what kind of menu do they have in general? They serve Mediterranean cuisine and they also do offer vegetarian selections. Congratulations, your table has been booked.\n",
      "1_00030 Wonderful. Thank you for helping me. Is there anything else you need?\n",
      "1_00030 No, that's all I needed. Thank you very much.\n",
      "1_00031 Hi there, could you get me a table at a restaurant on the 14th of March at 1:30 pm please? Sure, any particular restaurant are you interested in ?\n",
      "1_00031 Could you get me a reservation at Schroeder's please? Sure, and which location would you prefer?\n",
      "1_00031 A table for two at San Francisco will be fine. Please confirm you reservation at Schroeder's in San Francisco for 2 at 1:30 pm on the March 14th.\n",
      "1_00031 That sounds great to me! Your reservation has been made.\n",
      "1_00031 Thank you so much! Do you require any further assistance?\n",
      "1_00031 No, that is all I need. Really appreciate it! No worries, have a great day!\n",
      "1_00032 I need help finding a hotel in London. You may want to check out 45 Park Lane, a 5 star rated hotel.\n",
      "1_00032 Sounds interesting. I'll check it out later. That will be all. Goodbye and have a great day!\n",
      "1_00033 I need a hotel in Phoenix, AZ please How about the 3 star Ac Hotel By Marriott Phoenix Biltmore?\n",
      "1_00033 That sounds amazing Do you want me to book you a room?\n",
      "1_00033 For now, don't do that, I'll tell you when, that's it Great then, take it easy and have a good one!\n",
      "1_00034 Would you help me to find a hotel? In which city you want the hotel?\n",
      "1_00034 I am searching for hotels in London, UK. I have short listed 10 hotels of your choice and 45 Park Lane is one among them with 5 star rating.\n",
      "1_00034 This is great. Do you need any other help?\n",
      "1_00034 No, thanks for your great help. Have a wonderful day..bye for now..\n",
      "1_00035 I'm searching for a hotel. What metropolis ought I look for hotels in?\n",
      "1_00035 I'm searching for hotels located in Paris, France. There's the Ac Hotel By Marriott Paris Porte Maillot that has a 4 star rating.\n",
      "1_00035 That's perfect for me. Do you wish to book the hotel?\n",
      "1_00035 I do not wish to book right now; that's all. Have a pleasant afternoon.\n",
      "1_00036 I need to make a hotel reservation. Please help me find a 4 star hotel in London. There are 10 hotels that match your criteria. Ace Hotel London is a 4 star hotel.\n",
      "1_00036 That sounds good, thanks. Would you like to make a reservation?\n",
      "1_00036 No, thank you, I don't want to make the reservation right now, I need to confirm my plans before I reserve. Can I help you with anything else?\n",
      "1_00036 No, I'm all set, you have been very helpful, thank you. Have a great day!\n",
      "1_00037 I would like to book a hotel room. In which city would you like?\n",
      "1_00037 I'm looking for a three star hotel in Seattle, WA. There are 10 hotels. Would you like Best Western Plus Pioneer Square Hotel Downtown, It's 3 star.\n",
      "1_00037 Yes, that sounds good. Would you like to make a reservation?\n",
      "1_00037 Not at the moment thank you. Can I help with anything else?\n",
      "1_00037 No, that is all I needed. Have a good day.\n",
      "1_00038 Can you find me a three star hotel for one room? Sure! What city would you like to book a hotel?\n",
      "1_00038 In New York. Okay, I've found 10 hotels in New York. There's a 3 star hotel called 11 Howard that meets your criteria.\n",
      "1_00038 Alright, thanks. That's all I wanted to know. You're welcome. Have a great day!\n",
      "1_00039 Can you find me two smoking rooms in a London hotel, please? Sure, there are 10 that may work. How about the 3 star hotel called Abbey Court Hotel (hyde park)?\n",
      "1_00039 Sounds really great, thanks! Shall I reserve your rooms?\n",
      "1_00039 Not now, I'm going to look around a little more. Okay, have a good one!\n",
      "1_00040 I would like to search for a hotel for my upcoming trip And in what location or area do you need the hotel?\n",
      "1_00040 I would like to search for New Delhi hotels There are 10 hotels that may suit your needs. One such hotel is a 5 star hotel named Aloft New Delhi Aerocity\n",
      "1_00040 Are there any more hotels that fit my search criteria? Sure, there's another 5 star hotel named Andaz Delhi - A Concept By Hyatt.\n",
      "1_00040 Can you tell me the rate for that hotel per night? It is $175 for a one night stay.\n",
      "1_00040 And what is their exact location and contact number, please? They are located at Asset No.1 Aerocity, New Delhi and they can be reached at +91 11 4903 1234\n",
      "1_00040 Are there additional hotels that fit my preferences? I am looking to book two rooms Yes. There is a 3 star hotel, Bloomrooms @ New Delhi Railway Station.\n",
      "1_00040 great. Are you looking to book the rooms at this hotel now?\n",
      "1_00040 Not at this moment. Do you need any further assistance?\n",
      "1_00040 No, that was everything. Thanks so much for your help Have a nice day!\n",
      "1_00041 Can you help me find a hotel in Sydney, Australia? There are 10 that may work. How about the 3 star hotel 1831 Boutique Hotel?\n",
      "1_00041 Maybe, how much per night and what's the phone number? It costs $225 a night and they can be reached at +61 2 9265 8888.\n",
      "1_00041 That sounds fine. Shall I get your room?\n",
      "1_00041 No, not yet. Okay, need anything else?\n",
      "1_00041 Nope, thanks for the help! My pleasure.\n",
      "1_00042 I need a three star hotel for 1 room. Which city do you prefer?\n",
      "1_00042 I would like London, England. Okay, there are 10 options. One 3 star hotel is Abbey Court Hotel (Hyde Park).\n",
      "1_00042 Is smoking permitted? Yes, it is.\n",
      "1_00042 Thanks for the information. Have a good day.\n",
      "1_00043 I need help finding a three star hotel in LA. I just need to book one room. Ac Hotel By Marriott Beverly Hills might be a good fit, they are 3 stars.\n",
      "1_00043 Hmm, what number can I call them at? The number is +1 323-852-7000.\n",
      "1_00043 Okay that's great, thank you, that's all I need. Alright, bye, have a nice day.\n",
      "1_00044 I need to find a hotel. Which city should I search for hotels?\n",
      "1_00044 Look for hotels in Sydney, NSW. There is a 3 star hotel named 1831 Boutique Hotel.\n",
      "1_00044 What is the price per night and is smoking allowed? The cost is $225 per night and smoking is permitted.\n",
      "1_00044 Sounds great. Do you want me to reserve a room?\n",
      "1_00044 No, I don't want to make the reservation now. Can I assist you with anything else?\n",
      "1_00044 No thank you. Enjoy your day.\n",
      "1_00045 Can you find me a 3 star hotel? Which city should I search for hotels in?\n",
      "1_00045 Search Chicago for hotels. 10 hotels match your criteria. AC Hotel By Marriott Chicago Downtown is a 3 star hotel.\n",
      "1_00045 Sounds great. Thats all I needed. Enjoy your day.\n",
      "1_00046 I would like to book a hotel in Washington D.C. There are 10 hotels. There is Arc The. Hotel Washington D.C. that is a 3 star hotel.\n",
      "1_00046 Yes, that room is good. Would you like to make a reservation?\n",
      "1_00046 Not at the moment. Is there anything I can help with?\n",
      "1_00046 No, that is all I needed. Have a good day.\n",
      "1_00047 I need to make a trip and don't want to spend much money. I'm looking for an affordable hotel. I am fine with a 1 star hotel. Ok, which city will you be visiting?\n",
      "1_00047 I'll be going to London, England. I have some family there. That sounds like fun. There is a 1 star hotel called Abercorn House there.\n",
      "1_00047 I've looked at that online. Are there any others? I will just need 1 room. Yeah, another 1 star hotel is Astor Hyde Park Hostel.\n",
      "1_00047 That one sounds good. I can help make reservations for the hotel if you would like.\n",
      "1_00047 No thanks, I don't want to make the reservations yet. I don't need anything else right now. Alright, I hope you have a great day! Bye.\n",
      "1_00048 I need to find a hotel. In which city should I look in for a hotel?\n",
      "1_00048 I need a hotel in London, England. I have found a 5 star hotel, located at 45 Park Lane.\n",
      "1_00048 I need 1 room. Is there any others that meet my needs? Yes, there is a 3 star hotel called Abbey Court Hotel (Hyde Park).\n",
      "1_00048 Great. I am all set. Goodbye have a great day!\n",
      "1_00049 I need a hotel What city are you after?\n",
      "1_00049 Can you search Los Angeles, I need one room. I have found the AC hotel by Marriott Beverly Hills, a 3 star hotel.\n",
      "1_00049 Okay sounds good to me. No worries, have a nice day.\n",
      "1_00050 Can you help me find me a hotel? Sure. What city should I search for hotels in?\n",
      "1_00050 Search in Anaheim, CA. I found 10 hotels for you. How about the Alamo Inn & Suites? It's a 2 star hotel.\n",
      "1_00050 How much per night? The room cost $52 per night.\n",
      "1_00050 That sounds good. Would you like me to make a reservation?\n",
      "1_00050 No, not right now. Do you need help with anything else?\n",
      "1_00050 No. Thanks for your help. You're welcome. Have a nice day!\n",
      "1_00051 I want to find 2 rooms in a hotel. Can you tell me the city where you want the hotel to be?\n",
      "1_00051 I am interested in hotels in DC. There are 10 hotels which you might want to pick from. One of the options is a 3 star hotel called Arc The. Hotel Washington D.C.\n",
      "1_00051 That seems okay. Do you want to make a booking for this hotel?\n",
      "1_00051 Actually I do not want to make a booking now. Do you need me to help you with something else?\n",
      "1_00051 Nothing. Thank you for the help you provided to me. Take care, and have a nice day!\n",
      "1_00052 Can you find me a one star hotel. I want to book 3 rooms. Where should the hotel be located?\n",
      "1_00052 It should be located in Chi-town. There's a 1 star hotel that's called the Chicago Getaway Hostel that might interest you.\n",
      "1_00052 How much is it for a night? It is $105 for a night.\n",
      "1_00052 I like the sound of that. I don't need anything else. Okay, have a fine day and take care.\n",
      "1_00053 I need help finding a hotel. I can help you with that. In which city would you like to find a hotel?\n",
      "1_00053 Something in London, UK. I've found 10 hotels in London, UK. How about 45 Park Lane? It's a 5 star hotel.\n",
      "1_00053 What else is there? I would like 2 rooms at a four star hotel. I've found 10 hotels that match your criteria. How about a 4 star hotel called Ace Hotel London?\n",
      "1_00053 What's the price per night? They charge $296 per night.\n",
      "1_00053 I can deal with that. That will be all for now. Okay, let me know if you need anything else.\n",
      "1_00054 Can you find me a four star hotel in Nairobi. I found 9 4 star hotels. There's one called Crowne Plaza Nairobi.\n",
      "1_00054 That sounds good. Shall I make a reservation.\n",
      "1_00054 Not just now. That's all I needed. Thanks. Have a great day.\n",
      "1_00055 I'm looking for a nice hotel to stay at, can you help me out? No problem, what city would you like me to search in?\n",
      "1_00055 Find me something nice in NY. I found a nice 5 star Hotel in NY called 1 Hotel Brooklyn Bridge.\n",
      "1_00055 Cool, sounds good. Would you like to make a reservation?\n",
      "1_00055 No, not right now. No problem! Anything else I can help you with today?\n",
      "1_00055 No thanks. You've been a great help. Happy to be of service. Have a great day!\n",
      "1_00056 You have to help me in finding a hotel. Where?\n",
      "1_00056 Rio de Janeiro There are 10 options available. I got a 2 star hotel called Atlantico Copacabana Hotel.\n",
      "1_00056 Look for a 3 star hotel, I only need 1 room. I've found a 3 star, it's the Clh Suites Copacabana Domingos Ferreira\n",
      "1_00056 I like it, thanks. Bye Have a wonderful day!\n",
      "1_00057 Please help me find a hotel. In which city?\n",
      "1_00057 Somewhere in SD. I got 10 hotels and one is Bahia Resort Hotel which is a 3 star hotel.\n",
      "1_00057 May I know their phone number abd the price of the hotel per night? It's +1 858-488-0551 and it costs $144 per night.\n",
      "1_00057 That's great! Anything else I can help you with?\n",
      "1_00057 No, thanks for your help. No problem.\n",
      "1_00058 I need help finding a 4 star hotel. Any particular city I should search in?\n",
      "1_00058 Please search for hotels in Chicago. How about Ace Hotel Chicago, a nice 4 star hotel?\n",
      "1_00058 I like the sound of that. Should I go ahead and make reservations at this hotel?\n",
      "1_00058 No. For the moment, I won't be making a reservation. Will there be anything else?\n",
      "1_00058 No, thank you very much. You've been very helpful. Goodbye and have yourself a fabulous day!\n",
      "1_00059 I want to stay in a hotel for a While and I need your help to find the suitable on in KL. Got 10 hotels. What is your opinion about the Hotel named Alila Bangsar which is a 5 star Hotel?\n",
      "1_00059 I want to know their contact number for my reference. Can you get it? Yes, please note down it as +60 3-2268 3888.\n",
      "1_00059 That's great. Shall I reserve this Hotel now?\n",
      "1_00059 No, not now and that's all. thanks. Have a good day.\n",
      "1_00060 I would like to find a hotel in Sacramento, CA for an upcoming trip. There is a 3 star hotel called Courtyard by Marriott Sacramento Cal Expo in that area.\n",
      "1_00060 Are there any more hotels that fit with my request? Sure. There is another 3 star hotel called Courtyard By Marriott Sacramento Midtown that fits your search.\n",
      "1_00060 Can you tell me if this hotel permits smoking? This is a non-smoking hotel, so smoking is not permitted.\n",
      "1_00060 Great, that's fine Are you interested in booking a room at this hotel?\n",
      "1_00060 Not at this moment, thanks Do you need my assistance with anything further?\n",
      "1_00060 No, that was everything I needed. Thanks so much for the assistance! Enjoy your day!\n",
      "1_00061 I need to book a hotel please. Certainly, in what city?\n",
      "1_00061 I need something in London, England. There are 10 hotels that I can recommend. How about 45 Park Lane, which has a 5 star rating?\n",
      "1_00061 What else can you recommend? I'll need three rooms, by the way. I have 9 options to tell you about. I'd like to recommend Abbey Court Hotel (Hyde Park), which has a 3 star rating.\n",
      "1_00061 I think that's going to work. Are you interested in making a reservation?\n",
      "1_00061 No, not at the moment. Thank you though. You are very welcome, goodbye.\n",
      "1_00062 I want to find a hotel to stay at please? What city are you gonna be looking for a hotel?\n",
      "1_00062 I need a hotel in Paris please How about a 4 star hotel like the Ac Hotel by Marriott Paris Porte Maillot?\n",
      "1_00062 What is their street address? It's at 6 Rue Gustave Charpentier, 75017\n",
      "1_00062 Can I smoke there? No, unfortunately it is not allowed\n",
      "1_00062 OK that's still fine for me Can I do something else for you right now?\n",
      "1_00062 For now we're set and squared away, but thanks for all your help Sure thing, glad I was able to help!\n",
      "1_00063 Can you find me a nice hotel? Which is your preferred city?\n",
      "1_00063 Find the hotel in LAX. I found a 3 star hotel called Ac Hotel By Marriott Beverly Hills.\n",
      "1_00063 Can you find me two rooms in any other hotel? I found a 3 star hotel called Ac Hotel By Airtel Plaza Hotel.\n",
      "1_00063 Can you find out whether smoking allowed in the hotel and the street address of the hotel? Smoking is not allowed and the street address is 7277 Valjean Avenue, Van Nuys, California 91406, United States.\n",
      "1_00063 That sounds good. That will be all now. I am glad I could help. Bye! Have a nice day!\n",
      "1_00064 Hi, please help with a hotel. which city do you want?\n",
      "1_00064 How about somewhere in Nairobi? Well, you have 10 options, first up we have Azure Hotel Nairobi Westlands. It has 5 stars.\n",
      "1_00064 Can I smoke there? How much is it? Yes, you may. It is only $125 per night.\n",
      "1_00064 That's great. Thanks a lot. Have a great trip.\n",
      "1_00065 Can you help me find a hotel? In which city are you planning to stay?\n",
      "1_00065 I'd like a 3 star hotel in Paris please. Would you like to consider Aparthotel Adagio Access Paris La Villette, which is a 3 star hotel?\n",
      "1_00065 Can you get me the nightly rate and their phone number please? Their phone number is +33 1 44 72 42 00 and a room costs $108 per night.\n",
      "1_00065 Are there any other hotels based on my preferences? How about another 3 star hotel, Aparthotel Adagio Paris Montmartre?\n",
      "1_00065 That sounds like a good option. Thank you. That'll be all for now. Have a great day! Bye!\n",
      "1_00066 Please recommend me a hotel in London, UK. May I suggest the 5 star rated 45 Park Lane hotel?\n",
      "1_00066 Do you know the cost per night? The nightly cost is $375.\n",
      "1_00066 That's right up my alley. That will be all for now. Bye, and do have yourself a fabulous day!\n",
      "1_00067 Fine for me a hotel please. On which city you want to be?\n",
      "1_00067 In London, England will be okay. What do you think about a 5 star hotel called 45 Park Lane?\n",
      "1_00067 You can smoke in the hotel?Tell me the contact phone number. +44 20 7493 4545 is the phone number.Smoking is not possible in this hotel.\n",
      "1_00067 Sounds very good. You want to make an reservation?\n",
      "1_00067 No, not now.That's all now. Bye,Have a great day!\n",
      "1_00068 Please help me find a hotel with one rooms in NY. I got 10 hotels and one is 1 Hotel Brooklyn Bridge which is a 5 star hotel.\n",
      "1_00068 Can I smoke there? Yes.\n",
      "1_00068 May I know their phone number and address? It's +1 347-696-2500 and they are located at 60 Furman Street Brooklyn.\n",
      "1_00068 That's good. Thanks. You are welcome!\n",
      "1_00069 I'd like a three star hotel. What city would you like it in?\n",
      "1_00069 Look for one in SD. I've got 10 hotels for you. Bahia Resort Hotel is a 3 star hotel.\n",
      "1_00069 That's a good one. Would you like a reservation?\n",
      "1_00069 Not right now. Thanks anyway. Have a nice day.\n",
      "1_00070 I need to find a hotel that I'm able to smoke in. What city should I find hotels in?\n",
      "1_00070 I need hotels in Los Angeles. I have 10 matching hotels including one called Banana Bungalow Hollywood which is 1 star.\n",
      "1_00070 Sounds great. Do you wish to reserve the hotel?\n",
      "1_00070 I don't want a reservation at this time. What else can I assist you with?\n",
      "1_00070 No thank you you've been helpful. Bye, have a great day!\n",
      "1_00071 I want to search for a hotel. What city are you interested in?\n",
      "1_00071 A hotel in New York City would be ideal. There are 10 hotels that may fit. There's a 5 star hotel called 1 Hotel Brooklyn Bridge.\n",
      "1_00071 Can you give me their telephone number. And also find out the price for a night there. You can call them at +1 347-696-2500. The price for a night is $465.\n",
      "1_00071 That seems pretty good. Do you want to make a reservation?\n",
      "1_00071 No, I don't need a reservation right now. What else can I do for you?\n",
      "1_00071 Nothing else, you've been of great help. Take care then and have a fine day.\n",
      "1_00072 I want to find a hotel. Smoking preferred. What city are you looking in?\n",
      "1_00072 I want to find some hotels in New York City. I found 10 hotels. 1 Hotel Brooklyn Bridge is a 5 star hotel.\n",
      "1_00072 What's the address and the phone number? The address is 60 Furman Street, Brooklyn and the number is +1 347-696-2500.\n",
      "1_00072 Sounds great. Do you want to make a reservation?\n",
      "1_00072 Not right now. Anything else I can do for you?\n",
      "1_00072 No, that's all. Thanks. Have a great day!\n",
      "1_00073 Looking for hotel in Delhi, India I got 10 of them, There is the 5 start rated Aloft New Delhi Aerocity\n",
      "1_00073 That is good, thats all bye, good day!\n",
      "1_00074 I need a hotel in London, UK with 1 room. There is a 5 star hotel called 45 Park Lane.\n",
      "1_00074 Sounds great. I am all set for now. Goodbye. Have a great day.\n",
      "1_00075 I want to stay in a Hotel in London, UK. I need your help to find a three star hotel for me. Got 10 results. How about a Hotel called Abbey Court Hotel (Hyde Park) which is also a 3 star Hotel?\n",
      "1_00075 Yes, what is the cost per night? The total cost will be around $93 per night.\n",
      "1_00075 Okay, please search for something else based on my conditions. What about a 3 star Hotel named Accommodation London Bridge?\n",
      "1_00075 I think this will be okay for me. Thanks and that's all. Have a good day.\n",
      "1_00076 Can you help me find a hotel? In which city are you looking?\n",
      "1_00076 Can you find me something in London, UK? I found 10 matching hotels. One is a 5 star hotel called 45 Park Lane.\n",
      "1_00076 Can you tell me the price? Sure, it's $375 per night.\n",
      "1_00076 Can you tell me their address and phone number? They're located at 45 Park Lane and can be reached at +44 20 7493 4545.\n",
      "1_00076 Thank you, that should be all for now. Have a great day!\n",
      "1_00077 Could you help me find a hotel? Sure, just let me know what city you would like to search in.\n",
      "1_00077 Find me a nice four star hotel in Seattle, WA. There is a nice 4 star hotel in the area called Crowne Plaza Seattle Downtown.\n",
      "1_00077 How much are the rooms per night? Can you also get the address for me? Thanks. Rooms are $112 per night and the address is 1113 6th Avenue.\n",
      "1_00077 Any other hotels in the area? I need to book two rooms. Yes there are! I've found 9 hotels for you. How about the Grand Hyatt Seattle? It has a 4 star rating.\n",
      "1_00077 Yeah, that sounds great. Thanks for the help. That will be all. Goodbye! Have a good day!\n",
      "1_00078 I need to find a hotel. In which city do you want me to look?\n",
      "1_00078 I need one in Seattle, WA. The Ace Hotel Seattle is a 2 star hotel.\n",
      "1_00078 Do they allow smoking? What is the contact number? They do not allow smoking and the number is +1 206-448-4721\n",
      "1_00078 That's perfect. .Would you like to make the reservation?\n",
      "1_00078 Yes please reserve the room. Which day is your check in day? How long will you be staying?\n",
      "1_00078 I want to check in Monday next week and stay for five days. You want to reserve 1 room at the Ace Hotel Seattle, in Seattle for 5 days beginning March 4th.\n",
      "1_00078 Yes that is correct. Your reservation has been made.\n",
      "1_00078 Thanks for your help, that's all I needed. Okay, bye! Have a good day.\n",
      "1_00079 Can you find hotels for me? Which is your preferred city for the hotel?\n",
      "1_00079 I would like a hotel in Seattle. There are 10 hotels that you may like. How about a 2 star hotel called Ace Hotel Seattle?\n",
      "1_00079 Okay, That sounds good to me. Do you want me to reserve a room in the hotel?\n",
      "1_00079 Yes, Please reserve a room for me. What is the duration of your stay?\n",
      "1_00079 I will need the room for four days. What will be the date of check in?\n",
      "1_00079 I want to check in on 7th of this month. Please confirm: You want me to reserve 1 room in Ace Hotel Seattle located in Seattle for 4 days and date of check in will be March 7th.\n",
      "1_00079 No, I want the room for seven days. Please confirm again: You want me to book a room in Ace Hotel Seattle for 7 days.\n",
      "1_00079 Yes, That is correct. Find me their Phone number and street address. Your room has been successfully reserved. You can call them on +1 206-448-4721 and their address is 2423 1st Avenue.\n",
      "1_00079 Thank you so much! Can I help you with anything else?\n",
      "1_00079 No. That will be all. Thank you! I am glad I could help. Have a nice day! Bye!\n",
      "1_00080 I need to find a 5 star hotel in New York. There are 10 hotels which match. There's a 5 star hotel called 1 Hotel Brooklyn Bridge.\n",
      "1_00080 Please give me their address. They are located at 60 Furman Street, Brooklyn.\n",
      "1_00080 Do they allow smoking there? Yes, the allow smoking.\n",
      "1_00080 That works for me. I'd like to make a reservation. How long will your stay be?\n",
      "1_00080 I'll be there for 5 days. And when do you want to check in?\n",
      "1_00080 I want to check in next Wednesday. I'll book you 1 room for 5 days at 1 Hotel Brooklyn Bridge in New York starting on March 6th. Is everything correct?\n",
      "1_00080 Yeah, that's all correct. I've made the reservation.\n",
      "1_00080 Thanks so much for the help. I'll be going now. Goodbye and have a wonderful day.\n",
      "1_00081 I need a hotel in London. There is a 5 star hotel at 45 Park Lane in London.\n",
      "1_00081 That sounds good. Would you like to make a reservation?\n",
      "1_00081 Yes, I'd like to make a reservation for 2 rooms for four days beginning the day after tomorrow. Okay. Please confirm the following: You will be checking in on March 3rd at 45 Park Lane in London. You will have 2 rooms and will be staying for 4 days.\n",
      "1_00081 That's it. Can you give me the address and let me know the cost per night? The address is 45 Park Lane and the cost is $585 per night. The rooms have been booked.\n",
      "1_00081 Thanks. That's all I need. Enjoy your stay in London.\n",
      "1_00082 I would like to find a 3 star hotel in San Diego. I have 10 hotels. One is called Bahia Resort Hotel and has 3 stars.\n",
      "1_00082 Is smoking permitted? No, it is not.\n",
      "1_00082 Ok then, that is fine. Can I do anything else for you?\n",
      "1_00082 I would like to reserve the hotel for next Tuesday. When will you check out?\n",
      "1_00082 I will need one room for 6 days. Please confirm 1 room for 6 days beginning on March 5th at the Bahia Resort Hotel in San Diego.\n",
      "1_00082 Great, what is the number? The reservation is confirmed and the number is +1 858-488-0551.\n",
      "1_00082 Great, thanks for the help. Can I do anything else for you?\n",
      "1_00082 No, I am all set. Have a great day.\n",
      "1_00083 Hi I'll be travelling and need a hotel to stay in, can you find one for me? Of course, in what city would you like the hotel to be in?\n",
      "1_00083 I would like a hotel with a 1 star rating in London, UK. I managed to find a 1 star hotel called Abercorn House.\n",
      "1_00083 Is there anything else? Preferably with three rooms? I found a 1 star hotel called Astor Hyde Park Hostel.\n",
      "1_00083 How much is the room per night? And what is their contact number? The room cost is $90 per night and you can call them at +44 20 7581 0103.\n",
      "1_00083 That works for me. Would you like me to book the hotel room for you?\n",
      "1_00083 Yes, I would like to reserve a room. What day would you like to check in?\n",
      "1_00083 I would like to check in on the 9th of this month. What will be the duration of your stay?\n",
      "1_00083 I would like to stay for 4 days. So you would like to stay at the Astor Hyde Park Hostel in London on March 9th. The duration of your stay will be 4 days and you would like 3 rooms. Is this correct?\n",
      "1_00083 Yes, that works for me? Is smoking permitted in the hotel? What's their address? The hotel has been booked. Their address is 191 Queen's Gate and smoking is not allowed.\n",
      "1_00083 Thank you, I appreciate all of your help. That's all I needed. No problem, have a great day!\n",
      "1_00084 Please help me find a hotel in San Fran with 1 rooms. I got 10 hotels and one is Amsterdam Hostel San Francisco which is a 1 star hotel.\n",
      "1_00084 May I know their street address and price per night? They are located at 749 Taylor Street and room costs $54 per night.\n",
      "1_00084 Can you find any other hotels? I prefer four - star hotel. I got 10 hotels and one is Argonaut Hotel which is a 4 star hotel.\n",
      "1_00084 That's good! Will I reserve you the hotel?\n",
      "1_00084 Yes, I want to check in on March 8th for two days. Okay, you want 1 rooms at Argonaut Hotel in San Francisco on March 8th for 2 days. Please confirm.\n",
      "1_00084 Good. May I know their street address and phone number? They are located at 495 Jefferson Street and their phone number is +1 415-563-0800. Your reservation is now confirmed!\n",
      "1_00084 Thank you. Anything else I can help you with?\n",
      "1_00084 No, thanks. You are welcome!\n",
      "1_00085 I need a hotel in San Fran. There are 10 options, what about a 1 star called Amsterdam Hostel San Francisco.\n",
      "1_00085 How much do they cost per night and can you smoke in your room? No smoking is permitted and it costs $54 per night.\n",
      "1_00085 What else did you find? A 4 star called Argonaut Hotel.\n",
      "1_00085 I like the sound of that one. Do you want me to book a room.\n",
      "1_00085 Yes I do. What date will you arrive and how many nights will you be staying?\n",
      "1_00085 On Thursday next week for five nights. To confirm then that is 1 room for 5 nights from March 7th in the Argonaut Hotel in San Francisco.\n",
      "1_00085 Yes that is right. How much do they charge per night and what is their address? 495 Jefferson Street and they charge $396 per night.\n",
      "1_00085 Thanks so much for your help, that is all I need. goodbye, enjoy your day.\n",
      "1_00086 Me and my boyfriend are hoping you can recommend a four star hotel. We are hoping to get one room. Is there a certain city you prefer the hotel to be in?\n",
      "1_00086 London, England is where we would prefer to get a hotel room. My search located 10 hotels with a 4 star rating. One of the hotels is called Ace Hotel London.\n",
      "1_00086 I will trust your choice. I can make a reservation for you if you like.\n",
      "1_00086 I would like a reservation, thank you. My preferred check in date is the 5th of March. I would like to book the room for 7 days. With your approval I will reserve 1 room at the Ace Hotel London on March 5th for 7 days. This hotel is in London.\n",
      "1_00086 You have my approval, thank you. The reservation has been made.\n",
      "1_00086 That's great. You are a wonderful assistant. What else may I assist you with?\n",
      "1_00086 I do not need further help. I appreciate your assistance. Don't hesitate to ask for anything else. You have a great day.\n",
      "1_00087 Find me 1 room in a four star hotel located in London, England please. I found the Ace Hotel London, it has 4 stars.\n",
      "1_00087 That would be pretty good. Should I book you a room?\n",
      "1_00087 Alright make the arrival time for 4th of March. What will be the length of your stay?\n",
      "1_00087 I would say 6 days. Do I have this right? You want me to reserve you 1 room at the Ace Hotel London in London for a 6 day stay beginning March 4th.\n",
      "1_00087 That is correct. Where is that located exactly? You will find the room I booked for you at 100 Shoreditch High Street.\n",
      "1_00087 Does the hotel permit smoking? You can not smoke anywhere on the property.\n",
      "1_00087 You are great, I appreciate all your help you can go now. Alright then have a nice day.\n",
      "1_00088 Hi, could you help me search for a hotel please? Any preferred city of location?\n",
      "1_00088 Something in Kuala Lumpur will be great. There are 10 hotels in that area, how about Alila Bangsar, a 5 star hotel?\n",
      "1_00088 Are there any alternative three star hotel with one room? Sure, there are 10 hotels which you may like, how about a 3 star hotel called Alpha Genesis Hotel?\n",
      "1_00088 Sure, could you make a reservation on the 4th of March please? And how long will you be staying for?\n",
      "1_00088 Most likely for 4 days. Sure, please confirm your reservation for 1 room at Alpha Genesis Hotel in Kuala Lumpur for 4 days from March 4th.\n",
      "1_00088 Sure, may I have their street address and nightly cost please? Your reservation has been made. They are located at 45, Tengkat Tong Shin, Bukit Bintang, 50200 Kuala Lumpur, Wilayah Persekutuan and this will set you back $162 each night.\n",
      "1_00088 I see, thanks so much for your help. That is all I need. No worries, have a great day ahead!\n",
      "1_00089 Help me look for a hotel. What city do you want to look in?\n",
      "1_00089 I need a hotel in NYC. There are 10 matches in NYC. One of the matches is a 5 star hotel, it's 1 Hotel Brooklyn Bridge.\n",
      "1_00089 That'll work. What else can I do for you?\n",
      "1_00089 Make me a reservation for 1 room at that hotel. When would you like to check in and for how many days?\n",
      "1_00089 I want to check in on the 8th for six days. I'll reserve you 1 room for 6 days starting on March 8th at 1 Hotel Brooklyn Bridge in New York. Is everything correct?\n",
      "1_00089 Yeah, you got everything. The room has been booked.\n",
      "1_00089 Nice, thanks a lot for helping. I don't need anything else. I'll be here if you need me, have a fine day.\n",
      "1_00090 Hi, could you help me search for a hotel please? Any preferred city I should look at?\n",
      "1_00090 Something in NY is fine. How about a 5 star hotel called 1 Hotel Brooklyn Bridge?\n",
      "1_00090 Could you make a reservation for 2 rooms at that hotel? And how long will you be staying?\n",
      "1_00090 Just one day will do. When will you be checking in?\n",
      "1_00090 Likely on March 1st. Please confirm your reservation for 2 rooms at 1 Hotel Brooklyn Bridge in New York on March 1st for 1 day.\n",
      "1_00090 Sure, that is fine. Your hotel reservation has been made.\n",
      "1_00090 Thank you for your help! No worries, any further help you would need?\n",
      "1_00090 No, that is all. Thank you! Have a great day ahead!\n",
      "1_00091 I would like to search a hotel. Which is your preferred city?\n",
      "1_00091 Search for the hotels in SD. There are 10 hotels which might interest you. What about a 3 star hotel called Bahia Resort Hotel?\n",
      "1_00091 That sounds great to me. Do you want me to reserve the hotel?\n",
      "1_00091 Yes, Please reserve the hotel for me. What is your expected date of check in and the duration of stay?\n",
      "1_00091 I would like to check in on March 1st and I will be staying for 5 days. Please confirm: You want me to reserve 1 room in Bahia Resort Hotel located in San Diego for 5 days. And My check in date will be March 1st.\n",
      "1_00091 Okay! That sounds great to me. I have successfully booked the room in the hotel.\n",
      "1_00091 That will be all for now. Thank you for all your help! I am glad I could help. Bye! Have a nice day!\n",
      "1_00092 I am excited about a trip to Paris. While I am visiting I will need to book one room at a 3 star hotel. A lovely hotel found with a 3 star rating is known as the Aparthotel Adagio Access Paris La Villette.\n",
      "1_00092 Are you able to provide the hotel address? I would also like to know if smoking is allowed at the hotel. The hotel is located at 28bis Avenue Corentin Cariou, 75019. This hotel does not allow smoking anywhere.\n",
      "1_00092 Thank you. It seems like a nice place to stay. I can make you a reservation if you like.\n",
      "1_00092 I would like a reservation. Thank you for asking. I would love to stay for 5 days with a check in on the 1st of this month. With your approval I will reserve 1 room for 5 days at the Aparthotel Adagio Access Paris La Villette located in Paris. The reservation will begin March 1st.\n",
      "1_00092 Approval granted, thanks. Your reservation is set.\n",
      "1_00092 You are a great help. I will not need any more assistance at the moment. Au revoir, enjoy the rest of the day>\n",
      "1_00093 I'm in need of a hotel. Where will you need it?\n",
      "1_00093 How about Toronto, Canada? Why not try Best Western Plus Toronto North York Hotel & Suites? It has 3 stars.\n",
      "1_00093 Fine, book it. When will you check in?\n",
      "1_00093 How about on the 10th of March. How many nights?\n",
      "1_00093 I'll be there 2 days. To confirm, 1 room for 2 nights at Best Western Plus Toronto North York Hotel & Suites on March 10th in Toronto.\n",
      "1_00093 Fine, is there smoking allowed? How much per night? Sorry no smoking, the price is $99 a night.\n",
      "1_00093 Fine, I'll deal. Thanks What else can I help with?\n",
      "1_00093 Nothing, You're the cat's meow. Gee thanks, I don't get that enough.\n",
      "1_00094 Hi I need a hotel that allows smoking. Can you find one for me? In what city would you like the hotel to be in?\n",
      "1_00094 I'd like a hotel in Sydney. I managed to find a hotel called 1831 Boutique Hotel with a 3 star rating.\n",
      "1_00094 That works for me. Would you like me to book you a room?\n",
      "1_00094 Yes, that would be great. How long will your stay be?\n",
      "1_00094 I'd like to stay for two days. What day would you like to check in?\n",
      "1_00094 I'd like to check in on Tuesday next week. So you'd like to book 1 room at 1831 Boutique Hotel in Sydney for March 5th. You will be staying for 2 days. Is this correct?\n",
      "1_00094 Yes, that works great. I have booked your hotel room.\n",
      "1_00094 How much is the room per night and what is their address? The cost is $234 per night and their address is 631-635 George Street.\n",
      "1_00094 Thanks, I really appreciate your help. Is there anything else I can assist you with today?\n",
      "1_00094 No that would be all, thank you very much. Have a wonderful day!\n",
      "1_00095 Hi, I want to find a hotel please, something four star-rated in Toronto. The Bisha Hotel Toronto has a rating of 4 stars.\n",
      "1_00095 Great, okay. May I please book 1 room? What is your check in date expected to be?\n",
      "1_00095 Let's make that for the 2nd of this month. Will do. What will be the duration of your stay?\n",
      "1_00095 Just seven days. Confirming your stay at Bisha Hotel Toronto, 1 room, beginning March 2nd in Toronto for a total of 7 days.\n",
      "1_00095 Yes, that's good, thanks! The reservation has been successfully completed.\n",
      "1_00095 Thank you so much for helping me with that. I'm very happy to assist you. Anything else today?\n",
      "1_00095 Nothing else, no. Thank you again. You're very welcome and I hope you have a nice trip.\n",
      "1_00096 I want to find a hotel On which city you want to be?\n",
      "1_00096 In Paris I want to be. 10 results I have according to your criteria.A 4 star hotel called Ac Hotel By Marriott Paris Porte Maillot.\n",
      "1_00096 Sounds very good. You want to make a reservation?\n",
      "1_00096 Yes make me for 1 room with check in on March 2nd.I want to stay 5 days. You want 1 room on Paris at hotel Ac Hotel By Marriott Paris Porte Maillot.Check in date is March 2nd and you want to stay 5 days.Is that correct?\n",
      "1_00096 Very good.Tell me if I can smoke here and total price per night. The hotel was booked.Per night it cost $112 and smoking is not allowed.\n",
      "1_00096 Thank you. You were helpful.That's all. Bye!Have a nice day!\n",
      "1_00097 I need to stay in a hotel for a meeting. Please find a three star hotel. At which city should i need to search for?\n",
      "1_00097 Please look for hotels in Washington. I found 10 hotels as per your need. There is a hotel called Arc the. Hotel Washington D.C. It is a 3 star hotel\n",
      "1_00097 Ok That's sound good. Whether i need to reserve room in that hotel?\n",
      "1_00097 Yes, I need to 2 rooms. I'll be staying for three days. I'm looking to check in on 1st of this month. Please check and confirm the following details. Hotel is booked at Arc The. Hotel Washington D.C. Check in Date is on March 1st. Number of days is 3 to stay. It's located in Washington D.C. Need 2 rooms.\n",
      "1_00097 Sure, please book it. What is their Phone number? What is their street address? Booked successfully. Their address is 824 New Hampshire Avenue Northwest, Washington, DC 20037, USA. THeir PHone Number is +1 202-337-6620.\n",
      "1_00097 THanks a Lot for your help. That's all i need. Bye have a wonderful day.\n",
      "1_00098 I want to search for a Hotel to stay and I need two rooms there. Please search for some nice 1 star Hotels. Do you have any particular City in your mind to search for the Hotels?\n",
      "1_00098 Yes, search it in Anaheim, CA. Got 2 hotels. How about a hotel named Best Western Plus Pavilions with 1 star.\n",
      "1_00098 I want to know the contact number of that hotel for my reference. Please note down it as +1 714-776-0140.\n",
      "1_00098 Thanks and also I want to know their address. Please also check whether they will allow smoking in their hotel. No smoking is allowed there and their address is 1176 West Katella Avenue.\n",
      "1_00098 That is okay for me. Shall I reserve it now for you?\n",
      "1_00098 Yes, do it for 7 days from 4th of March. Please confirm to book 2 rooms for 7 days in Best Western Plus Pavilions from March 4th in Anaheim.\n",
      "1_00098 That is confirmed. You can proceed with booking. May I know the rate details per night? Yes, it costs $76 per night and your booking was successfully made.\n",
      "1_00098 Thank you so much and that's all. Have a good day.\n",
      "1_00099 I'm hoping to find a hotel where I can stay. In what city please?\n",
      "1_00099 In the city of Chi-town please. All right. Perhaps you'd like the Ac Hotel By Marriott Chicago Downtown, which is a hotel with a 3 star user rating.\n",
      "1_00099 What other three star hotels can you recommend? Someplace I can smoke, too, please. Acme Hotel Company is also a hotel with a 3 star rating.\n",
      "1_00099 Where are they located exactly? Of course, the hotel's address is 15 East Ohio Street.\n",
      "1_00099 Great, thank you. Shall I make a reservation for you there?\n",
      "1_00099 Yes, could you book 1 room for me there starting on March 8th for a five day stay? Confirming your booking at the Acme Hotel Company in Chicago on March 8th, 1 room for 5 days.\n",
      "1_00099 My bad, I should have said check-in on the 9th. Confirming your March 9th check-in at Acme Hotel Company.\n",
      "1_00099 Yes, thanks. How much is that? The room costs $105 nightly. The reservation just completed, so you're all set.\n",
      "1_00099 Thank you for your great help. How else may I help you today?\n",
      "1_00099 Nothing else right now. Thanks so much. You're very welcome. Have a great day.\n",
      "1_00100 I want to find a hotel in Toronto, Canada.I will need 1 room. I have 10 results according to your requirements.A 3 star hotel called Best Western Plus Toronto North York Hotel & Suites.\n",
      "1_00100 Tell me please if smoking is allowed and the price per night. $63 is the cost per night.Smoking is not allowed in this hotel.\n",
      "1_00100 Something else you can find? A 3 star hotel called Best Western Premier Toronto Airport Carlingview Hotel.\n",
      "1_00100 Perfect.I want to reserve the hotel for 4 days. The check in date when will be?\n",
      "1_00100 I would like to be on Tuesday next week. You want 1 room at hotel Best Western Premier Toronto Airport Carlingview Hotel located in Toronto.Check in date is on March 5th ad you want to stay 4 days.Is that okay ?\n",
      "1_00100 Great.Tell me their street address and the price for night. Booking was made.Cost per night is $117 and you can find them at 135 Carlingview Drive Etobicoke, Ontario M9W 5E7, Canada.\n",
      "1_00100 Thanks a lot for helping. Can I help you with anything else?\n",
      "1_00100 No.Thank you! Bye.Have a nice day!\n",
      "1_00101 I need to find a 3 star hotel please What city do you want to stay in\n",
      "1_00101 I need a hotel in London, England What about the 3 star Abbey Court Hotel (Hyde Park) branch?\n",
      "1_00101 What else can you find for me? There's a 3 star Accommodation London Bridge hotel\n",
      "1_00101 How can I reach them? You can phone them at +44 20 7407 7566\n",
      "1_00101 That's great then Can I help with something else?\n",
      "1_00101 Yes book me a room there please For how long will you be staying?\n",
      "1_00101 I'll be there for 5 days starting on the 8th Confirming you want to stay at Accommodation London Bridge in London starting March 8th for 5 days, and you need 1 room\n",
      "1_00101 Actually I need 3 rooms please Confirming you want 3 rooms in London\n",
      "1_00101 Yes please, also what's their address? It's been booked and you can head to 58 Great Dover Street on your check-in date\n",
      "1_00101 Can I smoke there? And what's the price per night? It's $342 a night and sorry no smoking allowed\n",
      "1_00101 Understood. That's all for now, thanks Enjoy your stay in London!\n",
      "1_00102 I'm after a hotel for an upcoming trip What city should I search?\n",
      "1_00102 Can you look in NYC I have found 10 hotels including the 1 Hotel Brooklyn bridge, a 5 star hotel\n",
      "1_00102 What's their contact? You can call them on +1 347-696-2500\n",
      "1_00102 What else is there? I also have the 1 Hotel Central Park, a 5 star hotel\n",
      "1_00102 nah what else I have the 11 Howard, a 3 star hotel\n",
      "1_00102 Whats their number? You can reach them on +1 212-235-1111\n",
      "1_00102 Okay sounds great Do you want me to book you a room?\n",
      "1_00102 Yes please. I need 3 rooms and we're staying 2 night What is your preferred check in date?\n",
      "1_00102 On the 7th Confirming you wish to book 3 rooms for 2 nights at the 11 Howard in New York, checking in on March 7th.\n",
      "1_00102 Yes thanks, also whats the cost per night? I have successfully booked those rooms for you. the cost is $297 per night.\n",
      "1_00102 Cool, whats the street address? The hotel is located at 11 Howard Street\n",
      "1_00102 Great thanks so much? Is that all for now?\n",
      "1_00102 Yeah, thanks so much Have a nice stay.\n",
      "1_00103 I need to find a hotel. What city would you like to look for hotels?\n",
      "1_00103 I want to look for hotels in Kuala Lumpur please. There is a 5 star hotel called Alila Bangsar.\n",
      "1_00103 That sounds great. Would you like to make a reservation at this hotel?\n",
      "1_00103 Yes. I want to make a reservation please. When would you be arriving and how long are you staying for?\n",
      "1_00103 I am staying four days and arriving on the 10th of March. So you want me to make a reservation for 4 days at Alila Bangsar for 1 room I Kuala Lumpur for March 10th?\n",
      "1_00103 Yes I do. What is the smoking policy at the hotel? There is no smoking allowed on the property. Your reservation is all set.\n",
      "1_00103 Thanks for all your help. Can I do anything else for you?\n",
      "1_00103 No, I am all set. You have been very helpful. Goodbye, Have a great day.\n",
      "1_00104 I want to stay in a nice Hotel for a while and I need your help to search for the good one. Can you search it in Rio? What about a 2 star hotel named Atlantico Copacabana Hotel? Do you like to stay there?\n",
      "1_00104 Let me decide and I want to know their phone number. Is they allow smoking there? No, smoking it not permitted there and their phone number is +55 21 2548-0011\n",
      "1_00104 That's okay and thanks. Shall I reserve it now?\n",
      "1_00104 Yes, I need to reserve it now and do it for me. Let me know the number of days that you want to stay in that hotel to book the same and from which date you need to book?\n",
      "1_00104 I want to book it from the 1st and I need it for four days. Please confirm to book 1 room for 4 days in Hotel Atlantico Copacabana Hotel from March 1st in Rio de Janeiro.\n",
      "1_00104 That is okay to proceed. I also want to know their address and cost per night. It costs $62 per night and they are located at Rua Siqueira Campos, 90 - Copacabana. Your booking was confirmed.\n",
      "1_00104 Thank you for your information and help. Anything else you need/\n",
      "1_00104 No, thanks and that's all. Have a good day.\n",
      "1_00105 I am interested in finding a four star hotel in Toronto, and I am in need of one room. There is a 4 star hotel which you might consider called Bisha Hotel Toronto.\n",
      "1_00105 Can you tell me how much it will cost me per night? The room at this hotel will cost you $208 per night.\n",
      "1_00105 That seems nice. I want to make a booking at this hotel. Can you tell me when you are going to the hotel, and for how long you need the room?\n",
      "1_00105 I will be going at the hotel today, and I need to have the room for seven days. Can you please confirm that you want to have 1 room for 7 days at Bisha Hotel Toronto in Toronto, and that you are going to go there on March 1st?\n",
      "1_00105 Yes, that is good. Can you give me the address of the hotel, and a phone number I can use to call them? Your requested room has been booked. The hotel can be found at 80 Blue Jays Way, and if you want to call them you can at +1 416-551-2800.\n",
      "1_00105 Thank you, you did help me a lot. That would be all. Later then, and have a nice day!\n",
      "1_00106 I'm looking for a hotel. What area are you looking for a hotel?\n",
      "1_00106 I want a hotel in Cape Town. I found 10 hotels for you. How about the 5 star 12 Apostles Hotel & Spa?\n",
      "1_00106 What is the phone number and address? The phone number is +27 21 437 9000 and the address is Victoria Street, Camps Bay.\n",
      "1_00106 Okay, that sounds good. Do you want to make a reservation?\n",
      "1_00106 Yes, I'd like a reservation for six days, checking in on March 7th. Okay, I have a reservation checking in on March 7th for 1 room at the 12 Apostles Hotel & Spa in Cape Town for 6 days, right?\n",
      "1_00106 Yes, that is correct. Does the hotel allow smoking in the hotel? I have successfully confirmed the reservation. Smoking is not allowed on property.\n",
      "1_00106 Thank you Is there anything else I can help with?\n",
      "1_00106 No, thank you. Have a great day.\n",
      "1_00107 I am searching for a hotel. In which city do you need the hotel?\n",
      "1_00107 I need hotels in Phoenix. I searched and found 10 hotels. A 3 star hotel Ac Hotel By Marriott Phoenix Biltmore.\n",
      "1_00107 Whether the smoking is permitted in hotel? Nope. Smoking is prohibited in the property.\n",
      "1_00107 What is the cost per night? What is the street address? The address is 2811 East Camelback Road. The cost is $117 per night.\n",
      "1_00107 Please search for some other hotels with my criteria. A 3 star hotel Aloft Phoenix-Airport.\n",
      "1_00107 It is good. Shall I reserve the hotel?\n",
      "1_00107 Yes. I wish to reserve it. When do you want to check in? For how many days do you want to stay?\n",
      "1_00107 I wish to check in on March 12th and I want to stay for 2 days. Kindly ensure that, on March 12th, you need 1 room in Aloft Phoenix-Airport at Phoenix. You need it for 2 days.\n",
      "1_00107 Sure. It is good. What is their contact phone number? Whether the smoking is allowed? Booking made successfully. No, smoking is not allowed there. The contact number if +1 602-275-6300.\n",
      "1_00107 Thank you so much for your help. Do you need any other help?\n",
      "1_00107 Nope. Thank you. You are highly helpful. Bye, have a fantastic day.\n",
      "1_00108 Find me a hotel What city do you want me to look in?\n",
      "1_00108 I'd like to find hotels in SD. I have 10 hotels that match. How about a 3 star hotel called Bahia Resort Hotel?\n",
      "1_00108 That sounds good. I'd like to reserve it. I'll need the hotel for two days. When will you check in?\n",
      "1_00108 I would like to check in on Sunday this week. Could you confirm that you want to book at Bahia Resort Hotel for March 3rd for 2 nights in San Diego California and that you need 1 room?\n",
      "1_00108 Sure, sounds great. I have made the hotel booking successfully.\n",
      "1_00108 Thank you, that was very helpful. Could I help with something else?\n",
      "1_00108 No but thank you for helping. Bye, have a great day.\n",
      "1_00109 I need to attend a conference so i need a hotel to stay. Will you find me a hotel ? At which city should i need to search for?\n",
      "1_00109 I need hotels in London, UK. i found 10 hotels that suits your needs. there is a hotel called 45 Park Lane. It is a 5 star hotel.\n",
      "1_00109 Is smoking allowed in the hotel? No, smoking is not allowed on the hotel.\n",
      "1_00109 Ok sounds good. I like to reserve the hotel and i will check in on 6th of March. I need 1 rooms. ok sure. How long will you be staying over there?\n",
      "1_00109 i'll be staying for 7 days. Please check and confirm the following details. Hotel is found at 45 Park Lane and Check in Date is on March 6th and You will be staying for 7 days. It is in London. You want 1 rooms.\n",
      "1_00109 Ok that sounds good . What is their Phone Number? Hotel is booked successfully. Their Phone number is +44 20 7493 4545.\n",
      "1_00109 Thanks a lot for your help. that's all i need Bye have a great day\n",
      "1_00110 I'm searching for a hotel in Cape town that has five stars. I discovered 10 hotels suitable for you. There's a 5 star hotel known as 12 Apostles Hotel & Spa.\n",
      "1_00110 Does the hotel permit smoking, and where is the hotel located? Smoking is not permitted, and the hotel is located at Victoria Street, Camps Bay.\n",
      "1_00110 That's fine for me. Do you wish to book the hotel?\n",
      "1_00110 Yeah, I intend to book for two days with a check-in date on the 3rd. Please verify the following information: you are checking in the 12 Apostles Hotel & Spa on March 3rd for 2 days and with 1 room, situated in Cape Town.\n",
      "1_00110 Yeah, that's good for me. How much does it cost per day? I completed the hotel reservation, and the price is $320 per day.\n",
      "1_00110 Thank you; you have been a great help. Could I assist you with something else?\n",
      "1_00110 Nope; thank you; you have been a great assistance. Have a pleasant afternoon; goodbye!\n",
      "1_00111 I am looking for a four star hotel in NYC with two rooms there are 10 hotels matching your criteria 6 Columbus - Central Park hotel is good 4 star hotel\n",
      "1_00111 great Would you like to make a reservation\n",
      "1_00111 yes I am looking to book what is your check in date\n",
      "1_00111 make it on day after tomorrow How long will you be here\n",
      "1_00111 I will be staying for 5 days please confirm you want to find a hotel in 6 Columbus - Central Park hotel in New York for 2 rooms and the checking date is March 3rd for 5 days\n",
      "1_00111 What is the total price and phone number your booking is successfully made it cost $300 per night and the phone number +1 212-204-3000\n",
      "1_00111 thanks a lot that's all for now bye have a nice day\n",
      "1_00112 Hello. I need to find a hotel. Okay, great! What city would you like to stay in?\n",
      "1_00112 Portland Perfect! I found 10 hotels you might like. I recommend Aloft Portland Airport at Cascade Station. It's a 3 star hotel.\n",
      "1_00112 Do you have anything else? Although, I am looking for a three star hotel with two rooms. How about the Clarion Hotel Portland International Airport? It's a 3 star hotel.\n",
      "1_00112 What's the price per night? Do they have any smoking rooms? It costs $252 per night. Yes, they do have smoking rooms!\n",
      "1_00112 Sounds great! Would you like me to make a reservation?\n",
      "1_00112 Yes, please! Okay! How long would you like to stay?\n",
      "1_00112 I'd like to check in on the 3rd for six days. Thanks! Can you confirm the following details, please? You'll be staying at the Clarion Hotel Portland International Airport for 6 days. You're checking in on March 3rd in Portland, and the room has 2 rooms.\n",
      "1_00112 Yes, correct. Tell me, what's their phone number? The room is booked! The hotel's phone number is +1 503-252-2222.\n",
      "1_00112 Thank you! You're welcome! Can I help you with anything else?\n",
      "1_00112 No, that's all. Bye, have a good day!\n",
      "1_00113 I need to find a hotel. In which city do you want to look for a hotel?\n",
      "1_00113 I am looking in NY for a hotel. I have found 10 hotels, including a 5 star hotel called 1 Hotel Brooklyn Bridge.\n",
      "1_00113 That sounds great. I need to make a reservation for one room. When would you like to check in and how long will you be staying?\n",
      "1_00113 I will be stay at the hotel four days and want to check in next Wednesday. So you want me to Book a Hotel for 1 room at the 1 Hotel Brooklyn Bridge in New York for March 6th for 4 days?\n",
      "1_00113 Yes, I do. Thanks!! Your reservation has been made at the hotel.\n",
      "1_00113 Can I smoke at the hotel? Yes, you can smoke at this hotel?\n",
      "1_00113 Thanks for all your help. Can I do anything else?\n",
      "1_00113 No. You have been great. Thanks. Goodbye. Have a great day.\n",
      "1_00114 I'm searching for a hotel. What metropolis ought I search for hotels at?\n",
      "1_00114 I'm searching for hotels in Los Angeles, since I require one room. I discovered 10 hotels suitable for you. There is a 3 star hotel known as Ac Hotel By Marriott Beverly Hills.\n",
      "1_00114 Do you have some alternative hotels suitable for me? There is a 3 star hotel known as the Airtel Plaza Hotel.\n",
      "1_00114 That's perfect. I want to book the hotel for three days. What time do you intend to check in?\n",
      "1_00114 I in tend to check in on the 11th of this month. Please verify the following information: you'd like 1 room for 3 days at the Airtel Plaza Hotel, located in Los Angeles, with the check-in day being March 11th.\n",
      "1_00114 Yeah, that's fine with me. How much does it cost, and what is their contact number? Your hotel reservation is complete. The hotel price is $144 per day, and their contact number is +1 818-997-7676.\n",
      "1_00114 Thank you; you've been a huge assistance. Could I assist you with something else?\n",
      "1_00114 Nope; thank you for your helpful assistance. Farewell, and have a pleasant day!\n",
      "1_00115 Hello. Can you help me find a three star hotel in London? I need a hotel that allows smoking. I've found 10 hotels that match your criteria. How about the 3 star hotel called Abbey Court Hotel (Hyde Park)?\n",
      "1_00115 Okay, that sounds good. Go ahead and start making the reservation, I will be staying for two days. No problem, what is your preferred check in date?\n",
      "1_00115 I'd like to check on on Thursday next week. Before we get started, please confirm the following for me. You want to reserve 1 room at Abbey Court Hotel (Hyde Park) in London for March 7th. You will be staying for a total of 2 days. Correct?\n",
      "1_00115 Yes, that sounds good. What's the price per night? The price will be $315 a night. Your room has been successfully booked.\n",
      "1_00115 Okay, thanks. What is their number? The phone number is +44 20 7402 0281.\n",
      "1_00115 Okay, thanks. You've been a great help. Is there anything else I can help you with?\n",
      "1_00115 No thanks. Appreciate the assist. My pleasure. Have a great day.\n",
      "1_00116 I need help finding a hotel. What city would you like to find a hotel in?\n",
      "1_00116 I want a hotel in Sydney, Australia. I have 10 hotels that can work. There's a 3 star hotel called 1831 Boutique Hotel you might like.\n",
      "1_00116 Sounds nice. Please make me a reservation there. How many days will you be there?\n",
      "1_00116 I'll be there for two days. And what's your check in date?\n",
      "1_00116 I want to check in on the 7th of March. I'll book you 1 room at 1831 Boutique Hotel in Sydney for 2 days starting on March 7th. Is that right?\n",
      "1_00116 Yes, that's right. I've booked the room for you.\n",
      "1_00116 Is smoking permitted there? And can you give me their address? Yes, smoking is allowed. They are located at 631-635 George Street.\n",
      "1_00116 Thanks, you've been of great help. I don't need anything else. Goodbye and have a terrific day.\n",
      "1_00117 I am going on a trip and need a hotel room. Do you have a preferred city to stay in?\n",
      "1_00117 Yes, thanks for asking. New Delhi please. I found a hotel with a 5 star rating called Aloft New Delhi Aerocity.\n",
      "1_00117 Sweet. Please make me a reservation at that hotel. Do you know how long you would like to stay? When you would like to check in?\n",
      "1_00117 Yes, I would like to stay for 5 days with a preferred check in on Tuesday next week. Let me know if these details are correct. You would like to check in the Aloft New Delhi Aerocity in Delhi on March 5th. You would like 1 room for 5 nights.\n",
      "1_00117 The details are correct. What is the hotel smoking policy? I also need the address please. The hotel has a no smoking policy. You can find the hotel at 5B IGI T3 Road Delhi Aerocity, New Delhi. Your reservation has been made.\n",
      "1_00117 That's perfect, thanks so much. I'm set for the time being. Talk to you later.\n",
      "1_00118 I am in a nice mood and I like to listen some nice songs. Can you search for me the best one? Yes, what about your opinion on Nixta Ginontai Ta Thavmata by Malou Kyriakopoulou from the album Ores Aixmis. Hope you will like it.\n",
      "1_00118 Let me know the type of this song and also check whether it is from '16? No, it is from the year 2019 and it is a Pop type song.\n",
      "1_00118 That's great and I like the same. Shall I play it for you now?\n",
      "1_00118 Yes, do it for me. Please confirm to play the song Nixta Ginontai Ta Thavmata in Living Room.\n",
      "1_00118 That is confirmed to proceed. Song started playing. Enjoy the same.\n",
      "1_00118 Thanks & that's all. Have a good day.\n",
      "1_00119 Find me some music okay? I came up with 10 so far. Would you like to hear a song from the Miley Cyrus album Younger Now? It's called Malibu.\n",
      "1_00119 What year was that in? 2017 is the release date.\n",
      "1_00119 Okay play that one. Play that song?\n",
      "1_00119 Yes if you would please. So I will play Malibu in the Living Room right?\n",
      "1_00119 That is right. Have a pleasant listening experience.\n",
      "1_00119 I appreciate that. Can I be of further assistance?\n",
      "1_00119 Not right now thanks. Have a most wonderful day!\n",
      "1_00120 Can you recommend a song to listen to? I'd be happy to help. May I suggest Roller Coaster from the album Crash My Party by Luke Bryan.\n",
      "1_00120 Perfect! I love that song. Do you want me to play it now?\n",
      "1_00120 Yes, I'd like to listen to it now. You'd like to hear Roller Coaster played in the Living room. Is that correct?\n",
      "1_00120 Yes, that will be perfect. Your selection has begun streaming.\n",
      "1_00120 Great! Thank you for the help. You're welcome. Have a wonderful day.\n",
      "1_00121 Please find me any of the songs that I've played the most this week. How about Strangers by Sigrid, from her album Sucker Punch?\n",
      "1_00121 Cool! That's the song I'd like you to play. Sure! Please confirm that you'd like to play Strangers in the Living room.\n",
      "1_00121 You got that right. Do enjoy listening to your music.\n",
      "1_00121 Thank you very much. That will be all. Do have yourself a great day!\n",
      "1_00122 Can you search for some songs from 2015? I found 10 songs for you. What about Back It Up by Prince Royce, from the album Double Vision?\n",
      "1_00122 What genre of music is that song? It is a Pop song.\n",
      "1_00122 That sounds good. Would you like to listen to the song now?\n",
      "1_00122 Yeah, play it on the kitchen device, please. You would like to play the song Back It Up in on the device in the Kitchen, is this correct?\n",
      "1_00122 Yes, go ahead. Enjoy the music!\n",
      "1_00122 Thank you! Is there anything else I can help you with?\n",
      "1_00122 No, I'm fine for now, thank you! Have a great day!\n",
      "1_00123 I am looking for some nice songs. How about Black Widow by Iggy Azalea from the album The New Classic?\n",
      "1_00123 Yes, That is music I am looking for. Do you want me to play the song for you?\n",
      "1_00123 Yes, Play the song on my living room. Please confirm: You want me to play Black Widow in Living room.\n",
      "1_00123 Yes, That sounds perfect. Your music is playing. Enjoy!\n",
      "1_00123 Can you confirm whether it came out three years back and find the type of the music? The type is Pop song and it came out in 2014.\n",
      "1_00123 That will be all. Thank you! I am glad I could help. Have a nice day!\n",
      "1_00124 I'm in the mood for some music and would like to play some songs. Okay, what about Masterpiece by Jessie J from the Sweet Talker album?\n",
      "1_00124 Did that song come out six years ago? The song came out in 2014.\n",
      "1_00124 What kind of music is it? This is a Pop song.\n",
      "1_00124 Yes, that's the one I'm thinking of. Is there anything else I can do for you?\n",
      "1_00124 Yes, please play that song on any device. Okay, let's confirm: Playing the song Masterpiece in the Living room.\n",
      "1_00124 Yes, thanks. Okay, enjoy your music.\n",
      "1_00124 Thank you! Is there anything else I can do for you?\n"
     ]
    },
    {
     "name": "stdout",
     "output_type": "stream",
     "text": [
      "1_00124 No, that's all thanks. Have a great day!\n",
      "1_00125 I am interested in listening to some music. Would you search for some songs? There are 10 songs I found that you may enjoy. Would you like to hear The Way I am by Charlie Puth? This is from the Voicenotes album.\n",
      "1_00125 Was this the one published in 2012? No, it came out in 2018.\n",
      "1_00125 Oh yes, that is the one I wanted to hear. Please play the song on any device. Please confirm you would like to hear The way I Am in the Living Room.\n",
      "1_00125 No, please play it on the speaker in patio. Please confirm you wish to hear the song The way I Am in the Patio.\n",
      "1_00125 Yes, that is right. Here you go and enjoy your music!\n",
      "1_00125 Would you tell me the genre of this music? This is considered a Pop song.\n",
      "1_00125 Great, thank you for your help! Do you need assistance with anything today?\n",
      "1_00125 No, that is all for now. Thanks again! Enjoy and have a great day!\n",
      "1_00126 Hey, I feel like listening to some tunes right now. Can you find me something from two years ago? Sure! What about the song Airplane Mode from the album Holo by Limbo?\n",
      "1_00126 I love it. Should I play it?\n",
      "1_00126 Please do. Cast it on the living room device. So you want the song the song Airplane Mode on the Living room device?\n",
      "1_00126 Actually, cast it on the patio device. So you want me to play the song Airplane Mode on the Patio?\n",
      "1_00126 Yes, that's it. What kind of music is it? Enjoy! It's a pop song.\n",
      "1_00126 Thanks! That's all. Have a great day!\n",
      "1_00127 I'd like to look for music right now. What is your opinion regarding Medicine by Jennifer Lopez from her album Medicine Remixes?\n",
      "1_00127 Do you have something else? I enjoy music by Greta Van Fleet. I discovered 1 music for you. What is your opinion regarding Highway Tune by Greta Van Fleet from the album Black Smoke Rising?\n",
      "1_00127 Yeah, that's perfect for me. Do you wish to cast this music?\n",
      "1_00127 Yup. Play it on patio speaker. Please verify the following information: cast the music Highway Tune in Patio.\n",
      "1_00127 Nope; play it on speaker in kitchen. Please verify the following information: cast the music Highway Tune in Kitchen.\n",
      "1_00127 Yeah, that's the right one. Have fun with your song.\n",
      "1_00127 Thank you for your help; that's all. Have a pleasant afternoon.\n"
     ]
    }
   ],
   "source": [
    "for dialogue in data:\n",
    "    dialogue_id = 'dialogue_id'\n",
    "    for i in range(0, len(dialogue['turns']), 2):\n",
    "        assert dialogue['turns'][i]['speaker'] == 'USER' and dialogue['turns'][i+1]['speaker'] == 'SYSTEM'\n",
    "        print(dialogue['dialogue_id'], dialogue['turns'][i]['utterance'], dialogue['turns'][i+1]['utterance'])"
   ]
  },
  {
   "cell_type": "code",
   "execution_count": null,
   "metadata": {},
   "outputs": [],
   "source": []
  }
 ],
 "metadata": {
  "kernelspec": {
   "display_name": "Python 3",
   "language": "python",
   "name": "python3"
  },
  "language_info": {
   "codemirror_mode": {
    "name": "ipython",
    "version": 3
   },
   "file_extension": ".py",
   "mimetype": "text/x-python",
   "name": "python",
   "nbconvert_exporter": "python",
   "pygments_lexer": "ipython3",
   "version": "3.6.6"
  }
 },
 "nbformat": 4,
 "nbformat_minor": 2
}
