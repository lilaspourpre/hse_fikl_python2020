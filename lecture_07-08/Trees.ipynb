{
 "cells": [
  {
   "cell_type": "markdown",
   "metadata": {},
   "source": [
    "# Рекурсия и деревья\n",
    "\n",
    "Наверное, единственная вещь, для которой объявление функции незаменимо - рекурсивный вызов. Фокус в том, что внутри функций можно вызывать другие функции. В том числе и функцию, которую мы в данный момент объявляем **(!)**."
   ]
  },
  {
   "cell_type": "code",
   "execution_count": 28,
   "metadata": {},
   "outputs": [
    {
     "name": "stdout",
     "output_type": "stream",
     "text": [
      "2\n"
     ]
    }
   ],
   "source": [
    "def factorial(n):\n",
    "    if n == 0:\n",
    "        return 1\n",
    "    else:\n",
    "        return n*factorial(n-1)\n",
    "\n",
    "print(factorial(2))"
   ]
  },
  {
   "cell_type": "markdown",
   "metadata": {},
   "source": [
    "**Задача:** вывести все целые числа от 0 до n без использования циклов."
   ]
  },
  {
   "cell_type": "code",
   "execution_count": 21,
   "metadata": {},
   "outputs": [],
   "source": [
    "def print_loop(n):\n",
    "    if n == 0:\n",
    "        print(0)\n",
    "    else:\n",
    "        print_loop(n-1)\n",
    "        print(n)"
   ]
  },
  {
   "cell_type": "code",
   "execution_count": 25,
   "metadata": {},
   "outputs": [
    {
     "name": "stdout",
     "output_type": "stream",
     "text": [
      "0\n",
      "1\n",
      "2\n"
     ]
    }
   ],
   "source": [
    "print_loop(2)"
   ]
  },
  {
   "cell_type": "markdown",
   "metadata": {},
   "source": [
    "### Бинарное дерево"
   ]
  },
  {
   "cell_type": "markdown",
   "metadata": {},
   "source": [
    "Бинарное дерево представляет из себя структуру данных, у каждого элемента которого есть до двух потомков: левый и правый."
   ]
  },
  {
   "cell_type": "markdown",
   "metadata": {},
   "source": [
    "Один из способов хранить их: список потомков левого и правого. Считаем \"корнем\" ноль, и если потомок имеет номер - 0, то потомка нет. Пример списка потомков для  дерева в файле:"
   ]
  },
  {
   "cell_type": "code",
   "execution_count": 3,
   "metadata": {},
   "outputs": [],
   "source": [
    "l = [9, 0, 4, 7, 0, 1, 0, 0, 0, 0]\n",
    "r = [5, 0, 6, 8, 0, 2, 0, 0, 0, 3]"
   ]
  },
  {
   "cell_type": "markdown",
   "metadata": {},
   "source": [
    "Например, вершина 5 имеет потомков:"
   ]
  },
  {
   "cell_type": "code",
   "execution_count": 38,
   "metadata": {},
   "outputs": [
    {
     "name": "stdout",
     "output_type": "stream",
     "text": [
      "left child: 4\n",
      "right child: 6\n"
     ]
    }
   ],
   "source": [
    "print(\"left child:\", l[2])\n",
    "print(\"right child:\", r[2])"
   ]
  },
  {
   "cell_type": "markdown",
   "metadata": {},
   "source": [
    "Давайте нарисуем, как бы выглядело это дерево:"
   ]
  },
  {
   "cell_type": "markdown",
   "metadata": {},
   "source": [
    "Высотой(глубиной - но это редко) дерева называют самое длинное расстояние от корня до какой-либо из вершин. Найти высоту дерева"
   ]
  },
  {
   "cell_type": "code",
   "execution_count": 45,
   "metadata": {},
   "outputs": [
    {
     "data": {
      "text/plain": [
       "3"
      ]
     },
     "execution_count": 45,
     "metadata": {},
     "output_type": "execute_result"
    }
   ],
   "source": [
    "l = [9, 0, 4, 7, 0, 1, 0, 0, 0, 0]\n",
    "r = [5, 0, 6, 8, 0, 2, 0, 0, 0, 3]\n",
    "\n",
    "\n",
    "def height(v):\n",
    "    if l[v] == 0 and r[v] == 0:\n",
    "        return 0\n",
    "    elif l[v] != 0 and r[v]==0:\n",
    "        return 1 + height(l[v])\n",
    "    elif l[v] == 0 and r[v] != 0:\n",
    "        return 1 + height(r[v])\n",
    "    else:\n",
    "        return 1 + max(height(l[v]), height(r[v]))\n",
    "\n",
    "height(0)"
   ]
  },
  {
   "cell_type": "markdown",
   "metadata": {},
   "source": [
    "### Подготовка к контрольной"
   ]
  },
  {
   "cell_type": "markdown",
   "metadata": {},
   "source": [
    "Есть два списка: `names` — с именами студентов и `marks` — с их оценками (одному студенту соответствует один индекс в обоих списках). Пользователь вводит через пробел фамилию и оценку, ваша задача — добавить оценку в список.\n",
    "\n",
    "```\n",
    "names = ['Петров', 'Иванов', 'Сидорова', 'Маркова', 'Дроздова']\n",
    "marks = [[10, 8, 7], [5, 8], [6, 9, 4], [8], [7, 9, 7]]\n",
    "```\n",
    "\n",
    "1.2 Если пользователь вводит несуществующего студента, добавить его в списки.\n",
    "\n",
    "1.3 Удалять из списков данные студента, фамилию которого вводит пользователь, по специальной команде, например: \"Петров удалить\".\n"
   ]
  },
  {
   "cell_type": "markdown",
   "metadata": {},
   "source": [
    "### Задачи из дз?"
   ]
  },
  {
   "cell_type": "code",
   "execution_count": null,
   "metadata": {},
   "outputs": [],
   "source": []
  }
 ],
 "metadata": {
  "kernelspec": {
   "display_name": "Python 3",
   "language": "python",
   "name": "python3"
  },
  "language_info": {
   "codemirror_mode": {
    "name": "ipython",
    "version": 3
   },
   "file_extension": ".py",
   "mimetype": "text/x-python",
   "name": "python",
   "nbconvert_exporter": "python",
   "pygments_lexer": "ipython3",
   "version": "3.6.6"
  }
 },
 "nbformat": 4,
 "nbformat_minor": 2
}
