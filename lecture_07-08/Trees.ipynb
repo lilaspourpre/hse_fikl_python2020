{
 "cells": [
  {
   "cell_type": "markdown",
   "metadata": {},
   "source": [
    "# 3. Рекурсия\n",
    "\n",
    "Наверное, единственная вещь, для которой объявление функции незаменимо - рекурсивный вызов. Фокус в том, что внутри функций можно вызывать другие функции. В том числе и функцию, которую мы в данный момент объявляем **(!)**."
   ]
  },
  {
   "cell_type": "code",
   "execution_count": 1,
   "metadata": {},
   "outputs": [
    {
     "name": "stdout",
     "output_type": "stream",
     "text": [
      "2\n"
     ]
    }
   ],
   "source": [
    "def factorial(n):\n",
    "    if n == 0:\n",
    "        return 1\n",
    "    else:\n",
    "        return n*factorial(n-1)\n",
    "\n",
    "print(factorial(2))\n",
    "# print(factorial(1))\n",
    "# print(factorial())"
   ]
  },
  {
   "cell_type": "markdown",
   "metadata": {},
   "source": [
    "**Задача:** вывести все целые числа от 0 до n без использования циклов."
   ]
  },
  {
   "cell_type": "code",
   "execution_count": 2,
   "metadata": {},
   "outputs": [],
   "source": [
    "# our code here"
   ]
  },
  {
   "cell_type": "markdown",
   "metadata": {},
   "source": [
    "Бинарное дерево представляет из себя структуру данных, у каждого элемента которого есть до двух потомков: левый и правый."
   ]
  },
  {
   "cell_type": "markdown",
   "metadata": {},
   "source": [
    "Один из способов хранить их: список потомков левого и правого. Считаем \"корнем\" ноль, и если потомок имеет номер - 0, то потомка нет. Пример списка потомков для  дерева в файле:"
   ]
  },
  {
   "cell_type": "code",
   "execution_count": 3,
   "metadata": {},
   "outputs": [],
   "source": [
    "l = [9, 0, 4, 7, 0, 1, 0, 0, 0, 0]\n",
    "r = [5, 0, 6, 8, 0, 2, 0, 0, 0, 3]"
   ]
  },
  {
   "cell_type": "markdown",
   "metadata": {},
   "source": [
    "Давайте нарисуем, как бы выглядело это дерево:"
   ]
  },
  {
   "cell_type": "markdown",
   "metadata": {},
   "source": [
    "Высотой(глубиной - но это редко) дерева называют самое длинное расстояние от корня до какой-либо из вершин. Найти высоту дерева"
   ]
  },
  {
   "cell_type": "code",
   "execution_count": null,
   "metadata": {},
   "outputs": [],
   "source": []
  }
 ],
 "metadata": {
  "kernelspec": {
   "display_name": "Python 3",
   "language": "python",
   "name": "python3"
  },
  "language_info": {
   "codemirror_mode": {
    "name": "ipython",
    "version": 3
   },
   "file_extension": ".py",
   "mimetype": "text/x-python",
   "name": "python",
   "nbconvert_exporter": "python",
   "pygments_lexer": "ipython3",
   "version": "3.6.6"
  }
 },
 "nbformat": 4,
 "nbformat_minor": 2
}
