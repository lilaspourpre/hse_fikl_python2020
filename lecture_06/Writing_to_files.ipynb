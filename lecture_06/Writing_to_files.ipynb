{
 "cells": [
  {
   "cell_type": "markdown",
   "metadata": {},
   "source": [
    "# Работа с файлами, часть II\n",
    "\n",
    "Запись в файл"
   ]
  },
  {
   "cell_type": "markdown",
   "metadata": {},
   "source": [
    "## 1. Разминка\n",
    "\n",
    "https://kahoot.it"
   ]
  },
  {
   "cell_type": "markdown",
   "metadata": {},
   "source": [
    "## 2. Запись файлов\n",
    "\n",
    "Писать в файлы позволяет та же функция `open()`, которую мы использовали на прошлом занятии, однако теперь аргумент `'r'` (read) сменяется аргументом `'w'` (write):"
   ]
  },
  {
   "cell_type": "code",
   "execution_count": null,
   "metadata": {},
   "outputs": [],
   "source": [
    "with open(\"referats.txt\", \"w\", encoding=\"utf-8\") as f:    # файл открыт\n",
    "    f.write(\"Используются тексты с Яндекс.Рефератов https://yandex.ru/referats/\\n\")\n",
    "    # Запишем в файл еще одну строку\n",
    "    f.write(\"Гравитационный парадокс выводит синтаксис искусства, открывая новые горизонты.\\n\")"
   ]
  },
  {
   "cell_type": "markdown",
   "metadata": {},
   "source": [
    "Напомним, что следует следить за отступами и писать в файл после выхода из блока with уже нельзя:"
   ]
  },
  {
   "cell_type": "code",
   "execution_count": null,
   "metadata": {},
   "outputs": [],
   "source": [
    "with open(\"function.txt\", \"w\", encoding=\"utf-8\") as f:\n",
    "    f.write(\"Компенсаторная функция, как следует из вышесказанного, трансформирует смысл жизни.\\n\")\n",
    "    if not f.writable:\n",
    "        print(\"Файл закрыт\")\n",
    "\n",
    "# После выхода из блока писать в файл уже нельзя, следующая команда вызовет ошибку. Как всегда следите за отступами!\n",
    "f.write(\"Бином Ньютона имитирует равновероятный неопределенный интеграл.\\n\")"
   ]
  },
  {
   "cell_type": "markdown",
   "metadata": {},
   "source": [
    "Если в файл хочется записать одну большую строку с множеством переносом строк, а ставить много \\n не хочется, то можно воспользоваться тройными кавычками, которые позволяют задавать “многострочные” строки и свободно использовать внутри них одинарные и двойные кавычки:"
   ]
  },
  {
   "cell_type": "code",
   "execution_count": null,
   "metadata": {},
   "outputs": [],
   "source": [
    "text1 = \"\"\"Альтиметр редуцирует лазерный ньютонометр. Как отмечает А.А.Потебня,\n",
    "\"строфоид\" начинает период. Необходимым и достаточным условием отрицательности\n",
    "действительных частей корней рассматриваемого характеристического уравнения\n",
    "является то, что гироскопический прибор преобразует цикл. Действительно,\n",
    "диахрония пространственно переворачивает астатический гирокомпас, что видно из\n",
    "уравнения кинетической энергии ротора. Погрешность изготовления неумеренно\n",
    "определяет резкий кинетический момент. Слово, несмотря на некоторую\n",
    "погрешность, поступательно диссонирует подвес. Апостроф' порождает неопределенность.\"\"\""
   ]
  },
  {
   "cell_type": "code",
   "execution_count": null,
   "metadata": {},
   "outputs": [],
   "source": [
    "with open(\"multiline.txt\", \"w\", encoding=\"utf-8\") as f:\n",
    "    f.write(text1)"
   ]
  },
  {
   "cell_type": "markdown",
   "metadata": {},
   "source": [
    "Следует отметить, что во всех предыдущих примерах, если файла с таким именем не существовало, то он создавался, а если существовал, то он переписывался. Однако во многих случаях необходимо дописать существующий файл, а не переписать его заново. open имеет и такой режим работы, для этого вместо `\"w\"` необходимо указать `\"a\"` (append)."
   ]
  },
  {
   "cell_type": "code",
   "execution_count": null,
   "metadata": {},
   "outputs": [],
   "source": [
    "text2 = \"\"\"Экситон не входит своими составляющими, что очевидно,\n",
    "в силы нормальных реакций связей, так же как и межатомный ПИГ,\n",
    "составляя уравнения Эйлера для этой системы координат.\n",
    "\"\"\""
   ]
  },
  {
   "cell_type": "code",
   "execution_count": null,
   "metadata": {},
   "outputs": [],
   "source": [
    "with open(\"multiline.txt\", \"w\", encoding=\"utf-8\") as f:\n",
    "    f.write(text2)"
   ]
  },
  {
   "cell_type": "code",
   "execution_count": null,
   "metadata": {},
   "outputs": [],
   "source": [
    "with open(\"multiline.txt\", \"a\", encoding=\"utf-8\") as f:\n",
    "    f.write(text1)"
   ]
  },
  {
   "cell_type": "markdown",
   "metadata": {},
   "source": [
    "## 3. Чтение файла построчно"
   ]
  },
  {
   "cell_type": "markdown",
   "metadata": {},
   "source": [
    "Иногда необходимо пропустить первую строку, а потом считывать файл. Или первые `n` строк"
   ]
  },
  {
   "cell_type": "code",
   "execution_count": 35,
   "metadata": {},
   "outputs": [
    {
     "name": "stdout",
     "output_type": "stream",
     "text": [
      "['АБДОМИНОПЛАСТИКА', '5390-N']\n",
      "['АБДОМИНОПЛАСТИКА', '1064-N']\n",
      "['АБДОМИНОПЛАСТИКА', '113873-N']\n",
      "['АБДОМИНОПЛАСТИКА', '1047-N']\n",
      "['АБДОМИНОПЛАСТИКА', '144594-N']\n",
      "['АБДОМИНОПЛАСТИКА', '135045-N']\n",
      "['АБДОМИНОПЛАСТИКА', '7529-N']\n",
      "['АБДОМИНОПЛАСТИКА', '10123-N']\n",
      "['АБДОМИНОПЛАСТИКА', '154733-N']\n",
      "['АБДОМИНОПЛАСТИКА', '1065-N']\n",
      "['АБСОРБЕНТ', '820-N']\n",
      "['АБСОРБЕНТ', '1067-N']\n",
      "['АБСОРБЕНТ', '3675-N']\n",
      "['АБСОРБЕНТ', '5992-N']\n",
      "['АБСОРБЕНТ', '147758-N']\n",
      "['АБСОРБЕНТ', '111683-N']\n",
      "['АБСОРБЕНТ', '3168-N']\n",
      "['АБСОРБЕНТ', '107267-N']\n",
      "['АБСОРБЕНТ', '8998-N']\n",
      "['АБСОРБЕНТ', '4634-N']\n",
      "['АВАЛЬ', '1337-N']\n",
      "['АВАЛЬ', '150684-N']\n",
      "['АВАЛЬ', '1792-N']\n",
      "['АВАЛЬ', '6424-N']\n",
      "['АВАЛЬ', '124057-N']\n",
      "['АВАЛЬ', '1554-N']\n",
      "['АВАЛЬ', '1278-N']\n",
      "['АВАЛЬ', '1271-N']\n",
      "['АВАЛЬ', '150764-N']\n",
      "['АВАЛЬ', '6765-N']\n",
      "['АВТАРКИЯ', '833-N']\n",
      "['АВТАРКИЯ', '601-N']\n",
      "['АВТАРКИЯ', '113853-N']\n",
      "['АВТАРКИЯ', '1208-N']\n",
      "['АВТАРКИЯ', '49-N']\n",
      "['АВТАРКИЯ', '137766-N']\n",
      "['АВТАРКИЯ', '445-N']\n",
      "['АВТАРКИЯ', '126377-N']\n",
      "['АВТАРКИЯ', '133994-N']\n",
      "['АВТАРКИЯ', '124135-N']\n",
      "['АГНОСТИК', '107524-N']\n",
      "['АГНОСТИК', '4474-N']\n",
      "['АГНОСТИК', '2149-N']\n",
      "['АГНОСТИК', '130993-N']\n",
      "['АГНОСТИК', '122232-N']\n",
      "['АГНОСТИК', '153097-N']\n",
      "['АГНОСТИК', '4544-N']\n",
      "['АГНОСТИК', '127024-N']\n",
      "['АГНОСТИК', '126711-N']\n",
      "['АГНОСТИК', '127065-N']\n"
     ]
    }
   ],
   "source": [
    "with open(\"data.tsv\", 'r', encoding=\"utf-8\") as f:\n",
    "    first_line = f.readline()\n",
    "    for line in f:\n",
    "        print(line.strip().split(\"\\t\"))"
   ]
  },
  {
   "cell_type": "code",
   "execution_count": 36,
   "metadata": {},
   "outputs": [
    {
     "data": {
      "text/plain": [
       "'word\\tid\\n'"
      ]
     },
     "execution_count": 36,
     "metadata": {},
     "output_type": "execute_result"
    }
   ],
   "source": [
    "first_line"
   ]
  },
  {
   "cell_type": "markdown",
   "metadata": {},
   "source": [
    "**Задание: придумайте, как можно пропустить первые `n=11` строк:**"
   ]
  },
  {
   "cell_type": "code",
   "execution_count": null,
   "metadata": {},
   "outputs": [],
   "source": [
    "# your code here"
   ]
  },
  {
   "cell_type": "markdown",
   "metadata": {},
   "source": [
    "## Домашнее задание"
   ]
  },
  {
   "cell_type": "markdown",
   "metadata": {},
   "source": [
    "Снова сдаем через бота:\n",
    "\n",
    "https://gist.github.com/Sapunov/0c98e9709b39f868b5489f756d342e34"
   ]
  },
  {
   "cell_type": "markdown",
   "metadata": {},
   "source": [
    "## 4. Практика"
   ]
  },
  {
   "cell_type": "markdown",
   "metadata": {},
   "source": [
    "Решим задачу 6"
   ]
  },
  {
   "cell_type": "markdown",
   "metadata": {},
   "source": [
    "### Задача №6\n",
    "\n",
    "У пользователя есть несколько файлов. Он хочет объединить их в один и отсортировать контент выходного файла по алфавиту.\n",
    "\n",
    "Напишите программу, которая спросит у пользователя все пути к файлам и соединит содержимое всех введенных файлов в один с именем, которое тоже нужно спросить у пользователя.\n",
    "\n",
    "Программа должна работать с любыми текстовыми файлами.\n",
    "\n",
    "**Пример**\n",
    "\n",
    "Содержимое исходных файлов:\n",
    "\n",
    "`file_one.txt`\n",
    "\n",
    "```\n",
    "hello\n",
    "hi\n",
    "привет\n",
    "```\n",
    "\n",
    "\n",
    "`file_two.txt`\n",
    "\n",
    "```\n",
    "good bye\n",
    "bye\n",
    "пока\n",
    "```\n",
    "\n",
    "Содержимое полученного файла\n",
    "\n",
    "`merge_sorted_result.txt`\n",
    "\n",
    "```\n",
    "bye\n",
    "good bye\n",
    "hello\n",
    "hi\n",
    "пока\n",
    "привет\n",
    "```"
   ]
  },
  {
   "cell_type": "markdown",
   "metadata": {},
   "source": [
    "1) Создадим файлы с помощью python:"
   ]
  },
  {
   "cell_type": "code",
   "execution_count": 37,
   "metadata": {},
   "outputs": [],
   "source": [
    "# your code here"
   ]
  },
  {
   "cell_type": "markdown",
   "metadata": {},
   "source": [
    "2) Запросим имена файлов у пользователя"
   ]
  },
  {
   "cell_type": "code",
   "execution_count": null,
   "metadata": {},
   "outputs": [],
   "source": [
    "# your code here"
   ]
  },
  {
   "cell_type": "markdown",
   "metadata": {},
   "source": [
    "3) Прочтем файлы построчно"
   ]
  },
  {
   "cell_type": "code",
   "execution_count": 38,
   "metadata": {},
   "outputs": [],
   "source": [
    "# your code here"
   ]
  },
  {
   "cell_type": "markdown",
   "metadata": {},
   "source": [
    "4) Сортируем строки"
   ]
  },
  {
   "cell_type": "code",
   "execution_count": 39,
   "metadata": {},
   "outputs": [],
   "source": [
    "# your code here"
   ]
  },
  {
   "cell_type": "markdown",
   "metadata": {},
   "source": [
    "5) Записываем в файл:"
   ]
  },
  {
   "cell_type": "code",
   "execution_count": 44,
   "metadata": {},
   "outputs": [],
   "source": [
    "# your code here"
   ]
  },
  {
   "cell_type": "code",
   "execution_count": null,
   "metadata": {},
   "outputs": [],
   "source": []
  }
 ],
 "metadata": {
  "kernelspec": {
   "display_name": "Python 3",
   "language": "python",
   "name": "python3"
  },
  "language_info": {
   "codemirror_mode": {
    "name": "ipython",
    "version": 3
   },
   "file_extension": ".py",
   "mimetype": "text/x-python",
   "name": "python",
   "nbconvert_exporter": "python",
   "pygments_lexer": "ipython3",
   "version": "3.8.3"
  }
 },
 "nbformat": 4,
 "nbformat_minor": 4
}
