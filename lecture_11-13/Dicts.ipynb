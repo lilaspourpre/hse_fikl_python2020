{
 "cells": [
  {
   "cell_type": "markdown",
   "metadata": {},
   "source": [
    "# Словари в Python\n",
    "\n",
    "#### 16.01"
   ]
  },
  {
   "cell_type": "markdown",
   "metadata": {},
   "source": [
    "#### Модуль 3\n",
    "\n",
    "1) Две пары на словари, множества, json, csv файлы\n",
    "\n",
    "2) Четыре пары на регулярные выражения\n",
    "\n",
    "3) Подготовка к контрольной \n",
    "\n",
    "4) Контрольная №2\n",
    "\n",
    "#### Модуль 4\n",
    "\n",
    "1) Предзащита проектов\n",
    "\n",
    "2) Работа с файлами и папками\n",
    "\n",
    "3) Защита проектов\n",
    "\n",
    "4) Подготовка к экзамену/экзамен"
   ]
  },
  {
   "cell_type": "markdown",
   "metadata": {},
   "source": [
    "## Начнем с теста!"
   ]
  },
  {
   "cell_type": "code",
   "execution_count": null,
   "metadata": {},
   "outputs": [],
   "source": [
    "s_modif = s.replace(\"return\", \"result =\")\n",
    "w.write(s_modif)\n",
    "w.write(\"return result\\n\")"
   ]
  },
  {
   "cell_type": "markdown",
   "metadata": {},
   "source": [
    "![](https://lh3.googleusercontent.com/proxy/SqfiWNavOtLRlri_CTBXC09Q8LybZe09peSQ7H-MeFyhk_tjETKJTiqSnRp8hKASdmPFGLC_zKPB7IPEDhOOCIGCv84)"
   ]
  },
  {
   "cell_type": "markdown",
   "metadata": {},
   "source": [
    "# Множества (set)"
   ]
  },
  {
   "cell_type": "markdown",
   "metadata": {},
   "source": [
    "С массивами (списками) мы теперь очень хорошо знакомы. А что насчет других типов данных? Вот, например, `set`. Множества. Очень похожи на множества в математике (это они и есть). Принципиальное отличие множества от списка --- отсутствие повторяющихся элементов. Иногда это нужно с точки зрения формулировки, иногда с точки зрения результата. Синтаксис --- встроенная функция `set`"
   ]
  },
  {
   "cell_type": "code",
   "execution_count": null,
   "metadata": {},
   "outputs": [],
   "source": [
    "myset = set() # пустой set"
   ]
  },
  {
   "cell_type": "code",
   "execution_count": 4,
   "metadata": {},
   "outputs": [
    {
     "data": {
      "text/plain": [
       "set()"
      ]
     },
     "execution_count": 4,
     "metadata": {},
     "output_type": "execute_result"
    }
   ],
   "source": [
    "myset"
   ]
  },
  {
   "cell_type": "code",
   "execution_count": 3,
   "metadata": {},
   "outputs": [
    {
     "name": "stdout",
     "output_type": "stream",
     "text": [
      "[1, 2, 3, 2, 3, 2, 3, 1, 4, 1, 2, 7, 1]\n",
      "{1, 2, 3, 4, 7}\n"
     ]
    }
   ],
   "source": [
    "a = [1,2,3,2,3,2,3,1,4,1,2,7,1]\n",
    "\n",
    "b = set(a)\n",
    "\n",
    "print(a)\n",
    "print(b)"
   ]
  },
  {
   "cell_type": "code",
   "execution_count": 18,
   "metadata": {},
   "outputs": [],
   "source": [
    "b.update(((5,8, 6),))"
   ]
  },
  {
   "cell_type": "code",
   "execution_count": 14,
   "metadata": {},
   "outputs": [],
   "source": [
    "b.add((\"aaa\")"
   ]
  },
  {
   "cell_type": "code",
   "execution_count": 19,
   "metadata": {},
   "outputs": [
    {
     "data": {
      "text/plain": [
       "{(5, 6, 8), (5, 8, 6), 1, 2, 3, 4, 5, 6, 7, 8, 'aaa'}"
      ]
     },
     "execution_count": 19,
     "metadata": {},
     "output_type": "execute_result"
    }
   ],
   "source": [
    "b"
   ]
  },
  {
   "cell_type": "markdown",
   "metadata": {},
   "source": [
    "`set` - тоже iterable объект, т.е. возможно следующее:"
   ]
  },
  {
   "cell_type": "code",
   "execution_count": 20,
   "metadata": {},
   "outputs": [
    {
     "name": "stdout",
     "output_type": "stream",
     "text": [
      "1\n",
      "2\n",
      "3\n",
      "4\n",
      "5\n",
      "6\n",
      "7\n",
      "8\n",
      "(5, 6, 8)\n",
      "(5, 8, 6)\n",
      "aaa\n"
     ]
    }
   ],
   "source": [
    "for element in b:\n",
    "    print(element)"
   ]
  },
  {
   "cell_type": "markdown",
   "metadata": {},
   "source": [
    "А вот сразу и задача: \n",
    "\n",
    "1. посчитать, сколько различных букв в слове 'abracadabra'"
   ]
  },
  {
   "cell_type": "code",
   "execution_count": 24,
   "metadata": {},
   "outputs": [],
   "source": [
    "abra = 'abracadabra'"
   ]
  },
  {
   "cell_type": "code",
   "execution_count": 30,
   "metadata": {},
   "outputs": [
    {
     "name": "stdout",
     "output_type": "stream",
     "text": [
      "{'c', 'r', 'a', 'd', 'b'} 5\n"
     ]
    }
   ],
   "source": [
    "abraset = set(abra)\n",
    "print(abraset, len(abraset))"
   ]
  },
  {
   "cell_type": "markdown",
   "metadata": {},
   "source": [
    "Я уже проговорилась, что `set` это множества и с точки зрения математики, а значит, возможны следующие операции:\n",
    "\n",
    "объединение $A \\cup B$\n",
    "\n",
    "пересечение $A \\cap B$\n",
    "\n",
    "вычитание множеств $A - B$\n",
    "\n",
    "и т.п.\n",
    "\n",
    "(а также проверка включения `in` (много эффективней, чем по списку))"
   ]
  },
  {
   "cell_type": "code",
   "execution_count": 39,
   "metadata": {},
   "outputs": [],
   "source": [
    "a = set('abracadabra')\n",
    "b = set('turumburum')"
   ]
  },
  {
   "cell_type": "code",
   "execution_count": 38,
   "metadata": {},
   "outputs": [
    {
     "data": {
      "text/plain": [
       "({'abracadabra'}, {'b', 'm', 'r', 't', 'u'})"
      ]
     },
     "execution_count": 38,
     "metadata": {},
     "output_type": "execute_result"
    }
   ],
   "source": [
    "a, b"
   ]
  },
  {
   "cell_type": "code",
   "execution_count": 46,
   "metadata": {},
   "outputs": [
    {
     "name": "stdout",
     "output_type": "stream",
     "text": [
      "{'c', 'r', 'a', 'd', 't', 'b', 'u', 'm'}\n"
     ]
    }
   ],
   "source": [
    "c = a.union(b)\n",
    "print(c)"
   ]
  },
  {
   "cell_type": "code",
   "execution_count": 47,
   "metadata": {},
   "outputs": [
    {
     "data": {
      "text/plain": [
       "({'a', 'b', 'c', 'd', 'r'}, {'b', 'm', 'r', 't', 'u'})"
      ]
     },
     "execution_count": 47,
     "metadata": {},
     "output_type": "execute_result"
    }
   ],
   "source": [
    "a, b"
   ]
  },
  {
   "cell_type": "code",
   "execution_count": 34,
   "metadata": {},
   "outputs": [
    {
     "data": {
      "text/plain": [
       "{'b', 'r'}"
      ]
     },
     "execution_count": 34,
     "metadata": {},
     "output_type": "execute_result"
    }
   ],
   "source": [
    "a.intersection(b)"
   ]
  },
  {
   "cell_type": "code",
   "execution_count": 35,
   "metadata": {},
   "outputs": [
    {
     "data": {
      "text/plain": [
       "{'a', 'c', 'd'}"
      ]
     },
     "execution_count": 35,
     "metadata": {},
     "output_type": "execute_result"
    }
   ],
   "source": [
    "a - b"
   ]
  },
  {
   "cell_type": "code",
   "execution_count": 36,
   "metadata": {},
   "outputs": [
    {
     "data": {
      "text/plain": [
       "{'m', 't', 'u'}"
      ]
     },
     "execution_count": 36,
     "metadata": {},
     "output_type": "execute_result"
    }
   ],
   "source": [
    "b - a"
   ]
  },
  {
   "cell_type": "code",
   "execution_count": 49,
   "metadata": {},
   "outputs": [
    {
     "data": {
      "text/plain": [
       "{'a', 'c', 'd', 'm', 't', 'u'}"
      ]
     },
     "execution_count": 49,
     "metadata": {},
     "output_type": "execute_result"
    }
   ],
   "source": [
    "a.union(b)-a.intersection(b)"
   ]
  },
  {
   "cell_type": "code",
   "execution_count": 51,
   "metadata": {},
   "outputs": [
    {
     "data": {
      "text/plain": [
       "{'a', 'c', 'd', 'm', 't', 'u'}"
      ]
     },
     "execution_count": 51,
     "metadata": {},
     "output_type": "execute_result"
    }
   ],
   "source": [
    "(a-b).union((b-a))"
   ]
  },
  {
   "cell_type": "code",
   "execution_count": 48,
   "metadata": {},
   "outputs": [
    {
     "data": {
      "text/plain": [
       "(True, False)"
      ]
     },
     "execution_count": 48,
     "metadata": {},
     "output_type": "execute_result"
    }
   ],
   "source": [
    "\"a\" in a, \"a\" in b"
   ]
  },
  {
   "cell_type": "code",
   "execution_count": 70,
   "metadata": {},
   "outputs": [
    {
     "ename": "TypeError",
     "evalue": "'set' object does not support indexing",
     "output_type": "error",
     "traceback": [
      "\u001b[1;31m---------------------------------------------------------------------------\u001b[0m",
      "\u001b[1;31mTypeError\u001b[0m                                 Traceback (most recent call last)",
      "\u001b[1;32m<ipython-input-70-6a1284577a36>\u001b[0m in \u001b[0;36m<module>\u001b[1;34m\u001b[0m\n\u001b[1;32m----> 1\u001b[1;33m \u001b[0ma\u001b[0m\u001b[1;33m[\u001b[0m\u001b[1;36m0\u001b[0m\u001b[1;33m]\u001b[0m\u001b[1;33m\u001b[0m\u001b[0m\n\u001b[0m",
      "\u001b[1;31mTypeError\u001b[0m: 'set' object does not support indexing"
     ]
    }
   ],
   "source": [
    "a[0]"
   ]
  },
  {
   "cell_type": "markdown",
   "metadata": {},
   "source": [
    "# Словари (dict)"
   ]
  },
  {
   "cell_type": "markdown",
   "metadata": {},
   "source": [
    "Иногда не очень удобно обращаться к списку по целочисленному индексу. Иногда удобно обращаться, скажем, по строке. Или по какому-нибудь еще объекту (хешируему. Про хеши когда-нибудь потом. Или нет.)\n",
    "\n",
    "Тогда нас спасают словари. Словарь (dictionary) — неупорядоченная структура данных для хранения пар. Синтаксис -- фигурные скобки, внутри через запятую ключ: значение.\n",
    "\n",
    "При чем тут множества? А словари это множества со значениями"
   ]
  },
  {
   "cell_type": "markdown",
   "metadata": {},
   "source": [
    "Давайте посмотрим, как же это выглядит..."
   ]
  },
  {
   "cell_type": "code",
   "execution_count": 54,
   "metadata": {},
   "outputs": [
    {
     "data": {
      "text/plain": [
       "('one', 'two', 'three')"
      ]
     },
     "execution_count": 54,
     "metadata": {},
     "output_type": "execute_result"
    }
   ],
   "source": [
    "dl = [\"one\", \"two\", \"three\"]\n",
    "dl[0], dl[1], dl[2]"
   ]
  },
  {
   "cell_type": "code",
   "execution_count": 59,
   "metadata": {},
   "outputs": [],
   "source": [
    "d = {\"one\": 1, \"two\": 2, \"three\": 3}"
   ]
  },
  {
   "cell_type": "code",
   "execution_count": 67,
   "metadata": {},
   "outputs": [],
   "source": [
    "d[\"one\"] = 1"
   ]
  },
  {
   "cell_type": "code",
   "execution_count": 68,
   "metadata": {},
   "outputs": [
    {
     "data": {
      "text/plain": [
       "{'one': 1, 'two': 2, 'three': 3, 'four': 4}"
      ]
     },
     "execution_count": 68,
     "metadata": {},
     "output_type": "execute_result"
    }
   ],
   "source": [
    "d"
   ]
  },
  {
   "cell_type": "code",
   "execution_count": 52,
   "metadata": {},
   "outputs": [],
   "source": [
    "ds = {\"one\", \"two\", \"three\"}"
   ]
  },
  {
   "cell_type": "code",
   "execution_count": 71,
   "metadata": {},
   "outputs": [
    {
     "name": "stdout",
     "output_type": "stream",
     "text": [
      "1\n",
      "2\n"
     ]
    }
   ],
   "source": [
    "print(d[\"one\"])\n",
    "print(d[\"two\"])"
   ]
  },
  {
   "cell_type": "markdown",
   "metadata": {},
   "source": [
    "Ключами могут быть любые неизменяемые значения (tuple, int, float, str)"
   ]
  },
  {
   "cell_type": "code",
   "execution_count": 73,
   "metadata": {},
   "outputs": [
    {
     "name": "stdout",
     "output_type": "stream",
     "text": [
      "one\n",
      "abra\n",
      "cadabra\n"
     ]
    }
   ],
   "source": [
    "g = {1: \"one\", 2: \"abra\", 3: \"cadabra\"}\n",
    "print(g[1])\n",
    "print(g[2])\n",
    "print(g[3])"
   ]
  },
  {
   "cell_type": "code",
   "execution_count": 78,
   "metadata": {},
   "outputs": [],
   "source": [
    "g[\"one\"] = 1"
   ]
  },
  {
   "cell_type": "code",
   "execution_count": 84,
   "metadata": {},
   "outputs": [],
   "source": [
    "g[(5,6)] = \"five and six\""
   ]
  },
  {
   "cell_type": "code",
   "execution_count": 85,
   "metadata": {},
   "outputs": [
    {
     "data": {
      "text/plain": [
       "{1: 'one', 2: 'abra', 3: 'cadabra', 'one': 1, (5, 6): 'five and six'}"
      ]
     },
     "execution_count": 85,
     "metadata": {},
     "output_type": "execute_result"
    }
   ],
   "source": [
    "g"
   ]
  },
  {
   "cell_type": "markdown",
   "metadata": {},
   "source": [
    "Обращение к элементу, ключа которого нет в словаре, недопустимо. "
   ]
  },
  {
   "cell_type": "code",
   "execution_count": 87,
   "metadata": {},
   "outputs": [
    {
     "data": {
      "text/plain": [
       "{'one': 1, 'two': 2, 'three': 3, 'four': 4}"
      ]
     },
     "execution_count": 87,
     "metadata": {},
     "output_type": "execute_result"
    }
   ],
   "source": [
    "d"
   ]
  },
  {
   "cell_type": "code",
   "execution_count": 96,
   "metadata": {},
   "outputs": [
    {
     "ename": "KeyError",
     "evalue": "'zero'",
     "output_type": "error",
     "traceback": [
      "\u001b[1;31m---------------------------------------------------------------------------\u001b[0m",
      "\u001b[1;31mKeyError\u001b[0m                                  Traceback (most recent call last)",
      "\u001b[1;32m<ipython-input-96-d89f36b07685>\u001b[0m in \u001b[0;36m<module>\u001b[1;34m\u001b[0m\n\u001b[1;32m----> 1\u001b[1;33m \u001b[0mprint\u001b[0m\u001b[1;33m(\u001b[0m\u001b[0md\u001b[0m\u001b[1;33m[\u001b[0m\u001b[1;34m\"zero\"\u001b[0m\u001b[1;33m]\u001b[0m\u001b[1;33m)\u001b[0m\u001b[1;33m\u001b[0m\u001b[0m\n\u001b[0m",
      "\u001b[1;31mKeyError\u001b[0m: 'zero'"
     ]
    }
   ],
   "source": [
    "print(d[\"zero\"])"
   ]
  },
  {
   "cell_type": "code",
   "execution_count": 100,
   "metadata": {},
   "outputs": [
    {
     "name": "stdout",
     "output_type": "stream",
     "text": [
      "not found\n"
     ]
    }
   ],
   "source": [
    "print(d.get(\"zero\", \"not found\"))"
   ]
  },
  {
   "cell_type": "markdown",
   "metadata": {},
   "source": [
    "Зато можно для несуществующего ключа записать значение!!"
   ]
  },
  {
   "cell_type": "code",
   "execution_count": 102,
   "metadata": {},
   "outputs": [],
   "source": [
    "d['five'] = 5"
   ]
  },
  {
   "cell_type": "code",
   "execution_count": 103,
   "metadata": {},
   "outputs": [
    {
     "data": {
      "text/plain": [
       "{'one': 1, 'two': 2, 'three': 3, 'four': 4, 'five': 5}"
      ]
     },
     "execution_count": 103,
     "metadata": {},
     "output_type": "execute_result"
    }
   ],
   "source": [
    "d"
   ]
  },
  {
   "cell_type": "markdown",
   "metadata": {},
   "source": [
    "Если в добавляемом словаре уже есть пара с тем же ключом, то значение будет изменено на новое. Например:"
   ]
  },
  {
   "cell_type": "code",
   "execution_count": 118,
   "metadata": {},
   "outputs": [],
   "source": [
    "d['six'] = 6"
   ]
  },
  {
   "cell_type": "code",
   "execution_count": 119,
   "metadata": {},
   "outputs": [
    {
     "name": "stdout",
     "output_type": "stream",
     "text": [
      "{'one': 1, 'two': 2, 'three': 3, 'four': 4, 'five': 5, 'six': 6}\n"
     ]
    }
   ],
   "source": [
    "print(d)"
   ]
  },
  {
   "cell_type": "markdown",
   "metadata": {},
   "source": [
    "Добавить к словарю пары ключ-значение из другого словаря можно с помощью метода `.update()`:"
   ]
  },
  {
   "cell_type": "code",
   "execution_count": 124,
   "metadata": {},
   "outputs": [],
   "source": [
    "f = {\"four\": 4, \"five\": 5, \"six\": 6, \"seven\": 7}\n",
    "d.update(f)"
   ]
  },
  {
   "cell_type": "code",
   "execution_count": 126,
   "metadata": {},
   "outputs": [
    {
     "data": {
      "text/plain": [
       "{'one': 1, 'two': 2, 'three': 3, 'four': 4, 'five': 5, 'six': 6, 'seven': 7}"
      ]
     },
     "execution_count": 126,
     "metadata": {},
     "output_type": "execute_result"
    }
   ],
   "source": [
    "d"
   ]
  },
  {
   "cell_type": "code",
   "execution_count": 128,
   "metadata": {},
   "outputs": [],
   "source": [
    "ds = set(d)"
   ]
  },
  {
   "cell_type": "markdown",
   "metadata": {},
   "source": [
    "Ну и как уже повелось с контейнерами, этот тоже `iterable`, но итерации идут по ключам:"
   ]
  },
  {
   "cell_type": "code",
   "execution_count": 131,
   "metadata": {},
   "outputs": [
    {
     "name": "stdout",
     "output_type": "stream",
     "text": [
      "one\n",
      "two\n",
      "three\n",
      "four\n",
      "five\n",
      "six\n",
      "seven\n"
     ]
    }
   ],
   "source": [
    "for i in d:\n",
    "    print(i)"
   ]
  },
  {
   "cell_type": "markdown",
   "metadata": {},
   "source": [
    "Это легко проверить, не печатая словарь"
   ]
  },
  {
   "cell_type": "code",
   "execution_count": 133,
   "metadata": {},
   "outputs": [
    {
     "name": "stdout",
     "output_type": "stream",
     "text": [
      "one\n",
      "two\n",
      "three\n",
      "four\n",
      "five\n",
      "six\n",
      "seven\n"
     ]
    }
   ],
   "source": [
    "for i in d.keys():\n",
    "    print(i)"
   ]
  },
  {
   "cell_type": "code",
   "execution_count": 132,
   "metadata": {},
   "outputs": [
    {
     "data": {
      "text/plain": [
       "dict_keys(['one', 'two', 'three', 'four', 'five', 'six', 'seven'])"
      ]
     },
     "execution_count": 132,
     "metadata": {},
     "output_type": "execute_result"
    }
   ],
   "source": [
    "d.keys()"
   ]
  },
  {
   "cell_type": "markdown",
   "metadata": {},
   "source": [
    "Можно ли идти по значениям? Тоже да!"
   ]
  },
  {
   "cell_type": "code",
   "execution_count": 134,
   "metadata": {},
   "outputs": [
    {
     "name": "stdout",
     "output_type": "stream",
     "text": [
      "1\n",
      "2\n",
      "3\n",
      "4\n",
      "5\n",
      "6\n",
      "7\n"
     ]
    }
   ],
   "source": [
    "for i in d.values():\n",
    "    print(i)"
   ]
  },
  {
   "cell_type": "code",
   "execution_count": 158,
   "metadata": {},
   "outputs": [
    {
     "data": {
      "text/plain": [
       "'one'"
      ]
     },
     "execution_count": 158,
     "metadata": {},
     "output_type": "execute_result"
    }
   ],
   "source": [
    "list(d.keys())[0]"
   ]
  },
  {
   "cell_type": "markdown",
   "metadata": {},
   "source": [
    "Можно по тому и другому:"
   ]
  },
  {
   "cell_type": "code",
   "execution_count": 152,
   "metadata": {},
   "outputs": [
    {
     "name": "stdout",
     "output_type": "stream",
     "text": [
      "one\n",
      "1\n",
      "two\n",
      "2\n",
      "three\n",
      "3\n",
      "four\n",
      "4\n",
      "five\n",
      "5\n",
      "six\n",
      "6\n",
      "seven\n",
      "7\n"
     ]
    }
   ],
   "source": [
    "for key, value in d.items():\n",
    "    print(key)\n",
    "    print(value)"
   ]
  },
  {
   "cell_type": "code",
   "execution_count": null,
   "metadata": {},
   "outputs": [],
   "source": [
    "a, b = "
   ]
  },
  {
   "cell_type": "code",
   "execution_count": 143,
   "metadata": {},
   "outputs": [
    {
     "data": {
      "text/plain": [
       "[('one', 1), ('two', 2), ('three', 3)]"
      ]
     },
     "execution_count": 143,
     "metadata": {},
     "output_type": "execute_result"
    }
   ],
   "source": [
    "list(d.items())[:3]"
   ]
  },
  {
   "cell_type": "code",
   "execution_count": 154,
   "metadata": {},
   "outputs": [
    {
     "data": {
      "text/plain": [
       "dict_items([('one', 1), ('two', 2), ('three', 3), ('four', 4), ('five', 5), ('six', 6), ('seven', 7)])"
      ]
     },
     "execution_count": 154,
     "metadata": {},
     "output_type": "execute_result"
    }
   ],
   "source": [
    "d.items()"
   ]
  },
  {
   "cell_type": "code",
   "execution_count": 144,
   "metadata": {},
   "outputs": [
    {
     "data": {
      "text/plain": [
       "{'one': 1, 'two': 2, 'three': 3}"
      ]
     },
     "execution_count": 144,
     "metadata": {},
     "output_type": "execute_result"
    }
   ],
   "source": [
    "dict(list(d.items())[:3])"
   ]
  },
  {
   "cell_type": "markdown",
   "metadata": {},
   "source": [
    "С методами словарей можно познакомиться вот тут: https://pythonworld.ru/tipy-dannyx-v-python/slovari-dict-funkcii-i-metody-slovarej.html"
   ]
  },
  {
   "cell_type": "markdown",
   "metadata": {},
   "source": [
    "# Словари, часть вторая"
   ]
  },
  {
   "cell_type": "markdown",
   "metadata": {},
   "source": [
    "Предлагаю сначала вспомнить, что у нас с вами было в прошлый раз:"
   ]
  },
  {
   "cell_type": "markdown",
   "metadata": {},
   "source": [
    "## Game!!!!"
   ]
  },
  {
   "cell_type": "markdown",
   "metadata": {},
   "source": [
    "Самое полезное применение словарей -- подсчет повторений символов/слов.\n",
    "\n",
    "Давайте посчитаем, сколько раз какой символ встречается в тексте песни \"Get Jinxed\"."
   ]
  },
  {
   "cell_type": "code",
   "execution_count": 4,
   "metadata": {},
   "outputs": [],
   "source": [
    "counter = {}  # пустой словарь\n",
    "\n",
    "with open(\"song.txt\", 'r', encoding=\"utf-8\") as f:\n",
    "    for line in f:\n",
    "        line = line.strip()\n",
    "        for symbol in line:\n",
    "            if symbol in counter:\n",
    "                counter[symbol.lower()] += 1\n",
    "            else:\n",
    "                counter[symbol.lower()] = 1"
   ]
  },
  {
   "cell_type": "code",
   "execution_count": 5,
   "metadata": {},
   "outputs": [
    {
     "name": "stdout",
     "output_type": "stream",
     "text": [
      "{'b': 1, 'l': 5, 'a': 1, 'h': 35, ' ': 142, '.': 7, 'w': 17, 'n': 52, 'j': 3, 'o': 56, 'i': 5, 'm': 18, 'e': 70, ',': 16, 'c': 1, 'd': 11, 'p': 2, 'y': 15, 'u': 23, 't': 73, 'g': 19, 's': 24, 'r': 23, 'f': 13, 'k': 3, '!': 13, 'v': 1, '?': 2, \"'\": 11, '-': 2, 'x': 3}\n"
     ]
    }
   ],
   "source": [
    "print(counter)"
   ]
  },
  {
   "cell_type": "markdown",
   "metadata": {},
   "source": [
    "Если учесть пример выше и наши знания по парсингу текста, то кроме букв можно считать слова:"
   ]
  },
  {
   "cell_type": "code",
   "execution_count": 6,
   "metadata": {},
   "outputs": [],
   "source": [
    "from string import punctuation"
   ]
  },
  {
   "cell_type": "code",
   "execution_count": 9,
   "metadata": {},
   "outputs": [
    {
     "data": {
      "text/plain": [
       "'!\"#$%&\\'()*+,-./:;<=>?@[\\\\]^_`{|}~'"
      ]
     },
     "execution_count": 9,
     "metadata": {},
     "output_type": "execute_result"
    }
   ],
   "source": [
    "punctuation"
   ]
  },
  {
   "cell_type": "code",
   "execution_count": 14,
   "metadata": {},
   "outputs": [],
   "source": [
    "word_counter = {}\n",
    "\n",
    "with open(\"song.txt\", 'r', encoding=\"utf-8\") as f:\n",
    "    for line in f:\n",
    "        line = line.lower().strip().split()\n",
    "        for word in line:\n",
    "            word = word.strip(punctuation)\n",
    "            if word in word_counter:\n",
    "                word_counter[word] += 1\n",
    "            else:\n",
    "                word_counter[word] = 1"
   ]
  },
  {
   "cell_type": "code",
   "execution_count": 15,
   "metadata": {},
   "outputs": [
    {
     "data": {
      "text/plain": [
       "{'blah': 2,\n",
       " 'blablah': 1,\n",
       " 'wanna': 4,\n",
       " 'join': 1,\n",
       " 'me': 2,\n",
       " 'come': 5,\n",
       " 'and': 6,\n",
       " 'play': 1,\n",
       " 'but': 3,\n",
       " 'i': 5,\n",
       " 'might': 1,\n",
       " 'shoot': 3,\n",
       " 'you': 3,\n",
       " 'in': 1,\n",
       " 'your': 1,\n",
       " 'face': 1,\n",
       " 'bombs': 1,\n",
       " 'bullets': 1,\n",
       " 'will': 1,\n",
       " 'do': 2,\n",
       " 'the': 2,\n",
       " 'trick': 1,\n",
       " 'what': 3,\n",
       " 'we': 1,\n",
       " 'need': 1,\n",
       " 'here': 1,\n",
       " 'is': 1,\n",
       " 'a': 4,\n",
       " 'little': 4,\n",
       " 'bit': 3,\n",
       " 'of': 3,\n",
       " 'panic': 1,\n",
       " 'ever': 1,\n",
       " 'catch': 1,\n",
       " 'right': 3,\n",
       " 'now': 3,\n",
       " \"i'm\": 2,\n",
       " 'feeling': 1,\n",
       " 'ignored': 1,\n",
       " 'so': 3,\n",
       " 'can': 1,\n",
       " 'try': 3,\n",
       " 'harder': 1,\n",
       " 'really': 1,\n",
       " 'getting': 1,\n",
       " 'bored': 1,\n",
       " 'on': 4,\n",
       " 'faster': 2,\n",
       " 'just': 2,\n",
       " 'energy': 2,\n",
       " 'something': 2,\n",
       " 'fun': 3,\n",
       " 'guess': 2,\n",
       " 'some': 2,\n",
       " 'people': 2,\n",
       " 'call': 2,\n",
       " 'it': 2,\n",
       " 'anarchy': 2,\n",
       " \"let's\": 3,\n",
       " 'blow': 3,\n",
       " 'this': 2,\n",
       " 'city': 2,\n",
       " 'to': 2,\n",
       " 'ashes': 2,\n",
       " 'see': 2,\n",
       " 'pow-pow': 2,\n",
       " 'thinks': 2,\n",
       " \"it's\": 2,\n",
       " 'such': 2,\n",
       " 'pathetic': 2,\n",
       " 'neatness': 2,\n",
       " 'not': 2,\n",
       " 'for': 2,\n",
       " 'long': 2,\n",
       " 'cause': 2,\n",
       " \"it'll\": 2,\n",
       " 'get': 3,\n",
       " 'jinxed': 3,\n",
       " 'much': 2,\n",
       " 'better': 1,\n",
       " 'start': 1,\n",
       " 'from': 1,\n",
       " 'scratch': 1,\n",
       " 'up': 1,\n",
       " 'sun': 1}"
      ]
     },
     "execution_count": 15,
     "metadata": {},
     "output_type": "execute_result"
    }
   ],
   "source": [
    "word_counter"
   ]
  },
  {
   "cell_type": "markdown",
   "metadata": {},
   "source": [
    "Вот было бы здорово еще и сортировать такой словарик, а?"
   ]
  },
  {
   "cell_type": "markdown",
   "metadata": {},
   "source": [
    "https://pythonworld.ru/moduli/modul-collections.html"
   ]
  },
  {
   "cell_type": "code",
   "execution_count": 16,
   "metadata": {},
   "outputs": [],
   "source": [
    "from collections import Counter"
   ]
  },
  {
   "cell_type": "code",
   "execution_count": 18,
   "metadata": {},
   "outputs": [],
   "source": [
    "from string import punctuation\n",
    "\n",
    "with open(\"song.txt\", 'r', encoding=\"utf-8\") as f:\n",
    "    words = f.read().lower().split()\n",
    "\n",
    "cleaned_words = []\n",
    "for word in words:\n",
    "    cleaned_words.append(word.strip(punctuation))\n",
    "    "
   ]
  },
  {
   "cell_type": "code",
   "execution_count": 23,
   "metadata": {},
   "outputs": [],
   "source": [
    "coutner = Counter(cleaned_words)"
   ]
  },
  {
   "cell_type": "code",
   "execution_count": 49,
   "metadata": {},
   "outputs": [
    {
     "data": {
      "text/plain": [
       "Counter({'blah': 2,\n",
       "         'blablah': 1,\n",
       "         'wanna': 4,\n",
       "         'join': 1,\n",
       "         'me': 2,\n",
       "         'come': 5,\n",
       "         'and': 6,\n",
       "         'play': 1,\n",
       "         'but': 3,\n",
       "         'i': 5,\n",
       "         'might': 1,\n",
       "         'shoot': 3,\n",
       "         'you': 3,\n",
       "         'in': 1,\n",
       "         'your': 1,\n",
       "         'face': 1,\n",
       "         'bombs': 1,\n",
       "         'bullets': 1,\n",
       "         'will': 1,\n",
       "         'do': 2,\n",
       "         'the': 2,\n",
       "         'trick': 1,\n",
       "         'what': 3,\n",
       "         'we': 1,\n",
       "         'need': 1,\n",
       "         'here': 1,\n",
       "         'is': 1,\n",
       "         'a': 4,\n",
       "         'little': 4,\n",
       "         'bit': 3,\n",
       "         'of': 3,\n",
       "         'panic': 1,\n",
       "         'ever': 1,\n",
       "         'catch': 1,\n",
       "         'right': 3,\n",
       "         'now': 3,\n",
       "         \"i'm\": 2,\n",
       "         'feeling': 1,\n",
       "         'ignored': 1,\n",
       "         'so': 3,\n",
       "         'can': 1,\n",
       "         'try': 3,\n",
       "         'harder': 1,\n",
       "         'really': 1,\n",
       "         'getting': 1,\n",
       "         'bored': 1,\n",
       "         'on': 4,\n",
       "         'faster': 2,\n",
       "         'just': 2,\n",
       "         'energy': 2,\n",
       "         'something': 2,\n",
       "         'fun': 3,\n",
       "         'guess': 2,\n",
       "         'some': 2,\n",
       "         'people': 2,\n",
       "         'call': 2,\n",
       "         'it': 2,\n",
       "         'anarchy': 2,\n",
       "         \"let's\": 3,\n",
       "         'blow': 3,\n",
       "         'this': 2,\n",
       "         'city': 2,\n",
       "         'to': 2,\n",
       "         'ashes': 2,\n",
       "         'see': 2,\n",
       "         'pow-pow': 2,\n",
       "         'thinks': 2,\n",
       "         \"it's\": 2,\n",
       "         'such': 2,\n",
       "         'pathetic': 2,\n",
       "         'neatness': 2,\n",
       "         'not': 2,\n",
       "         'for': 2,\n",
       "         'long': 2,\n",
       "         'cause': 2,\n",
       "         \"it'll\": 2,\n",
       "         'get': 3,\n",
       "         'jinxed': 3,\n",
       "         'much': 2,\n",
       "         'better': 1,\n",
       "         'start': 1,\n",
       "         'from': 1,\n",
       "         'scratch': 1,\n",
       "         'up': 1,\n",
       "         'sun': 1})"
      ]
     },
     "execution_count": 49,
     "metadata": {},
     "output_type": "execute_result"
    }
   ],
   "source": [
    "coutner"
   ]
  },
  {
   "cell_type": "markdown",
   "metadata": {},
   "source": [
    "Еще немного магии от библиотеки `collections`:"
   ]
  },
  {
   "cell_type": "code",
   "execution_count": 26,
   "metadata": {},
   "outputs": [],
   "source": [
    "from collections import defaultdict"
   ]
  },
  {
   "cell_type": "code",
   "execution_count": 45,
   "metadata": {},
   "outputs": [],
   "source": [
    "default_counter = defaultdict(int)"
   ]
  },
  {
   "cell_type": "code",
   "execution_count": 46,
   "metadata": {},
   "outputs": [
    {
     "data": {
      "text/plain": [
       "defaultdict(int, {})"
      ]
     },
     "execution_count": 46,
     "metadata": {},
     "output_type": "execute_result"
    }
   ],
   "source": [
    "default_counter"
   ]
  },
  {
   "cell_type": "code",
   "execution_count": 47,
   "metadata": {},
   "outputs": [],
   "source": [
    "with open(\"song.txt\", 'r', encoding=\"utf-8\") as f:\n",
    "    for line in f:\n",
    "        line = line.lower().strip().split()\n",
    "        for word in line:\n",
    "            word = word.strip(punctuation)\n",
    "            default_counter[word] += 1"
   ]
  },
  {
   "cell_type": "code",
   "execution_count": 51,
   "metadata": {},
   "outputs": [
    {
     "data": {
      "text/plain": [
       "False"
      ]
     },
     "execution_count": 51,
     "metadata": {},
     "output_type": "execute_result"
    }
   ],
   "source": [
    "\"sdfs\" in default_counter"
   ]
  },
  {
   "cell_type": "code",
   "execution_count": 48,
   "metadata": {},
   "outputs": [
    {
     "data": {
      "text/plain": [
       "defaultdict(int,\n",
       "            {'blah': 2,\n",
       "             'blablah': 1,\n",
       "             'wanna': 4,\n",
       "             'join': 1,\n",
       "             'me': 2,\n",
       "             'come': 5,\n",
       "             'and': 6,\n",
       "             'play': 1,\n",
       "             'but': 3,\n",
       "             'i': 5,\n",
       "             'might': 1,\n",
       "             'shoot': 3,\n",
       "             'you': 3,\n",
       "             'in': 1,\n",
       "             'your': 1,\n",
       "             'face': 1,\n",
       "             'bombs': 1,\n",
       "             'bullets': 1,\n",
       "             'will': 1,\n",
       "             'do': 2,\n",
       "             'the': 2,\n",
       "             'trick': 1,\n",
       "             'what': 3,\n",
       "             'we': 1,\n",
       "             'need': 1,\n",
       "             'here': 1,\n",
       "             'is': 1,\n",
       "             'a': 4,\n",
       "             'little': 4,\n",
       "             'bit': 3,\n",
       "             'of': 3,\n",
       "             'panic': 1,\n",
       "             'ever': 1,\n",
       "             'catch': 1,\n",
       "             'right': 3,\n",
       "             'now': 3,\n",
       "             \"i'm\": 2,\n",
       "             'feeling': 1,\n",
       "             'ignored': 1,\n",
       "             'so': 3,\n",
       "             'can': 1,\n",
       "             'try': 3,\n",
       "             'harder': 1,\n",
       "             'really': 1,\n",
       "             'getting': 1,\n",
       "             'bored': 1,\n",
       "             'on': 4,\n",
       "             'faster': 2,\n",
       "             'just': 2,\n",
       "             'energy': 2,\n",
       "             'something': 2,\n",
       "             'fun': 3,\n",
       "             'guess': 2,\n",
       "             'some': 2,\n",
       "             'people': 2,\n",
       "             'call': 2,\n",
       "             'it': 2,\n",
       "             'anarchy': 2,\n",
       "             \"let's\": 3,\n",
       "             'blow': 3,\n",
       "             'this': 2,\n",
       "             'city': 2,\n",
       "             'to': 2,\n",
       "             'ashes': 2,\n",
       "             'see': 2,\n",
       "             'pow-pow': 2,\n",
       "             'thinks': 2,\n",
       "             \"it's\": 2,\n",
       "             'such': 2,\n",
       "             'pathetic': 2,\n",
       "             'neatness': 2,\n",
       "             'not': 2,\n",
       "             'for': 2,\n",
       "             'long': 2,\n",
       "             'cause': 2,\n",
       "             \"it'll\": 2,\n",
       "             'get': 3,\n",
       "             'jinxed': 3,\n",
       "             'much': 2,\n",
       "             'better': 1,\n",
       "             'start': 1,\n",
       "             'from': 1,\n",
       "             'scratch': 1,\n",
       "             'up': 1,\n",
       "             'sun': 1})"
      ]
     },
     "execution_count": 48,
     "metadata": {},
     "output_type": "execute_result"
    }
   ],
   "source": [
    "default_counter"
   ]
  },
  {
   "cell_type": "markdown",
   "metadata": {},
   "source": [
    "Подробнее познакомиться с библиотекой `collections` можно тут: https://pythonworld.ru/moduli/modul-collections.html"
   ]
  },
  {
   "cell_type": "code",
   "execution_count": 52,
   "metadata": {},
   "outputs": [],
   "source": [
    "d = {'banana': 3, 'apple':4, 'pear': 1, 'orange': 2}"
   ]
  },
  {
   "cell_type": "code",
   "execution_count": 53,
   "metadata": {},
   "outputs": [],
   "source": [
    "from collections import OrderedDict"
   ]
  },
  {
   "cell_type": "code",
   "execution_count": 57,
   "metadata": {},
   "outputs": [],
   "source": [
    "ordered = OrderedDict([(1,2), (2,1), (10,3)])"
   ]
  },
  {
   "cell_type": "code",
   "execution_count": 61,
   "metadata": {},
   "outputs": [],
   "source": [
    "ordered[\"aa\"] = 2"
   ]
  },
  {
   "cell_type": "code",
   "execution_count": 62,
   "metadata": {},
   "outputs": [
    {
     "data": {
      "text/plain": [
       "OrderedDict([(2, 1), (10, 3), (1, 2), ('aa', 2)])"
      ]
     },
     "execution_count": 62,
     "metadata": {},
     "output_type": "execute_result"
    }
   ],
   "source": [
    "ordered"
   ]
  },
  {
   "cell_type": "code",
   "execution_count": 58,
   "metadata": {},
   "outputs": [],
   "source": [
    "ordered.move_to_end(1)"
   ]
  },
  {
   "cell_type": "markdown",
   "metadata": {},
   "source": [
    "# JSON"
   ]
  },
  {
   "cell_type": "markdown",
   "metadata": {},
   "source": [
    "Как мы уже говорили, ключами словаря могут быть неизменяемые объекты (int, float, tuple). А что может быть значениями словаря? Как мы уже видели, строки, числа, списки. А еще? Словари!"
   ]
  },
  {
   "cell_type": "code",
   "execution_count": 63,
   "metadata": {},
   "outputs": [],
   "source": [
    "personalinfo = {\n",
    "   \"firstName\": \"Иван\",\n",
    "   \"lastName\": \"Иванов\",\n",
    "   \"address\": {\n",
    "       \"streetAddress\": \"Московское ш., 101, кв.101\",\n",
    "       \"city\": \"Ленинград\",\n",
    "       \"postalCode\": 101101\n",
    "   }\n",
    "}"
   ]
  },
  {
   "cell_type": "code",
   "execution_count": 64,
   "metadata": {},
   "outputs": [
    {
     "data": {
      "text/plain": [
       "{'firstName': 'Иван',\n",
       " 'lastName': 'Иванов',\n",
       " 'address': {'streetAddress': 'Московское ш., 101, кв.101',\n",
       "  'city': 'Ленинград',\n",
       "  'postalCode': 101101}}"
      ]
     },
     "execution_count": 64,
     "metadata": {},
     "output_type": "execute_result"
    }
   ],
   "source": [
    "personalinfo"
   ]
  },
  {
   "cell_type": "markdown",
   "metadata": {},
   "source": [
    "Для хранения таких вложенных структур существует специальный тип файлов `.json`\n",
    "\n",
    "### JSON (англ. JavaScript Object Notation) — текстовый формат обмена данными"
   ]
  },
  {
   "cell_type": "markdown",
   "metadata": {},
   "source": [
    "JSON-текст представляет собой (в закодированном виде) одну из двух структур:\n",
    "\n",
    "1) Набор пар ключ: значение (словарь). Ключом может быть только строка, значением — любая форма. Повторяющиеся имена ключей допустимы, но не рекомендуются стандартом. Обработка таких ситуаций происходит на усмотрение программного обеспечения, возможные варианты — учитывать только первый такой ключ, учитывать только последний такой ключ, генерировать ошибку.\n",
    "\n",
    "2) Упорядоченный набор значений (список).\n"
   ]
  },
  {
   "cell_type": "markdown",
   "metadata": {},
   "source": [
    "В питоне для работы с `json` есть специальная библиотека (угадайте, как называется)"
   ]
  },
  {
   "cell_type": "code",
   "execution_count": 65,
   "metadata": {},
   "outputs": [],
   "source": [
    "import json"
   ]
  },
  {
   "cell_type": "markdown",
   "metadata": {},
   "source": [
    "#### 1. Загрузим набор пар (ключ/значение)"
   ]
  },
  {
   "cell_type": "code",
   "execution_count": 66,
   "metadata": {},
   "outputs": [],
   "source": [
    "with open(\"dict.json\", 'r', encoding=\"utf-8\") as f:\n",
    "    data = json.load(f)"
   ]
  },
  {
   "cell_type": "code",
   "execution_count": 67,
   "metadata": {},
   "outputs": [
    {
     "name": "stdout",
     "output_type": "stream",
     "text": [
      "<class 'dict'>\n"
     ]
    }
   ],
   "source": [
    "print(type(data))"
   ]
  },
  {
   "cell_type": "code",
   "execution_count": 68,
   "metadata": {},
   "outputs": [
    {
     "data": {
      "text/plain": [
       "{'firstName': 'Иван',\n",
       " 'lastName': 'Иванов',\n",
       " 'address': {'streetAddress': 'Московское ш., 101, кв.101',\n",
       "  'city': 'Ленинград',\n",
       "  'postalCode': 101101},\n",
       " 'phoneNumbers': ['812 123-1234', '916 123-4567']}"
      ]
     },
     "execution_count": 68,
     "metadata": {},
     "output_type": "execute_result"
    }
   ],
   "source": [
    "data"
   ]
  },
  {
   "cell_type": "markdown",
   "metadata": {},
   "source": [
    "#### 2. Загрузим список"
   ]
  },
  {
   "cell_type": "code",
   "execution_count": 73,
   "metadata": {},
   "outputs": [],
   "source": [
    "with open(\"list.json\", 'r', encoding=\"utf-8\") as f:\n",
    "    data = json.load(f)"
   ]
  },
  {
   "cell_type": "code",
   "execution_count": 74,
   "metadata": {},
   "outputs": [
    {
     "name": "stdout",
     "output_type": "stream",
     "text": [
      "<class 'list'>\n"
     ]
    }
   ],
   "source": [
    "print(type(data))"
   ]
  },
  {
   "cell_type": "code",
   "execution_count": 75,
   "metadata": {},
   "outputs": [
    {
     "name": "stdout",
     "output_type": "stream",
     "text": [
      "[{'name': 'John', 'surname': 'Snow'}, {'name': 'John', 'surname': 'Snow'}, {'name': 'John', 'surname': 'Snow'}]\n"
     ]
    }
   ],
   "source": [
    "print(data)"
   ]
  },
  {
   "cell_type": "markdown",
   "metadata": {},
   "source": [
    "Внутри списка могут находиться словари, например."
   ]
  },
  {
   "cell_type": "markdown",
   "metadata": {},
   "source": [
    "Если у вас есть строка, которая выглядит как `json`, можно парсить сразу строку:"
   ]
  },
  {
   "cell_type": "code",
   "execution_count": 80,
   "metadata": {},
   "outputs": [],
   "source": [
    "with open(\"dict.json\", 'r', encoding=\"utf-8\") as f:\n",
    "    text = f.read()"
   ]
  },
  {
   "cell_type": "code",
   "execution_count": 83,
   "metadata": {},
   "outputs": [],
   "source": [
    "data = json.loads(text)"
   ]
  },
  {
   "cell_type": "code",
   "execution_count": 84,
   "metadata": {},
   "outputs": [
    {
     "name": "stdout",
     "output_type": "stream",
     "text": [
      "<class 'dict'>\n",
      "{'firstName': 'Иван', 'lastName': 'Иванов', 'address': {'streetAddress': 'Московское ш., 101, кв.101', 'city': 'Ленинград', 'postalCode': 101101}, 'phoneNumbers': ['812 123-1234', '916 123-4567']}\n"
     ]
    }
   ],
   "source": [
    "print(type(data))\n",
    "print(data)"
   ]
  },
  {
   "cell_type": "code",
   "execution_count": 86,
   "metadata": {},
   "outputs": [
    {
     "name": "stdout",
     "output_type": "stream",
     "text": [
      "Ленинград\n"
     ]
    }
   ],
   "source": [
    "print(data['address']['city'])"
   ]
  },
  {
   "cell_type": "markdown",
   "metadata": {},
   "source": [
    "# Словари. Часть третья"
   ]
  },
  {
   "cell_type": "markdown",
   "metadata": {},
   "source": [
    "Существует другая библиотечка `csv`, которая позволяет читать таблички в словари (на мой взгляд, это не очень удобно)."
   ]
  },
  {
   "cell_type": "code",
   "execution_count": null,
   "metadata": {},
   "outputs": [],
   "source": [
    "from csv import DictReader"
   ]
  },
  {
   "cell_type": "code",
   "execution_count": null,
   "metadata": {},
   "outputs": [],
   "source": [
    "data = DictReader(open(\"people.csv\"))"
   ]
  },
  {
   "cell_type": "code",
   "execution_count": null,
   "metadata": {},
   "outputs": [],
   "source": [
    "for i in data:\n",
    "    print(i)\n",
    "    print(dict(i))\n",
    "    print()"
   ]
  },
  {
   "cell_type": "markdown",
   "metadata": {},
   "source": [
    "# List comprehension"
   ]
  },
  {
   "cell_type": "markdown",
   "metadata": {},
   "source": [
    "это удобный способ сокращать создание или заполнение списков. Он иногда будет появляться в примерах для экономии места, поэтому честно о нём рассказать"
   ]
  },
  {
   "cell_type": "code",
   "execution_count": null,
   "metadata": {},
   "outputs": [],
   "source": [
    "li1 = []\n",
    "for elem in range(10):\n",
    "    li1.append(elem**2)"
   ]
  },
  {
   "cell_type": "code",
   "execution_count": null,
   "metadata": {},
   "outputs": [],
   "source": [
    "li1"
   ]
  },
  {
   "cell_type": "markdown",
   "metadata": {},
   "source": [
    "А можно записать так:"
   ]
  },
  {
   "cell_type": "code",
   "execution_count": null,
   "metadata": {},
   "outputs": [],
   "source": [
    "li2 = [elem**2 for elem in range(10)]"
   ]
  },
  {
   "cell_type": "code",
   "execution_count": null,
   "metadata": {},
   "outputs": [],
   "source": [
    "li2"
   ]
  },
  {
   "cell_type": "markdown",
   "metadata": {},
   "source": [
    "Еще с помощью `list_comprehension` классно разворачивать вложенные списки"
   ]
  },
  {
   "cell_type": "code",
   "execution_count": null,
   "metadata": {},
   "outputs": [],
   "source": [
    "text = \"\"\"В клипе Джастин, кстати, выглядит очень бодрым и наконец выздоровевшим от болезней и депрессии.\n",
    "Отдельный прикол в том, что он там «читает» строчки про свою бывшую девушку Селену Гомес, про себя самого и про то, насколько Дрейк - круче их всех и взрывает индустрию!\"\"\""
   ]
  },
  {
   "cell_type": "code",
   "execution_count": null,
   "metadata": {},
   "outputs": [],
   "source": [
    "sentences = text.split(\"\\n\")"
   ]
  },
  {
   "cell_type": "code",
   "execution_count": null,
   "metadata": {},
   "outputs": [],
   "source": [
    "sentences"
   ]
  },
  {
   "cell_type": "code",
   "execution_count": null,
   "metadata": {},
   "outputs": [],
   "source": [
    "sentences_with_words = [sentence.split() for sentence in sentences]"
   ]
  },
  {
   "cell_type": "code",
   "execution_count": null,
   "metadata": {},
   "outputs": [],
   "source": [
    "sentences_with_words"
   ]
  },
  {
   "cell_type": "code",
   "execution_count": null,
   "metadata": {},
   "outputs": [],
   "source": [
    "all_words = [word for sentence in sentences_with_words for word in sentence]"
   ]
  },
  {
   "cell_type": "code",
   "execution_count": null,
   "metadata": {},
   "outputs": [],
   "source": [
    "all_words"
   ]
  },
  {
   "cell_type": "code",
   "execution_count": null,
   "metadata": {},
   "outputs": [],
   "source": []
  }
 ],
 "metadata": {
  "kernelspec": {
   "display_name": "Python 3",
   "language": "python",
   "name": "python3"
  },
  "language_info": {
   "codemirror_mode": {
    "name": "ipython",
    "version": 3
   },
   "file_extension": ".py",
   "mimetype": "text/x-python",
   "name": "python",
   "nbconvert_exporter": "python",
   "pygments_lexer": "ipython3",
   "version": "3.6.6"
  }
 },
 "nbformat": 4,
 "nbformat_minor": 2
}
